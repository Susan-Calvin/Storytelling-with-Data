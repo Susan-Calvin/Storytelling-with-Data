{
  "cells": [
    {
      "cell_type": "markdown",
      "metadata": {
        "id": "t9udiZz3YecW"
      },
      "source": [
        "* [**TABLE OF CONTENTS**](#top)\n",
        "\n",
        "* [Setting the goals](#goals)\n",
        "\n",
        "* [Imports and loads](#imports)\n",
        "\n",
        "* [1 **General information overview**](#step1)\n",
        "\n",
        "* [1.1 Data Exploration](#explore)\n",
        "\n",
        "* [1.2 Treating missing values](#missing_values)\n",
        "\n",
        "* [**Intermediate conclusion**](#concl)\n",
        "\n",
        "\n",
        "* [2 **Data analysis**](#da)\n",
        "\n",
        "    * [2.1 Investigate the proportions of the various types of establishments. Plot a graph.](#2.1)\n",
        "    * [2.2 Investigate the proportions of chain and nonchain establishments. Plot a graph.](#2.2)\n",
        "    * [2.3 Which type of establishment is typically a chain?](#2.3)\n",
        "    * [2.4 What characterizes chains: many establishments with a small number of seats or a few establishments with a lot \n",
        "    of seats?](#2.4)\n",
        "    * [2.5 Determine the average number of seats for each type of restaurant. On average, which type of restaurant has \n",
        "    the greatest number of seats? Plot graphs.](#2.5)\n",
        "    * [2.6 Put the data on street names from the address column in a separate column.](#2.6)\n",
        "    * [2.7 Plot a graph of the top ten streets by number of restaurants.](#2.7)\n",
        "    * [2.8 Find the number of streets that only have one restaurant.](#2.8)\n",
        "    * [2.9 For streets with a lot of restaurants, look at the distribution of the number of seats. What trends can you see?](#2.9)\n",
        "\n",
        "* [3 **Prepearing presentation**](#presentation)\n",
        "\n",
        "\n",
        "* [General conclusion. Recomendations](#general_conclusion)\n"
      ]
    },
    {
      "cell_type": "markdown",
      "metadata": {
        "id": "fLoPxY-cYecX"
      },
      "source": [
        "[Goals.](#goals)\n",
        "\n",
        "It's decided to open a small robot-run cafe in Los Angeles. The project is promising but expensive, so we decide to try to attract investors. They’re interested in the current market conditions — will we be able to maintain our success when the novelty of robot waiters wears off?\n",
        "As analysts, we prepared some data-driven market research, based on open-source data of establishments in LA. "
      ]
    },
    {
      "cell_type": "markdown",
      "metadata": {
        "id": "bhZo_QAaYecY"
      },
      "source": [
        "[Imports](#imports)"
      ]
    },
    {
      "cell_type": "code",
      "execution_count": null,
      "metadata": {
        "id": "y47sN1F4YecZ"
      },
      "outputs": [],
      "source": [
        "# Installation command for usadress library\n",
        "#! pip install usaddress --default-timeout=100"
      ]
    },
    {
      "cell_type": "code",
      "execution_count": 6,
      "metadata": {
        "id": "WskKQv86Yecb"
      },
      "outputs": [],
      "source": [
        "#! pip install plotly==5.5.0 --user"
      ]
    },
    {
      "cell_type": "code",
      "execution_count": 7,
      "metadata": {
        "id": "JK_PiMbXYecc"
      },
      "outputs": [],
      "source": [
        "# Import all libraries\n",
        "# Basic\n",
        "import pandas as pd\n",
        "import numpy as np\n",
        "import regex as re\n",
        "# Visualization tools\n",
        "import seaborn as sns\n",
        "import matplotlib.pyplot as plt\n",
        "%matplotlib inline\n",
        "import plotly.express as px\n",
        "import plotly.graph_objects as go\n",
        "import plotly.offline as offline\n",
        "# Address parsing\n",
        "import usaddress\n",
        "# Configuration\n",
        "import warnings\n",
        "warnings.simplefilter(action='ignore')"
      ]
    },
    {
      "cell_type": "code",
      "execution_count": 8,
      "metadata": {
        "id": "HL3GZtE4Yecd"
      },
      "outputs": [],
      "source": [
        "# Load the data\n",
        "try:\n",
        "    rest_data = pd.read_csv('/content/drive/MyDrive/csv_fies/rest_data_us.csv')\n",
        "except:\n",
        "    rest_data = pd.read_csv('/datasets/rest_data_us.csv')"
      ]
    },
    {
      "cell_type": "markdown",
      "metadata": {
        "id": "3AM00Xb4Yecd"
      },
      "source": [
        "# [1 Step. Data preprocessing.](#step1)\n",
        "[top](#top)\n",
        "\n",
        "\n",
        "---\n",
        "\n",
        "\n",
        "First things first we eed to explore the data we have and look for missing values, errors in data types or inappropriate zeros. To avoid repeated actions we can build some functions to help us!"
      ]
    },
    {
      "cell_type": "code",
      "execution_count": 9,
      "metadata": {
        "id": "mBfr-dMOYece"
      },
      "outputs": [],
      "source": [
        "# A function for locating zeros\n",
        "def zero_func(data):\n",
        "    for row in data:\n",
        "        print(row, len(data[data[row] == 0]))"
      ]
    },
    {
      "cell_type": "code",
      "execution_count": 10,
      "metadata": {
        "id": "hsaK3AU9Yece"
      },
      "outputs": [],
      "source": [
        "# Customized function for data exploring\n",
        "def explore(data):\n",
        "    print('Duplicated rows: {}'.format(data.duplicated().sum()))\n",
        "    print('Duplicated id values: {}'.format(len(data) - len(data['id'].value_counts())))\n",
        "    print()\n",
        "    print('Dataframe Info:')\n",
        "    data.info()\n",
        "    print()\n",
        "    print('Missing values:')\n",
        "    print(data.isnull().sum())\n",
        "    print()\n",
        "    print('Checking zeros:')\n",
        "    zero_func(data)\n",
        "    print()"
      ]
    },
    {
      "cell_type": "code",
      "execution_count": 11,
      "metadata": {
        "id": "QBsqmJkBYecf",
        "colab": {
          "base_uri": "https://localhost:8080/",
          "height": 852
        },
        "outputId": "79f75e57-d934-4d99-d9a0-b8e0bddb7007"
      },
      "outputs": [
        {
          "output_type": "stream",
          "name": "stdout",
          "text": [
            "Duplicated rows: 0\n",
            "Duplicated id values: 0\n",
            "\n",
            "Dataframe Info:\n",
            "<class 'pandas.core.frame.DataFrame'>\n",
            "RangeIndex: 9651 entries, 0 to 9650\n",
            "Data columns (total 6 columns):\n",
            " #   Column       Non-Null Count  Dtype \n",
            "---  ------       --------------  ----- \n",
            " 0   id           9651 non-null   int64 \n",
            " 1   object_name  9651 non-null   object\n",
            " 2   address      9651 non-null   object\n",
            " 3   chain        9648 non-null   object\n",
            " 4   object_type  9651 non-null   object\n",
            " 5   number       9651 non-null   int64 \n",
            "dtypes: int64(2), object(4)\n",
            "memory usage: 452.5+ KB\n",
            "\n",
            "Missing values:\n",
            "id             0\n",
            "object_name    0\n",
            "address        0\n",
            "chain          3\n",
            "object_type    0\n",
            "number         0\n",
            "dtype: int64\n",
            "\n",
            "Checking zeros:\n",
            "id 0\n",
            "object_name 0\n",
            "address 0\n",
            "chain 5972\n",
            "object_type 0\n",
            "number 0\n",
            "\n"
          ]
        },
        {
          "output_type": "execute_result",
          "data": {
            "text/plain": [
              "      id          object_name                    address  chain object_type  \\\n",
              "0  11786  HABITAT COFFEE SHOP     3708 N EAGLE ROCK BLVD  False        Cafe   \n",
              "1  11787             REILLY'S        100 WORLD WAY # 120  False  Restaurant   \n",
              "2  11788       STREET CHURROS  6801 HOLLYWOOD BLVD # 253  False   Fast Food   \n",
              "3  11789    TRINITI ECHO PARK         1814 W SUNSET BLVD  False  Restaurant   \n",
              "4  11790               POLLEN         2100 ECHO PARK AVE  False  Restaurant   \n",
              "\n",
              "   number  \n",
              "0      26  \n",
              "1       9  \n",
              "2      20  \n",
              "3      22  \n",
              "4      20  "
            ],
            "text/html": [
              "\n",
              "  <div id=\"df-4628d928-c506-45c0-ba1b-731481bad264\">\n",
              "    <div class=\"colab-df-container\">\n",
              "      <div>\n",
              "<style scoped>\n",
              "    .dataframe tbody tr th:only-of-type {\n",
              "        vertical-align: middle;\n",
              "    }\n",
              "\n",
              "    .dataframe tbody tr th {\n",
              "        vertical-align: top;\n",
              "    }\n",
              "\n",
              "    .dataframe thead th {\n",
              "        text-align: right;\n",
              "    }\n",
              "</style>\n",
              "<table border=\"1\" class=\"dataframe\">\n",
              "  <thead>\n",
              "    <tr style=\"text-align: right;\">\n",
              "      <th></th>\n",
              "      <th>id</th>\n",
              "      <th>object_name</th>\n",
              "      <th>address</th>\n",
              "      <th>chain</th>\n",
              "      <th>object_type</th>\n",
              "      <th>number</th>\n",
              "    </tr>\n",
              "  </thead>\n",
              "  <tbody>\n",
              "    <tr>\n",
              "      <th>0</th>\n",
              "      <td>11786</td>\n",
              "      <td>HABITAT COFFEE SHOP</td>\n",
              "      <td>3708 N EAGLE ROCK BLVD</td>\n",
              "      <td>False</td>\n",
              "      <td>Cafe</td>\n",
              "      <td>26</td>\n",
              "    </tr>\n",
              "    <tr>\n",
              "      <th>1</th>\n",
              "      <td>11787</td>\n",
              "      <td>REILLY'S</td>\n",
              "      <td>100 WORLD WAY # 120</td>\n",
              "      <td>False</td>\n",
              "      <td>Restaurant</td>\n",
              "      <td>9</td>\n",
              "    </tr>\n",
              "    <tr>\n",
              "      <th>2</th>\n",
              "      <td>11788</td>\n",
              "      <td>STREET CHURROS</td>\n",
              "      <td>6801 HOLLYWOOD BLVD # 253</td>\n",
              "      <td>False</td>\n",
              "      <td>Fast Food</td>\n",
              "      <td>20</td>\n",
              "    </tr>\n",
              "    <tr>\n",
              "      <th>3</th>\n",
              "      <td>11789</td>\n",
              "      <td>TRINITI ECHO PARK</td>\n",
              "      <td>1814 W SUNSET BLVD</td>\n",
              "      <td>False</td>\n",
              "      <td>Restaurant</td>\n",
              "      <td>22</td>\n",
              "    </tr>\n",
              "    <tr>\n",
              "      <th>4</th>\n",
              "      <td>11790</td>\n",
              "      <td>POLLEN</td>\n",
              "      <td>2100 ECHO PARK AVE</td>\n",
              "      <td>False</td>\n",
              "      <td>Restaurant</td>\n",
              "      <td>20</td>\n",
              "    </tr>\n",
              "  </tbody>\n",
              "</table>\n",
              "</div>\n",
              "      <button class=\"colab-df-convert\" onclick=\"convertToInteractive('df-4628d928-c506-45c0-ba1b-731481bad264')\"\n",
              "              title=\"Convert this dataframe to an interactive table.\"\n",
              "              style=\"display:none;\">\n",
              "        \n",
              "  <svg xmlns=\"http://www.w3.org/2000/svg\" height=\"24px\"viewBox=\"0 0 24 24\"\n",
              "       width=\"24px\">\n",
              "    <path d=\"M0 0h24v24H0V0z\" fill=\"none\"/>\n",
              "    <path d=\"M18.56 5.44l.94 2.06.94-2.06 2.06-.94-2.06-.94-.94-2.06-.94 2.06-2.06.94zm-11 1L8.5 8.5l.94-2.06 2.06-.94-2.06-.94L8.5 2.5l-.94 2.06-2.06.94zm10 10l.94 2.06.94-2.06 2.06-.94-2.06-.94-.94-2.06-.94 2.06-2.06.94z\"/><path d=\"M17.41 7.96l-1.37-1.37c-.4-.4-.92-.59-1.43-.59-.52 0-1.04.2-1.43.59L10.3 9.45l-7.72 7.72c-.78.78-.78 2.05 0 2.83L4 21.41c.39.39.9.59 1.41.59.51 0 1.02-.2 1.41-.59l7.78-7.78 2.81-2.81c.8-.78.8-2.07 0-2.86zM5.41 20L4 18.59l7.72-7.72 1.47 1.35L5.41 20z\"/>\n",
              "  </svg>\n",
              "      </button>\n",
              "      \n",
              "  <style>\n",
              "    .colab-df-container {\n",
              "      display:flex;\n",
              "      flex-wrap:wrap;\n",
              "      gap: 12px;\n",
              "    }\n",
              "\n",
              "    .colab-df-convert {\n",
              "      background-color: #E8F0FE;\n",
              "      border: none;\n",
              "      border-radius: 50%;\n",
              "      cursor: pointer;\n",
              "      display: none;\n",
              "      fill: #1967D2;\n",
              "      height: 32px;\n",
              "      padding: 0 0 0 0;\n",
              "      width: 32px;\n",
              "    }\n",
              "\n",
              "    .colab-df-convert:hover {\n",
              "      background-color: #E2EBFA;\n",
              "      box-shadow: 0px 1px 2px rgba(60, 64, 67, 0.3), 0px 1px 3px 1px rgba(60, 64, 67, 0.15);\n",
              "      fill: #174EA6;\n",
              "    }\n",
              "\n",
              "    [theme=dark] .colab-df-convert {\n",
              "      background-color: #3B4455;\n",
              "      fill: #D2E3FC;\n",
              "    }\n",
              "\n",
              "    [theme=dark] .colab-df-convert:hover {\n",
              "      background-color: #434B5C;\n",
              "      box-shadow: 0px 1px 3px 1px rgba(0, 0, 0, 0.15);\n",
              "      filter: drop-shadow(0px 1px 2px rgba(0, 0, 0, 0.3));\n",
              "      fill: #FFFFFF;\n",
              "    }\n",
              "  </style>\n",
              "\n",
              "      <script>\n",
              "        const buttonEl =\n",
              "          document.querySelector('#df-4628d928-c506-45c0-ba1b-731481bad264 button.colab-df-convert');\n",
              "        buttonEl.style.display =\n",
              "          google.colab.kernel.accessAllowed ? 'block' : 'none';\n",
              "\n",
              "        async function convertToInteractive(key) {\n",
              "          const element = document.querySelector('#df-4628d928-c506-45c0-ba1b-731481bad264');\n",
              "          const dataTable =\n",
              "            await google.colab.kernel.invokeFunction('convertToInteractive',\n",
              "                                                     [key], {});\n",
              "          if (!dataTable) return;\n",
              "\n",
              "          const docLinkHtml = 'Like what you see? Visit the ' +\n",
              "            '<a target=\"_blank\" href=https://colab.research.google.com/notebooks/data_table.ipynb>data table notebook</a>'\n",
              "            + ' to learn more about interactive tables.';\n",
              "          element.innerHTML = '';\n",
              "          dataTable['output_type'] = 'display_data';\n",
              "          await google.colab.output.renderOutput(dataTable, element);\n",
              "          const docLink = document.createElement('div');\n",
              "          docLink.innerHTML = docLinkHtml;\n",
              "          element.appendChild(docLink);\n",
              "        }\n",
              "      </script>\n",
              "    </div>\n",
              "  </div>\n",
              "  "
            ]
          },
          "metadata": {},
          "execution_count": 11
        }
      ],
      "source": [
        "explore(rest_data)\n",
        "rest_data.head()"
      ]
    },
    {
      "cell_type": "markdown",
      "metadata": {
        "id": "izCS73xNYecf"
      },
      "source": [
        "`rest_data` table contains:\n",
        "\n",
        "*object_name* — establishment name\n",
        "\n",
        "*chain* — chain establishment (TRUE/FALSE)\n",
        "\n",
        "*object_type* — establishment type\n",
        "\n",
        "*address* — address\n",
        "\n",
        "*number* — number of seats"
      ]
    },
    {
      "cell_type": "code",
      "execution_count": 12,
      "metadata": {
        "id": "MZ8-7OdfYecf",
        "colab": {
          "base_uri": "https://localhost:8080/",
          "height": 143
        },
        "outputId": "eed00e33-9f41-4286-e099-ba84e368424d"
      },
      "outputs": [
        {
          "output_type": "execute_result",
          "data": {
            "text/plain": [
              "         id              object_name               address chain object_type  \\\n",
              "7408  19194  TAQUERIA LOS 3 CARNALES  5000 E WHITTIER BLVD   NaN  Restaurant   \n",
              "7523  19309     JAMMIN JIMMY'S PIZZA   1641 FIRESTONE BLVD   NaN       Pizza   \n",
              "8648  20434    THE LEXINGTON THEATER          129 E 3RD ST   NaN  Restaurant   \n",
              "\n",
              "      number  \n",
              "7408      14  \n",
              "7523       1  \n",
              "8648      35  "
            ],
            "text/html": [
              "\n",
              "  <div id=\"df-87e1e4a9-a242-42a2-bc82-53afed63ef6d\">\n",
              "    <div class=\"colab-df-container\">\n",
              "      <div>\n",
              "<style scoped>\n",
              "    .dataframe tbody tr th:only-of-type {\n",
              "        vertical-align: middle;\n",
              "    }\n",
              "\n",
              "    .dataframe tbody tr th {\n",
              "        vertical-align: top;\n",
              "    }\n",
              "\n",
              "    .dataframe thead th {\n",
              "        text-align: right;\n",
              "    }\n",
              "</style>\n",
              "<table border=\"1\" class=\"dataframe\">\n",
              "  <thead>\n",
              "    <tr style=\"text-align: right;\">\n",
              "      <th></th>\n",
              "      <th>id</th>\n",
              "      <th>object_name</th>\n",
              "      <th>address</th>\n",
              "      <th>chain</th>\n",
              "      <th>object_type</th>\n",
              "      <th>number</th>\n",
              "    </tr>\n",
              "  </thead>\n",
              "  <tbody>\n",
              "    <tr>\n",
              "      <th>7408</th>\n",
              "      <td>19194</td>\n",
              "      <td>TAQUERIA LOS 3 CARNALES</td>\n",
              "      <td>5000 E WHITTIER BLVD</td>\n",
              "      <td>NaN</td>\n",
              "      <td>Restaurant</td>\n",
              "      <td>14</td>\n",
              "    </tr>\n",
              "    <tr>\n",
              "      <th>7523</th>\n",
              "      <td>19309</td>\n",
              "      <td>JAMMIN JIMMY'S PIZZA</td>\n",
              "      <td>1641 FIRESTONE BLVD</td>\n",
              "      <td>NaN</td>\n",
              "      <td>Pizza</td>\n",
              "      <td>1</td>\n",
              "    </tr>\n",
              "    <tr>\n",
              "      <th>8648</th>\n",
              "      <td>20434</td>\n",
              "      <td>THE LEXINGTON THEATER</td>\n",
              "      <td>129 E 3RD ST</td>\n",
              "      <td>NaN</td>\n",
              "      <td>Restaurant</td>\n",
              "      <td>35</td>\n",
              "    </tr>\n",
              "  </tbody>\n",
              "</table>\n",
              "</div>\n",
              "      <button class=\"colab-df-convert\" onclick=\"convertToInteractive('df-87e1e4a9-a242-42a2-bc82-53afed63ef6d')\"\n",
              "              title=\"Convert this dataframe to an interactive table.\"\n",
              "              style=\"display:none;\">\n",
              "        \n",
              "  <svg xmlns=\"http://www.w3.org/2000/svg\" height=\"24px\"viewBox=\"0 0 24 24\"\n",
              "       width=\"24px\">\n",
              "    <path d=\"M0 0h24v24H0V0z\" fill=\"none\"/>\n",
              "    <path d=\"M18.56 5.44l.94 2.06.94-2.06 2.06-.94-2.06-.94-.94-2.06-.94 2.06-2.06.94zm-11 1L8.5 8.5l.94-2.06 2.06-.94-2.06-.94L8.5 2.5l-.94 2.06-2.06.94zm10 10l.94 2.06.94-2.06 2.06-.94-2.06-.94-.94-2.06-.94 2.06-2.06.94z\"/><path d=\"M17.41 7.96l-1.37-1.37c-.4-.4-.92-.59-1.43-.59-.52 0-1.04.2-1.43.59L10.3 9.45l-7.72 7.72c-.78.78-.78 2.05 0 2.83L4 21.41c.39.39.9.59 1.41.59.51 0 1.02-.2 1.41-.59l7.78-7.78 2.81-2.81c.8-.78.8-2.07 0-2.86zM5.41 20L4 18.59l7.72-7.72 1.47 1.35L5.41 20z\"/>\n",
              "  </svg>\n",
              "      </button>\n",
              "      \n",
              "  <style>\n",
              "    .colab-df-container {\n",
              "      display:flex;\n",
              "      flex-wrap:wrap;\n",
              "      gap: 12px;\n",
              "    }\n",
              "\n",
              "    .colab-df-convert {\n",
              "      background-color: #E8F0FE;\n",
              "      border: none;\n",
              "      border-radius: 50%;\n",
              "      cursor: pointer;\n",
              "      display: none;\n",
              "      fill: #1967D2;\n",
              "      height: 32px;\n",
              "      padding: 0 0 0 0;\n",
              "      width: 32px;\n",
              "    }\n",
              "\n",
              "    .colab-df-convert:hover {\n",
              "      background-color: #E2EBFA;\n",
              "      box-shadow: 0px 1px 2px rgba(60, 64, 67, 0.3), 0px 1px 3px 1px rgba(60, 64, 67, 0.15);\n",
              "      fill: #174EA6;\n",
              "    }\n",
              "\n",
              "    [theme=dark] .colab-df-convert {\n",
              "      background-color: #3B4455;\n",
              "      fill: #D2E3FC;\n",
              "    }\n",
              "\n",
              "    [theme=dark] .colab-df-convert:hover {\n",
              "      background-color: #434B5C;\n",
              "      box-shadow: 0px 1px 3px 1px rgba(0, 0, 0, 0.15);\n",
              "      filter: drop-shadow(0px 1px 2px rgba(0, 0, 0, 0.3));\n",
              "      fill: #FFFFFF;\n",
              "    }\n",
              "  </style>\n",
              "\n",
              "      <script>\n",
              "        const buttonEl =\n",
              "          document.querySelector('#df-87e1e4a9-a242-42a2-bc82-53afed63ef6d button.colab-df-convert');\n",
              "        buttonEl.style.display =\n",
              "          google.colab.kernel.accessAllowed ? 'block' : 'none';\n",
              "\n",
              "        async function convertToInteractive(key) {\n",
              "          const element = document.querySelector('#df-87e1e4a9-a242-42a2-bc82-53afed63ef6d');\n",
              "          const dataTable =\n",
              "            await google.colab.kernel.invokeFunction('convertToInteractive',\n",
              "                                                     [key], {});\n",
              "          if (!dataTable) return;\n",
              "\n",
              "          const docLinkHtml = 'Like what you see? Visit the ' +\n",
              "            '<a target=\"_blank\" href=https://colab.research.google.com/notebooks/data_table.ipynb>data table notebook</a>'\n",
              "            + ' to learn more about interactive tables.';\n",
              "          element.innerHTML = '';\n",
              "          dataTable['output_type'] = 'display_data';\n",
              "          await google.colab.output.renderOutput(dataTable, element);\n",
              "          const docLink = document.createElement('div');\n",
              "          docLink.innerHTML = docLinkHtml;\n",
              "          element.appendChild(docLink);\n",
              "        }\n",
              "      </script>\n",
              "    </div>\n",
              "  </div>\n",
              "  "
            ]
          },
          "metadata": {},
          "execution_count": 12
        }
      ],
      "source": [
        "# Check missing values\n",
        "rest_data[rest_data['chain'].isnull()]"
      ]
    },
    {
      "cell_type": "markdown",
      "metadata": {
        "id": "JsR1u3i4Yecf"
      },
      "source": [
        "Looks like we have 3 rows with supposedly missing values, but in this specific column they probalbly stand for 'False' boolean value. Let's replace them and fix the data type to boolean in this column."
      ]
    },
    {
      "cell_type": "code",
      "execution_count": 13,
      "metadata": {
        "id": "WyLVdF7nYecg"
      },
      "outputs": [],
      "source": [
        "# Fill misiing values\n",
        "rest_data['chain'] = rest_data['chain'].fillna('False')"
      ]
    },
    {
      "cell_type": "code",
      "execution_count": 14,
      "metadata": {
        "id": "2XiU_ay_Yecg"
      },
      "outputs": [],
      "source": [
        "# Fix datatype\n",
        "rest_data['chain'] = rest_data['chain'].apply(lambda x: bool(x))"
      ]
    },
    {
      "cell_type": "code",
      "execution_count": 15,
      "metadata": {
        "id": "H43eb3EXYecg",
        "colab": {
          "base_uri": "https://localhost:8080/"
        },
        "outputId": "6b513fbf-ffc4-4541-84de-99a95967cbbd"
      },
      "outputs": [
        {
          "output_type": "stream",
          "name": "stdout",
          "text": [
            "<class 'pandas.core.frame.DataFrame'>\n",
            "RangeIndex: 9651 entries, 0 to 9650\n",
            "Data columns (total 6 columns):\n",
            " #   Column       Non-Null Count  Dtype \n",
            "---  ------       --------------  ----- \n",
            " 0   id           9651 non-null   int64 \n",
            " 1   object_name  9651 non-null   object\n",
            " 2   address      9651 non-null   object\n",
            " 3   chain        9651 non-null   bool  \n",
            " 4   object_type  9651 non-null   object\n",
            " 5   number       9651 non-null   int64 \n",
            "dtypes: bool(1), int64(2), object(3)\n",
            "memory usage: 386.5+ KB\n"
          ]
        }
      ],
      "source": [
        "# Check the result\n",
        "rest_data.info()"
      ]
    },
    {
      "cell_type": "markdown",
      "metadata": {
        "id": "_lmu7WrjYecg"
      },
      "source": [
        "# [Intermediate conclusion.](#concl) \n",
        "\n",
        "\n",
        "---\n",
        "\n",
        "Our dataframe consists of 9651 rows with different types of establishments of LA, displaying the names, addresses, types of establishments, number of seats in each and whether the establishment belongs to a chain or not. There were no critical issues to the data, we filled 3 rows of missing values and corrected the data types. We can start analysing tendencies of the existing market."
      ]
    },
    {
      "cell_type": "markdown",
      "metadata": {
        "id": "GRsqUv9sYech"
      },
      "source": [
        "# [2 Step. Data analysis](#da)\n",
        "[top](#top)\n",
        "\n",
        "---\n"
      ]
    },
    {
      "cell_type": "markdown",
      "metadata": {
        "id": "8V3aO5K5Yech"
      },
      "source": [
        "[**Investigate the proportions of the various types of establishments. Plot a graph.**](#2.1)"
      ]
    },
    {
      "cell_type": "code",
      "execution_count": 16,
      "metadata": {
        "id": "re4q1DjyYech",
        "colab": {
          "base_uri": "https://localhost:8080/"
        },
        "outputId": "fbd3ea24-8682-48bf-8d5d-7f615848a1cc"
      },
      "outputs": [
        {
          "output_type": "execute_result",
          "data": {
            "text/plain": [
              "Restaurant    7255\n",
              "Fast Food     1066\n",
              "Cafe           435\n",
              "Pizza          320\n",
              "Bar            292\n",
              "Bakery         283\n",
              "Name: object_type, dtype: int64"
            ]
          },
          "metadata": {},
          "execution_count": 16
        }
      ],
      "source": [
        "# Count how many establishments are there\n",
        "rest_data['object_type'].value_counts()"
      ]
    },
    {
      "cell_type": "code",
      "execution_count": 17,
      "metadata": {
        "id": "Nkex75FSYech",
        "colab": {
          "base_uri": "https://localhost:8080/",
          "height": 237
        },
        "outputId": "4ca501cb-1124-4218-e123-4e3277bf3c31"
      },
      "outputs": [
        {
          "output_type": "execute_result",
          "data": {
            "text/plain": [
              "<pandas.io.formats.style.Styler at 0x7fa202e7f750>"
            ],
            "text/html": [
              "<style type=\"text/css\">\n",
              "#T_9ac44_row0_col1 {\n",
              "  width: 10em;\n",
              "  height: 80%;\n",
              "  background: linear-gradient(90deg,#ced7d8 100.0%, transparent 100.0%);\n",
              "}\n",
              "#T_9ac44_row1_col1 {\n",
              "  width: 10em;\n",
              "  height: 80%;\n",
              "  background: linear-gradient(90deg,#ced7d8 11.2%, transparent 11.2%);\n",
              "}\n",
              "#T_9ac44_row2_col1 {\n",
              "  width: 10em;\n",
              "  height: 80%;\n",
              "  background: linear-gradient(90deg,#ced7d8 2.2%, transparent 2.2%);\n",
              "}\n",
              "#T_9ac44_row3_col1 {\n",
              "  width: 10em;\n",
              "  height: 80%;\n",
              "  background: linear-gradient(90deg,#ced7d8 0.5%, transparent 0.5%);\n",
              "}\n",
              "#T_9ac44_row4_col1 {\n",
              "  width: 10em;\n",
              "  height: 80%;\n",
              "  background: linear-gradient(90deg,#ced7d8 0.1%, transparent 0.1%);\n",
              "}\n",
              "#T_9ac44_row5_col1 {\n",
              "  width: 10em;\n",
              "  height: 80%;\n",
              "}\n",
              "</style>\n",
              "<table id=\"T_9ac44_\" class=\"dataframe\">\n",
              "  <thead>\n",
              "    <tr>\n",
              "      <th class=\"blank level0\" >&nbsp;</th>\n",
              "      <th class=\"col_heading level0 col0\" >object_type</th>\n",
              "      <th class=\"col_heading level0 col1\" >n_objects</th>\n",
              "    </tr>\n",
              "  </thead>\n",
              "  <tbody>\n",
              "    <tr>\n",
              "      <th id=\"T_9ac44_level0_row0\" class=\"row_heading level0 row0\" >5</th>\n",
              "      <td id=\"T_9ac44_row0_col0\" class=\"data row0 col0\" >Restaurant</td>\n",
              "      <td id=\"T_9ac44_row0_col1\" class=\"data row0 col1\" >7255</td>\n",
              "    </tr>\n",
              "    <tr>\n",
              "      <th id=\"T_9ac44_level0_row1\" class=\"row_heading level0 row1\" >3</th>\n",
              "      <td id=\"T_9ac44_row1_col0\" class=\"data row1 col0\" >Fast Food</td>\n",
              "      <td id=\"T_9ac44_row1_col1\" class=\"data row1 col1\" >1066</td>\n",
              "    </tr>\n",
              "    <tr>\n",
              "      <th id=\"T_9ac44_level0_row2\" class=\"row_heading level0 row2\" >2</th>\n",
              "      <td id=\"T_9ac44_row2_col0\" class=\"data row2 col0\" >Cafe</td>\n",
              "      <td id=\"T_9ac44_row2_col1\" class=\"data row2 col1\" >435</td>\n",
              "    </tr>\n",
              "    <tr>\n",
              "      <th id=\"T_9ac44_level0_row3\" class=\"row_heading level0 row3\" >4</th>\n",
              "      <td id=\"T_9ac44_row3_col0\" class=\"data row3 col0\" >Pizza</td>\n",
              "      <td id=\"T_9ac44_row3_col1\" class=\"data row3 col1\" >320</td>\n",
              "    </tr>\n",
              "    <tr>\n",
              "      <th id=\"T_9ac44_level0_row4\" class=\"row_heading level0 row4\" >1</th>\n",
              "      <td id=\"T_9ac44_row4_col0\" class=\"data row4 col0\" >Bar</td>\n",
              "      <td id=\"T_9ac44_row4_col1\" class=\"data row4 col1\" >292</td>\n",
              "    </tr>\n",
              "    <tr>\n",
              "      <th id=\"T_9ac44_level0_row5\" class=\"row_heading level0 row5\" >0</th>\n",
              "      <td id=\"T_9ac44_row5_col0\" class=\"data row5 col0\" >Bakery</td>\n",
              "      <td id=\"T_9ac44_row5_col1\" class=\"data row5 col1\" >283</td>\n",
              "    </tr>\n",
              "  </tbody>\n",
              "</table>\n"
            ]
          },
          "metadata": {},
          "execution_count": 17
        }
      ],
      "source": [
        "# Prepare a subset to build the plot on\n",
        "obj_types = rest_data.groupby(['object_type'], as_index=False)['object_name']\\\n",
        ".count().sort_values(by='object_name', ascending=False)\n",
        "obj_types.columns = ['object_type', 'n_objects']\n",
        "obj_types.style.bar(color='#ced7d8')"
      ]
    },
    {
      "cell_type": "code",
      "execution_count": 18,
      "metadata": {
        "id": "xJ1WfsQhYeci",
        "colab": {
          "base_uri": "https://localhost:8080/",
          "height": 237
        },
        "outputId": "98829c3a-a797-4438-d460-ba1f81ae135c"
      },
      "outputs": [
        {
          "output_type": "execute_result",
          "data": {
            "text/plain": [
              "  object_type  n_objects percents\n",
              "5  Restaurant       7255   75.17%\n",
              "3   Fast Food       1066   11.05%\n",
              "2        Cafe        435    4.51%\n",
              "4       Pizza        320    3.32%\n",
              "1         Bar        292    3.03%\n",
              "0      Bakery        283    2.93%"
            ],
            "text/html": [
              "\n",
              "  <div id=\"df-01c95828-2277-40cf-8d79-0263e711a954\">\n",
              "    <div class=\"colab-df-container\">\n",
              "      <div>\n",
              "<style scoped>\n",
              "    .dataframe tbody tr th:only-of-type {\n",
              "        vertical-align: middle;\n",
              "    }\n",
              "\n",
              "    .dataframe tbody tr th {\n",
              "        vertical-align: top;\n",
              "    }\n",
              "\n",
              "    .dataframe thead th {\n",
              "        text-align: right;\n",
              "    }\n",
              "</style>\n",
              "<table border=\"1\" class=\"dataframe\">\n",
              "  <thead>\n",
              "    <tr style=\"text-align: right;\">\n",
              "      <th></th>\n",
              "      <th>object_type</th>\n",
              "      <th>n_objects</th>\n",
              "      <th>percents</th>\n",
              "    </tr>\n",
              "  </thead>\n",
              "  <tbody>\n",
              "    <tr>\n",
              "      <th>5</th>\n",
              "      <td>Restaurant</td>\n",
              "      <td>7255</td>\n",
              "      <td>75.17%</td>\n",
              "    </tr>\n",
              "    <tr>\n",
              "      <th>3</th>\n",
              "      <td>Fast Food</td>\n",
              "      <td>1066</td>\n",
              "      <td>11.05%</td>\n",
              "    </tr>\n",
              "    <tr>\n",
              "      <th>2</th>\n",
              "      <td>Cafe</td>\n",
              "      <td>435</td>\n",
              "      <td>4.51%</td>\n",
              "    </tr>\n",
              "    <tr>\n",
              "      <th>4</th>\n",
              "      <td>Pizza</td>\n",
              "      <td>320</td>\n",
              "      <td>3.32%</td>\n",
              "    </tr>\n",
              "    <tr>\n",
              "      <th>1</th>\n",
              "      <td>Bar</td>\n",
              "      <td>292</td>\n",
              "      <td>3.03%</td>\n",
              "    </tr>\n",
              "    <tr>\n",
              "      <th>0</th>\n",
              "      <td>Bakery</td>\n",
              "      <td>283</td>\n",
              "      <td>2.93%</td>\n",
              "    </tr>\n",
              "  </tbody>\n",
              "</table>\n",
              "</div>\n",
              "      <button class=\"colab-df-convert\" onclick=\"convertToInteractive('df-01c95828-2277-40cf-8d79-0263e711a954')\"\n",
              "              title=\"Convert this dataframe to an interactive table.\"\n",
              "              style=\"display:none;\">\n",
              "        \n",
              "  <svg xmlns=\"http://www.w3.org/2000/svg\" height=\"24px\"viewBox=\"0 0 24 24\"\n",
              "       width=\"24px\">\n",
              "    <path d=\"M0 0h24v24H0V0z\" fill=\"none\"/>\n",
              "    <path d=\"M18.56 5.44l.94 2.06.94-2.06 2.06-.94-2.06-.94-.94-2.06-.94 2.06-2.06.94zm-11 1L8.5 8.5l.94-2.06 2.06-.94-2.06-.94L8.5 2.5l-.94 2.06-2.06.94zm10 10l.94 2.06.94-2.06 2.06-.94-2.06-.94-.94-2.06-.94 2.06-2.06.94z\"/><path d=\"M17.41 7.96l-1.37-1.37c-.4-.4-.92-.59-1.43-.59-.52 0-1.04.2-1.43.59L10.3 9.45l-7.72 7.72c-.78.78-.78 2.05 0 2.83L4 21.41c.39.39.9.59 1.41.59.51 0 1.02-.2 1.41-.59l7.78-7.78 2.81-2.81c.8-.78.8-2.07 0-2.86zM5.41 20L4 18.59l7.72-7.72 1.47 1.35L5.41 20z\"/>\n",
              "  </svg>\n",
              "      </button>\n",
              "      \n",
              "  <style>\n",
              "    .colab-df-container {\n",
              "      display:flex;\n",
              "      flex-wrap:wrap;\n",
              "      gap: 12px;\n",
              "    }\n",
              "\n",
              "    .colab-df-convert {\n",
              "      background-color: #E8F0FE;\n",
              "      border: none;\n",
              "      border-radius: 50%;\n",
              "      cursor: pointer;\n",
              "      display: none;\n",
              "      fill: #1967D2;\n",
              "      height: 32px;\n",
              "      padding: 0 0 0 0;\n",
              "      width: 32px;\n",
              "    }\n",
              "\n",
              "    .colab-df-convert:hover {\n",
              "      background-color: #E2EBFA;\n",
              "      box-shadow: 0px 1px 2px rgba(60, 64, 67, 0.3), 0px 1px 3px 1px rgba(60, 64, 67, 0.15);\n",
              "      fill: #174EA6;\n",
              "    }\n",
              "\n",
              "    [theme=dark] .colab-df-convert {\n",
              "      background-color: #3B4455;\n",
              "      fill: #D2E3FC;\n",
              "    }\n",
              "\n",
              "    [theme=dark] .colab-df-convert:hover {\n",
              "      background-color: #434B5C;\n",
              "      box-shadow: 0px 1px 3px 1px rgba(0, 0, 0, 0.15);\n",
              "      filter: drop-shadow(0px 1px 2px rgba(0, 0, 0, 0.3));\n",
              "      fill: #FFFFFF;\n",
              "    }\n",
              "  </style>\n",
              "\n",
              "      <script>\n",
              "        const buttonEl =\n",
              "          document.querySelector('#df-01c95828-2277-40cf-8d79-0263e711a954 button.colab-df-convert');\n",
              "        buttonEl.style.display =\n",
              "          google.colab.kernel.accessAllowed ? 'block' : 'none';\n",
              "\n",
              "        async function convertToInteractive(key) {\n",
              "          const element = document.querySelector('#df-01c95828-2277-40cf-8d79-0263e711a954');\n",
              "          const dataTable =\n",
              "            await google.colab.kernel.invokeFunction('convertToInteractive',\n",
              "                                                     [key], {});\n",
              "          if (!dataTable) return;\n",
              "\n",
              "          const docLinkHtml = 'Like what you see? Visit the ' +\n",
              "            '<a target=\"_blank\" href=https://colab.research.google.com/notebooks/data_table.ipynb>data table notebook</a>'\n",
              "            + ' to learn more about interactive tables.';\n",
              "          element.innerHTML = '';\n",
              "          dataTable['output_type'] = 'display_data';\n",
              "          await google.colab.output.renderOutput(dataTable, element);\n",
              "          const docLink = document.createElement('div');\n",
              "          docLink.innerHTML = docLinkHtml;\n",
              "          element.appendChild(docLink);\n",
              "        }\n",
              "      </script>\n",
              "    </div>\n",
              "  </div>\n",
              "  "
            ]
          },
          "metadata": {},
          "execution_count": 18
        }
      ],
      "source": [
        "# Add percents column for better representation\n",
        "obj_types['percents'] = ((obj_types['n_objects'] / obj_types['n_objects']\\\n",
        "                          .sum()) * 100).round(2).astype('str') + '%'\n",
        "obj_types"
      ]
    },
    {
      "cell_type": "code",
      "execution_count": 19,
      "metadata": {
        "id": "_myzLeT3Yeci",
        "colab": {
          "base_uri": "https://localhost:8080/",
          "height": 617
        },
        "outputId": "29d4688b-e2dd-423a-9703-52791f332df5"
      },
      "outputs": [
        {
          "output_type": "display_data",
          "data": {
            "text/html": [
              "<html>\n",
              "<head><meta charset=\"utf-8\" /></head>\n",
              "<body>\n",
              "    <div>            <script src=\"https://cdnjs.cloudflare.com/ajax/libs/mathjax/2.7.5/MathJax.js?config=TeX-AMS-MML_SVG\"></script><script type=\"text/javascript\">if (window.MathJax) {MathJax.Hub.Config({SVG: {font: \"STIX-Web\"}});}</script>                <script type=\"text/javascript\">window.PlotlyConfig = {MathJaxConfig: 'local'};</script>\n",
              "        <script src=\"https://cdn.plot.ly/plotly-2.8.3.min.js\"></script>                <div id=\"cdd9e313-107e-47a6-8a9d-12ac1f944f00\" class=\"plotly-graph-div\" style=\"height:600px; width:990px;\"></div>            <script type=\"text/javascript\">                                    window.PLOTLYENV=window.PLOTLYENV || {};                                    if (document.getElementById(\"cdd9e313-107e-47a6-8a9d-12ac1f944f00\")) {                    Plotly.newPlot(                        \"cdd9e313-107e-47a6-8a9d-12ac1f944f00\",                        [{\"alignmentgroup\":\"True\",\"hovertemplate\":\"Establishmet type=%{x}<br>Amount of establishments=%{text}<extra></extra>\",\"legendgroup\":\"Restaurant\",\"marker\":{\"color\":\"#636efa\",\"pattern\":{\"shape\":\"\"}},\"name\":\"Restaurant (75.17%)\",\"offsetgroup\":\"Restaurant\",\"orientation\":\"v\",\"showlegend\":true,\"text\":[7255.0],\"textposition\":\"outside\",\"x\":[\"Restaurant\"],\"xaxis\":\"x\",\"y\":[7255],\"yaxis\":\"y\",\"type\":\"bar\"},{\"alignmentgroup\":\"True\",\"hovertemplate\":\"Establishmet type=%{x}<br>Amount of establishments=%{text}<extra></extra>\",\"legendgroup\":\"Fast Food\",\"marker\":{\"color\":\"#EF553B\",\"pattern\":{\"shape\":\"\"}},\"name\":\"Fast Food (11.05%)\",\"offsetgroup\":\"Fast Food\",\"orientation\":\"v\",\"showlegend\":true,\"text\":[1066.0],\"textposition\":\"outside\",\"x\":[\"Fast Food\"],\"xaxis\":\"x\",\"y\":[1066],\"yaxis\":\"y\",\"type\":\"bar\"},{\"alignmentgroup\":\"True\",\"hovertemplate\":\"Establishmet type=%{x}<br>Amount of establishments=%{text}<extra></extra>\",\"legendgroup\":\"Cafe\",\"marker\":{\"color\":\"#00cc96\",\"pattern\":{\"shape\":\"\"}},\"name\":\"Cafe (4.51%)\",\"offsetgroup\":\"Cafe\",\"orientation\":\"v\",\"showlegend\":true,\"text\":[435.0],\"textposition\":\"outside\",\"x\":[\"Cafe\"],\"xaxis\":\"x\",\"y\":[435],\"yaxis\":\"y\",\"type\":\"bar\"},{\"alignmentgroup\":\"True\",\"hovertemplate\":\"Establishmet type=%{x}<br>Amount of establishments=%{text}<extra></extra>\",\"legendgroup\":\"Pizza\",\"marker\":{\"color\":\"#ab63fa\",\"pattern\":{\"shape\":\"\"}},\"name\":\"Pizza (3.32%)\",\"offsetgroup\":\"Pizza\",\"orientation\":\"v\",\"showlegend\":true,\"text\":[320.0],\"textposition\":\"outside\",\"x\":[\"Pizza\"],\"xaxis\":\"x\",\"y\":[320],\"yaxis\":\"y\",\"type\":\"bar\"},{\"alignmentgroup\":\"True\",\"hovertemplate\":\"Establishmet type=%{x}<br>Amount of establishments=%{text}<extra></extra>\",\"legendgroup\":\"Bar\",\"marker\":{\"color\":\"#FFA15A\",\"pattern\":{\"shape\":\"\"}},\"name\":\"Bar (3.03%)\",\"offsetgroup\":\"Bar\",\"orientation\":\"v\",\"showlegend\":true,\"text\":[292.0],\"textposition\":\"outside\",\"x\":[\"Bar\"],\"xaxis\":\"x\",\"y\":[292],\"yaxis\":\"y\",\"type\":\"bar\"},{\"alignmentgroup\":\"True\",\"hovertemplate\":\"Establishmet type=%{x}<br>Amount of establishments=%{text}<extra></extra>\",\"legendgroup\":\"Bakery\",\"marker\":{\"color\":\"#19d3f3\",\"pattern\":{\"shape\":\"\"}},\"name\":\"Bakery (2.93%)\",\"offsetgroup\":\"Bakery\",\"orientation\":\"v\",\"showlegend\":true,\"text\":[283.0],\"textposition\":\"outside\",\"x\":[\"Bakery\"],\"xaxis\":\"x\",\"y\":[283],\"yaxis\":\"y\",\"type\":\"bar\"}],                        {\"template\":{\"data\":{\"bar\":[{\"error_x\":{\"color\":\"#2a3f5f\"},\"error_y\":{\"color\":\"#2a3f5f\"},\"marker\":{\"line\":{\"color\":\"#E5ECF6\",\"width\":0.5},\"pattern\":{\"fillmode\":\"overlay\",\"size\":10,\"solidity\":0.2}},\"type\":\"bar\"}],\"barpolar\":[{\"marker\":{\"line\":{\"color\":\"#E5ECF6\",\"width\":0.5},\"pattern\":{\"fillmode\":\"overlay\",\"size\":10,\"solidity\":0.2}},\"type\":\"barpolar\"}],\"carpet\":[{\"aaxis\":{\"endlinecolor\":\"#2a3f5f\",\"gridcolor\":\"white\",\"linecolor\":\"white\",\"minorgridcolor\":\"white\",\"startlinecolor\":\"#2a3f5f\"},\"baxis\":{\"endlinecolor\":\"#2a3f5f\",\"gridcolor\":\"white\",\"linecolor\":\"white\",\"minorgridcolor\":\"white\",\"startlinecolor\":\"#2a3f5f\"},\"type\":\"carpet\"}],\"choropleth\":[{\"colorbar\":{\"outlinewidth\":0,\"ticks\":\"\"},\"type\":\"choropleth\"}],\"contour\":[{\"colorbar\":{\"outlinewidth\":0,\"ticks\":\"\"},\"colorscale\":[[0.0,\"#0d0887\"],[0.1111111111111111,\"#46039f\"],[0.2222222222222222,\"#7201a8\"],[0.3333333333333333,\"#9c179e\"],[0.4444444444444444,\"#bd3786\"],[0.5555555555555556,\"#d8576b\"],[0.6666666666666666,\"#ed7953\"],[0.7777777777777778,\"#fb9f3a\"],[0.8888888888888888,\"#fdca26\"],[1.0,\"#f0f921\"]],\"type\":\"contour\"}],\"contourcarpet\":[{\"colorbar\":{\"outlinewidth\":0,\"ticks\":\"\"},\"type\":\"contourcarpet\"}],\"heatmap\":[{\"colorbar\":{\"outlinewidth\":0,\"ticks\":\"\"},\"colorscale\":[[0.0,\"#0d0887\"],[0.1111111111111111,\"#46039f\"],[0.2222222222222222,\"#7201a8\"],[0.3333333333333333,\"#9c179e\"],[0.4444444444444444,\"#bd3786\"],[0.5555555555555556,\"#d8576b\"],[0.6666666666666666,\"#ed7953\"],[0.7777777777777778,\"#fb9f3a\"],[0.8888888888888888,\"#fdca26\"],[1.0,\"#f0f921\"]],\"type\":\"heatmap\"}],\"heatmapgl\":[{\"colorbar\":{\"outlinewidth\":0,\"ticks\":\"\"},\"colorscale\":[[0.0,\"#0d0887\"],[0.1111111111111111,\"#46039f\"],[0.2222222222222222,\"#7201a8\"],[0.3333333333333333,\"#9c179e\"],[0.4444444444444444,\"#bd3786\"],[0.5555555555555556,\"#d8576b\"],[0.6666666666666666,\"#ed7953\"],[0.7777777777777778,\"#fb9f3a\"],[0.8888888888888888,\"#fdca26\"],[1.0,\"#f0f921\"]],\"type\":\"heatmapgl\"}],\"histogram\":[{\"marker\":{\"pattern\":{\"fillmode\":\"overlay\",\"size\":10,\"solidity\":0.2}},\"type\":\"histogram\"}],\"histogram2d\":[{\"colorbar\":{\"outlinewidth\":0,\"ticks\":\"\"},\"colorscale\":[[0.0,\"#0d0887\"],[0.1111111111111111,\"#46039f\"],[0.2222222222222222,\"#7201a8\"],[0.3333333333333333,\"#9c179e\"],[0.4444444444444444,\"#bd3786\"],[0.5555555555555556,\"#d8576b\"],[0.6666666666666666,\"#ed7953\"],[0.7777777777777778,\"#fb9f3a\"],[0.8888888888888888,\"#fdca26\"],[1.0,\"#f0f921\"]],\"type\":\"histogram2d\"}],\"histogram2dcontour\":[{\"colorbar\":{\"outlinewidth\":0,\"ticks\":\"\"},\"colorscale\":[[0.0,\"#0d0887\"],[0.1111111111111111,\"#46039f\"],[0.2222222222222222,\"#7201a8\"],[0.3333333333333333,\"#9c179e\"],[0.4444444444444444,\"#bd3786\"],[0.5555555555555556,\"#d8576b\"],[0.6666666666666666,\"#ed7953\"],[0.7777777777777778,\"#fb9f3a\"],[0.8888888888888888,\"#fdca26\"],[1.0,\"#f0f921\"]],\"type\":\"histogram2dcontour\"}],\"mesh3d\":[{\"colorbar\":{\"outlinewidth\":0,\"ticks\":\"\"},\"type\":\"mesh3d\"}],\"parcoords\":[{\"line\":{\"colorbar\":{\"outlinewidth\":0,\"ticks\":\"\"}},\"type\":\"parcoords\"}],\"pie\":[{\"automargin\":true,\"type\":\"pie\"}],\"scatter\":[{\"marker\":{\"colorbar\":{\"outlinewidth\":0,\"ticks\":\"\"}},\"type\":\"scatter\"}],\"scatter3d\":[{\"line\":{\"colorbar\":{\"outlinewidth\":0,\"ticks\":\"\"}},\"marker\":{\"colorbar\":{\"outlinewidth\":0,\"ticks\":\"\"}},\"type\":\"scatter3d\"}],\"scattercarpet\":[{\"marker\":{\"colorbar\":{\"outlinewidth\":0,\"ticks\":\"\"}},\"type\":\"scattercarpet\"}],\"scattergeo\":[{\"marker\":{\"colorbar\":{\"outlinewidth\":0,\"ticks\":\"\"}},\"type\":\"scattergeo\"}],\"scattergl\":[{\"marker\":{\"colorbar\":{\"outlinewidth\":0,\"ticks\":\"\"}},\"type\":\"scattergl\"}],\"scattermapbox\":[{\"marker\":{\"colorbar\":{\"outlinewidth\":0,\"ticks\":\"\"}},\"type\":\"scattermapbox\"}],\"scatterpolar\":[{\"marker\":{\"colorbar\":{\"outlinewidth\":0,\"ticks\":\"\"}},\"type\":\"scatterpolar\"}],\"scatterpolargl\":[{\"marker\":{\"colorbar\":{\"outlinewidth\":0,\"ticks\":\"\"}},\"type\":\"scatterpolargl\"}],\"scatterternary\":[{\"marker\":{\"colorbar\":{\"outlinewidth\":0,\"ticks\":\"\"}},\"type\":\"scatterternary\"}],\"surface\":[{\"colorbar\":{\"outlinewidth\":0,\"ticks\":\"\"},\"colorscale\":[[0.0,\"#0d0887\"],[0.1111111111111111,\"#46039f\"],[0.2222222222222222,\"#7201a8\"],[0.3333333333333333,\"#9c179e\"],[0.4444444444444444,\"#bd3786\"],[0.5555555555555556,\"#d8576b\"],[0.6666666666666666,\"#ed7953\"],[0.7777777777777778,\"#fb9f3a\"],[0.8888888888888888,\"#fdca26\"],[1.0,\"#f0f921\"]],\"type\":\"surface\"}],\"table\":[{\"cells\":{\"fill\":{\"color\":\"#EBF0F8\"},\"line\":{\"color\":\"white\"}},\"header\":{\"fill\":{\"color\":\"#C8D4E3\"},\"line\":{\"color\":\"white\"}},\"type\":\"table\"}]},\"layout\":{\"annotationdefaults\":{\"arrowcolor\":\"#2a3f5f\",\"arrowhead\":0,\"arrowwidth\":1},\"autotypenumbers\":\"strict\",\"coloraxis\":{\"colorbar\":{\"outlinewidth\":0,\"ticks\":\"\"}},\"colorscale\":{\"diverging\":[[0,\"#8e0152\"],[0.1,\"#c51b7d\"],[0.2,\"#de77ae\"],[0.3,\"#f1b6da\"],[0.4,\"#fde0ef\"],[0.5,\"#f7f7f7\"],[0.6,\"#e6f5d0\"],[0.7,\"#b8e186\"],[0.8,\"#7fbc41\"],[0.9,\"#4d9221\"],[1,\"#276419\"]],\"sequential\":[[0.0,\"#0d0887\"],[0.1111111111111111,\"#46039f\"],[0.2222222222222222,\"#7201a8\"],[0.3333333333333333,\"#9c179e\"],[0.4444444444444444,\"#bd3786\"],[0.5555555555555556,\"#d8576b\"],[0.6666666666666666,\"#ed7953\"],[0.7777777777777778,\"#fb9f3a\"],[0.8888888888888888,\"#fdca26\"],[1.0,\"#f0f921\"]],\"sequentialminus\":[[0.0,\"#0d0887\"],[0.1111111111111111,\"#46039f\"],[0.2222222222222222,\"#7201a8\"],[0.3333333333333333,\"#9c179e\"],[0.4444444444444444,\"#bd3786\"],[0.5555555555555556,\"#d8576b\"],[0.6666666666666666,\"#ed7953\"],[0.7777777777777778,\"#fb9f3a\"],[0.8888888888888888,\"#fdca26\"],[1.0,\"#f0f921\"]]},\"colorway\":[\"#636efa\",\"#EF553B\",\"#00cc96\",\"#ab63fa\",\"#FFA15A\",\"#19d3f3\",\"#FF6692\",\"#B6E880\",\"#FF97FF\",\"#FECB52\"],\"font\":{\"color\":\"#2a3f5f\"},\"geo\":{\"bgcolor\":\"white\",\"lakecolor\":\"white\",\"landcolor\":\"#E5ECF6\",\"showlakes\":true,\"showland\":true,\"subunitcolor\":\"white\"},\"hoverlabel\":{\"align\":\"left\"},\"hovermode\":\"closest\",\"mapbox\":{\"style\":\"light\"},\"paper_bgcolor\":\"white\",\"plot_bgcolor\":\"#E5ECF6\",\"polar\":{\"angularaxis\":{\"gridcolor\":\"white\",\"linecolor\":\"white\",\"ticks\":\"\"},\"bgcolor\":\"#E5ECF6\",\"radialaxis\":{\"gridcolor\":\"white\",\"linecolor\":\"white\",\"ticks\":\"\"}},\"scene\":{\"xaxis\":{\"backgroundcolor\":\"#E5ECF6\",\"gridcolor\":\"white\",\"gridwidth\":2,\"linecolor\":\"white\",\"showbackground\":true,\"ticks\":\"\",\"zerolinecolor\":\"white\"},\"yaxis\":{\"backgroundcolor\":\"#E5ECF6\",\"gridcolor\":\"white\",\"gridwidth\":2,\"linecolor\":\"white\",\"showbackground\":true,\"ticks\":\"\",\"zerolinecolor\":\"white\"},\"zaxis\":{\"backgroundcolor\":\"#E5ECF6\",\"gridcolor\":\"white\",\"gridwidth\":2,\"linecolor\":\"white\",\"showbackground\":true,\"ticks\":\"\",\"zerolinecolor\":\"white\"}},\"shapedefaults\":{\"line\":{\"color\":\"#2a3f5f\"}},\"ternary\":{\"aaxis\":{\"gridcolor\":\"white\",\"linecolor\":\"white\",\"ticks\":\"\"},\"baxis\":{\"gridcolor\":\"white\",\"linecolor\":\"white\",\"ticks\":\"\"},\"bgcolor\":\"#E5ECF6\",\"caxis\":{\"gridcolor\":\"white\",\"linecolor\":\"white\",\"ticks\":\"\"}},\"title\":{\"x\":0.05},\"xaxis\":{\"automargin\":true,\"gridcolor\":\"white\",\"linecolor\":\"white\",\"ticks\":\"\",\"title\":{\"standoff\":15},\"zerolinecolor\":\"white\",\"zerolinewidth\":2},\"yaxis\":{\"automargin\":true,\"gridcolor\":\"white\",\"linecolor\":\"white\",\"ticks\":\"\",\"title\":{\"standoff\":15},\"zerolinecolor\":\"white\",\"zerolinewidth\":2}}},\"xaxis\":{\"anchor\":\"y\",\"domain\":[0.0,1.0],\"title\":{\"text\":\"Establishmet type\"},\"categoryorder\":\"array\",\"categoryarray\":[\"Restaurant\",\"Fast Food\",\"Cafe\",\"Pizza\",\"Bar\",\"Bakery\"]},\"yaxis\":{\"anchor\":\"x\",\"domain\":[0.0,1.0],\"title\":{\"text\":\"Amount of establishments\"}},\"legend\":{\"title\":{\"text\":\"Establishmet type\"},\"tracegroupgap\":0},\"margin\":{\"t\":60},\"barmode\":\"relative\",\"height\":600,\"width\":990,\"title\":{\"font\":{\"size\":30},\"text\":\"Number of establishment types\"}},                        {\"responsive\": true}                    ).then(function(){\n",
              "                            \n",
              "var gd = document.getElementById('cdd9e313-107e-47a6-8a9d-12ac1f944f00');\n",
              "var x = new MutationObserver(function (mutations, observer) {{\n",
              "        var display = window.getComputedStyle(gd).display;\n",
              "        if (!display || display === 'none') {{\n",
              "            console.log([gd, 'removed!']);\n",
              "            Plotly.purge(gd);\n",
              "            observer.disconnect();\n",
              "        }}\n",
              "}});\n",
              "\n",
              "// Listen for the removal of the full notebook cells\n",
              "var notebookContainer = gd.closest('#notebook-container');\n",
              "if (notebookContainer) {{\n",
              "    x.observe(notebookContainer, {childList: true});\n",
              "}}\n",
              "\n",
              "// Listen for the clearing of the current output cell\n",
              "var outputEl = gd.closest('.output');\n",
              "if (outputEl) {{\n",
              "    x.observe(outputEl, {childList: true});\n",
              "}}\n",
              "\n",
              "                        })                };                            </script>        </div>\n",
              "</body>\n",
              "</html>"
            ]
          },
          "metadata": {}
        }
      ],
      "source": [
        "# Build the figure of the plot\n",
        "fig = px.bar(obj_types, x='object_type', y='n_objects', color='object_type',\n",
        "             width=990, height=600, \n",
        "             labels = {'object_type': 'Establishmet type', 'n_objects': 'Amount of establishments'}, text='n_objects')\n",
        "# Customize the text position \n",
        "fig.update_traces(textposition='outside')\n",
        "fig.update_layout(title_text=\"Number of establishment types\",\n",
        "                  title_font_size=30)\n",
        "# Add percentage to the legend\n",
        "for trace, percents in zip(fig.data, obj_types['percents']):\n",
        "    trace.name = trace.name.split('=')[0] + ' (' + percents + ')'\n",
        "fig.show()"
      ]
    },
    {
      "cell_type": "markdown",
      "metadata": {
        "id": "El5NzPuxYeci"
      },
      "source": [
        "As we can see the majority of the establishments are represented as restaurants with 75% share,\\n'\n",
        "'followed by fast food 11%, cafe 4.5%, pizza 3.3%, bars 3% and bakeries with 2.9%."
      ]
    },
    {
      "cell_type": "code",
      "execution_count": 20,
      "metadata": {
        "id": "QXhfqnjYYeci",
        "colab": {
          "base_uri": "https://localhost:8080/",
          "height": 542
        },
        "outputId": "d32e0f34-60b0-4128-bd2f-3bdc0271b0b1"
      },
      "outputs": [
        {
          "output_type": "display_data",
          "data": {
            "text/html": [
              "<html>\n",
              "<head><meta charset=\"utf-8\" /></head>\n",
              "<body>\n",
              "    <div>            <script src=\"https://cdnjs.cloudflare.com/ajax/libs/mathjax/2.7.5/MathJax.js?config=TeX-AMS-MML_SVG\"></script><script type=\"text/javascript\">if (window.MathJax) {MathJax.Hub.Config({SVG: {font: \"STIX-Web\"}});}</script>                <script type=\"text/javascript\">window.PlotlyConfig = {MathJaxConfig: 'local'};</script>\n",
              "        <script src=\"https://cdn.plot.ly/plotly-2.8.3.min.js\"></script>                <div id=\"77b0680b-715d-4e29-b07e-c0254da9dc1d\" class=\"plotly-graph-div\" style=\"height:525px; width:100%;\"></div>            <script type=\"text/javascript\">                                    window.PLOTLYENV=window.PLOTLYENV || {};                                    if (document.getElementById(\"77b0680b-715d-4e29-b07e-c0254da9dc1d\")) {                    Plotly.newPlot(                        \"77b0680b-715d-4e29-b07e-c0254da9dc1d\",                        [{\"labels\":[\"Restaurant\",\"Fast Food\",\"Cafe\",\"Pizza\",\"Bar\",\"Bakery\"],\"pull\":[0,0,0.2,0],\"textinfo\":\"label+percent\",\"values\":[7255,1066,435,320,292,283],\"type\":\"pie\",\"hoverinfo\":\"label+percent\"}],                        {\"template\":{\"data\":{\"bar\":[{\"error_x\":{\"color\":\"#2a3f5f\"},\"error_y\":{\"color\":\"#2a3f5f\"},\"marker\":{\"line\":{\"color\":\"#E5ECF6\",\"width\":0.5},\"pattern\":{\"fillmode\":\"overlay\",\"size\":10,\"solidity\":0.2}},\"type\":\"bar\"}],\"barpolar\":[{\"marker\":{\"line\":{\"color\":\"#E5ECF6\",\"width\":0.5},\"pattern\":{\"fillmode\":\"overlay\",\"size\":10,\"solidity\":0.2}},\"type\":\"barpolar\"}],\"carpet\":[{\"aaxis\":{\"endlinecolor\":\"#2a3f5f\",\"gridcolor\":\"white\",\"linecolor\":\"white\",\"minorgridcolor\":\"white\",\"startlinecolor\":\"#2a3f5f\"},\"baxis\":{\"endlinecolor\":\"#2a3f5f\",\"gridcolor\":\"white\",\"linecolor\":\"white\",\"minorgridcolor\":\"white\",\"startlinecolor\":\"#2a3f5f\"},\"type\":\"carpet\"}],\"choropleth\":[{\"colorbar\":{\"outlinewidth\":0,\"ticks\":\"\"},\"type\":\"choropleth\"}],\"contour\":[{\"colorbar\":{\"outlinewidth\":0,\"ticks\":\"\"},\"colorscale\":[[0.0,\"#0d0887\"],[0.1111111111111111,\"#46039f\"],[0.2222222222222222,\"#7201a8\"],[0.3333333333333333,\"#9c179e\"],[0.4444444444444444,\"#bd3786\"],[0.5555555555555556,\"#d8576b\"],[0.6666666666666666,\"#ed7953\"],[0.7777777777777778,\"#fb9f3a\"],[0.8888888888888888,\"#fdca26\"],[1.0,\"#f0f921\"]],\"type\":\"contour\"}],\"contourcarpet\":[{\"colorbar\":{\"outlinewidth\":0,\"ticks\":\"\"},\"type\":\"contourcarpet\"}],\"heatmap\":[{\"colorbar\":{\"outlinewidth\":0,\"ticks\":\"\"},\"colorscale\":[[0.0,\"#0d0887\"],[0.1111111111111111,\"#46039f\"],[0.2222222222222222,\"#7201a8\"],[0.3333333333333333,\"#9c179e\"],[0.4444444444444444,\"#bd3786\"],[0.5555555555555556,\"#d8576b\"],[0.6666666666666666,\"#ed7953\"],[0.7777777777777778,\"#fb9f3a\"],[0.8888888888888888,\"#fdca26\"],[1.0,\"#f0f921\"]],\"type\":\"heatmap\"}],\"heatmapgl\":[{\"colorbar\":{\"outlinewidth\":0,\"ticks\":\"\"},\"colorscale\":[[0.0,\"#0d0887\"],[0.1111111111111111,\"#46039f\"],[0.2222222222222222,\"#7201a8\"],[0.3333333333333333,\"#9c179e\"],[0.4444444444444444,\"#bd3786\"],[0.5555555555555556,\"#d8576b\"],[0.6666666666666666,\"#ed7953\"],[0.7777777777777778,\"#fb9f3a\"],[0.8888888888888888,\"#fdca26\"],[1.0,\"#f0f921\"]],\"type\":\"heatmapgl\"}],\"histogram\":[{\"marker\":{\"pattern\":{\"fillmode\":\"overlay\",\"size\":10,\"solidity\":0.2}},\"type\":\"histogram\"}],\"histogram2d\":[{\"colorbar\":{\"outlinewidth\":0,\"ticks\":\"\"},\"colorscale\":[[0.0,\"#0d0887\"],[0.1111111111111111,\"#46039f\"],[0.2222222222222222,\"#7201a8\"],[0.3333333333333333,\"#9c179e\"],[0.4444444444444444,\"#bd3786\"],[0.5555555555555556,\"#d8576b\"],[0.6666666666666666,\"#ed7953\"],[0.7777777777777778,\"#fb9f3a\"],[0.8888888888888888,\"#fdca26\"],[1.0,\"#f0f921\"]],\"type\":\"histogram2d\"}],\"histogram2dcontour\":[{\"colorbar\":{\"outlinewidth\":0,\"ticks\":\"\"},\"colorscale\":[[0.0,\"#0d0887\"],[0.1111111111111111,\"#46039f\"],[0.2222222222222222,\"#7201a8\"],[0.3333333333333333,\"#9c179e\"],[0.4444444444444444,\"#bd3786\"],[0.5555555555555556,\"#d8576b\"],[0.6666666666666666,\"#ed7953\"],[0.7777777777777778,\"#fb9f3a\"],[0.8888888888888888,\"#fdca26\"],[1.0,\"#f0f921\"]],\"type\":\"histogram2dcontour\"}],\"mesh3d\":[{\"colorbar\":{\"outlinewidth\":0,\"ticks\":\"\"},\"type\":\"mesh3d\"}],\"parcoords\":[{\"line\":{\"colorbar\":{\"outlinewidth\":0,\"ticks\":\"\"}},\"type\":\"parcoords\"}],\"pie\":[{\"automargin\":true,\"type\":\"pie\"}],\"scatter\":[{\"marker\":{\"colorbar\":{\"outlinewidth\":0,\"ticks\":\"\"}},\"type\":\"scatter\"}],\"scatter3d\":[{\"line\":{\"colorbar\":{\"outlinewidth\":0,\"ticks\":\"\"}},\"marker\":{\"colorbar\":{\"outlinewidth\":0,\"ticks\":\"\"}},\"type\":\"scatter3d\"}],\"scattercarpet\":[{\"marker\":{\"colorbar\":{\"outlinewidth\":0,\"ticks\":\"\"}},\"type\":\"scattercarpet\"}],\"scattergeo\":[{\"marker\":{\"colorbar\":{\"outlinewidth\":0,\"ticks\":\"\"}},\"type\":\"scattergeo\"}],\"scattergl\":[{\"marker\":{\"colorbar\":{\"outlinewidth\":0,\"ticks\":\"\"}},\"type\":\"scattergl\"}],\"scattermapbox\":[{\"marker\":{\"colorbar\":{\"outlinewidth\":0,\"ticks\":\"\"}},\"type\":\"scattermapbox\"}],\"scatterpolar\":[{\"marker\":{\"colorbar\":{\"outlinewidth\":0,\"ticks\":\"\"}},\"type\":\"scatterpolar\"}],\"scatterpolargl\":[{\"marker\":{\"colorbar\":{\"outlinewidth\":0,\"ticks\":\"\"}},\"type\":\"scatterpolargl\"}],\"scatterternary\":[{\"marker\":{\"colorbar\":{\"outlinewidth\":0,\"ticks\":\"\"}},\"type\":\"scatterternary\"}],\"surface\":[{\"colorbar\":{\"outlinewidth\":0,\"ticks\":\"\"},\"colorscale\":[[0.0,\"#0d0887\"],[0.1111111111111111,\"#46039f\"],[0.2222222222222222,\"#7201a8\"],[0.3333333333333333,\"#9c179e\"],[0.4444444444444444,\"#bd3786\"],[0.5555555555555556,\"#d8576b\"],[0.6666666666666666,\"#ed7953\"],[0.7777777777777778,\"#fb9f3a\"],[0.8888888888888888,\"#fdca26\"],[1.0,\"#f0f921\"]],\"type\":\"surface\"}],\"table\":[{\"cells\":{\"fill\":{\"color\":\"#EBF0F8\"},\"line\":{\"color\":\"white\"}},\"header\":{\"fill\":{\"color\":\"#C8D4E3\"},\"line\":{\"color\":\"white\"}},\"type\":\"table\"}]},\"layout\":{\"annotationdefaults\":{\"arrowcolor\":\"#2a3f5f\",\"arrowhead\":0,\"arrowwidth\":1},\"autotypenumbers\":\"strict\",\"coloraxis\":{\"colorbar\":{\"outlinewidth\":0,\"ticks\":\"\"}},\"colorscale\":{\"diverging\":[[0,\"#8e0152\"],[0.1,\"#c51b7d\"],[0.2,\"#de77ae\"],[0.3,\"#f1b6da\"],[0.4,\"#fde0ef\"],[0.5,\"#f7f7f7\"],[0.6,\"#e6f5d0\"],[0.7,\"#b8e186\"],[0.8,\"#7fbc41\"],[0.9,\"#4d9221\"],[1,\"#276419\"]],\"sequential\":[[0.0,\"#0d0887\"],[0.1111111111111111,\"#46039f\"],[0.2222222222222222,\"#7201a8\"],[0.3333333333333333,\"#9c179e\"],[0.4444444444444444,\"#bd3786\"],[0.5555555555555556,\"#d8576b\"],[0.6666666666666666,\"#ed7953\"],[0.7777777777777778,\"#fb9f3a\"],[0.8888888888888888,\"#fdca26\"],[1.0,\"#f0f921\"]],\"sequentialminus\":[[0.0,\"#0d0887\"],[0.1111111111111111,\"#46039f\"],[0.2222222222222222,\"#7201a8\"],[0.3333333333333333,\"#9c179e\"],[0.4444444444444444,\"#bd3786\"],[0.5555555555555556,\"#d8576b\"],[0.6666666666666666,\"#ed7953\"],[0.7777777777777778,\"#fb9f3a\"],[0.8888888888888888,\"#fdca26\"],[1.0,\"#f0f921\"]]},\"colorway\":[\"#636efa\",\"#EF553B\",\"#00cc96\",\"#ab63fa\",\"#FFA15A\",\"#19d3f3\",\"#FF6692\",\"#B6E880\",\"#FF97FF\",\"#FECB52\"],\"font\":{\"color\":\"#2a3f5f\"},\"geo\":{\"bgcolor\":\"white\",\"lakecolor\":\"white\",\"landcolor\":\"#E5ECF6\",\"showlakes\":true,\"showland\":true,\"subunitcolor\":\"white\"},\"hoverlabel\":{\"align\":\"left\"},\"hovermode\":\"closest\",\"mapbox\":{\"style\":\"light\"},\"paper_bgcolor\":\"white\",\"plot_bgcolor\":\"#E5ECF6\",\"polar\":{\"angularaxis\":{\"gridcolor\":\"white\",\"linecolor\":\"white\",\"ticks\":\"\"},\"bgcolor\":\"#E5ECF6\",\"radialaxis\":{\"gridcolor\":\"white\",\"linecolor\":\"white\",\"ticks\":\"\"}},\"scene\":{\"xaxis\":{\"backgroundcolor\":\"#E5ECF6\",\"gridcolor\":\"white\",\"gridwidth\":2,\"linecolor\":\"white\",\"showbackground\":true,\"ticks\":\"\",\"zerolinecolor\":\"white\"},\"yaxis\":{\"backgroundcolor\":\"#E5ECF6\",\"gridcolor\":\"white\",\"gridwidth\":2,\"linecolor\":\"white\",\"showbackground\":true,\"ticks\":\"\",\"zerolinecolor\":\"white\"},\"zaxis\":{\"backgroundcolor\":\"#E5ECF6\",\"gridcolor\":\"white\",\"gridwidth\":2,\"linecolor\":\"white\",\"showbackground\":true,\"ticks\":\"\",\"zerolinecolor\":\"white\"}},\"shapedefaults\":{\"line\":{\"color\":\"#2a3f5f\"}},\"ternary\":{\"aaxis\":{\"gridcolor\":\"white\",\"linecolor\":\"white\",\"ticks\":\"\"},\"baxis\":{\"gridcolor\":\"white\",\"linecolor\":\"white\",\"ticks\":\"\"},\"bgcolor\":\"#E5ECF6\",\"caxis\":{\"gridcolor\":\"white\",\"linecolor\":\"white\",\"ticks\":\"\"}},\"title\":{\"x\":0.05},\"xaxis\":{\"automargin\":true,\"gridcolor\":\"white\",\"linecolor\":\"white\",\"ticks\":\"\",\"title\":{\"standoff\":15},\"zerolinecolor\":\"white\",\"zerolinewidth\":2},\"yaxis\":{\"automargin\":true,\"gridcolor\":\"white\",\"linecolor\":\"white\",\"ticks\":\"\",\"title\":{\"standoff\":15},\"zerolinecolor\":\"white\",\"zerolinewidth\":2}}},\"title\":{\"font\":{\"size\":30},\"text\":\"The shares of types of establishments\"}},                        {\"responsive\": true}                    ).then(function(){\n",
              "                            \n",
              "var gd = document.getElementById('77b0680b-715d-4e29-b07e-c0254da9dc1d');\n",
              "var x = new MutationObserver(function (mutations, observer) {{\n",
              "        var display = window.getComputedStyle(gd).display;\n",
              "        if (!display || display === 'none') {{\n",
              "            console.log([gd, 'removed!']);\n",
              "            Plotly.purge(gd);\n",
              "            observer.disconnect();\n",
              "        }}\n",
              "}});\n",
              "\n",
              "// Listen for the removal of the full notebook cells\n",
              "var notebookContainer = gd.closest('#notebook-container');\n",
              "if (notebookContainer) {{\n",
              "    x.observe(notebookContainer, {childList: true});\n",
              "}}\n",
              "\n",
              "// Listen for the clearing of the current output cell\n",
              "var outputEl = gd.closest('.output');\n",
              "if (outputEl) {{\n",
              "    x.observe(outputEl, {childList: true});\n",
              "}}\n",
              "\n",
              "                        })                };                            </script>        </div>\n",
              "</body>\n",
              "</html>"
            ]
          },
          "metadata": {}
        }
      ],
      "source": [
        "fig = go.Figure(data=[go.Pie(labels=obj_types['object_type'], values=obj_types['n_objects'], \n",
        "                             textinfo='label+percent', \n",
        "                             pull=[0, 0, 0.2, 0])])\n",
        "\n",
        "fig.update_traces(hoverinfo='label+percent')\n",
        "fig.update_layout(title_text=\"The shares of types of establishments\",\n",
        "                  title_font_size=30)\n",
        "fig.show()"
      ]
    },
    {
      "cell_type": "markdown",
      "metadata": {
        "id": "SQQ1ywThYecj"
      },
      "source": [
        "An alternative view on the same share distribution"
      ]
    },
    {
      "cell_type": "markdown",
      "metadata": {
        "id": "byafGAbHYecj"
      },
      "source": [
        "[**Investigate the proportions of chain and nonchain establishments. Plot a graph.**](#2.2)"
      ]
    },
    {
      "cell_type": "code",
      "execution_count": 21,
      "metadata": {
        "id": "cnNrrSAyYecj",
        "colab": {
          "base_uri": "https://localhost:8080/",
          "height": 542
        },
        "outputId": "7dedad87-dbf8-4dde-9e78-b9dfa761bc34"
      },
      "outputs": [
        {
          "output_type": "display_data",
          "data": {
            "text/html": [
              "<html>\n",
              "<head><meta charset=\"utf-8\" /></head>\n",
              "<body>\n",
              "    <div>            <script src=\"https://cdnjs.cloudflare.com/ajax/libs/mathjax/2.7.5/MathJax.js?config=TeX-AMS-MML_SVG\"></script><script type=\"text/javascript\">if (window.MathJax) {MathJax.Hub.Config({SVG: {font: \"STIX-Web\"}});}</script>                <script type=\"text/javascript\">window.PlotlyConfig = {MathJaxConfig: 'local'};</script>\n",
              "        <script src=\"https://cdn.plot.ly/plotly-2.8.3.min.js\"></script>                <div id=\"e84f6336-d95f-45e7-adc5-7d324850cc30\" class=\"plotly-graph-div\" style=\"height:525px; width:100%;\"></div>            <script type=\"text/javascript\">                                    window.PLOTLYENV=window.PLOTLYENV || {};                                    if (document.getElementById(\"e84f6336-d95f-45e7-adc5-7d324850cc30\")) {                    Plotly.newPlot(                        \"e84f6336-d95f-45e7-adc5-7d324850cc30\",                        [{\"labels\":[\"Non chain\",\"Chain\"],\"values\":[5972,3679],\"type\":\"pie\"}],                        {\"template\":{\"data\":{\"bar\":[{\"error_x\":{\"color\":\"#2a3f5f\"},\"error_y\":{\"color\":\"#2a3f5f\"},\"marker\":{\"line\":{\"color\":\"#E5ECF6\",\"width\":0.5},\"pattern\":{\"fillmode\":\"overlay\",\"size\":10,\"solidity\":0.2}},\"type\":\"bar\"}],\"barpolar\":[{\"marker\":{\"line\":{\"color\":\"#E5ECF6\",\"width\":0.5},\"pattern\":{\"fillmode\":\"overlay\",\"size\":10,\"solidity\":0.2}},\"type\":\"barpolar\"}],\"carpet\":[{\"aaxis\":{\"endlinecolor\":\"#2a3f5f\",\"gridcolor\":\"white\",\"linecolor\":\"white\",\"minorgridcolor\":\"white\",\"startlinecolor\":\"#2a3f5f\"},\"baxis\":{\"endlinecolor\":\"#2a3f5f\",\"gridcolor\":\"white\",\"linecolor\":\"white\",\"minorgridcolor\":\"white\",\"startlinecolor\":\"#2a3f5f\"},\"type\":\"carpet\"}],\"choropleth\":[{\"colorbar\":{\"outlinewidth\":0,\"ticks\":\"\"},\"type\":\"choropleth\"}],\"contour\":[{\"colorbar\":{\"outlinewidth\":0,\"ticks\":\"\"},\"colorscale\":[[0.0,\"#0d0887\"],[0.1111111111111111,\"#46039f\"],[0.2222222222222222,\"#7201a8\"],[0.3333333333333333,\"#9c179e\"],[0.4444444444444444,\"#bd3786\"],[0.5555555555555556,\"#d8576b\"],[0.6666666666666666,\"#ed7953\"],[0.7777777777777778,\"#fb9f3a\"],[0.8888888888888888,\"#fdca26\"],[1.0,\"#f0f921\"]],\"type\":\"contour\"}],\"contourcarpet\":[{\"colorbar\":{\"outlinewidth\":0,\"ticks\":\"\"},\"type\":\"contourcarpet\"}],\"heatmap\":[{\"colorbar\":{\"outlinewidth\":0,\"ticks\":\"\"},\"colorscale\":[[0.0,\"#0d0887\"],[0.1111111111111111,\"#46039f\"],[0.2222222222222222,\"#7201a8\"],[0.3333333333333333,\"#9c179e\"],[0.4444444444444444,\"#bd3786\"],[0.5555555555555556,\"#d8576b\"],[0.6666666666666666,\"#ed7953\"],[0.7777777777777778,\"#fb9f3a\"],[0.8888888888888888,\"#fdca26\"],[1.0,\"#f0f921\"]],\"type\":\"heatmap\"}],\"heatmapgl\":[{\"colorbar\":{\"outlinewidth\":0,\"ticks\":\"\"},\"colorscale\":[[0.0,\"#0d0887\"],[0.1111111111111111,\"#46039f\"],[0.2222222222222222,\"#7201a8\"],[0.3333333333333333,\"#9c179e\"],[0.4444444444444444,\"#bd3786\"],[0.5555555555555556,\"#d8576b\"],[0.6666666666666666,\"#ed7953\"],[0.7777777777777778,\"#fb9f3a\"],[0.8888888888888888,\"#fdca26\"],[1.0,\"#f0f921\"]],\"type\":\"heatmapgl\"}],\"histogram\":[{\"marker\":{\"pattern\":{\"fillmode\":\"overlay\",\"size\":10,\"solidity\":0.2}},\"type\":\"histogram\"}],\"histogram2d\":[{\"colorbar\":{\"outlinewidth\":0,\"ticks\":\"\"},\"colorscale\":[[0.0,\"#0d0887\"],[0.1111111111111111,\"#46039f\"],[0.2222222222222222,\"#7201a8\"],[0.3333333333333333,\"#9c179e\"],[0.4444444444444444,\"#bd3786\"],[0.5555555555555556,\"#d8576b\"],[0.6666666666666666,\"#ed7953\"],[0.7777777777777778,\"#fb9f3a\"],[0.8888888888888888,\"#fdca26\"],[1.0,\"#f0f921\"]],\"type\":\"histogram2d\"}],\"histogram2dcontour\":[{\"colorbar\":{\"outlinewidth\":0,\"ticks\":\"\"},\"colorscale\":[[0.0,\"#0d0887\"],[0.1111111111111111,\"#46039f\"],[0.2222222222222222,\"#7201a8\"],[0.3333333333333333,\"#9c179e\"],[0.4444444444444444,\"#bd3786\"],[0.5555555555555556,\"#d8576b\"],[0.6666666666666666,\"#ed7953\"],[0.7777777777777778,\"#fb9f3a\"],[0.8888888888888888,\"#fdca26\"],[1.0,\"#f0f921\"]],\"type\":\"histogram2dcontour\"}],\"mesh3d\":[{\"colorbar\":{\"outlinewidth\":0,\"ticks\":\"\"},\"type\":\"mesh3d\"}],\"parcoords\":[{\"line\":{\"colorbar\":{\"outlinewidth\":0,\"ticks\":\"\"}},\"type\":\"parcoords\"}],\"pie\":[{\"automargin\":true,\"type\":\"pie\"}],\"scatter\":[{\"marker\":{\"colorbar\":{\"outlinewidth\":0,\"ticks\":\"\"}},\"type\":\"scatter\"}],\"scatter3d\":[{\"line\":{\"colorbar\":{\"outlinewidth\":0,\"ticks\":\"\"}},\"marker\":{\"colorbar\":{\"outlinewidth\":0,\"ticks\":\"\"}},\"type\":\"scatter3d\"}],\"scattercarpet\":[{\"marker\":{\"colorbar\":{\"outlinewidth\":0,\"ticks\":\"\"}},\"type\":\"scattercarpet\"}],\"scattergeo\":[{\"marker\":{\"colorbar\":{\"outlinewidth\":0,\"ticks\":\"\"}},\"type\":\"scattergeo\"}],\"scattergl\":[{\"marker\":{\"colorbar\":{\"outlinewidth\":0,\"ticks\":\"\"}},\"type\":\"scattergl\"}],\"scattermapbox\":[{\"marker\":{\"colorbar\":{\"outlinewidth\":0,\"ticks\":\"\"}},\"type\":\"scattermapbox\"}],\"scatterpolar\":[{\"marker\":{\"colorbar\":{\"outlinewidth\":0,\"ticks\":\"\"}},\"type\":\"scatterpolar\"}],\"scatterpolargl\":[{\"marker\":{\"colorbar\":{\"outlinewidth\":0,\"ticks\":\"\"}},\"type\":\"scatterpolargl\"}],\"scatterternary\":[{\"marker\":{\"colorbar\":{\"outlinewidth\":0,\"ticks\":\"\"}},\"type\":\"scatterternary\"}],\"surface\":[{\"colorbar\":{\"outlinewidth\":0,\"ticks\":\"\"},\"colorscale\":[[0.0,\"#0d0887\"],[0.1111111111111111,\"#46039f\"],[0.2222222222222222,\"#7201a8\"],[0.3333333333333333,\"#9c179e\"],[0.4444444444444444,\"#bd3786\"],[0.5555555555555556,\"#d8576b\"],[0.6666666666666666,\"#ed7953\"],[0.7777777777777778,\"#fb9f3a\"],[0.8888888888888888,\"#fdca26\"],[1.0,\"#f0f921\"]],\"type\":\"surface\"}],\"table\":[{\"cells\":{\"fill\":{\"color\":\"#EBF0F8\"},\"line\":{\"color\":\"white\"}},\"header\":{\"fill\":{\"color\":\"#C8D4E3\"},\"line\":{\"color\":\"white\"}},\"type\":\"table\"}]},\"layout\":{\"annotationdefaults\":{\"arrowcolor\":\"#2a3f5f\",\"arrowhead\":0,\"arrowwidth\":1},\"autotypenumbers\":\"strict\",\"coloraxis\":{\"colorbar\":{\"outlinewidth\":0,\"ticks\":\"\"}},\"colorscale\":{\"diverging\":[[0,\"#8e0152\"],[0.1,\"#c51b7d\"],[0.2,\"#de77ae\"],[0.3,\"#f1b6da\"],[0.4,\"#fde0ef\"],[0.5,\"#f7f7f7\"],[0.6,\"#e6f5d0\"],[0.7,\"#b8e186\"],[0.8,\"#7fbc41\"],[0.9,\"#4d9221\"],[1,\"#276419\"]],\"sequential\":[[0.0,\"#0d0887\"],[0.1111111111111111,\"#46039f\"],[0.2222222222222222,\"#7201a8\"],[0.3333333333333333,\"#9c179e\"],[0.4444444444444444,\"#bd3786\"],[0.5555555555555556,\"#d8576b\"],[0.6666666666666666,\"#ed7953\"],[0.7777777777777778,\"#fb9f3a\"],[0.8888888888888888,\"#fdca26\"],[1.0,\"#f0f921\"]],\"sequentialminus\":[[0.0,\"#0d0887\"],[0.1111111111111111,\"#46039f\"],[0.2222222222222222,\"#7201a8\"],[0.3333333333333333,\"#9c179e\"],[0.4444444444444444,\"#bd3786\"],[0.5555555555555556,\"#d8576b\"],[0.6666666666666666,\"#ed7953\"],[0.7777777777777778,\"#fb9f3a\"],[0.8888888888888888,\"#fdca26\"],[1.0,\"#f0f921\"]]},\"colorway\":[\"#636efa\",\"#EF553B\",\"#00cc96\",\"#ab63fa\",\"#FFA15A\",\"#19d3f3\",\"#FF6692\",\"#B6E880\",\"#FF97FF\",\"#FECB52\"],\"font\":{\"color\":\"#2a3f5f\"},\"geo\":{\"bgcolor\":\"white\",\"lakecolor\":\"white\",\"landcolor\":\"#E5ECF6\",\"showlakes\":true,\"showland\":true,\"subunitcolor\":\"white\"},\"hoverlabel\":{\"align\":\"left\"},\"hovermode\":\"closest\",\"mapbox\":{\"style\":\"light\"},\"paper_bgcolor\":\"white\",\"plot_bgcolor\":\"#E5ECF6\",\"polar\":{\"angularaxis\":{\"gridcolor\":\"white\",\"linecolor\":\"white\",\"ticks\":\"\"},\"bgcolor\":\"#E5ECF6\",\"radialaxis\":{\"gridcolor\":\"white\",\"linecolor\":\"white\",\"ticks\":\"\"}},\"scene\":{\"xaxis\":{\"backgroundcolor\":\"#E5ECF6\",\"gridcolor\":\"white\",\"gridwidth\":2,\"linecolor\":\"white\",\"showbackground\":true,\"ticks\":\"\",\"zerolinecolor\":\"white\"},\"yaxis\":{\"backgroundcolor\":\"#E5ECF6\",\"gridcolor\":\"white\",\"gridwidth\":2,\"linecolor\":\"white\",\"showbackground\":true,\"ticks\":\"\",\"zerolinecolor\":\"white\"},\"zaxis\":{\"backgroundcolor\":\"#E5ECF6\",\"gridcolor\":\"white\",\"gridwidth\":2,\"linecolor\":\"white\",\"showbackground\":true,\"ticks\":\"\",\"zerolinecolor\":\"white\"}},\"shapedefaults\":{\"line\":{\"color\":\"#2a3f5f\"}},\"ternary\":{\"aaxis\":{\"gridcolor\":\"white\",\"linecolor\":\"white\",\"ticks\":\"\"},\"baxis\":{\"gridcolor\":\"white\",\"linecolor\":\"white\",\"ticks\":\"\"},\"bgcolor\":\"#E5ECF6\",\"caxis\":{\"gridcolor\":\"white\",\"linecolor\":\"white\",\"ticks\":\"\"}},\"title\":{\"x\":0.05},\"xaxis\":{\"automargin\":true,\"gridcolor\":\"white\",\"linecolor\":\"white\",\"ticks\":\"\",\"title\":{\"standoff\":15},\"zerolinecolor\":\"white\",\"zerolinewidth\":2},\"yaxis\":{\"automargin\":true,\"gridcolor\":\"white\",\"linecolor\":\"white\",\"ticks\":\"\",\"title\":{\"standoff\":15},\"zerolinecolor\":\"white\",\"zerolinewidth\":2}}},\"title\":{\"text\":\"Chain and nonchain establishments ratio\",\"y\":0.9,\"x\":0.48}},                        {\"responsive\": true}                    ).then(function(){\n",
              "                            \n",
              "var gd = document.getElementById('e84f6336-d95f-45e7-adc5-7d324850cc30');\n",
              "var x = new MutationObserver(function (mutations, observer) {{\n",
              "        var display = window.getComputedStyle(gd).display;\n",
              "        if (!display || display === 'none') {{\n",
              "            console.log([gd, 'removed!']);\n",
              "            Plotly.purge(gd);\n",
              "            observer.disconnect();\n",
              "        }}\n",
              "}});\n",
              "\n",
              "// Listen for the removal of the full notebook cells\n",
              "var notebookContainer = gd.closest('#notebook-container');\n",
              "if (notebookContainer) {{\n",
              "    x.observe(notebookContainer, {childList: true});\n",
              "}}\n",
              "\n",
              "// Listen for the clearing of the current output cell\n",
              "var outputEl = gd.closest('.output');\n",
              "if (outputEl) {{\n",
              "    x.observe(outputEl, {childList: true});\n",
              "}}\n",
              "\n",
              "                        })                };                            </script>        </div>\n",
              "</body>\n",
              "</html>"
            ]
          },
          "metadata": {}
        }
      ],
      "source": [
        "fig = go.Figure(data=go.Pie(labels=rest_data['chain'].value_counts().reset_index()['index'], \n",
        "                            values=rest_data['chain'].value_counts()))\n",
        "fig.update_layout(\n",
        "    title={\n",
        "        'text':'Chain and nonchain establishments ratio',\n",
        "        'y':0.9,\n",
        "        'x':0.48})\n",
        "\n",
        "for trace in fig.data:\n",
        "    trace['labels']=['Non chain', 'Chain']\n",
        "fig.show()"
      ]
    },
    {
      "cell_type": "markdown",
      "metadata": {
        "id": "jv0Tun-oYecj"
      },
      "source": [
        "The chain establishments take 38% of the market, rest of them are nonchain. Lets' make this comparison a little bit more detailed, and check the differnce in amounts of chain and nonchain establishment types."
      ]
    },
    {
      "cell_type": "code",
      "execution_count": 22,
      "metadata": {
        "id": "J3DkhTHcYecj",
        "colab": {
          "base_uri": "https://localhost:8080/",
          "height": 206
        },
        "outputId": "bce78877-6be2-4f11-88ec-01146f831fa6"
      },
      "outputs": [
        {
          "output_type": "execute_result",
          "data": {
            "text/plain": [
              "  object_type  chain   id  object_name  address  number\n",
              "0      Bakery   True  283          283      283     283\n",
              "1         Bar  False  215          215      215     215\n",
              "2         Bar   True   77           77       77      77\n",
              "3        Cafe  False  169          169      169     169\n",
              "4        Cafe   True  266          266      266     266"
            ],
            "text/html": [
              "\n",
              "  <div id=\"df-b7cad2eb-2441-4833-ada7-e2381023f984\">\n",
              "    <div class=\"colab-df-container\">\n",
              "      <div>\n",
              "<style scoped>\n",
              "    .dataframe tbody tr th:only-of-type {\n",
              "        vertical-align: middle;\n",
              "    }\n",
              "\n",
              "    .dataframe tbody tr th {\n",
              "        vertical-align: top;\n",
              "    }\n",
              "\n",
              "    .dataframe thead th {\n",
              "        text-align: right;\n",
              "    }\n",
              "</style>\n",
              "<table border=\"1\" class=\"dataframe\">\n",
              "  <thead>\n",
              "    <tr style=\"text-align: right;\">\n",
              "      <th></th>\n",
              "      <th>object_type</th>\n",
              "      <th>chain</th>\n",
              "      <th>id</th>\n",
              "      <th>object_name</th>\n",
              "      <th>address</th>\n",
              "      <th>number</th>\n",
              "    </tr>\n",
              "  </thead>\n",
              "  <tbody>\n",
              "    <tr>\n",
              "      <th>0</th>\n",
              "      <td>Bakery</td>\n",
              "      <td>True</td>\n",
              "      <td>283</td>\n",
              "      <td>283</td>\n",
              "      <td>283</td>\n",
              "      <td>283</td>\n",
              "    </tr>\n",
              "    <tr>\n",
              "      <th>1</th>\n",
              "      <td>Bar</td>\n",
              "      <td>False</td>\n",
              "      <td>215</td>\n",
              "      <td>215</td>\n",
              "      <td>215</td>\n",
              "      <td>215</td>\n",
              "    </tr>\n",
              "    <tr>\n",
              "      <th>2</th>\n",
              "      <td>Bar</td>\n",
              "      <td>True</td>\n",
              "      <td>77</td>\n",
              "      <td>77</td>\n",
              "      <td>77</td>\n",
              "      <td>77</td>\n",
              "    </tr>\n",
              "    <tr>\n",
              "      <th>3</th>\n",
              "      <td>Cafe</td>\n",
              "      <td>False</td>\n",
              "      <td>169</td>\n",
              "      <td>169</td>\n",
              "      <td>169</td>\n",
              "      <td>169</td>\n",
              "    </tr>\n",
              "    <tr>\n",
              "      <th>4</th>\n",
              "      <td>Cafe</td>\n",
              "      <td>True</td>\n",
              "      <td>266</td>\n",
              "      <td>266</td>\n",
              "      <td>266</td>\n",
              "      <td>266</td>\n",
              "    </tr>\n",
              "  </tbody>\n",
              "</table>\n",
              "</div>\n",
              "      <button class=\"colab-df-convert\" onclick=\"convertToInteractive('df-b7cad2eb-2441-4833-ada7-e2381023f984')\"\n",
              "              title=\"Convert this dataframe to an interactive table.\"\n",
              "              style=\"display:none;\">\n",
              "        \n",
              "  <svg xmlns=\"http://www.w3.org/2000/svg\" height=\"24px\"viewBox=\"0 0 24 24\"\n",
              "       width=\"24px\">\n",
              "    <path d=\"M0 0h24v24H0V0z\" fill=\"none\"/>\n",
              "    <path d=\"M18.56 5.44l.94 2.06.94-2.06 2.06-.94-2.06-.94-.94-2.06-.94 2.06-2.06.94zm-11 1L8.5 8.5l.94-2.06 2.06-.94-2.06-.94L8.5 2.5l-.94 2.06-2.06.94zm10 10l.94 2.06.94-2.06 2.06-.94-2.06-.94-.94-2.06-.94 2.06-2.06.94z\"/><path d=\"M17.41 7.96l-1.37-1.37c-.4-.4-.92-.59-1.43-.59-.52 0-1.04.2-1.43.59L10.3 9.45l-7.72 7.72c-.78.78-.78 2.05 0 2.83L4 21.41c.39.39.9.59 1.41.59.51 0 1.02-.2 1.41-.59l7.78-7.78 2.81-2.81c.8-.78.8-2.07 0-2.86zM5.41 20L4 18.59l7.72-7.72 1.47 1.35L5.41 20z\"/>\n",
              "  </svg>\n",
              "      </button>\n",
              "      \n",
              "  <style>\n",
              "    .colab-df-container {\n",
              "      display:flex;\n",
              "      flex-wrap:wrap;\n",
              "      gap: 12px;\n",
              "    }\n",
              "\n",
              "    .colab-df-convert {\n",
              "      background-color: #E8F0FE;\n",
              "      border: none;\n",
              "      border-radius: 50%;\n",
              "      cursor: pointer;\n",
              "      display: none;\n",
              "      fill: #1967D2;\n",
              "      height: 32px;\n",
              "      padding: 0 0 0 0;\n",
              "      width: 32px;\n",
              "    }\n",
              "\n",
              "    .colab-df-convert:hover {\n",
              "      background-color: #E2EBFA;\n",
              "      box-shadow: 0px 1px 2px rgba(60, 64, 67, 0.3), 0px 1px 3px 1px rgba(60, 64, 67, 0.15);\n",
              "      fill: #174EA6;\n",
              "    }\n",
              "\n",
              "    [theme=dark] .colab-df-convert {\n",
              "      background-color: #3B4455;\n",
              "      fill: #D2E3FC;\n",
              "    }\n",
              "\n",
              "    [theme=dark] .colab-df-convert:hover {\n",
              "      background-color: #434B5C;\n",
              "      box-shadow: 0px 1px 3px 1px rgba(0, 0, 0, 0.15);\n",
              "      filter: drop-shadow(0px 1px 2px rgba(0, 0, 0, 0.3));\n",
              "      fill: #FFFFFF;\n",
              "    }\n",
              "  </style>\n",
              "\n",
              "      <script>\n",
              "        const buttonEl =\n",
              "          document.querySelector('#df-b7cad2eb-2441-4833-ada7-e2381023f984 button.colab-df-convert');\n",
              "        buttonEl.style.display =\n",
              "          google.colab.kernel.accessAllowed ? 'block' : 'none';\n",
              "\n",
              "        async function convertToInteractive(key) {\n",
              "          const element = document.querySelector('#df-b7cad2eb-2441-4833-ada7-e2381023f984');\n",
              "          const dataTable =\n",
              "            await google.colab.kernel.invokeFunction('convertToInteractive',\n",
              "                                                     [key], {});\n",
              "          if (!dataTable) return;\n",
              "\n",
              "          const docLinkHtml = 'Like what you see? Visit the ' +\n",
              "            '<a target=\"_blank\" href=https://colab.research.google.com/notebooks/data_table.ipynb>data table notebook</a>'\n",
              "            + ' to learn more about interactive tables.';\n",
              "          element.innerHTML = '';\n",
              "          dataTable['output_type'] = 'display_data';\n",
              "          await google.colab.output.renderOutput(dataTable, element);\n",
              "          const docLink = document.createElement('div');\n",
              "          docLink.innerHTML = docLinkHtml;\n",
              "          element.appendChild(docLink);\n",
              "        }\n",
              "      </script>\n",
              "    </div>\n",
              "  </div>\n",
              "  "
            ]
          },
          "metadata": {},
          "execution_count": 22
        }
      ],
      "source": [
        "group_data = rest_data.groupby(['object_type', 'chain'], as_index=False).count()\n",
        "group_data.head()"
      ]
    },
    {
      "cell_type": "code",
      "execution_count": 23,
      "metadata": {
        "id": "TEiXQoEbYeck",
        "colab": {
          "base_uri": "https://localhost:8080/",
          "height": 617
        },
        "outputId": "c867c9d7-0cab-41e7-f7b4-82bb236c94d7"
      },
      "outputs": [
        {
          "output_type": "display_data",
          "data": {
            "text/html": [
              "<html>\n",
              "<head><meta charset=\"utf-8\" /></head>\n",
              "<body>\n",
              "    <div>            <script src=\"https://cdnjs.cloudflare.com/ajax/libs/mathjax/2.7.5/MathJax.js?config=TeX-AMS-MML_SVG\"></script><script type=\"text/javascript\">if (window.MathJax) {MathJax.Hub.Config({SVG: {font: \"STIX-Web\"}});}</script>                <script type=\"text/javascript\">window.PlotlyConfig = {MathJaxConfig: 'local'};</script>\n",
              "        <script src=\"https://cdn.plot.ly/plotly-2.8.3.min.js\"></script>                <div id=\"b8477d4d-5f63-4e6d-aed4-3f2b30f36823\" class=\"plotly-graph-div\" style=\"height:600px; width:990px;\"></div>            <script type=\"text/javascript\">                                    window.PLOTLYENV=window.PLOTLYENV || {};                                    if (document.getElementById(\"b8477d4d-5f63-4e6d-aed4-3f2b30f36823\")) {                    Plotly.newPlot(                        \"b8477d4d-5f63-4e6d-aed4-3f2b30f36823\",                        [{\"alignmentgroup\":\"True\",\"bingroup\":\"y\",\"histfunc\":\"sum\",\"hovertemplate\":\"chain=True<br>sum of establishments=%{x}<br>=%{y}<extra></extra>\",\"legendgroup\":\"True\",\"marker\":{\"color\":\"#636efa\",\"pattern\":{\"shape\":\"\"}},\"name\":\"True\",\"offsetgroup\":\"True\",\"orientation\":\"h\",\"showlegend\":true,\"x\":[283,77,266,605,154,2294],\"xaxis\":\"x\",\"y\":[\"Bakery\",\"Bar\",\"Cafe\",\"Fast Food\",\"Pizza\",\"Restaurant\"],\"yaxis\":\"y\",\"type\":\"histogram\"},{\"alignmentgroup\":\"True\",\"bingroup\":\"y\",\"histfunc\":\"sum\",\"hovertemplate\":\"chain=False<br>sum of establishments=%{x}<br>=%{y}<extra></extra>\",\"legendgroup\":\"False\",\"marker\":{\"color\":\"#EF553B\",\"pattern\":{\"shape\":\"\"}},\"name\":\"False\",\"offsetgroup\":\"False\",\"orientation\":\"h\",\"showlegend\":true,\"x\":[215,169,461,166,4961],\"xaxis\":\"x\",\"y\":[\"Bar\",\"Cafe\",\"Fast Food\",\"Pizza\",\"Restaurant\"],\"yaxis\":\"y\",\"type\":\"histogram\"}],                        {\"template\":{\"data\":{\"bar\":[{\"error_x\":{\"color\":\"#2a3f5f\"},\"error_y\":{\"color\":\"#2a3f5f\"},\"marker\":{\"line\":{\"color\":\"#E5ECF6\",\"width\":0.5},\"pattern\":{\"fillmode\":\"overlay\",\"size\":10,\"solidity\":0.2}},\"type\":\"bar\"}],\"barpolar\":[{\"marker\":{\"line\":{\"color\":\"#E5ECF6\",\"width\":0.5},\"pattern\":{\"fillmode\":\"overlay\",\"size\":10,\"solidity\":0.2}},\"type\":\"barpolar\"}],\"carpet\":[{\"aaxis\":{\"endlinecolor\":\"#2a3f5f\",\"gridcolor\":\"white\",\"linecolor\":\"white\",\"minorgridcolor\":\"white\",\"startlinecolor\":\"#2a3f5f\"},\"baxis\":{\"endlinecolor\":\"#2a3f5f\",\"gridcolor\":\"white\",\"linecolor\":\"white\",\"minorgridcolor\":\"white\",\"startlinecolor\":\"#2a3f5f\"},\"type\":\"carpet\"}],\"choropleth\":[{\"colorbar\":{\"outlinewidth\":0,\"ticks\":\"\"},\"type\":\"choropleth\"}],\"contour\":[{\"colorbar\":{\"outlinewidth\":0,\"ticks\":\"\"},\"colorscale\":[[0.0,\"#0d0887\"],[0.1111111111111111,\"#46039f\"],[0.2222222222222222,\"#7201a8\"],[0.3333333333333333,\"#9c179e\"],[0.4444444444444444,\"#bd3786\"],[0.5555555555555556,\"#d8576b\"],[0.6666666666666666,\"#ed7953\"],[0.7777777777777778,\"#fb9f3a\"],[0.8888888888888888,\"#fdca26\"],[1.0,\"#f0f921\"]],\"type\":\"contour\"}],\"contourcarpet\":[{\"colorbar\":{\"outlinewidth\":0,\"ticks\":\"\"},\"type\":\"contourcarpet\"}],\"heatmap\":[{\"colorbar\":{\"outlinewidth\":0,\"ticks\":\"\"},\"colorscale\":[[0.0,\"#0d0887\"],[0.1111111111111111,\"#46039f\"],[0.2222222222222222,\"#7201a8\"],[0.3333333333333333,\"#9c179e\"],[0.4444444444444444,\"#bd3786\"],[0.5555555555555556,\"#d8576b\"],[0.6666666666666666,\"#ed7953\"],[0.7777777777777778,\"#fb9f3a\"],[0.8888888888888888,\"#fdca26\"],[1.0,\"#f0f921\"]],\"type\":\"heatmap\"}],\"heatmapgl\":[{\"colorbar\":{\"outlinewidth\":0,\"ticks\":\"\"},\"colorscale\":[[0.0,\"#0d0887\"],[0.1111111111111111,\"#46039f\"],[0.2222222222222222,\"#7201a8\"],[0.3333333333333333,\"#9c179e\"],[0.4444444444444444,\"#bd3786\"],[0.5555555555555556,\"#d8576b\"],[0.6666666666666666,\"#ed7953\"],[0.7777777777777778,\"#fb9f3a\"],[0.8888888888888888,\"#fdca26\"],[1.0,\"#f0f921\"]],\"type\":\"heatmapgl\"}],\"histogram\":[{\"marker\":{\"pattern\":{\"fillmode\":\"overlay\",\"size\":10,\"solidity\":0.2}},\"type\":\"histogram\"}],\"histogram2d\":[{\"colorbar\":{\"outlinewidth\":0,\"ticks\":\"\"},\"colorscale\":[[0.0,\"#0d0887\"],[0.1111111111111111,\"#46039f\"],[0.2222222222222222,\"#7201a8\"],[0.3333333333333333,\"#9c179e\"],[0.4444444444444444,\"#bd3786\"],[0.5555555555555556,\"#d8576b\"],[0.6666666666666666,\"#ed7953\"],[0.7777777777777778,\"#fb9f3a\"],[0.8888888888888888,\"#fdca26\"],[1.0,\"#f0f921\"]],\"type\":\"histogram2d\"}],\"histogram2dcontour\":[{\"colorbar\":{\"outlinewidth\":0,\"ticks\":\"\"},\"colorscale\":[[0.0,\"#0d0887\"],[0.1111111111111111,\"#46039f\"],[0.2222222222222222,\"#7201a8\"],[0.3333333333333333,\"#9c179e\"],[0.4444444444444444,\"#bd3786\"],[0.5555555555555556,\"#d8576b\"],[0.6666666666666666,\"#ed7953\"],[0.7777777777777778,\"#fb9f3a\"],[0.8888888888888888,\"#fdca26\"],[1.0,\"#f0f921\"]],\"type\":\"histogram2dcontour\"}],\"mesh3d\":[{\"colorbar\":{\"outlinewidth\":0,\"ticks\":\"\"},\"type\":\"mesh3d\"}],\"parcoords\":[{\"line\":{\"colorbar\":{\"outlinewidth\":0,\"ticks\":\"\"}},\"type\":\"parcoords\"}],\"pie\":[{\"automargin\":true,\"type\":\"pie\"}],\"scatter\":[{\"marker\":{\"colorbar\":{\"outlinewidth\":0,\"ticks\":\"\"}},\"type\":\"scatter\"}],\"scatter3d\":[{\"line\":{\"colorbar\":{\"outlinewidth\":0,\"ticks\":\"\"}},\"marker\":{\"colorbar\":{\"outlinewidth\":0,\"ticks\":\"\"}},\"type\":\"scatter3d\"}],\"scattercarpet\":[{\"marker\":{\"colorbar\":{\"outlinewidth\":0,\"ticks\":\"\"}},\"type\":\"scattercarpet\"}],\"scattergeo\":[{\"marker\":{\"colorbar\":{\"outlinewidth\":0,\"ticks\":\"\"}},\"type\":\"scattergeo\"}],\"scattergl\":[{\"marker\":{\"colorbar\":{\"outlinewidth\":0,\"ticks\":\"\"}},\"type\":\"scattergl\"}],\"scattermapbox\":[{\"marker\":{\"colorbar\":{\"outlinewidth\":0,\"ticks\":\"\"}},\"type\":\"scattermapbox\"}],\"scatterpolar\":[{\"marker\":{\"colorbar\":{\"outlinewidth\":0,\"ticks\":\"\"}},\"type\":\"scatterpolar\"}],\"scatterpolargl\":[{\"marker\":{\"colorbar\":{\"outlinewidth\":0,\"ticks\":\"\"}},\"type\":\"scatterpolargl\"}],\"scatterternary\":[{\"marker\":{\"colorbar\":{\"outlinewidth\":0,\"ticks\":\"\"}},\"type\":\"scatterternary\"}],\"surface\":[{\"colorbar\":{\"outlinewidth\":0,\"ticks\":\"\"},\"colorscale\":[[0.0,\"#0d0887\"],[0.1111111111111111,\"#46039f\"],[0.2222222222222222,\"#7201a8\"],[0.3333333333333333,\"#9c179e\"],[0.4444444444444444,\"#bd3786\"],[0.5555555555555556,\"#d8576b\"],[0.6666666666666666,\"#ed7953\"],[0.7777777777777778,\"#fb9f3a\"],[0.8888888888888888,\"#fdca26\"],[1.0,\"#f0f921\"]],\"type\":\"surface\"}],\"table\":[{\"cells\":{\"fill\":{\"color\":\"#EBF0F8\"},\"line\":{\"color\":\"white\"}},\"header\":{\"fill\":{\"color\":\"#C8D4E3\"},\"line\":{\"color\":\"white\"}},\"type\":\"table\"}]},\"layout\":{\"annotationdefaults\":{\"arrowcolor\":\"#2a3f5f\",\"arrowhead\":0,\"arrowwidth\":1},\"autotypenumbers\":\"strict\",\"coloraxis\":{\"colorbar\":{\"outlinewidth\":0,\"ticks\":\"\"}},\"colorscale\":{\"diverging\":[[0,\"#8e0152\"],[0.1,\"#c51b7d\"],[0.2,\"#de77ae\"],[0.3,\"#f1b6da\"],[0.4,\"#fde0ef\"],[0.5,\"#f7f7f7\"],[0.6,\"#e6f5d0\"],[0.7,\"#b8e186\"],[0.8,\"#7fbc41\"],[0.9,\"#4d9221\"],[1,\"#276419\"]],\"sequential\":[[0.0,\"#0d0887\"],[0.1111111111111111,\"#46039f\"],[0.2222222222222222,\"#7201a8\"],[0.3333333333333333,\"#9c179e\"],[0.4444444444444444,\"#bd3786\"],[0.5555555555555556,\"#d8576b\"],[0.6666666666666666,\"#ed7953\"],[0.7777777777777778,\"#fb9f3a\"],[0.8888888888888888,\"#fdca26\"],[1.0,\"#f0f921\"]],\"sequentialminus\":[[0.0,\"#0d0887\"],[0.1111111111111111,\"#46039f\"],[0.2222222222222222,\"#7201a8\"],[0.3333333333333333,\"#9c179e\"],[0.4444444444444444,\"#bd3786\"],[0.5555555555555556,\"#d8576b\"],[0.6666666666666666,\"#ed7953\"],[0.7777777777777778,\"#fb9f3a\"],[0.8888888888888888,\"#fdca26\"],[1.0,\"#f0f921\"]]},\"colorway\":[\"#636efa\",\"#EF553B\",\"#00cc96\",\"#ab63fa\",\"#FFA15A\",\"#19d3f3\",\"#FF6692\",\"#B6E880\",\"#FF97FF\",\"#FECB52\"],\"font\":{\"color\":\"#2a3f5f\"},\"geo\":{\"bgcolor\":\"white\",\"lakecolor\":\"white\",\"landcolor\":\"#E5ECF6\",\"showlakes\":true,\"showland\":true,\"subunitcolor\":\"white\"},\"hoverlabel\":{\"align\":\"left\"},\"hovermode\":\"closest\",\"mapbox\":{\"style\":\"light\"},\"paper_bgcolor\":\"white\",\"plot_bgcolor\":\"#E5ECF6\",\"polar\":{\"angularaxis\":{\"gridcolor\":\"white\",\"linecolor\":\"white\",\"ticks\":\"\"},\"bgcolor\":\"#E5ECF6\",\"radialaxis\":{\"gridcolor\":\"white\",\"linecolor\":\"white\",\"ticks\":\"\"}},\"scene\":{\"xaxis\":{\"backgroundcolor\":\"#E5ECF6\",\"gridcolor\":\"white\",\"gridwidth\":2,\"linecolor\":\"white\",\"showbackground\":true,\"ticks\":\"\",\"zerolinecolor\":\"white\"},\"yaxis\":{\"backgroundcolor\":\"#E5ECF6\",\"gridcolor\":\"white\",\"gridwidth\":2,\"linecolor\":\"white\",\"showbackground\":true,\"ticks\":\"\",\"zerolinecolor\":\"white\"},\"zaxis\":{\"backgroundcolor\":\"#E5ECF6\",\"gridcolor\":\"white\",\"gridwidth\":2,\"linecolor\":\"white\",\"showbackground\":true,\"ticks\":\"\",\"zerolinecolor\":\"white\"}},\"shapedefaults\":{\"line\":{\"color\":\"#2a3f5f\"}},\"ternary\":{\"aaxis\":{\"gridcolor\":\"white\",\"linecolor\":\"white\",\"ticks\":\"\"},\"baxis\":{\"gridcolor\":\"white\",\"linecolor\":\"white\",\"ticks\":\"\"},\"bgcolor\":\"#E5ECF6\",\"caxis\":{\"gridcolor\":\"white\",\"linecolor\":\"white\",\"ticks\":\"\"}},\"title\":{\"x\":0.05},\"xaxis\":{\"automargin\":true,\"gridcolor\":\"white\",\"linecolor\":\"white\",\"ticks\":\"\",\"title\":{\"standoff\":15},\"zerolinecolor\":\"white\",\"zerolinewidth\":2},\"yaxis\":{\"automargin\":true,\"gridcolor\":\"white\",\"linecolor\":\"white\",\"ticks\":\"\",\"title\":{\"standoff\":15},\"zerolinecolor\":\"white\",\"zerolinewidth\":2}}},\"xaxis\":{\"anchor\":\"y\",\"domain\":[0.0,1.0],\"title\":{\"text\":\"sum of establishments\"}},\"yaxis\":{\"anchor\":\"x\",\"domain\":[0.0,1.0],\"title\":{\"text\":\"\"}},\"legend\":{\"title\":{\"text\":\"chain\"},\"tracegroupgap\":0},\"margin\":{\"t\":60},\"barmode\":\"group\",\"height\":600,\"width\":990,\"title\":{\"font\":{\"size\":30},\"text\":\"Distribution of chain and nonchain object types\"}},                        {\"responsive\": true}                    ).then(function(){\n",
              "                            \n",
              "var gd = document.getElementById('b8477d4d-5f63-4e6d-aed4-3f2b30f36823');\n",
              "var x = new MutationObserver(function (mutations, observer) {{\n",
              "        var display = window.getComputedStyle(gd).display;\n",
              "        if (!display || display === 'none') {{\n",
              "            console.log([gd, 'removed!']);\n",
              "            Plotly.purge(gd);\n",
              "            observer.disconnect();\n",
              "        }}\n",
              "}});\n",
              "\n",
              "// Listen for the removal of the full notebook cells\n",
              "var notebookContainer = gd.closest('#notebook-container');\n",
              "if (notebookContainer) {{\n",
              "    x.observe(notebookContainer, {childList: true});\n",
              "}}\n",
              "\n",
              "// Listen for the clearing of the current output cell\n",
              "var outputEl = gd.closest('.output');\n",
              "if (outputEl) {{\n",
              "    x.observe(outputEl, {childList: true});\n",
              "}}\n",
              "\n",
              "                        })                };                            </script>        </div>\n",
              "</body>\n",
              "</html>"
            ]
          },
          "metadata": {}
        }
      ],
      "source": [
        "fig = px.histogram(group_data, y='object_type', x='id', color='chain', barmode='group',\n",
        "                   width=990, height=600,\n",
        "                  labels = {'object_type': '', 'id': 'establishments'})\n",
        "\n",
        "fig.update_layout(title_text=\"Distribution of chain and nonchain object types\",\n",
        "                  title_font_size=30)\n",
        "\n",
        "fig.show()"
      ]
    },
    {
      "cell_type": "markdown",
      "metadata": {
        "id": "Ta0JroNfYeck"
      },
      "source": [
        "There are much more restaurants and bars that don't belong to chains. On the contrary - there are no nonchain bakeries and we are more likely to find a cafe and a fastfood establishment to be in chain.There are no nonchain bakeries. There are much more restaurants and bars that don't belong to chains. As well as more often you will find a cafe and a fastfood establishment to be in chain."
      ]
    },
    {
      "cell_type": "markdown",
      "metadata": {
        "id": "zRCXOAhwYeck"
      },
      "source": [
        "[**Which type of establishment is typically a chain?**](#2.3)"
      ]
    },
    {
      "cell_type": "markdown",
      "metadata": {
        "id": "HWGiho6DYeck"
      },
      "source": [
        "Lets' look at the distribution of types of objects of chains alone. We need to filter them out of the initial dataframe, calculate their amount and the share they take."
      ]
    },
    {
      "cell_type": "code",
      "execution_count": 24,
      "metadata": {
        "id": "W_bu9TSGYeck"
      },
      "outputs": [],
      "source": [
        "# Calculating the number of establishments in chains\n",
        "chain_obj_types = rest_data[rest_data['chain'] == True]\\\n",
        "                    .groupby('object_type', as_index=False).agg({'object_name':'count'})\\\n",
        "                    .sort_values(by = 'object_name', ascending = False)"
      ]
    },
    {
      "cell_type": "code",
      "execution_count": 25,
      "metadata": {
        "id": "99YOcIxvYecl"
      },
      "outputs": [],
      "source": [
        "# Rename columns\n",
        "chain_obj_types.columns = ['object_type', 'n_objects']"
      ]
    },
    {
      "cell_type": "code",
      "execution_count": 26,
      "metadata": {
        "id": "vP6YcBEMYecl"
      },
      "outputs": [],
      "source": [
        "# Calculate the percentage\n",
        "chain_obj_types['percents'] = ((chain_obj_types['n_objects'] / chain_obj_types['n_objects'].sum()) * 100)\\\n",
        "                                .round(2).astype('str') + '%'"
      ]
    },
    {
      "cell_type": "code",
      "execution_count": 27,
      "metadata": {
        "id": "drWqYO4OYecl",
        "colab": {
          "base_uri": "https://localhost:8080/",
          "height": 237
        },
        "outputId": "0c32cd65-78a3-4ecd-d683-0b2b3e1c4bfd"
      },
      "outputs": [
        {
          "output_type": "execute_result",
          "data": {
            "text/plain": [
              "<pandas.io.formats.style.Styler at 0x7fa201d8bf90>"
            ],
            "text/html": [
              "<style type=\"text/css\">\n",
              "#T_9b4e7_row0_col1 {\n",
              "  width: 10em;\n",
              "  height: 80%;\n",
              "  background: linear-gradient(90deg,#ced7d8 100.0%, transparent 100.0%);\n",
              "}\n",
              "#T_9b4e7_row1_col1 {\n",
              "  width: 10em;\n",
              "  height: 80%;\n",
              "  background: linear-gradient(90deg,#ced7d8 23.8%, transparent 23.8%);\n",
              "}\n",
              "#T_9b4e7_row2_col1 {\n",
              "  width: 10em;\n",
              "  height: 80%;\n",
              "  background: linear-gradient(90deg,#ced7d8 9.3%, transparent 9.3%);\n",
              "}\n",
              "#T_9b4e7_row3_col1 {\n",
              "  width: 10em;\n",
              "  height: 80%;\n",
              "  background: linear-gradient(90deg,#ced7d8 8.5%, transparent 8.5%);\n",
              "}\n",
              "#T_9b4e7_row4_col1 {\n",
              "  width: 10em;\n",
              "  height: 80%;\n",
              "  background: linear-gradient(90deg,#ced7d8 3.5%, transparent 3.5%);\n",
              "}\n",
              "#T_9b4e7_row5_col1 {\n",
              "  width: 10em;\n",
              "  height: 80%;\n",
              "}\n",
              "</style>\n",
              "<table id=\"T_9b4e7_\" class=\"dataframe\">\n",
              "  <thead>\n",
              "    <tr>\n",
              "      <th class=\"blank level0\" >&nbsp;</th>\n",
              "      <th class=\"col_heading level0 col0\" >object_type</th>\n",
              "      <th class=\"col_heading level0 col1\" >n_objects</th>\n",
              "      <th class=\"col_heading level0 col2\" >percents</th>\n",
              "    </tr>\n",
              "  </thead>\n",
              "  <tbody>\n",
              "    <tr>\n",
              "      <th id=\"T_9b4e7_level0_row0\" class=\"row_heading level0 row0\" >5</th>\n",
              "      <td id=\"T_9b4e7_row0_col0\" class=\"data row0 col0\" >Restaurant</td>\n",
              "      <td id=\"T_9b4e7_row0_col1\" class=\"data row0 col1\" >2294</td>\n",
              "      <td id=\"T_9b4e7_row0_col2\" class=\"data row0 col2\" >62.35%</td>\n",
              "    </tr>\n",
              "    <tr>\n",
              "      <th id=\"T_9b4e7_level0_row1\" class=\"row_heading level0 row1\" >3</th>\n",
              "      <td id=\"T_9b4e7_row1_col0\" class=\"data row1 col0\" >Fast Food</td>\n",
              "      <td id=\"T_9b4e7_row1_col1\" class=\"data row1 col1\" >605</td>\n",
              "      <td id=\"T_9b4e7_row1_col2\" class=\"data row1 col2\" >16.44%</td>\n",
              "    </tr>\n",
              "    <tr>\n",
              "      <th id=\"T_9b4e7_level0_row2\" class=\"row_heading level0 row2\" >0</th>\n",
              "      <td id=\"T_9b4e7_row2_col0\" class=\"data row2 col0\" >Bakery</td>\n",
              "      <td id=\"T_9b4e7_row2_col1\" class=\"data row2 col1\" >283</td>\n",
              "      <td id=\"T_9b4e7_row2_col2\" class=\"data row2 col2\" >7.69%</td>\n",
              "    </tr>\n",
              "    <tr>\n",
              "      <th id=\"T_9b4e7_level0_row3\" class=\"row_heading level0 row3\" >2</th>\n",
              "      <td id=\"T_9b4e7_row3_col0\" class=\"data row3 col0\" >Cafe</td>\n",
              "      <td id=\"T_9b4e7_row3_col1\" class=\"data row3 col1\" >266</td>\n",
              "      <td id=\"T_9b4e7_row3_col2\" class=\"data row3 col2\" >7.23%</td>\n",
              "    </tr>\n",
              "    <tr>\n",
              "      <th id=\"T_9b4e7_level0_row4\" class=\"row_heading level0 row4\" >4</th>\n",
              "      <td id=\"T_9b4e7_row4_col0\" class=\"data row4 col0\" >Pizza</td>\n",
              "      <td id=\"T_9b4e7_row4_col1\" class=\"data row4 col1\" >154</td>\n",
              "      <td id=\"T_9b4e7_row4_col2\" class=\"data row4 col2\" >4.19%</td>\n",
              "    </tr>\n",
              "    <tr>\n",
              "      <th id=\"T_9b4e7_level0_row5\" class=\"row_heading level0 row5\" >1</th>\n",
              "      <td id=\"T_9b4e7_row5_col0\" class=\"data row5 col0\" >Bar</td>\n",
              "      <td id=\"T_9b4e7_row5_col1\" class=\"data row5 col1\" >77</td>\n",
              "      <td id=\"T_9b4e7_row5_col2\" class=\"data row5 col2\" >2.09%</td>\n",
              "    </tr>\n",
              "  </tbody>\n",
              "</table>\n"
            ]
          },
          "metadata": {},
          "execution_count": 27
        }
      ],
      "source": [
        "chain_obj_types.style.bar(color='#ced7d8')"
      ]
    },
    {
      "cell_type": "code",
      "execution_count": 28,
      "metadata": {
        "id": "WYXAsEvkYecl",
        "colab": {
          "base_uri": "https://localhost:8080/",
          "height": 617
        },
        "outputId": "c57d8588-953f-4e7b-9c03-6f5dc4cad59d"
      },
      "outputs": [
        {
          "output_type": "display_data",
          "data": {
            "text/html": [
              "<html>\n",
              "<head><meta charset=\"utf-8\" /></head>\n",
              "<body>\n",
              "    <div>            <script src=\"https://cdnjs.cloudflare.com/ajax/libs/mathjax/2.7.5/MathJax.js?config=TeX-AMS-MML_SVG\"></script><script type=\"text/javascript\">if (window.MathJax) {MathJax.Hub.Config({SVG: {font: \"STIX-Web\"}});}</script>                <script type=\"text/javascript\">window.PlotlyConfig = {MathJaxConfig: 'local'};</script>\n",
              "        <script src=\"https://cdn.plot.ly/plotly-2.8.3.min.js\"></script>                <div id=\"d78403cc-7c8e-4c79-bcc8-d5fb6bc4f01d\" class=\"plotly-graph-div\" style=\"height:600px; width:900px;\"></div>            <script type=\"text/javascript\">                                    window.PLOTLYENV=window.PLOTLYENV || {};                                    if (document.getElementById(\"d78403cc-7c8e-4c79-bcc8-d5fb6bc4f01d\")) {                    Plotly.newPlot(                        \"d78403cc-7c8e-4c79-bcc8-d5fb6bc4f01d\",                        [{\"alignmentgroup\":\"True\",\"hovertemplate\":\"Establishment  type=%{x}<br>Amount of establishments=%{text}<extra></extra>\",\"legendgroup\":\"Restaurant\",\"marker\":{\"color\":\"#636efa\",\"pattern\":{\"shape\":\"\"}},\"name\":\"Restaurant (62.35%)\",\"offsetgroup\":\"Restaurant\",\"orientation\":\"v\",\"showlegend\":true,\"text\":[2294.0],\"textposition\":\"outside\",\"x\":[\"Restaurant\"],\"xaxis\":\"x\",\"y\":[2294],\"yaxis\":\"y\",\"type\":\"bar\"},{\"alignmentgroup\":\"True\",\"hovertemplate\":\"Establishment  type=%{x}<br>Amount of establishments=%{text}<extra></extra>\",\"legendgroup\":\"Fast Food\",\"marker\":{\"color\":\"#EF553B\",\"pattern\":{\"shape\":\"\"}},\"name\":\"Fast Food (16.44%)\",\"offsetgroup\":\"Fast Food\",\"orientation\":\"v\",\"showlegend\":true,\"text\":[605.0],\"textposition\":\"outside\",\"x\":[\"Fast Food\"],\"xaxis\":\"x\",\"y\":[605],\"yaxis\":\"y\",\"type\":\"bar\"},{\"alignmentgroup\":\"True\",\"hovertemplate\":\"Establishment  type=%{x}<br>Amount of establishments=%{text}<extra></extra>\",\"legendgroup\":\"Bakery\",\"marker\":{\"color\":\"#00cc96\",\"pattern\":{\"shape\":\"\"}},\"name\":\"Bakery (7.69%)\",\"offsetgroup\":\"Bakery\",\"orientation\":\"v\",\"showlegend\":true,\"text\":[283.0],\"textposition\":\"outside\",\"x\":[\"Bakery\"],\"xaxis\":\"x\",\"y\":[283],\"yaxis\":\"y\",\"type\":\"bar\"},{\"alignmentgroup\":\"True\",\"hovertemplate\":\"Establishment  type=%{x}<br>Amount of establishments=%{text}<extra></extra>\",\"legendgroup\":\"Cafe\",\"marker\":{\"color\":\"#ab63fa\",\"pattern\":{\"shape\":\"\"}},\"name\":\"Cafe (7.23%)\",\"offsetgroup\":\"Cafe\",\"orientation\":\"v\",\"showlegend\":true,\"text\":[266.0],\"textposition\":\"outside\",\"x\":[\"Cafe\"],\"xaxis\":\"x\",\"y\":[266],\"yaxis\":\"y\",\"type\":\"bar\"},{\"alignmentgroup\":\"True\",\"hovertemplate\":\"Establishment  type=%{x}<br>Amount of establishments=%{text}<extra></extra>\",\"legendgroup\":\"Pizza\",\"marker\":{\"color\":\"#FFA15A\",\"pattern\":{\"shape\":\"\"}},\"name\":\"Pizza (4.19%)\",\"offsetgroup\":\"Pizza\",\"orientation\":\"v\",\"showlegend\":true,\"text\":[154.0],\"textposition\":\"outside\",\"x\":[\"Pizza\"],\"xaxis\":\"x\",\"y\":[154],\"yaxis\":\"y\",\"type\":\"bar\"},{\"alignmentgroup\":\"True\",\"hovertemplate\":\"Establishment  type=%{x}<br>Amount of establishments=%{text}<extra></extra>\",\"legendgroup\":\"Bar\",\"marker\":{\"color\":\"#19d3f3\",\"pattern\":{\"shape\":\"\"}},\"name\":\"Bar (2.09%)\",\"offsetgroup\":\"Bar\",\"orientation\":\"v\",\"showlegend\":true,\"text\":[77.0],\"textposition\":\"outside\",\"x\":[\"Bar\"],\"xaxis\":\"x\",\"y\":[77],\"yaxis\":\"y\",\"type\":\"bar\"}],                        {\"template\":{\"data\":{\"bar\":[{\"error_x\":{\"color\":\"#2a3f5f\"},\"error_y\":{\"color\":\"#2a3f5f\"},\"marker\":{\"line\":{\"color\":\"#E5ECF6\",\"width\":0.5},\"pattern\":{\"fillmode\":\"overlay\",\"size\":10,\"solidity\":0.2}},\"type\":\"bar\"}],\"barpolar\":[{\"marker\":{\"line\":{\"color\":\"#E5ECF6\",\"width\":0.5},\"pattern\":{\"fillmode\":\"overlay\",\"size\":10,\"solidity\":0.2}},\"type\":\"barpolar\"}],\"carpet\":[{\"aaxis\":{\"endlinecolor\":\"#2a3f5f\",\"gridcolor\":\"white\",\"linecolor\":\"white\",\"minorgridcolor\":\"white\",\"startlinecolor\":\"#2a3f5f\"},\"baxis\":{\"endlinecolor\":\"#2a3f5f\",\"gridcolor\":\"white\",\"linecolor\":\"white\",\"minorgridcolor\":\"white\",\"startlinecolor\":\"#2a3f5f\"},\"type\":\"carpet\"}],\"choropleth\":[{\"colorbar\":{\"outlinewidth\":0,\"ticks\":\"\"},\"type\":\"choropleth\"}],\"contour\":[{\"colorbar\":{\"outlinewidth\":0,\"ticks\":\"\"},\"colorscale\":[[0.0,\"#0d0887\"],[0.1111111111111111,\"#46039f\"],[0.2222222222222222,\"#7201a8\"],[0.3333333333333333,\"#9c179e\"],[0.4444444444444444,\"#bd3786\"],[0.5555555555555556,\"#d8576b\"],[0.6666666666666666,\"#ed7953\"],[0.7777777777777778,\"#fb9f3a\"],[0.8888888888888888,\"#fdca26\"],[1.0,\"#f0f921\"]],\"type\":\"contour\"}],\"contourcarpet\":[{\"colorbar\":{\"outlinewidth\":0,\"ticks\":\"\"},\"type\":\"contourcarpet\"}],\"heatmap\":[{\"colorbar\":{\"outlinewidth\":0,\"ticks\":\"\"},\"colorscale\":[[0.0,\"#0d0887\"],[0.1111111111111111,\"#46039f\"],[0.2222222222222222,\"#7201a8\"],[0.3333333333333333,\"#9c179e\"],[0.4444444444444444,\"#bd3786\"],[0.5555555555555556,\"#d8576b\"],[0.6666666666666666,\"#ed7953\"],[0.7777777777777778,\"#fb9f3a\"],[0.8888888888888888,\"#fdca26\"],[1.0,\"#f0f921\"]],\"type\":\"heatmap\"}],\"heatmapgl\":[{\"colorbar\":{\"outlinewidth\":0,\"ticks\":\"\"},\"colorscale\":[[0.0,\"#0d0887\"],[0.1111111111111111,\"#46039f\"],[0.2222222222222222,\"#7201a8\"],[0.3333333333333333,\"#9c179e\"],[0.4444444444444444,\"#bd3786\"],[0.5555555555555556,\"#d8576b\"],[0.6666666666666666,\"#ed7953\"],[0.7777777777777778,\"#fb9f3a\"],[0.8888888888888888,\"#fdca26\"],[1.0,\"#f0f921\"]],\"type\":\"heatmapgl\"}],\"histogram\":[{\"marker\":{\"pattern\":{\"fillmode\":\"overlay\",\"size\":10,\"solidity\":0.2}},\"type\":\"histogram\"}],\"histogram2d\":[{\"colorbar\":{\"outlinewidth\":0,\"ticks\":\"\"},\"colorscale\":[[0.0,\"#0d0887\"],[0.1111111111111111,\"#46039f\"],[0.2222222222222222,\"#7201a8\"],[0.3333333333333333,\"#9c179e\"],[0.4444444444444444,\"#bd3786\"],[0.5555555555555556,\"#d8576b\"],[0.6666666666666666,\"#ed7953\"],[0.7777777777777778,\"#fb9f3a\"],[0.8888888888888888,\"#fdca26\"],[1.0,\"#f0f921\"]],\"type\":\"histogram2d\"}],\"histogram2dcontour\":[{\"colorbar\":{\"outlinewidth\":0,\"ticks\":\"\"},\"colorscale\":[[0.0,\"#0d0887\"],[0.1111111111111111,\"#46039f\"],[0.2222222222222222,\"#7201a8\"],[0.3333333333333333,\"#9c179e\"],[0.4444444444444444,\"#bd3786\"],[0.5555555555555556,\"#d8576b\"],[0.6666666666666666,\"#ed7953\"],[0.7777777777777778,\"#fb9f3a\"],[0.8888888888888888,\"#fdca26\"],[1.0,\"#f0f921\"]],\"type\":\"histogram2dcontour\"}],\"mesh3d\":[{\"colorbar\":{\"outlinewidth\":0,\"ticks\":\"\"},\"type\":\"mesh3d\"}],\"parcoords\":[{\"line\":{\"colorbar\":{\"outlinewidth\":0,\"ticks\":\"\"}},\"type\":\"parcoords\"}],\"pie\":[{\"automargin\":true,\"type\":\"pie\"}],\"scatter\":[{\"marker\":{\"colorbar\":{\"outlinewidth\":0,\"ticks\":\"\"}},\"type\":\"scatter\"}],\"scatter3d\":[{\"line\":{\"colorbar\":{\"outlinewidth\":0,\"ticks\":\"\"}},\"marker\":{\"colorbar\":{\"outlinewidth\":0,\"ticks\":\"\"}},\"type\":\"scatter3d\"}],\"scattercarpet\":[{\"marker\":{\"colorbar\":{\"outlinewidth\":0,\"ticks\":\"\"}},\"type\":\"scattercarpet\"}],\"scattergeo\":[{\"marker\":{\"colorbar\":{\"outlinewidth\":0,\"ticks\":\"\"}},\"type\":\"scattergeo\"}],\"scattergl\":[{\"marker\":{\"colorbar\":{\"outlinewidth\":0,\"ticks\":\"\"}},\"type\":\"scattergl\"}],\"scattermapbox\":[{\"marker\":{\"colorbar\":{\"outlinewidth\":0,\"ticks\":\"\"}},\"type\":\"scattermapbox\"}],\"scatterpolar\":[{\"marker\":{\"colorbar\":{\"outlinewidth\":0,\"ticks\":\"\"}},\"type\":\"scatterpolar\"}],\"scatterpolargl\":[{\"marker\":{\"colorbar\":{\"outlinewidth\":0,\"ticks\":\"\"}},\"type\":\"scatterpolargl\"}],\"scatterternary\":[{\"marker\":{\"colorbar\":{\"outlinewidth\":0,\"ticks\":\"\"}},\"type\":\"scatterternary\"}],\"surface\":[{\"colorbar\":{\"outlinewidth\":0,\"ticks\":\"\"},\"colorscale\":[[0.0,\"#0d0887\"],[0.1111111111111111,\"#46039f\"],[0.2222222222222222,\"#7201a8\"],[0.3333333333333333,\"#9c179e\"],[0.4444444444444444,\"#bd3786\"],[0.5555555555555556,\"#d8576b\"],[0.6666666666666666,\"#ed7953\"],[0.7777777777777778,\"#fb9f3a\"],[0.8888888888888888,\"#fdca26\"],[1.0,\"#f0f921\"]],\"type\":\"surface\"}],\"table\":[{\"cells\":{\"fill\":{\"color\":\"#EBF0F8\"},\"line\":{\"color\":\"white\"}},\"header\":{\"fill\":{\"color\":\"#C8D4E3\"},\"line\":{\"color\":\"white\"}},\"type\":\"table\"}]},\"layout\":{\"annotationdefaults\":{\"arrowcolor\":\"#2a3f5f\",\"arrowhead\":0,\"arrowwidth\":1},\"autotypenumbers\":\"strict\",\"coloraxis\":{\"colorbar\":{\"outlinewidth\":0,\"ticks\":\"\"}},\"colorscale\":{\"diverging\":[[0,\"#8e0152\"],[0.1,\"#c51b7d\"],[0.2,\"#de77ae\"],[0.3,\"#f1b6da\"],[0.4,\"#fde0ef\"],[0.5,\"#f7f7f7\"],[0.6,\"#e6f5d0\"],[0.7,\"#b8e186\"],[0.8,\"#7fbc41\"],[0.9,\"#4d9221\"],[1,\"#276419\"]],\"sequential\":[[0.0,\"#0d0887\"],[0.1111111111111111,\"#46039f\"],[0.2222222222222222,\"#7201a8\"],[0.3333333333333333,\"#9c179e\"],[0.4444444444444444,\"#bd3786\"],[0.5555555555555556,\"#d8576b\"],[0.6666666666666666,\"#ed7953\"],[0.7777777777777778,\"#fb9f3a\"],[0.8888888888888888,\"#fdca26\"],[1.0,\"#f0f921\"]],\"sequentialminus\":[[0.0,\"#0d0887\"],[0.1111111111111111,\"#46039f\"],[0.2222222222222222,\"#7201a8\"],[0.3333333333333333,\"#9c179e\"],[0.4444444444444444,\"#bd3786\"],[0.5555555555555556,\"#d8576b\"],[0.6666666666666666,\"#ed7953\"],[0.7777777777777778,\"#fb9f3a\"],[0.8888888888888888,\"#fdca26\"],[1.0,\"#f0f921\"]]},\"colorway\":[\"#636efa\",\"#EF553B\",\"#00cc96\",\"#ab63fa\",\"#FFA15A\",\"#19d3f3\",\"#FF6692\",\"#B6E880\",\"#FF97FF\",\"#FECB52\"],\"font\":{\"color\":\"#2a3f5f\"},\"geo\":{\"bgcolor\":\"white\",\"lakecolor\":\"white\",\"landcolor\":\"#E5ECF6\",\"showlakes\":true,\"showland\":true,\"subunitcolor\":\"white\"},\"hoverlabel\":{\"align\":\"left\"},\"hovermode\":\"closest\",\"mapbox\":{\"style\":\"light\"},\"paper_bgcolor\":\"white\",\"plot_bgcolor\":\"#E5ECF6\",\"polar\":{\"angularaxis\":{\"gridcolor\":\"white\",\"linecolor\":\"white\",\"ticks\":\"\"},\"bgcolor\":\"#E5ECF6\",\"radialaxis\":{\"gridcolor\":\"white\",\"linecolor\":\"white\",\"ticks\":\"\"}},\"scene\":{\"xaxis\":{\"backgroundcolor\":\"#E5ECF6\",\"gridcolor\":\"white\",\"gridwidth\":2,\"linecolor\":\"white\",\"showbackground\":true,\"ticks\":\"\",\"zerolinecolor\":\"white\"},\"yaxis\":{\"backgroundcolor\":\"#E5ECF6\",\"gridcolor\":\"white\",\"gridwidth\":2,\"linecolor\":\"white\",\"showbackground\":true,\"ticks\":\"\",\"zerolinecolor\":\"white\"},\"zaxis\":{\"backgroundcolor\":\"#E5ECF6\",\"gridcolor\":\"white\",\"gridwidth\":2,\"linecolor\":\"white\",\"showbackground\":true,\"ticks\":\"\",\"zerolinecolor\":\"white\"}},\"shapedefaults\":{\"line\":{\"color\":\"#2a3f5f\"}},\"ternary\":{\"aaxis\":{\"gridcolor\":\"white\",\"linecolor\":\"white\",\"ticks\":\"\"},\"baxis\":{\"gridcolor\":\"white\",\"linecolor\":\"white\",\"ticks\":\"\"},\"bgcolor\":\"#E5ECF6\",\"caxis\":{\"gridcolor\":\"white\",\"linecolor\":\"white\",\"ticks\":\"\"}},\"title\":{\"x\":0.05},\"xaxis\":{\"automargin\":true,\"gridcolor\":\"white\",\"linecolor\":\"white\",\"ticks\":\"\",\"title\":{\"standoff\":15},\"zerolinecolor\":\"white\",\"zerolinewidth\":2},\"yaxis\":{\"automargin\":true,\"gridcolor\":\"white\",\"linecolor\":\"white\",\"ticks\":\"\",\"title\":{\"standoff\":15},\"zerolinecolor\":\"white\",\"zerolinewidth\":2}}},\"xaxis\":{\"anchor\":\"y\",\"domain\":[0.0,1.0],\"title\":{\"text\":\"Establishment  type\"},\"categoryorder\":\"array\",\"categoryarray\":[\"Restaurant\",\"Fast Food\",\"Bakery\",\"Cafe\",\"Pizza\",\"Bar\"]},\"yaxis\":{\"anchor\":\"x\",\"domain\":[0.0,1.0],\"title\":{\"text\":\"Amount of establishments\"}},\"legend\":{\"title\":{\"text\":\"Establishment  type\"},\"tracegroupgap\":0},\"margin\":{\"t\":60},\"barmode\":\"relative\",\"height\":600,\"width\":900,\"title\":{\"font\":{\"size\":30},\"text\":\"Types of chain establishments\"}},                        {\"responsive\": true}                    ).then(function(){\n",
              "                            \n",
              "var gd = document.getElementById('d78403cc-7c8e-4c79-bcc8-d5fb6bc4f01d');\n",
              "var x = new MutationObserver(function (mutations, observer) {{\n",
              "        var display = window.getComputedStyle(gd).display;\n",
              "        if (!display || display === 'none') {{\n",
              "            console.log([gd, 'removed!']);\n",
              "            Plotly.purge(gd);\n",
              "            observer.disconnect();\n",
              "        }}\n",
              "}});\n",
              "\n",
              "// Listen for the removal of the full notebook cells\n",
              "var notebookContainer = gd.closest('#notebook-container');\n",
              "if (notebookContainer) {{\n",
              "    x.observe(notebookContainer, {childList: true});\n",
              "}}\n",
              "\n",
              "// Listen for the clearing of the current output cell\n",
              "var outputEl = gd.closest('.output');\n",
              "if (outputEl) {{\n",
              "    x.observe(outputEl, {childList: true});\n",
              "}}\n",
              "\n",
              "                        })                };                            </script>        </div>\n",
              "</body>\n",
              "</html>"
            ]
          },
          "metadata": {}
        }
      ],
      "source": [
        "fig = px.bar(chain_obj_types, x='object_type', y='n_objects', color='object_type',\n",
        "             width=900, height=600,\n",
        "             labels={'object_type': 'Establishment  type', 'n_objects': 'Amount of establishments'}, text='n_objects')\n",
        "fig.update_layout(title_text=\"Types of chain establishments\",\n",
        "                  title_font_size=30)\n",
        "fig.update_traces(textposition='outside')\n",
        "for trace, percents in zip(fig.data, chain_obj_types['percents']):\n",
        "    trace.name = trace.name.split('=')[0] + ' (' + percents + ')'\n",
        "\n",
        "fig.show()"
      ]
    },
    {
      "cell_type": "markdown",
      "metadata": {
        "id": "VV8T0eT6Yecl"
      },
      "source": [
        "If we filter the data and have a look only at the 38% of chain establishments and check the object types representation we will see that the majority is still restaurants and fast food establishments. The overall trend remains. Note, that all bakeries are represented as chain establisments."
      ]
    },
    {
      "cell_type": "markdown",
      "metadata": {
        "id": "k8a04QJhYecm"
      },
      "source": [
        "[**What characterizes chains: many establishments with a small number of seats or a few establishments with a lot of seats?**](#2.4)"
      ]
    },
    {
      "cell_type": "markdown",
      "metadata": {
        "id": "7R9KAFz_Yecm"
      },
      "source": [
        "First, lets' take a look at the overall seats distribution."
      ]
    },
    {
      "cell_type": "code",
      "execution_count": 29,
      "metadata": {
        "id": "mSgF97G0Yecm",
        "colab": {
          "base_uri": "https://localhost:8080/",
          "height": 351
        },
        "outputId": "69ea1d89-80ac-4c80-a97c-e5f223f8f09c"
      },
      "outputs": [
        {
          "output_type": "display_data",
          "data": {
            "text/plain": [
              "<Figure size 1080x360 with 1 Axes>"
            ],
            "image/png": "[encoded data removed]"
          },
          "metadata": {
            "needs_background": "light"
          }
        }
      ],
      "source": [
        "fig, ax = plt.subplots(figsize=(15, 5))\n",
        "sns.scatterplot(data=rest_data, x='object_type', y='number', hue='chain', alpha=0.2, palette={False: 'g', True: 'y'})\n",
        "plt.title('Distribution of the number of seats by establisments', fontsize=14)\n",
        "plt.xlabel('Establishments')\n",
        "plt.ylabel('Number of seats')\n",
        "plt.show()"
      ]
    },
    {
      "cell_type": "markdown",
      "metadata": {
        "id": "hF-B-pnRYecm"
      },
      "source": [
        "Among those types of establishments that belong to chains, we can see that the lower part of the graph is chains, so that must be means, that the number of seats in chain establishments is usually less than in nonchain establishments. Now, lets' focus more on the chains."
      ]
    },
    {
      "cell_type": "code",
      "execution_count": 30,
      "metadata": {
        "id": "LGhhqAbnYecm",
        "colab": {
          "base_uri": "https://localhost:8080/"
        },
        "outputId": "838871d8-c3bb-4d42-8494-24bd0d6691cf"
      },
      "outputs": [
        {
          "output_type": "execute_result",
          "data": {
            "text/plain": [
              "THE COFFEE BEAN & TEA LEAF               47\n",
              "SUBWAY                                   31\n",
              "DOMINO'S PIZZA                           15\n",
              "KENTUCKY FRIED CHICKEN                   14\n",
              "WABA GRILL                               14\n",
              "                                         ..\n",
              "YUM YUM DONUTS # 75-P                     1\n",
              "STARBUCKS COFFEE #13286                   1\n",
              "THE FRENCH CREPE COMPANY PREP KITCHEN     1\n",
              "YUM YUM CHINESE FOOD                      1\n",
              "CAFE SPROUTS                              1\n",
              "Name: object_name, Length: 2736, dtype: int64"
            ]
          },
          "metadata": {},
          "execution_count": 30
        }
      ],
      "source": [
        "chains = rest_data[rest_data['chain']==True]\n",
        "chains['object_name'].value_counts()"
      ]
    },
    {
      "cell_type": "markdown",
      "metadata": {
        "id": "n7tllIcZYecm"
      },
      "source": [
        "There is a certein naming problem in our dataset - some of the establishments names are not unique, although they should be. For example, we have `STARBUCKS` and `STARBUCKS COFFEE`. Lets' try to adress as much of such mistakes as we can and standartize the names to one row."
      ]
    },
    {
      "cell_type": "code",
      "execution_count": 31,
      "metadata": {
        "id": "UEnkSJSUYecm"
      },
      "outputs": [],
      "source": [
        "# Using regular expressions define the pattern to be treated\n",
        "def chain_name(row):\n",
        "    # finds a pattern that starts with a # symbol, optionally followed by space, and digits\n",
        "    i = re.sub(r'\\#\\s*(\\d+)', '', row) \n",
        "    i = i.replace('#', '') # finds just the # symbol and replacs it with empty string\n",
        "    return i"
      ]
    },
    {
      "cell_type": "code",
      "execution_count": 32,
      "metadata": {
        "id": "mqTi6VmxYecn",
        "colab": {
          "base_uri": "https://localhost:8080/",
          "height": 36
        },
        "outputId": "7d3f3776-5d67-4a9e-98be-c60435d22786"
      },
      "outputs": [
        {
          "output_type": "execute_result",
          "data": {
            "text/plain": [
              "\"MCDONALD'S \""
            ],
            "application/vnd.google.colaboratory.intrinsic+json": {
              "type": "string"
            }
          },
          "metadata": {},
          "execution_count": 32
        }
      ],
      "source": [
        "# Check the function\n",
        "chain_name(\"MCDONALD'S #8014\")"
      ]
    },
    {
      "cell_type": "code",
      "execution_count": 33,
      "metadata": {
        "id": "jJhUwI8hYecn"
      },
      "outputs": [],
      "source": [
        "chains['chain_name'] = chains['object_name'].apply(chain_name)"
      ]
    },
    {
      "cell_type": "code",
      "execution_count": 34,
      "metadata": {
        "id": "u7Kcvvx3Yecn",
        "colab": {
          "base_uri": "https://localhost:8080/"
        },
        "outputId": "348c6f7f-5f67-43b1-ac22-daa011265403"
      },
      "outputs": [
        {
          "output_type": "execute_result",
          "data": {
            "text/plain": [
              "STARBUCKS COFFEE               85\n",
              "SUBWAY                         82\n",
              "MCDONALD'S                     65\n",
              "JACK IN THE BOX                52\n",
              "THE COFFEE BEAN & TEA LEAF     47\n",
              "                               ..\n",
              "KFC TACO BELL E791001           1\n",
              "EAGLE ROCK NOODLE AND GRILL     1\n",
              "MELS DELI                       1\n",
              "MARTHA'S KITCHEN                1\n",
              "CAFE SPROUTS                    1\n",
              "Name: chain_name, Length: 2176, dtype: int64"
            ]
          },
          "metadata": {},
          "execution_count": 34
        }
      ],
      "source": [
        "chains['chain_name'].value_counts()"
      ]
    },
    {
      "cell_type": "markdown",
      "metadata": {
        "id": "jzpcK35eYecn"
      },
      "source": [
        "The picture certainly improved from before, but theres' still some issues with the names: big chains are written too differently, this could mislead our calculations. Let's build another function that will unify the names of the big chains."
      ]
    },
    {
      "cell_type": "code",
      "execution_count": 35,
      "metadata": {
        "id": "-3Wv9kVaYecn"
      },
      "outputs": [],
      "source": [
        "def chain_name_group(row):\n",
        "    if row.startswith('KFC') or row.startswith('KENTUCKY FRIED CHICKEN'):\n",
        "        row = row.replace(row, 'KENTUCKY FRIED CHICKEN')\n",
        "    if row.startswith('SUBWAY'):\n",
        "        row = row.replace(row, 'SUBWAY')\n",
        "    if row.startswith('THE COFFEE BEAN & TEA LEAF') or row.startswith('COFFEE BEAN AND TEA LEAF'):\n",
        "        row = row.replace(row, 'THE COFFEE BEAN & TEA LEAF')\n",
        "    if row.startswith('STARBUCKS'):\n",
        "        row = row.replace(row, 'STARBUCKS')\n",
        "    if row.endswith('BUSKIN ROBINS') or row.startswith('BUSKIN ROBINS'):\n",
        "        row = row.replace(row, 'BUSKIN ROBINS')\n",
        "    if row.startswith(\"MCDONALD'S\"):\n",
        "        row = row.replace(row, \"MCDONALD'S\")\n",
        "    return row"
      ]
    },
    {
      "cell_type": "code",
      "execution_count": 36,
      "metadata": {
        "id": "3Ny-woI4Yecn",
        "colab": {
          "base_uri": "https://localhost:8080/",
          "height": 36
        },
        "outputId": "4ece30cb-1162-4861-d67c-831d5ea38d2f"
      },
      "outputs": [
        {
          "output_type": "execute_result",
          "data": {
            "text/plain": [
              "'KENTUCKY FRIED CHICKEN'"
            ],
            "application/vnd.google.colaboratory.intrinsic+json": {
              "type": "string"
            }
          },
          "metadata": {},
          "execution_count": 36
        }
      ],
      "source": [
        "# Check the function\n",
        "chain_name_group('KFC sk')"
      ]
    },
    {
      "cell_type": "code",
      "execution_count": 37,
      "metadata": {
        "id": "dNLwJyMCYeco"
      },
      "outputs": [],
      "source": [
        "chains['chain_name_final'] = chains['chain_name'].apply(chain_name_group)"
      ]
    },
    {
      "cell_type": "code",
      "execution_count": 38,
      "metadata": {
        "id": "SNbtwxBmYeco",
        "colab": {
          "base_uri": "https://localhost:8080/"
        },
        "outputId": "c9b8ff89-8145-44e3-d183-05d103660011"
      },
      "outputs": [
        {
          "output_type": "execute_result",
          "data": {
            "text/plain": [
              "SUBWAY                            152\n",
              "STARBUCKS                         129\n",
              "MCDONALD'S                         82\n",
              "THE COFFEE BEAN & TEA LEAF         61\n",
              "JACK IN THE BOX                    52\n",
              "                                 ... \n",
              "CHICO'S MEXICAN RESTAURANT          1\n",
              "MI COCINTA CHAPINA RESTAURANTE      1\n",
              "LA FITNESS JUICE BAR                1\n",
              "FULL HOUSE SEAFOOD RESTAURAN        1\n",
              "CAFE SPROUTS                        1\n",
              "Name: chain_name_final, Length: 2120, dtype: int64"
            ]
          },
          "metadata": {},
          "execution_count": 38
        }
      ],
      "source": [
        "chains['chain_name_final'].value_counts()"
      ]
    },
    {
      "cell_type": "markdown",
      "metadata": {
        "id": "ugotgQrgYeco"
      },
      "source": [
        "The function worked and we can visualize our data."
      ]
    },
    {
      "cell_type": "code",
      "execution_count": 39,
      "metadata": {
        "id": "1oSyO2oDYeco",
        "colab": {
          "base_uri": "https://localhost:8080/",
          "height": 990
        },
        "outputId": "2f6dd5af-65e8-4ce0-8888-c8e64e9693fc"
      },
      "outputs": [
        {
          "output_type": "execute_result",
          "data": {
            "text/plain": [
              "                chain_name_final   id\n",
              "2090          JERSEY MIKE'S SUBS    8\n",
              "2091              BASKIN ROBBINS    8\n",
              "2092                   CARL'S JR    8\n",
              "2093          BLUE BOTTLE COFFEE    9\n",
              "2094                FOOD 4 LESS     9\n",
              "2095               EL POLLO LOCO   10\n",
              "2096     LOUISIANA FRIED CHICKEN   10\n",
              "2097      CHIPOTLE MEXICAN GRILL   10\n",
              "2098                    WINGSTOP   10\n",
              "2099           PAPA JOHN'S PIZZA   12\n",
              "2100                  YOGURTLAND   12\n",
              "2101           HONG KONG EXPRESS   12\n",
              "2102                     TRIMANA   13\n",
              "2103                  CARL'S JR    14\n",
              "2104             DOMINO'S PIZZA    14\n",
              "2105                  WABA GRILL   14\n",
              "2106              DOMINO'S PIZZA   15\n",
              "2107              PANDA EXPRESS    16\n",
              "2108                JAMBA JUICE    17\n",
              "2109                  TACO BELL    23\n",
              "2110                  YOSHINOYA    24\n",
              "2111              EL POLLO LOCO    25\n",
              "2112                  PIZZA HUT    29\n",
              "2113      KENTUCKY FRIED CHICKEN   31\n",
              "2114                BURGER KING    34\n",
              "2115            JACK IN THE BOX    52\n",
              "2116  THE COFFEE BEAN & TEA LEAF   61\n",
              "2117                  MCDONALD'S   82\n",
              "2118                   STARBUCKS  129\n",
              "2119                      SUBWAY  152"
            ],
            "text/html": [
              "\n",
              "  <div id=\"df-8526274c-c091-49c0-a701-2de8a172fdea\">\n",
              "    <div class=\"colab-df-container\">\n",
              "      <div>\n",
              "<style scoped>\n",
              "    .dataframe tbody tr th:only-of-type {\n",
              "        vertical-align: middle;\n",
              "    }\n",
              "\n",
              "    .dataframe tbody tr th {\n",
              "        vertical-align: top;\n",
              "    }\n",
              "\n",
              "    .dataframe thead th {\n",
              "        text-align: right;\n",
              "    }\n",
              "</style>\n",
              "<table border=\"1\" class=\"dataframe\">\n",
              "  <thead>\n",
              "    <tr style=\"text-align: right;\">\n",
              "      <th></th>\n",
              "      <th>chain_name_final</th>\n",
              "      <th>id</th>\n",
              "    </tr>\n",
              "  </thead>\n",
              "  <tbody>\n",
              "    <tr>\n",
              "      <th>2090</th>\n",
              "      <td>JERSEY MIKE'S SUBS</td>\n",
              "      <td>8</td>\n",
              "    </tr>\n",
              "    <tr>\n",
              "      <th>2091</th>\n",
              "      <td>BASKIN ROBBINS</td>\n",
              "      <td>8</td>\n",
              "    </tr>\n",
              "    <tr>\n",
              "      <th>2092</th>\n",
              "      <td>CARL'S JR</td>\n",
              "      <td>8</td>\n",
              "    </tr>\n",
              "    <tr>\n",
              "      <th>2093</th>\n",
              "      <td>BLUE BOTTLE COFFEE</td>\n",
              "      <td>9</td>\n",
              "    </tr>\n",
              "    <tr>\n",
              "      <th>2094</th>\n",
              "      <td>FOOD 4 LESS</td>\n",
              "      <td>9</td>\n",
              "    </tr>\n",
              "    <tr>\n",
              "      <th>2095</th>\n",
              "      <td>EL POLLO LOCO</td>\n",
              "      <td>10</td>\n",
              "    </tr>\n",
              "    <tr>\n",
              "      <th>2096</th>\n",
              "      <td>LOUISIANA FRIED CHICKEN</td>\n",
              "      <td>10</td>\n",
              "    </tr>\n",
              "    <tr>\n",
              "      <th>2097</th>\n",
              "      <td>CHIPOTLE MEXICAN GRILL</td>\n",
              "      <td>10</td>\n",
              "    </tr>\n",
              "    <tr>\n",
              "      <th>2098</th>\n",
              "      <td>WINGSTOP</td>\n",
              "      <td>10</td>\n",
              "    </tr>\n",
              "    <tr>\n",
              "      <th>2099</th>\n",
              "      <td>PAPA JOHN'S PIZZA</td>\n",
              "      <td>12</td>\n",
              "    </tr>\n",
              "    <tr>\n",
              "      <th>2100</th>\n",
              "      <td>YOGURTLAND</td>\n",
              "      <td>12</td>\n",
              "    </tr>\n",
              "    <tr>\n",
              "      <th>2101</th>\n",
              "      <td>HONG KONG EXPRESS</td>\n",
              "      <td>12</td>\n",
              "    </tr>\n",
              "    <tr>\n",
              "      <th>2102</th>\n",
              "      <td>TRIMANA</td>\n",
              "      <td>13</td>\n",
              "    </tr>\n",
              "    <tr>\n",
              "      <th>2103</th>\n",
              "      <td>CARL'S JR</td>\n",
              "      <td>14</td>\n",
              "    </tr>\n",
              "    <tr>\n",
              "      <th>2104</th>\n",
              "      <td>DOMINO'S PIZZA</td>\n",
              "      <td>14</td>\n",
              "    </tr>\n",
              "    <tr>\n",
              "      <th>2105</th>\n",
              "      <td>WABA GRILL</td>\n",
              "      <td>14</td>\n",
              "    </tr>\n",
              "    <tr>\n",
              "      <th>2106</th>\n",
              "      <td>DOMINO'S PIZZA</td>\n",
              "      <td>15</td>\n",
              "    </tr>\n",
              "    <tr>\n",
              "      <th>2107</th>\n",
              "      <td>PANDA EXPRESS</td>\n",
              "      <td>16</td>\n",
              "    </tr>\n",
              "    <tr>\n",
              "      <th>2108</th>\n",
              "      <td>JAMBA JUICE</td>\n",
              "      <td>17</td>\n",
              "    </tr>\n",
              "    <tr>\n",
              "      <th>2109</th>\n",
              "      <td>TACO BELL</td>\n",
              "      <td>23</td>\n",
              "    </tr>\n",
              "    <tr>\n",
              "      <th>2110</th>\n",
              "      <td>YOSHINOYA</td>\n",
              "      <td>24</td>\n",
              "    </tr>\n",
              "    <tr>\n",
              "      <th>2111</th>\n",
              "      <td>EL POLLO LOCO</td>\n",
              "      <td>25</td>\n",
              "    </tr>\n",
              "    <tr>\n",
              "      <th>2112</th>\n",
              "      <td>PIZZA HUT</td>\n",
              "      <td>29</td>\n",
              "    </tr>\n",
              "    <tr>\n",
              "      <th>2113</th>\n",
              "      <td>KENTUCKY FRIED CHICKEN</td>\n",
              "      <td>31</td>\n",
              "    </tr>\n",
              "    <tr>\n",
              "      <th>2114</th>\n",
              "      <td>BURGER KING</td>\n",
              "      <td>34</td>\n",
              "    </tr>\n",
              "    <tr>\n",
              "      <th>2115</th>\n",
              "      <td>JACK IN THE BOX</td>\n",
              "      <td>52</td>\n",
              "    </tr>\n",
              "    <tr>\n",
              "      <th>2116</th>\n",
              "      <td>THE COFFEE BEAN &amp; TEA LEAF</td>\n",
              "      <td>61</td>\n",
              "    </tr>\n",
              "    <tr>\n",
              "      <th>2117</th>\n",
              "      <td>MCDONALD'S</td>\n",
              "      <td>82</td>\n",
              "    </tr>\n",
              "    <tr>\n",
              "      <th>2118</th>\n",
              "      <td>STARBUCKS</td>\n",
              "      <td>129</td>\n",
              "    </tr>\n",
              "    <tr>\n",
              "      <th>2119</th>\n",
              "      <td>SUBWAY</td>\n",
              "      <td>152</td>\n",
              "    </tr>\n",
              "  </tbody>\n",
              "</table>\n",
              "</div>\n",
              "      <button class=\"colab-df-convert\" onclick=\"convertToInteractive('df-8526274c-c091-49c0-a701-2de8a172fdea')\"\n",
              "              title=\"Convert this dataframe to an interactive table.\"\n",
              "              style=\"display:none;\">\n",
              "        \n",
              "  <svg xmlns=\"http://www.w3.org/2000/svg\" height=\"24px\"viewBox=\"0 0 24 24\"\n",
              "       width=\"24px\">\n",
              "    <path d=\"M0 0h24v24H0V0z\" fill=\"none\"/>\n",
              "    <path d=\"M18.56 5.44l.94 2.06.94-2.06 2.06-.94-2.06-.94-.94-2.06-.94 2.06-2.06.94zm-11 1L8.5 8.5l.94-2.06 2.06-.94-2.06-.94L8.5 2.5l-.94 2.06-2.06.94zm10 10l.94 2.06.94-2.06 2.06-.94-2.06-.94-.94-2.06-.94 2.06-2.06.94z\"/><path d=\"M17.41 7.96l-1.37-1.37c-.4-.4-.92-.59-1.43-.59-.52 0-1.04.2-1.43.59L10.3 9.45l-7.72 7.72c-.78.78-.78 2.05 0 2.83L4 21.41c.39.39.9.59 1.41.59.51 0 1.02-.2 1.41-.59l7.78-7.78 2.81-2.81c.8-.78.8-2.07 0-2.86zM5.41 20L4 18.59l7.72-7.72 1.47 1.35L5.41 20z\"/>\n",
              "  </svg>\n",
              "      </button>\n",
              "      \n",
              "  <style>\n",
              "    .colab-df-container {\n",
              "      display:flex;\n",
              "      flex-wrap:wrap;\n",
              "      gap: 12px;\n",
              "    }\n",
              "\n",
              "    .colab-df-convert {\n",
              "      background-color: #E8F0FE;\n",
              "      border: none;\n",
              "      border-radius: 50%;\n",
              "      cursor: pointer;\n",
              "      display: none;\n",
              "      fill: #1967D2;\n",
              "      height: 32px;\n",
              "      padding: 0 0 0 0;\n",
              "      width: 32px;\n",
              "    }\n",
              "\n",
              "    .colab-df-convert:hover {\n",
              "      background-color: #E2EBFA;\n",
              "      box-shadow: 0px 1px 2px rgba(60, 64, 67, 0.3), 0px 1px 3px 1px rgba(60, 64, 67, 0.15);\n",
              "      fill: #174EA6;\n",
              "    }\n",
              "\n",
              "    [theme=dark] .colab-df-convert {\n",
              "      background-color: #3B4455;\n",
              "      fill: #D2E3FC;\n",
              "    }\n",
              "\n",
              "    [theme=dark] .colab-df-convert:hover {\n",
              "      background-color: #434B5C;\n",
              "      box-shadow: 0px 1px 3px 1px rgba(0, 0, 0, 0.15);\n",
              "      filter: drop-shadow(0px 1px 2px rgba(0, 0, 0, 0.3));\n",
              "      fill: #FFFFFF;\n",
              "    }\n",
              "  </style>\n",
              "\n",
              "      <script>\n",
              "        const buttonEl =\n",
              "          document.querySelector('#df-8526274c-c091-49c0-a701-2de8a172fdea button.colab-df-convert');\n",
              "        buttonEl.style.display =\n",
              "          google.colab.kernel.accessAllowed ? 'block' : 'none';\n",
              "\n",
              "        async function convertToInteractive(key) {\n",
              "          const element = document.querySelector('#df-8526274c-c091-49c0-a701-2de8a172fdea');\n",
              "          const dataTable =\n",
              "            await google.colab.kernel.invokeFunction('convertToInteractive',\n",
              "                                                     [key], {});\n",
              "          if (!dataTable) return;\n",
              "\n",
              "          const docLinkHtml = 'Like what you see? Visit the ' +\n",
              "            '<a target=\"_blank\" href=https://colab.research.google.com/notebooks/data_table.ipynb>data table notebook</a>'\n",
              "            + ' to learn more about interactive tables.';\n",
              "          element.innerHTML = '';\n",
              "          dataTable['output_type'] = 'display_data';\n",
              "          await google.colab.output.renderOutput(dataTable, element);\n",
              "          const docLink = document.createElement('div');\n",
              "          docLink.innerHTML = docLinkHtml;\n",
              "          element.appendChild(docLink);\n",
              "        }\n",
              "      </script>\n",
              "    </div>\n",
              "  </div>\n",
              "  "
            ]
          },
          "metadata": {},
          "execution_count": 39
        }
      ],
      "source": [
        "# Sort the biggest 30 chains\n",
        "orderd_df = chains[['id', 'chain_name_final']].groupby(['chain_name_final'])\\\n",
        ".count().sort_values(by='id').reset_index().tail(30)\n",
        "orderd_df"
      ]
    },
    {
      "cell_type": "markdown",
      "metadata": {
        "id": "6I0u7M0nYeco"
      },
      "source": [
        "Now we have what we need. Lets' have a look at our 30 biggest chains!"
      ]
    },
    {
      "cell_type": "code",
      "execution_count": 40,
      "metadata": {
        "id": "iC2QltXZYeco"
      },
      "outputs": [],
      "source": [
        "my_range = range(1, 31)"
      ]
    },
    {
      "cell_type": "code",
      "execution_count": 41,
      "metadata": {
        "id": "ys7QYobLYeco",
        "colab": {
          "base_uri": "https://localhost:8080/",
          "height": 623
        },
        "outputId": "7f6a18c6-2610-4f21-fb94-e4cdacd0cedb"
      },
      "outputs": [
        {
          "output_type": "display_data",
          "data": {
            "text/plain": [
              "<Figure size 1224x720 with 1 Axes>"
            ],
            "image/png": "[encoded data removed]"
          },
          "metadata": {
            "needs_background": "light"
          }
        }
      ],
      "source": [
        "fig,ax=plt.subplots(figsize=(17, 10))\n",
        "plt.hlines(y=my_range, xmin=0, xmax=orderd_df['id'], color='darkgreen')\n",
        "plt.plot(orderd_df['id'], my_range, \"o\")\n",
        "plt.yticks(my_range, orderd_df['chain_name_final'])\n",
        "plt.title('Top 30 biggets chains', fontdict={'size':15})\n",
        "plt.xlabel('Number of facilities')\n",
        "plt.ylabel('')\n",
        "\n",
        "plt.show()"
      ]
    },
    {
      "cell_type": "markdown",
      "metadata": {
        "id": "4ED5fD5wYecp"
      },
      "source": [
        "Well, `SUNWAY`, `STARBUCKS` and `MCDONALD'S` are the leaders without surprise. "
      ]
    },
    {
      "cell_type": "markdown",
      "metadata": {
        "id": "MHPmxn0vYecp"
      },
      "source": [
        "Now, lets' check how the amount of facilities in a chain correlates with the median number of seats."
      ]
    },
    {
      "cell_type": "code",
      "execution_count": 42,
      "metadata": {
        "id": "Jj5IND_DYecp"
      },
      "outputs": [],
      "source": [
        "# Filter only the chain establishments\n",
        "chain_seat = chains.groupby(['chain_name_final'], as_index = False)\\\n",
        ".agg({'chain_name_final': 'count', 'number': 'median'}).sort_values(by = 'number', ascending = False)"
      ]
    },
    {
      "cell_type": "code",
      "execution_count": 43,
      "metadata": {
        "id": "3pPegS5AYecp",
        "colab": {
          "base_uri": "https://localhost:8080/",
          "height": 423
        },
        "outputId": "068bcf16-f819-4850-9958-cef8d93184d4"
      },
      "outputs": [
        {
          "output_type": "execute_result",
          "data": {
            "text/plain": [
              "      n_objects  median_seats\n",
              "1292          1         229.0\n",
              "1993          1         227.0\n",
              "322           1         226.0\n",
              "230           1         225.0\n",
              "977           1         225.0\n",
              "...         ...           ...\n",
              "1290          1           1.0\n",
              "827           1           1.0\n",
              "1315          1           1.0\n",
              "522           1           1.0\n",
              "167           1           1.0\n",
              "\n",
              "[2120 rows x 2 columns]"
            ],
            "text/html": [
              "\n",
              "  <div id=\"df-dc97fc01-e1c6-4423-a01d-55e4c2651793\">\n",
              "    <div class=\"colab-df-container\">\n",
              "      <div>\n",
              "<style scoped>\n",
              "    .dataframe tbody tr th:only-of-type {\n",
              "        vertical-align: middle;\n",
              "    }\n",
              "\n",
              "    .dataframe tbody tr th {\n",
              "        vertical-align: top;\n",
              "    }\n",
              "\n",
              "    .dataframe thead th {\n",
              "        text-align: right;\n",
              "    }\n",
              "</style>\n",
              "<table border=\"1\" class=\"dataframe\">\n",
              "  <thead>\n",
              "    <tr style=\"text-align: right;\">\n",
              "      <th></th>\n",
              "      <th>n_objects</th>\n",
              "      <th>median_seats</th>\n",
              "    </tr>\n",
              "  </thead>\n",
              "  <tbody>\n",
              "    <tr>\n",
              "      <th>1292</th>\n",
              "      <td>1</td>\n",
              "      <td>229.0</td>\n",
              "    </tr>\n",
              "    <tr>\n",
              "      <th>1993</th>\n",
              "      <td>1</td>\n",
              "      <td>227.0</td>\n",
              "    </tr>\n",
              "    <tr>\n",
              "      <th>322</th>\n",
              "      <td>1</td>\n",
              "      <td>226.0</td>\n",
              "    </tr>\n",
              "    <tr>\n",
              "      <th>230</th>\n",
              "      <td>1</td>\n",
              "      <td>225.0</td>\n",
              "    </tr>\n",
              "    <tr>\n",
              "      <th>977</th>\n",
              "      <td>1</td>\n",
              "      <td>225.0</td>\n",
              "    </tr>\n",
              "    <tr>\n",
              "      <th>...</th>\n",
              "      <td>...</td>\n",
              "      <td>...</td>\n",
              "    </tr>\n",
              "    <tr>\n",
              "      <th>1290</th>\n",
              "      <td>1</td>\n",
              "      <td>1.0</td>\n",
              "    </tr>\n",
              "    <tr>\n",
              "      <th>827</th>\n",
              "      <td>1</td>\n",
              "      <td>1.0</td>\n",
              "    </tr>\n",
              "    <tr>\n",
              "      <th>1315</th>\n",
              "      <td>1</td>\n",
              "      <td>1.0</td>\n",
              "    </tr>\n",
              "    <tr>\n",
              "      <th>522</th>\n",
              "      <td>1</td>\n",
              "      <td>1.0</td>\n",
              "    </tr>\n",
              "    <tr>\n",
              "      <th>167</th>\n",
              "      <td>1</td>\n",
              "      <td>1.0</td>\n",
              "    </tr>\n",
              "  </tbody>\n",
              "</table>\n",
              "<p>2120 rows × 2 columns</p>\n",
              "</div>\n",
              "      <button class=\"colab-df-convert\" onclick=\"convertToInteractive('df-dc97fc01-e1c6-4423-a01d-55e4c2651793')\"\n",
              "              title=\"Convert this dataframe to an interactive table.\"\n",
              "              style=\"display:none;\">\n",
              "        \n",
              "  <svg xmlns=\"http://www.w3.org/2000/svg\" height=\"24px\"viewBox=\"0 0 24 24\"\n",
              "       width=\"24px\">\n",
              "    <path d=\"M0 0h24v24H0V0z\" fill=\"none\"/>\n",
              "    <path d=\"M18.56 5.44l.94 2.06.94-2.06 2.06-.94-2.06-.94-.94-2.06-.94 2.06-2.06.94zm-11 1L8.5 8.5l.94-2.06 2.06-.94-2.06-.94L8.5 2.5l-.94 2.06-2.06.94zm10 10l.94 2.06.94-2.06 2.06-.94-2.06-.94-.94-2.06-.94 2.06-2.06.94z\"/><path d=\"M17.41 7.96l-1.37-1.37c-.4-.4-.92-.59-1.43-.59-.52 0-1.04.2-1.43.59L10.3 9.45l-7.72 7.72c-.78.78-.78 2.05 0 2.83L4 21.41c.39.39.9.59 1.41.59.51 0 1.02-.2 1.41-.59l7.78-7.78 2.81-2.81c.8-.78.8-2.07 0-2.86zM5.41 20L4 18.59l7.72-7.72 1.47 1.35L5.41 20z\"/>\n",
              "  </svg>\n",
              "      </button>\n",
              "      \n",
              "  <style>\n",
              "    .colab-df-container {\n",
              "      display:flex;\n",
              "      flex-wrap:wrap;\n",
              "      gap: 12px;\n",
              "    }\n",
              "\n",
              "    .colab-df-convert {\n",
              "      background-color: #E8F0FE;\n",
              "      border: none;\n",
              "      border-radius: 50%;\n",
              "      cursor: pointer;\n",
              "      display: none;\n",
              "      fill: #1967D2;\n",
              "      height: 32px;\n",
              "      padding: 0 0 0 0;\n",
              "      width: 32px;\n",
              "    }\n",
              "\n",
              "    .colab-df-convert:hover {\n",
              "      background-color: #E2EBFA;\n",
              "      box-shadow: 0px 1px 2px rgba(60, 64, 67, 0.3), 0px 1px 3px 1px rgba(60, 64, 67, 0.15);\n",
              "      fill: #174EA6;\n",
              "    }\n",
              "\n",
              "    [theme=dark] .colab-df-convert {\n",
              "      background-color: #3B4455;\n",
              "      fill: #D2E3FC;\n",
              "    }\n",
              "\n",
              "    [theme=dark] .colab-df-convert:hover {\n",
              "      background-color: #434B5C;\n",
              "      box-shadow: 0px 1px 3px 1px rgba(0, 0, 0, 0.15);\n",
              "      filter: drop-shadow(0px 1px 2px rgba(0, 0, 0, 0.3));\n",
              "      fill: #FFFFFF;\n",
              "    }\n",
              "  </style>\n",
              "\n",
              "      <script>\n",
              "        const buttonEl =\n",
              "          document.querySelector('#df-dc97fc01-e1c6-4423-a01d-55e4c2651793 button.colab-df-convert');\n",
              "        buttonEl.style.display =\n",
              "          google.colab.kernel.accessAllowed ? 'block' : 'none';\n",
              "\n",
              "        async function convertToInteractive(key) {\n",
              "          const element = document.querySelector('#df-dc97fc01-e1c6-4423-a01d-55e4c2651793');\n",
              "          const dataTable =\n",
              "            await google.colab.kernel.invokeFunction('convertToInteractive',\n",
              "                                                     [key], {});\n",
              "          if (!dataTable) return;\n",
              "\n",
              "          const docLinkHtml = 'Like what you see? Visit the ' +\n",
              "            '<a target=\"_blank\" href=https://colab.research.google.com/notebooks/data_table.ipynb>data table notebook</a>'\n",
              "            + ' to learn more about interactive tables.';\n",
              "          element.innerHTML = '';\n",
              "          dataTable['output_type'] = 'display_data';\n",
              "          await google.colab.output.renderOutput(dataTable, element);\n",
              "          const docLink = document.createElement('div');\n",
              "          docLink.innerHTML = docLinkHtml;\n",
              "          element.appendChild(docLink);\n",
              "        }\n",
              "      </script>\n",
              "    </div>\n",
              "  </div>\n",
              "  "
            ]
          },
          "metadata": {},
          "execution_count": 43
        }
      ],
      "source": [
        "chain_seat.columns = ['n_objects', 'median_seats']\n",
        "chain_seat"
      ]
    },
    {
      "cell_type": "code",
      "execution_count": 44,
      "metadata": {
        "id": "8tdcua5rYecp",
        "colab": {
          "base_uri": "https://localhost:8080/",
          "height": 617
        },
        "outputId": "12097469-8d0e-452e-f383-0aebdd7b38cf"
      },
      "outputs": [
        {
          "output_type": "display_data",
          "data": {
            "text/html": [
              "<html>\n",
              "<head><meta charset=\"utf-8\" /></head>\n",
              "<body>\n",
              "    <div>            <script src=\"https://cdnjs.cloudflare.com/ajax/libs/mathjax/2.7.5/MathJax.js?config=TeX-AMS-MML_SVG\"></script><script type=\"text/javascript\">if (window.MathJax) {MathJax.Hub.Config({SVG: {font: \"STIX-Web\"}});}</script>                <script type=\"text/javascript\">window.PlotlyConfig = {MathJaxConfig: 'local'};</script>\n",
              "        <script src=\"https://cdn.plot.ly/plotly-2.8.3.min.js\"></script>                <div id=\"f696fa58-62a2-41d7-955d-d3f4e468e47a\" class=\"plotly-graph-div\" style=\"height:600px; width:900px;\"></div>            <script type=\"text/javascript\">                                    window.PLOTLYENV=window.PLOTLYENV || {};                                    if (document.getElementById(\"f696fa58-62a2-41d7-955d-d3f4e468e47a\")) {                    Plotly.newPlot(                        \"f696fa58-62a2-41d7-955d-d3f4e468e47a\",                        [{\"marker\":{\"color\":[229.0,227.0,226.0,225.0,225.0,224.0,223.5,222.0,222.0,218.0,216.0,216.0,216.0,212.0,211.0,211.0,209.0,209.0,208.0,206.0,205.0,205.0,205.0,204.0,203.0,203.0,203.0,202.0,202.0,200.0,199.0,199.0,197.5,195.0,195.0,194.5,194.0,194.0,194.0,194.0,192.0,191.0,191.0,190.0,186.0,185.0,184.0,182.0,182.0,182.0,182.0,181.0,181.0,181.0,180.0,178.0,178.0,177.0,177.0,177.0,177.0,177.0,176.0,175.0,172.0,171.0,170.0,170.0,168.0,168.0,167.0,166.0,165.0,164.0,164.0,163.5,162.0,161.0,161.0,160.5,160.0,160.0,160.0,159.0,159.0,158.0,158.0,158.0,157.0,156.5,155.5,155.0,155.0,154.0,153.0,152.0,151.0,148.5,148.0,147.0,147.0,146.0,145.5,145.0,145.0,145.0,145.0,144.0,144.0,144.0,143.0,143.0,143.0,142.0,142.0,142.0,142.0,141.0,141.0,140.0,140.0,139.0,138.0,137.0,137.0,137.0,136.0,136.0,136.0,135.0,135.0,134.0,133.0,133.0,132.0,130.0,130.0,130.0,129.0,129.0,127.0,127.0,126.5,126.0,126.0,126.0,125.0,125.0,125.0,124.0,124.0,123.0,123.0,122.5,122.0,122.0,122.0,120.0,120.0,120.0,119.0,119.0,119.0,119.0,118.0,118.0,118.0,118.0,118.0,118.0,118.0,117.0,117.0,117.0,117.0,117.0,117.0,116.0,116.0,115.0,115.0,114.0,114.0,114.0,114.0,113.0,113.0,112.0,112.0,112.0,111.0,111.0,111.0,111.0,111.0,110.0,110.0,109.5,109.0,109.0,109.0,109.0,108.5,108.0,108.0,107.0,107.0,107.0,107.0,107.0,107.0,106.5,106.0,106.0,106.0,105.0,105.0,105.0,105.0,105.0,104.0,103.5,103.5,103.0,103.0,103.0,102.0,102.0,102.0,102.0,102.0,102.0,101.5,101.0,101.0,100.5,100.0,99.0,99.0,99.0,99.0,99.0,98.5,98.0,97.0,96.0,96.0,96.0,96.0,95.0,95.0,95.0,94.0,94.0,94.0,94.0,93.0,92.5,92.0,92.0,92.0,92.0,91.0,91.0,91.0,91.0,90.0,90.0,90.0,89.0,89.0,88.5,88.0,88.0,88.0,88.0,88.0,88.0,87.0,87.0,86.5,86.0,85.0,85.0,84.0,84.0,84.0,84.0,84.0,84.0,83.5,83.0,83.0,82.0,82.0,82.0,82.0,81.5,80.0,80.0,80.0,80.0,79.5,79.0,79.0,79.0,79.0,78.0,78.0,78.0,78.0,78.0,78.0,77.0,77.0,77.0,77.0,76.5,76.5,76.0,75.0,74.0,74.0,74.0,73.0,73.0,72.5,72.5,72.0,72.0,72.0,71.5,71.5,70.0,70.0,70.0,69.5,69.5,69.0,69.0,69.0,69.0,69.0,69.0,68.0,68.0,68.0,67.5,67.5,67.0,67.0,67.0,67.0,66.0,66.0,66.0,66.0,65.5,65.0,65.0,65.0,65.0,64.0,64.0,64.0,64.0,64.0,64.0,63.0,62.0,62.0,62.0,62.0,62.0,61.5,61.0,60.0,59.0,59.0,58.5,55.5,53.5,53.5,52.0,49.5,49.0,49.0,49.0,49.0,49.0,49.0,49.0,49.0,49.0,49.0,49.0,49.0,49.0,49.0,49.0,49.0,49.0,49.0,49.0,49.0,49.0,49.0,48.0,48.0,48.0,48.0,48.0,48.0,48.0,48.0,48.0,48.0,48.0,48.0,48.0,48.0,48.0,48.0,48.0,48.0,48.0,48.0,48.0,47.5,47.5,47.0,47.0,47.0,47.0,47.0,47.0,47.0,47.0,47.0,47.0,47.0,47.0,47.0,47.0,47.0,46.5,46.5,46.0,46.0,46.0,46.0,46.0,46.0,46.0,46.0,46.0,46.0,46.0,46.0,46.0,46.0,46.0,46.0,46.0,46.0,46.0,46.0,45.5,45.0,45.0,45.0,45.0,45.0,45.0,45.0,45.0,45.0,45.0,45.0,45.0,45.0,45.0,45.0,45.0,45.0,45.0,45.0,45.0,45.0,45.0,45.0,45.0,45.0,45.0,45.0,45.0,45.0,45.0,44.5,44.5,44.0,44.0,44.0,44.0,44.0,44.0,44.0,44.0,44.0,44.0,44.0,44.0,44.0,44.0,44.0,44.0,44.0,44.0,44.0,44.0,44.0,44.0,44.0,43.0,43.0,43.0,43.0,43.0,43.0,43.0,43.0,43.0,43.0,43.0,43.0,43.0,43.0,43.0,43.0,43.0,43.0,43.0,43.0,43.0,42.5,42.5,42.5,42.0,42.0,42.0,42.0,42.0,42.0,42.0,42.0,42.0,42.0,42.0,42.0,42.0,42.0,42.0,42.0,42.0,42.0,42.0,42.0,42.0,42.0,42.0,42.0,42.0,41.5,41.5,41.5,41.5,41.0,41.0,41.0,41.0,41.0,41.0,41.0,41.0,41.0,41.0,41.0,41.0,41.0,41.0,41.0,41.0,41.0,41.0,41.0,41.0,41.0,41.0,40.5,40.5,40.0,40.0,40.0,40.0,40.0,40.0,40.0,40.0,40.0,40.0,40.0,40.0,40.0,40.0,40.0,40.0,40.0,40.0,39.5,39.5,39.5,39.5,39.5,39.0,39.0,39.0,39.0,39.0,39.0,39.0,39.0,39.0,39.0,39.0,39.0,39.0,39.0,39.0,39.0,39.0,39.0,39.0,39.0,39.0,39.0,39.0,39.0,38.0,38.0,38.0,38.0,38.0,38.0,38.0,38.0,38.0,38.0,38.0,38.0,38.0,38.0,38.0,38.0,37.5,37.0,37.0,37.0,37.0,37.0,37.0,37.0,37.0,37.0,37.0,37.0,37.0,37.0,37.0,37.0,37.0,37.0,37.0,37.0,37.0,37.0,36.5,36.0,36.0,36.0,36.0,36.0,36.0,36.0,36.0,36.0,36.0,36.0,36.0,36.0,36.0,36.0,36.0,36.0,36.0,36.0,36.0,36.0,36.0,36.0,36.0,36.0,36.0,36.0,36.0,35.5,35.5,35.5,35.5,35.0,35.0,35.0,35.0,35.0,35.0,35.0,35.0,35.0,35.0,35.0,35.0,35.0,35.0,35.0,35.0,35.0,35.0,35.0,35.0,35.0,35.0,35.0,35.0,34.5,34.5,34.5,34.0,34.0,34.0,34.0,34.0,34.0,34.0,34.0,34.0,34.0,34.0,34.0,34.0,34.0,34.0,34.0,33.5,33.0,33.0,33.0,33.0,33.0,33.0,33.0,33.0,33.0,33.0,33.0,33.0,33.0,33.0,33.0,33.0,33.0,33.0,33.0,33.0,33.0,33.0,33.0,33.0,33.0,33.0,33.0,32.5,32.0,32.0,32.0,32.0,32.0,32.0,32.0,32.0,32.0,32.0,32.0,32.0,32.0,32.0,32.0,32.0,32.0,32.0,32.0,32.0,32.0,31.5,31.0,31.0,31.0,31.0,31.0,31.0,31.0,31.0,31.0,31.0,31.0,31.0,31.0,31.0,31.0,31.0,31.0,31.0,31.0,31.0,30.5,30.5,30.0,29.5,29.5,29.0,29.0,29.0,29.0,29.0,29.0,29.0,29.0,29.0,29.0,29.0,29.0,29.0,29.0,29.0,29.0,29.0,29.0,29.0,29.0,29.0,29.0,29.0,29.0,29.0,29.0,29.0,29.0,29.0,29.0,29.0,29.0,29.0,29.0,29.0,29.0,29.0,29.0,29.0,29.0,28.5,28.5,28.5,28.5,28.0,28.0,28.0,28.0,28.0,28.0,28.0,28.0,28.0,28.0,28.0,28.0,28.0,28.0,28.0,28.0,28.0,28.0,28.0,28.0,28.0,28.0,28.0,28.0,28.0,28.0,28.0,28.0,28.0,28.0,28.0,28.0,28.0,28.0,27.5,27.5,27.5,27.5,27.5,27.5,27.0,27.0,27.0,27.0,27.0,27.0,27.0,27.0,27.0,27.0,27.0,27.0,27.0,27.0,27.0,27.0,27.0,27.0,27.0,27.0,27.0,27.0,27.0,27.0,27.0,27.0,27.0,27.0,27.0,27.0,27.0,27.0,27.0,27.0,27.0,27.0,27.0,27.0,26.5,26.5,26.5,26.5,26.5,26.0,26.0,26.0,26.0,26.0,26.0,26.0,26.0,26.0,26.0,26.0,26.0,26.0,26.0,26.0,26.0,26.0,26.0,26.0,26.0,26.0,26.0,26.0,26.0,26.0,26.0,26.0,26.0,26.0,26.0,26.0,26.0,26.0,26.0,26.0,26.0,26.0,25.5,25.5,25.5,25.5,25.5,25.5,25.0,25.0,25.0,25.0,25.0,25.0,25.0,25.0,25.0,25.0,25.0,25.0,25.0,25.0,25.0,25.0,25.0,25.0,25.0,25.0,25.0,25.0,25.0,25.0,25.0,25.0,25.0,25.0,25.0,25.0,25.0,25.0,25.0,25.0,25.0,24.5,24.5,24.5,24.5,24.5,24.5,24.5,24.5,24.5,24.0,24.0,24.0,24.0,24.0,24.0,24.0,24.0,24.0,24.0,24.0,24.0,24.0,24.0,24.0,24.0,24.0,24.0,24.0,24.0,24.0,24.0,24.0,24.0,24.0,24.0,24.0,24.0,24.0,24.0,24.0,24.0,24.0,24.0,24.0,24.0,24.0,24.0,24.0,24.0,23.5,23.5,23.5,23.5,23.0,23.0,23.0,23.0,23.0,23.0,23.0,23.0,23.0,23.0,23.0,23.0,23.0,23.0,23.0,23.0,23.0,23.0,23.0,23.0,23.0,23.0,23.0,23.0,23.0,23.0,23.0,23.0,23.0,23.0,23.0,23.0,23.0,23.0,23.0,23.0,23.0,23.0,23.0,23.0,23.0,23.0,23.0,23.0,23.0,23.0,22.5,22.5,22.5,22.5,22.5,22.5,22.0,22.0,22.0,22.0,22.0,22.0,22.0,22.0,22.0,22.0,22.0,22.0,22.0,22.0,22.0,22.0,22.0,22.0,22.0,22.0,22.0,22.0,22.0,22.0,22.0,22.0,22.0,22.0,22.0,22.0,22.0,22.0,22.0,22.0,22.0,22.0,22.0,22.0,22.0,22.0,22.0,22.0,22.0,22.0,22.0,22.0,22.0,21.5,21.5,21.5,21.0,21.0,21.0,21.0,21.0,21.0,21.0,21.0,21.0,21.0,21.0,21.0,21.0,21.0,21.0,21.0,21.0,21.0,21.0,21.0,21.0,21.0,21.0,21.0,21.0,21.0,21.0,21.0,21.0,21.0,21.0,21.0,21.0,21.0,21.0,21.0,21.0,21.0,21.0,21.0,21.0,21.0,21.0,21.0,21.0,21.0,21.0,21.0,21.0,21.0,20.5,20.5,20.5,20.5,20.5,20.5,20.0,20.0,20.0,20.0,20.0,20.0,20.0,20.0,20.0,20.0,20.0,20.0,20.0,20.0,20.0,20.0,20.0,20.0,20.0,20.0,20.0,20.0,20.0,20.0,20.0,20.0,20.0,20.0,20.0,20.0,20.0,20.0,20.0,20.0,20.0,20.0,20.0,20.0,20.0,20.0,20.0,20.0,20.0,20.0,20.0,20.0,20.0,20.0,19.5,19.5,19.5,19.5,19.5,19.0,19.0,19.0,19.0,19.0,19.0,19.0,19.0,19.0,19.0,19.0,19.0,19.0,19.0,19.0,19.0,19.0,19.0,19.0,19.0,19.0,19.0,19.0,19.0,19.0,19.0,19.0,19.0,19.0,19.0,19.0,19.0,19.0,19.0,19.0,19.0,19.0,19.0,19.0,19.0,19.0,19.0,19.0,19.0,19.0,18.5,18.5,18.5,18.5,18.5,18.5,18.5,18.5,18.5,18.0,18.0,18.0,18.0,18.0,18.0,18.0,18.0,18.0,18.0,18.0,18.0,18.0,18.0,18.0,18.0,18.0,18.0,18.0,18.0,18.0,18.0,18.0,18.0,18.0,18.0,18.0,18.0,18.0,18.0,18.0,18.0,18.0,18.0,18.0,18.0,18.0,18.0,18.0,18.0,18.0,18.0,18.0,18.0,18.0,18.0,18.0,18.0,18.0,18.0,18.0,18.0,18.0,18.0,18.0,18.0,17.5,17.5,17.5,17.5,17.5,17.5,17.5,17.5,17.0,17.0,17.0,17.0,17.0,17.0,17.0,17.0,17.0,17.0,17.0,17.0,17.0,17.0,17.0,17.0,17.0,17.0,17.0,17.0,17.0,17.0,17.0,17.0,17.0,17.0,17.0,17.0,17.0,17.0,17.0,17.0,17.0,17.0,17.0,17.0,17.0,17.0,17.0,17.0,17.0,17.0,17.0,17.0,17.0,17.0,16.5,16.5,16.5,16.5,16.5,16.5,16.5,16.5,16.0,16.0,16.0,16.0,16.0,16.0,16.0,16.0,16.0,16.0,16.0,16.0,16.0,16.0,16.0,16.0,16.0,16.0,16.0,16.0,16.0,16.0,16.0,16.0,16.0,16.0,16.0,16.0,16.0,16.0,16.0,16.0,16.0,16.0,16.0,16.0,16.0,16.0,16.0,16.0,16.0,16.0,16.0,16.0,16.0,16.0,15.5,15.5,15.5,15.5,15.0,15.0,15.0,15.0,15.0,15.0,15.0,15.0,15.0,15.0,15.0,15.0,15.0,15.0,15.0,15.0,15.0,15.0,15.0,15.0,15.0,15.0,15.0,15.0,15.0,15.0,15.0,15.0,15.0,15.0,15.0,15.0,15.0,15.0,15.0,15.0,14.5,14.5,14.5,14.0,14.0,14.0,14.0,14.0,14.0,14.0,14.0,14.0,14.0,14.0,14.0,14.0,14.0,14.0,14.0,14.0,14.0,14.0,14.0,14.0,14.0,14.0,14.0,14.0,14.0,14.0,14.0,14.0,14.0,14.0,14.0,14.0,14.0,14.0,14.0,14.0,13.5,13.5,13.5,13.5,13.5,13.5,13.5,13.5,13.5,13.0,13.0,13.0,13.0,13.0,13.0,13.0,13.0,13.0,13.0,13.0,13.0,13.0,13.0,13.0,13.0,13.0,13.0,13.0,13.0,13.0,13.0,13.0,13.0,13.0,13.0,13.0,13.0,13.0,13.0,13.0,13.0,13.0,13.0,13.0,13.0,13.0,13.0,13.0,13.0,13.0,13.0,13.0,13.0,12.5,12.5,12.5,12.5,12.5,12.5,12.5,12.5,12.0,12.0,12.0,12.0,12.0,12.0,12.0,12.0,12.0,12.0,12.0,12.0,12.0,12.0,12.0,12.0,12.0,12.0,12.0,12.0,12.0,12.0,12.0,12.0,12.0,12.0,12.0,12.0,12.0,12.0,12.0,12.0,12.0,12.0,12.0,12.0,12.0,12.0,12.0,12.0,12.0,12.0,12.0,12.0,12.0,12.0,11.5,11.5,11.5,11.5,11.5,11.5,11.5,11.0,11.0,11.0,11.0,11.0,11.0,11.0,11.0,11.0,11.0,11.0,11.0,11.0,11.0,11.0,11.0,11.0,11.0,11.0,11.0,11.0,11.0,11.0,11.0,11.0,11.0,11.0,11.0,11.0,11.0,11.0,11.0,11.0,11.0,10.5,10.5,10.5,10.5,10.5,10.5,10.5,10.5,10.0,10.0,10.0,10.0,10.0,10.0,10.0,10.0,10.0,10.0,10.0,10.0,10.0,10.0,10.0,10.0,10.0,10.0,10.0,10.0,10.0,10.0,10.0,10.0,10.0,10.0,10.0,10.0,10.0,10.0,10.0,10.0,10.0,10.0,10.0,10.0,10.0,10.0,10.0,10.0,10.0,9.5,9.5,9.5,9.0,9.0,9.0,9.0,9.0,9.0,9.0,9.0,9.0,9.0,9.0,9.0,9.0,9.0,9.0,9.0,9.0,9.0,9.0,9.0,9.0,9.0,9.0,9.0,9.0,9.0,9.0,9.0,9.0,9.0,9.0,9.0,9.0,9.0,9.0,9.0,9.0,9.0,8.5,8.5,8.5,8.5,8.5,8.5,8.5,8.0,8.0,8.0,8.0,8.0,8.0,8.0,8.0,8.0,8.0,8.0,8.0,8.0,8.0,8.0,8.0,8.0,8.0,8.0,8.0,8.0,8.0,8.0,8.0,8.0,8.0,8.0,8.0,8.0,8.0,8.0,8.0,7.5,7.5,7.5,7.5,7.5,7.0,7.0,7.0,7.0,7.0,7.0,7.0,7.0,7.0,7.0,7.0,7.0,7.0,7.0,7.0,7.0,7.0,7.0,7.0,7.0,7.0,7.0,7.0,7.0,7.0,7.0,7.0,7.0,7.0,7.0,6.0,6.0,6.0,6.0,6.0,6.0,6.0,6.0,6.0,6.0,6.0,6.0,6.0,6.0,6.0,6.0,6.0,6.0,6.0,6.0,6.0,6.0,6.0,6.0,6.0,6.0,6.0,6.0,6.0,6.0,6.0,5.5,5.5,5.5,5.0,5.0,5.0,5.0,5.0,5.0,5.0,5.0,5.0,5.0,5.0,5.0,5.0,5.0,5.0,5.0,5.0,5.0,5.0,5.0,5.0,5.0,5.0,5.0,4.0,4.0,4.0,4.0,4.0,4.0,4.0,4.0,4.0,4.0,4.0,4.0,4.0,4.0,4.0,4.0,4.0,4.0,4.0,4.0,4.0,4.0,4.0,4.0,4.0,4.0,4.0,4.0,4.0,4.0,4.0,4.0,4.0,4.0,4.0,4.0,4.0,4.0,3.5,3.0,3.0,3.0,3.0,3.0,3.0,3.0,3.0,3.0,3.0,3.0,3.0,3.0,3.0,3.0,3.0,3.0,3.0,3.0,3.0,3.0,3.0,3.0,3.0,3.0,3.0,3.0,3.0,3.0,3.0,3.0,3.0,3.0,3.0,3.0,3.0,3.0,3.0,2.5,2.0,2.0,2.0,2.0,2.0,2.0,2.0,2.0,2.0,2.0,2.0,2.0,2.0,2.0,2.0,2.0,2.0,2.0,2.0,2.0,2.0,2.0,2.0,2.0,2.0,2.0,2.0,2.0,2.0,2.0,2.0,2.0,1.0,1.0,1.0,1.0,1.0,1.0,1.0,1.0,1.0,1.0,1.0,1.0,1.0,1.0,1.0,1.0,1.0,1.0,1.0,1.0,1.0,1.0,1.0,1.0,1.0,1.0,1.0,1.0,1.0,1.0,1.0,1.0,1.0,1.0,1.0,1.0],\"colorscale\":[[0.0,\"#440154\"],[0.1111111111111111,\"#482878\"],[0.2222222222222222,\"#3e4989\"],[0.3333333333333333,\"#31688e\"],[0.4444444444444444,\"#26828e\"],[0.5555555555555556,\"#1f9e89\"],[0.6666666666666666,\"#35b779\"],[0.7777777777777778,\"#6ece58\"],[0.8888888888888888,\"#b5de2b\"],[1.0,\"#fde725\"]],\"line\":{\"width\":1}},\"mode\":\"markers\",\"x\":[229.0,227.0,226.0,225.0,225.0,224.0,223.5,222.0,222.0,218.0,216.0,216.0,216.0,212.0,211.0,211.0,209.0,209.0,208.0,206.0,205.0,205.0,205.0,204.0,203.0,203.0,203.0,202.0,202.0,200.0,199.0,199.0,197.5,195.0,195.0,194.5,194.0,194.0,194.0,194.0,192.0,191.0,191.0,190.0,186.0,185.0,184.0,182.0,182.0,182.0,182.0,181.0,181.0,181.0,180.0,178.0,178.0,177.0,177.0,177.0,177.0,177.0,176.0,175.0,172.0,171.0,170.0,170.0,168.0,168.0,167.0,166.0,165.0,164.0,164.0,163.5,162.0,161.0,161.0,160.5,160.0,160.0,160.0,159.0,159.0,158.0,158.0,158.0,157.0,156.5,155.5,155.0,155.0,154.0,153.0,152.0,151.0,148.5,148.0,147.0,147.0,146.0,145.5,145.0,145.0,145.0,145.0,144.0,144.0,144.0,143.0,143.0,143.0,142.0,142.0,142.0,142.0,141.0,141.0,140.0,140.0,139.0,138.0,137.0,137.0,137.0,136.0,136.0,136.0,135.0,135.0,134.0,133.0,133.0,132.0,130.0,130.0,130.0,129.0,129.0,127.0,127.0,126.5,126.0,126.0,126.0,125.0,125.0,125.0,124.0,124.0,123.0,123.0,122.5,122.0,122.0,122.0,120.0,120.0,120.0,119.0,119.0,119.0,119.0,118.0,118.0,118.0,118.0,118.0,118.0,118.0,117.0,117.0,117.0,117.0,117.0,117.0,116.0,116.0,115.0,115.0,114.0,114.0,114.0,114.0,113.0,113.0,112.0,112.0,112.0,111.0,111.0,111.0,111.0,111.0,110.0,110.0,109.5,109.0,109.0,109.0,109.0,108.5,108.0,108.0,107.0,107.0,107.0,107.0,107.0,107.0,106.5,106.0,106.0,106.0,105.0,105.0,105.0,105.0,105.0,104.0,103.5,103.5,103.0,103.0,103.0,102.0,102.0,102.0,102.0,102.0,102.0,101.5,101.0,101.0,100.5,100.0,99.0,99.0,99.0,99.0,99.0,98.5,98.0,97.0,96.0,96.0,96.0,96.0,95.0,95.0,95.0,94.0,94.0,94.0,94.0,93.0,92.5,92.0,92.0,92.0,92.0,91.0,91.0,91.0,91.0,90.0,90.0,90.0,89.0,89.0,88.5,88.0,88.0,88.0,88.0,88.0,88.0,87.0,87.0,86.5,86.0,85.0,85.0,84.0,84.0,84.0,84.0,84.0,84.0,83.5,83.0,83.0,82.0,82.0,82.0,82.0,81.5,80.0,80.0,80.0,80.0,79.5,79.0,79.0,79.0,79.0,78.0,78.0,78.0,78.0,78.0,78.0,77.0,77.0,77.0,77.0,76.5,76.5,76.0,75.0,74.0,74.0,74.0,73.0,73.0,72.5,72.5,72.0,72.0,72.0,71.5,71.5,70.0,70.0,70.0,69.5,69.5,69.0,69.0,69.0,69.0,69.0,69.0,68.0,68.0,68.0,67.5,67.5,67.0,67.0,67.0,67.0,66.0,66.0,66.0,66.0,65.5,65.0,65.0,65.0,65.0,64.0,64.0,64.0,64.0,64.0,64.0,63.0,62.0,62.0,62.0,62.0,62.0,61.5,61.0,60.0,59.0,59.0,58.5,55.5,53.5,53.5,52.0,49.5,49.0,49.0,49.0,49.0,49.0,49.0,49.0,49.0,49.0,49.0,49.0,49.0,49.0,49.0,49.0,49.0,49.0,49.0,49.0,49.0,49.0,49.0,48.0,48.0,48.0,48.0,48.0,48.0,48.0,48.0,48.0,48.0,48.0,48.0,48.0,48.0,48.0,48.0,48.0,48.0,48.0,48.0,48.0,47.5,47.5,47.0,47.0,47.0,47.0,47.0,47.0,47.0,47.0,47.0,47.0,47.0,47.0,47.0,47.0,47.0,46.5,46.5,46.0,46.0,46.0,46.0,46.0,46.0,46.0,46.0,46.0,46.0,46.0,46.0,46.0,46.0,46.0,46.0,46.0,46.0,46.0,46.0,45.5,45.0,45.0,45.0,45.0,45.0,45.0,45.0,45.0,45.0,45.0,45.0,45.0,45.0,45.0,45.0,45.0,45.0,45.0,45.0,45.0,45.0,45.0,45.0,45.0,45.0,45.0,45.0,45.0,45.0,45.0,44.5,44.5,44.0,44.0,44.0,44.0,44.0,44.0,44.0,44.0,44.0,44.0,44.0,44.0,44.0,44.0,44.0,44.0,44.0,44.0,44.0,44.0,44.0,44.0,44.0,43.0,43.0,43.0,43.0,43.0,43.0,43.0,43.0,43.0,43.0,43.0,43.0,43.0,43.0,43.0,43.0,43.0,43.0,43.0,43.0,43.0,42.5,42.5,42.5,42.0,42.0,42.0,42.0,42.0,42.0,42.0,42.0,42.0,42.0,42.0,42.0,42.0,42.0,42.0,42.0,42.0,42.0,42.0,42.0,42.0,42.0,42.0,42.0,42.0,41.5,41.5,41.5,41.5,41.0,41.0,41.0,41.0,41.0,41.0,41.0,41.0,41.0,41.0,41.0,41.0,41.0,41.0,41.0,41.0,41.0,41.0,41.0,41.0,41.0,41.0,40.5,40.5,40.0,40.0,40.0,40.0,40.0,40.0,40.0,40.0,40.0,40.0,40.0,40.0,40.0,40.0,40.0,40.0,40.0,40.0,39.5,39.5,39.5,39.5,39.5,39.0,39.0,39.0,39.0,39.0,39.0,39.0,39.0,39.0,39.0,39.0,39.0,39.0,39.0,39.0,39.0,39.0,39.0,39.0,39.0,39.0,39.0,39.0,39.0,38.0,38.0,38.0,38.0,38.0,38.0,38.0,38.0,38.0,38.0,38.0,38.0,38.0,38.0,38.0,38.0,37.5,37.0,37.0,37.0,37.0,37.0,37.0,37.0,37.0,37.0,37.0,37.0,37.0,37.0,37.0,37.0,37.0,37.0,37.0,37.0,37.0,37.0,36.5,36.0,36.0,36.0,36.0,36.0,36.0,36.0,36.0,36.0,36.0,36.0,36.0,36.0,36.0,36.0,36.0,36.0,36.0,36.0,36.0,36.0,36.0,36.0,36.0,36.0,36.0,36.0,36.0,35.5,35.5,35.5,35.5,35.0,35.0,35.0,35.0,35.0,35.0,35.0,35.0,35.0,35.0,35.0,35.0,35.0,35.0,35.0,35.0,35.0,35.0,35.0,35.0,35.0,35.0,35.0,35.0,34.5,34.5,34.5,34.0,34.0,34.0,34.0,34.0,34.0,34.0,34.0,34.0,34.0,34.0,34.0,34.0,34.0,34.0,34.0,33.5,33.0,33.0,33.0,33.0,33.0,33.0,33.0,33.0,33.0,33.0,33.0,33.0,33.0,33.0,33.0,33.0,33.0,33.0,33.0,33.0,33.0,33.0,33.0,33.0,33.0,33.0,33.0,32.5,32.0,32.0,32.0,32.0,32.0,32.0,32.0,32.0,32.0,32.0,32.0,32.0,32.0,32.0,32.0,32.0,32.0,32.0,32.0,32.0,32.0,31.5,31.0,31.0,31.0,31.0,31.0,31.0,31.0,31.0,31.0,31.0,31.0,31.0,31.0,31.0,31.0,31.0,31.0,31.0,31.0,31.0,30.5,30.5,30.0,29.5,29.5,29.0,29.0,29.0,29.0,29.0,29.0,29.0,29.0,29.0,29.0,29.0,29.0,29.0,29.0,29.0,29.0,29.0,29.0,29.0,29.0,29.0,29.0,29.0,29.0,29.0,29.0,29.0,29.0,29.0,29.0,29.0,29.0,29.0,29.0,29.0,29.0,29.0,29.0,29.0,29.0,28.5,28.5,28.5,28.5,28.0,28.0,28.0,28.0,28.0,28.0,28.0,28.0,28.0,28.0,28.0,28.0,28.0,28.0,28.0,28.0,28.0,28.0,28.0,28.0,28.0,28.0,28.0,28.0,28.0,28.0,28.0,28.0,28.0,28.0,28.0,28.0,28.0,28.0,27.5,27.5,27.5,27.5,27.5,27.5,27.0,27.0,27.0,27.0,27.0,27.0,27.0,27.0,27.0,27.0,27.0,27.0,27.0,27.0,27.0,27.0,27.0,27.0,27.0,27.0,27.0,27.0,27.0,27.0,27.0,27.0,27.0,27.0,27.0,27.0,27.0,27.0,27.0,27.0,27.0,27.0,27.0,27.0,26.5,26.5,26.5,26.5,26.5,26.0,26.0,26.0,26.0,26.0,26.0,26.0,26.0,26.0,26.0,26.0,26.0,26.0,26.0,26.0,26.0,26.0,26.0,26.0,26.0,26.0,26.0,26.0,26.0,26.0,26.0,26.0,26.0,26.0,26.0,26.0,26.0,26.0,26.0,26.0,26.0,26.0,25.5,25.5,25.5,25.5,25.5,25.5,25.0,25.0,25.0,25.0,25.0,25.0,25.0,25.0,25.0,25.0,25.0,25.0,25.0,25.0,25.0,25.0,25.0,25.0,25.0,25.0,25.0,25.0,25.0,25.0,25.0,25.0,25.0,25.0,25.0,25.0,25.0,25.0,25.0,25.0,25.0,24.5,24.5,24.5,24.5,24.5,24.5,24.5,24.5,24.5,24.0,24.0,24.0,24.0,24.0,24.0,24.0,24.0,24.0,24.0,24.0,24.0,24.0,24.0,24.0,24.0,24.0,24.0,24.0,24.0,24.0,24.0,24.0,24.0,24.0,24.0,24.0,24.0,24.0,24.0,24.0,24.0,24.0,24.0,24.0,24.0,24.0,24.0,24.0,24.0,23.5,23.5,23.5,23.5,23.0,23.0,23.0,23.0,23.0,23.0,23.0,23.0,23.0,23.0,23.0,23.0,23.0,23.0,23.0,23.0,23.0,23.0,23.0,23.0,23.0,23.0,23.0,23.0,23.0,23.0,23.0,23.0,23.0,23.0,23.0,23.0,23.0,23.0,23.0,23.0,23.0,23.0,23.0,23.0,23.0,23.0,23.0,23.0,23.0,23.0,22.5,22.5,22.5,22.5,22.5,22.5,22.0,22.0,22.0,22.0,22.0,22.0,22.0,22.0,22.0,22.0,22.0,22.0,22.0,22.0,22.0,22.0,22.0,22.0,22.0,22.0,22.0,22.0,22.0,22.0,22.0,22.0,22.0,22.0,22.0,22.0,22.0,22.0,22.0,22.0,22.0,22.0,22.0,22.0,22.0,22.0,22.0,22.0,22.0,22.0,22.0,22.0,22.0,21.5,21.5,21.5,21.0,21.0,21.0,21.0,21.0,21.0,21.0,21.0,21.0,21.0,21.0,21.0,21.0,21.0,21.0,21.0,21.0,21.0,21.0,21.0,21.0,21.0,21.0,21.0,21.0,21.0,21.0,21.0,21.0,21.0,21.0,21.0,21.0,21.0,21.0,21.0,21.0,21.0,21.0,21.0,21.0,21.0,21.0,21.0,21.0,21.0,21.0,21.0,21.0,21.0,20.5,20.5,20.5,20.5,20.5,20.5,20.0,20.0,20.0,20.0,20.0,20.0,20.0,20.0,20.0,20.0,20.0,20.0,20.0,20.0,20.0,20.0,20.0,20.0,20.0,20.0,20.0,20.0,20.0,20.0,20.0,20.0,20.0,20.0,20.0,20.0,20.0,20.0,20.0,20.0,20.0,20.0,20.0,20.0,20.0,20.0,20.0,20.0,20.0,20.0,20.0,20.0,20.0,20.0,19.5,19.5,19.5,19.5,19.5,19.0,19.0,19.0,19.0,19.0,19.0,19.0,19.0,19.0,19.0,19.0,19.0,19.0,19.0,19.0,19.0,19.0,19.0,19.0,19.0,19.0,19.0,19.0,19.0,19.0,19.0,19.0,19.0,19.0,19.0,19.0,19.0,19.0,19.0,19.0,19.0,19.0,19.0,19.0,19.0,19.0,19.0,19.0,19.0,19.0,18.5,18.5,18.5,18.5,18.5,18.5,18.5,18.5,18.5,18.0,18.0,18.0,18.0,18.0,18.0,18.0,18.0,18.0,18.0,18.0,18.0,18.0,18.0,18.0,18.0,18.0,18.0,18.0,18.0,18.0,18.0,18.0,18.0,18.0,18.0,18.0,18.0,18.0,18.0,18.0,18.0,18.0,18.0,18.0,18.0,18.0,18.0,18.0,18.0,18.0,18.0,18.0,18.0,18.0,18.0,18.0,18.0,18.0,18.0,18.0,18.0,18.0,18.0,18.0,18.0,17.5,17.5,17.5,17.5,17.5,17.5,17.5,17.5,17.0,17.0,17.0,17.0,17.0,17.0,17.0,17.0,17.0,17.0,17.0,17.0,17.0,17.0,17.0,17.0,17.0,17.0,17.0,17.0,17.0,17.0,17.0,17.0,17.0,17.0,17.0,17.0,17.0,17.0,17.0,17.0,17.0,17.0,17.0,17.0,17.0,17.0,17.0,17.0,17.0,17.0,17.0,17.0,17.0,17.0,16.5,16.5,16.5,16.5,16.5,16.5,16.5,16.5,16.0,16.0,16.0,16.0,16.0,16.0,16.0,16.0,16.0,16.0,16.0,16.0,16.0,16.0,16.0,16.0,16.0,16.0,16.0,16.0,16.0,16.0,16.0,16.0,16.0,16.0,16.0,16.0,16.0,16.0,16.0,16.0,16.0,16.0,16.0,16.0,16.0,16.0,16.0,16.0,16.0,16.0,16.0,16.0,16.0,16.0,15.5,15.5,15.5,15.5,15.0,15.0,15.0,15.0,15.0,15.0,15.0,15.0,15.0,15.0,15.0,15.0,15.0,15.0,15.0,15.0,15.0,15.0,15.0,15.0,15.0,15.0,15.0,15.0,15.0,15.0,15.0,15.0,15.0,15.0,15.0,15.0,15.0,15.0,15.0,15.0,14.5,14.5,14.5,14.0,14.0,14.0,14.0,14.0,14.0,14.0,14.0,14.0,14.0,14.0,14.0,14.0,14.0,14.0,14.0,14.0,14.0,14.0,14.0,14.0,14.0,14.0,14.0,14.0,14.0,14.0,14.0,14.0,14.0,14.0,14.0,14.0,14.0,14.0,14.0,14.0,13.5,13.5,13.5,13.5,13.5,13.5,13.5,13.5,13.5,13.0,13.0,13.0,13.0,13.0,13.0,13.0,13.0,13.0,13.0,13.0,13.0,13.0,13.0,13.0,13.0,13.0,13.0,13.0,13.0,13.0,13.0,13.0,13.0,13.0,13.0,13.0,13.0,13.0,13.0,13.0,13.0,13.0,13.0,13.0,13.0,13.0,13.0,13.0,13.0,13.0,13.0,13.0,13.0,12.5,12.5,12.5,12.5,12.5,12.5,12.5,12.5,12.0,12.0,12.0,12.0,12.0,12.0,12.0,12.0,12.0,12.0,12.0,12.0,12.0,12.0,12.0,12.0,12.0,12.0,12.0,12.0,12.0,12.0,12.0,12.0,12.0,12.0,12.0,12.0,12.0,12.0,12.0,12.0,12.0,12.0,12.0,12.0,12.0,12.0,12.0,12.0,12.0,12.0,12.0,12.0,12.0,12.0,11.5,11.5,11.5,11.5,11.5,11.5,11.5,11.0,11.0,11.0,11.0,11.0,11.0,11.0,11.0,11.0,11.0,11.0,11.0,11.0,11.0,11.0,11.0,11.0,11.0,11.0,11.0,11.0,11.0,11.0,11.0,11.0,11.0,11.0,11.0,11.0,11.0,11.0,11.0,11.0,11.0,10.5,10.5,10.5,10.5,10.5,10.5,10.5,10.5,10.0,10.0,10.0,10.0,10.0,10.0,10.0,10.0,10.0,10.0,10.0,10.0,10.0,10.0,10.0,10.0,10.0,10.0,10.0,10.0,10.0,10.0,10.0,10.0,10.0,10.0,10.0,10.0,10.0,10.0,10.0,10.0,10.0,10.0,10.0,10.0,10.0,10.0,10.0,10.0,10.0,9.5,9.5,9.5,9.0,9.0,9.0,9.0,9.0,9.0,9.0,9.0,9.0,9.0,9.0,9.0,9.0,9.0,9.0,9.0,9.0,9.0,9.0,9.0,9.0,9.0,9.0,9.0,9.0,9.0,9.0,9.0,9.0,9.0,9.0,9.0,9.0,9.0,9.0,9.0,9.0,9.0,8.5,8.5,8.5,8.5,8.5,8.5,8.5,8.0,8.0,8.0,8.0,8.0,8.0,8.0,8.0,8.0,8.0,8.0,8.0,8.0,8.0,8.0,8.0,8.0,8.0,8.0,8.0,8.0,8.0,8.0,8.0,8.0,8.0,8.0,8.0,8.0,8.0,8.0,8.0,7.5,7.5,7.5,7.5,7.5,7.0,7.0,7.0,7.0,7.0,7.0,7.0,7.0,7.0,7.0,7.0,7.0,7.0,7.0,7.0,7.0,7.0,7.0,7.0,7.0,7.0,7.0,7.0,7.0,7.0,7.0,7.0,7.0,7.0,7.0,6.0,6.0,6.0,6.0,6.0,6.0,6.0,6.0,6.0,6.0,6.0,6.0,6.0,6.0,6.0,6.0,6.0,6.0,6.0,6.0,6.0,6.0,6.0,6.0,6.0,6.0,6.0,6.0,6.0,6.0,6.0,5.5,5.5,5.5,5.0,5.0,5.0,5.0,5.0,5.0,5.0,5.0,5.0,5.0,5.0,5.0,5.0,5.0,5.0,5.0,5.0,5.0,5.0,5.0,5.0,5.0,5.0,5.0,4.0,4.0,4.0,4.0,4.0,4.0,4.0,4.0,4.0,4.0,4.0,4.0,4.0,4.0,4.0,4.0,4.0,4.0,4.0,4.0,4.0,4.0,4.0,4.0,4.0,4.0,4.0,4.0,4.0,4.0,4.0,4.0,4.0,4.0,4.0,4.0,4.0,4.0,3.5,3.0,3.0,3.0,3.0,3.0,3.0,3.0,3.0,3.0,3.0,3.0,3.0,3.0,3.0,3.0,3.0,3.0,3.0,3.0,3.0,3.0,3.0,3.0,3.0,3.0,3.0,3.0,3.0,3.0,3.0,3.0,3.0,3.0,3.0,3.0,3.0,3.0,3.0,2.5,2.0,2.0,2.0,2.0,2.0,2.0,2.0,2.0,2.0,2.0,2.0,2.0,2.0,2.0,2.0,2.0,2.0,2.0,2.0,2.0,2.0,2.0,2.0,2.0,2.0,2.0,2.0,2.0,2.0,2.0,2.0,2.0,1.0,1.0,1.0,1.0,1.0,1.0,1.0,1.0,1.0,1.0,1.0,1.0,1.0,1.0,1.0,1.0,1.0,1.0,1.0,1.0,1.0,1.0,1.0,1.0,1.0,1.0,1.0,1.0,1.0,1.0,1.0,1.0,1.0,1.0,1.0,1.0],\"y\":[1,1,1,1,1,1,2,1,1,1,1,1,1,1,1,1,1,3,1,1,1,1,1,1,1,1,2,1,2,3,1,1,2,1,1,2,1,1,4,1,1,1,1,1,1,1,2,1,1,2,1,1,1,1,1,1,1,1,1,1,1,1,1,1,2,1,1,1,1,1,1,4,1,1,1,2,1,1,1,2,1,2,1,1,1,1,1,1,3,4,2,1,1,3,1,1,1,2,1,1,1,1,2,1,1,1,1,1,1,3,1,1,1,1,1,1,1,1,1,1,1,1,1,2,1,1,1,1,1,1,1,1,1,1,1,2,1,1,1,1,1,1,2,1,1,1,1,1,1,1,1,1,1,2,1,1,1,1,1,2,1,1,1,1,1,1,14,1,1,1,1,1,1,2,1,1,1,5,3,1,1,2,1,1,1,1,1,1,1,1,1,1,2,1,1,1,1,2,1,1,1,1,2,3,1,1,1,1,1,1,1,2,4,1,1,6,1,1,1,1,2,2,2,1,1,1,1,1,1,1,1,1,2,1,2,2,1,1,1,1,1,1,4,1,1,1,1,2,1,2,1,1,1,2,2,1,1,2,2,1,1,82,1,1,1,1,1,1,1,1,1,2,1,2,1,1,2,2,1,1,2,1,1,1,1,1,1,1,1,1,2,3,1,2,1,1,1,2,1,1,1,1,4,1,1,34,2,1,1,2,1,1,2,1,1,1,1,2,2,1,1,1,1,1,1,2,2,2,4,1,1,2,2,1,1,1,2,2,1,1,1,1,1,1,1,1,1,2,2,1,1,1,1,1,1,1,1,2,1,1,1,1,2,1,2,1,1,1,1,1,1,1,4,2,2,1,2,8,2,2,2,2,2,2,2,1,1,5,1,1,3,1,1,1,25,1,1,1,1,5,1,1,1,1,1,1,1,1,1,1,1,1,1,1,1,1,1,1,1,1,1,1,1,1,1,1,1,1,4,2,10,1,1,1,1,1,1,1,1,1,1,1,1,1,3,6,2,1,1,1,1,1,1,1,1,1,1,1,1,1,1,1,1,1,1,1,1,4,1,1,1,1,1,1,1,1,52,1,1,1,1,1,1,2,1,1,1,1,1,1,1,3,1,1,1,1,1,1,2,2,3,1,1,1,2,1,1,1,1,1,1,3,1,5,1,1,2,1,1,2,1,2,1,1,1,3,3,1,1,1,1,1,1,1,1,1,1,1,1,1,1,1,1,1,2,2,2,1,1,24,1,1,1,1,1,1,1,1,1,1,1,1,1,1,1,1,1,1,1,1,1,1,14,2,2,2,1,1,1,1,1,2,1,3,1,1,2,1,2,1,1,3,1,1,1,1,1,1,4,2,1,1,3,1,1,1,1,1,1,1,2,7,1,1,1,1,1,1,2,2,2,2,2,1,1,1,1,1,1,3,1,1,1,1,1,1,1,1,1,1,1,2,1,1,1,1,1,1,1,1,2,1,1,1,1,1,1,1,1,1,1,1,1,2,1,2,1,31,1,1,1,1,4,1,1,1,1,3,1,1,1,1,1,2,1,2,1,1,1,1,1,1,2,1,1,1,1,2,2,1,2,2,1,1,1,2,10,1,1,1,23,1,1,1,4,2,2,2,1,5,1,2,1,2,1,1,1,2,1,3,1,1,1,1,5,1,1,1,1,1,1,1,16,2,2,1,1,3,1,1,1,1,1,1,1,1,5,1,8,1,1,2,1,1,1,1,1,1,2,1,1,1,1,2,3,1,1,13,1,2,1,1,1,1,1,1,1,1,2,2,2,1,1,1,1,1,1,1,1,1,1,1,1,2,1,1,2,1,1,1,1,6,3,5,1,1,1,1,1,1,1,1,1,1,1,1,1,1,1,2,1,1,2,2,2,2,2,1,1,1,1,1,1,1,1,2,3,2,1,1,1,1,1,1,1,3,1,1,1,1,1,1,1,2,1,1,1,1,1,1,1,2,1,1,1,3,1,2,2,2,2,1,2,1,1,1,1,1,1,1,3,1,1,1,1,1,1,1,1,1,1,1,1,1,1,1,1,1,1,1,1,1,1,1,1,2,2,2,2,4,2,1,1,2,1,1,1,2,2,3,1,1,2,2,1,1,1,1,1,1,1,1,1,1,1,1,1,1,2,9,1,1,1,2,1,2,1,1,1,2,2,4,2,2,1,1,1,1,1,1,1,1,2,1,1,1,1,1,1,1,1,1,3,1,1,1,1,1,1,3,1,3,1,1,2,1,1,1,1,1,1,2,2,2,2,2,2,1,1,1,1,1,1,1,1,1,2,1,1,1,2,1,1,1,1,1,1,1,3,1,1,1,1,1,1,1,1,1,1,1,2,129,2,6,2,2,2,2,4,2,2,3,1,1,1,1,2,1,1,1,1,1,1,1,1,1,1,1,1,2,1,1,1,1,2,1,8,1,1,1,1,1,3,1,1,1,3,1,1,1,1,2,2,4,2,1,1,1,1,1,1,1,1,2,1,3,1,2,3,1,1,1,1,1,1,1,1,1,2,1,1,1,1,1,1,1,3,1,1,1,1,17,1,1,1,1,1,1,1,1,1,2,2,2,2,6,2,1,1,1,1,1,1,3,1,1,1,1,61,1,1,1,3,1,1,1,1,1,1,1,1,1,1,1,1,1,1,1,1,1,1,1,1,2,2,1,1,1,8,1,1,1,1,1,2,2,2,1,1,3,1,1,2,1,1,1,1,1,1,2,1,3,1,1,1,2,1,1,1,1,1,1,1,1,1,4,1,1,2,1,1,1,2,1,1,2,1,3,1,1,1,1,2,3,1,1,1,2,2,2,2,2,2,1,1,2,1,1,1,4,1,1,3,1,3,2,1,1,1,2,2,1,1,1,1,1,3,1,1,1,1,1,2,1,1,1,1,1,1,2,1,1,1,1,2,1,1,1,1,2,2,2,2,2,2,2,2,1,1,1,1,1,1,1,5,1,1,1,1,1,1,1,1,1,1,1,1,1,1,1,1,1,1,1,1,1,1,1,1,2,3,2,1,1,1,2,1,1,1,1,1,2,2,2,4,2,2,2,2,2,1,2,1,1,1,1,1,1,1,3,1,3,1,7,2,1,3,6,1,1,1,12,1,1,1,1,1,1,1,2,1,1,1,1,1,1,1,1,1,1,5,1,1,1,1,1,1,1,1,1,1,1,1,2,1,2,2,2,2,2,2,2,2,2,1,1,7,1,3,2,1,1,1,1,1,2,1,1,1,1,6,1,9,1,1,2,1,1,1,1,1,2,1,1,10,12,1,1,1,1,1,1,1,2,1,1,2,2,1,1,2,2,4,2,2,2,2,2,1,1,1,1,1,1,1,1,1,4,1,1,152,1,1,1,1,1,2,1,1,1,1,1,1,1,2,1,1,1,1,1,1,1,1,3,1,1,1,1,3,1,1,1,2,1,2,2,2,2,1,1,2,5,1,1,1,1,1,1,1,1,1,1,1,1,1,7,2,1,1,3,1,1,1,2,1,1,1,1,1,3,1,1,1,1,2,6,2,2,1,2,5,1,1,14,1,1,1,1,1,1,1,1,1,29,3,1,1,1,1,1,1,1,1,2,2,3,1,1,1,1,1,1,1,3,2,2,4,2,4,2,2,2,2,1,1,1,1,1,1,2,1,1,1,1,1,2,1,1,1,2,3,2,3,1,1,1,1,1,1,1,1,2,1,1,1,1,2,1,1,1,1,1,1,1,1,1,1,2,6,2,2,2,2,2,2,1,3,1,1,1,1,15,1,1,1,5,1,1,1,1,1,3,1,1,3,1,1,1,1,1,1,1,1,1,2,3,1,1,1,1,1,1,1,1,1,3,1,1,1,1,1,2,2,2,2,2,2,2,2,1,1,1,2,1,5,3,1,1,1,1,1,2,1,1,1,1,1,1,1,1,1,1,1,1,1,2,2,1,1,1,1,1,6,2,2,2,2,2,2,2,1,1,1,2,1,1,2,1,1,1,1,1,1,1,1,1,1,1,1,1,1,1,1,5,1,1,1,2,1,1,1,1,1,12,1,1,1,1,2,1,1,4,2,2,1,1,1,1,1,1,1,1,1,1,1,3,1,1,1,1,1,1,1,1,1,1,2,1,1,1,2,1,1,1,1,1,1,1,1,1,3,10,2,2,2,2,2,2,2,1,1,1,1,1,1,1,1,1,3,1,1,1,1,2,2,1,2,1,1,3,1,1,1,1,3,1,1,2,1,1,1,2,2,2,2,2,1,1,2,1,1,1,2,2,1,1,1,1,1,1,2,1,1,2,1,3,1,1,1,1,2,1,1,1,1,2,1,1,1,1,2,1,1,1,1,1,3,1,1,2,1,1,1,1,1,1,1,1,1,1,1,1,3,1,1,1,1,2,2,2,1,1,1,1,2,1,1,1,2,1,1,1,1,1,1,1,1,1,1,1,1,1,1,1,1,1,1,1,1,1,1,1,1,1,1,1,1,1,1,1,1,1,1,1,1,1,1,1,1,1,1,1,1,1,1,1,1,1,1,1,1,1,2,1,1,1,1,1,1,1,1,1,1,1,1,1,1,1,1,1,1,1,1,1,1,1,1,1,1,1,1,1,1,1,1,1,1,1,1,1,1,2,1,1,1,1,1,1,1,1,1,1,1,1,1,1,1,1,1,1,2,1,1,1,1,1,1,1,1,1,1,1,1,1,1,1,1,1,1,1,1,1,1,1,1,1,1,1,1,1,1,1,1,1,1,1,1,1,1,1,1,1,1,1,1,1,1,1,1,1],\"type\":\"scattergl\",\"hoverinfo\":\"all\",\"hovertemplate\":\"median_seats: %{x}<br>n_objects: %{y}\"}],                        {\"template\":{\"data\":{\"bar\":[{\"error_x\":{\"color\":\"#2a3f5f\"},\"error_y\":{\"color\":\"#2a3f5f\"},\"marker\":{\"line\":{\"color\":\"#E5ECF6\",\"width\":0.5},\"pattern\":{\"fillmode\":\"overlay\",\"size\":10,\"solidity\":0.2}},\"type\":\"bar\"}],\"barpolar\":[{\"marker\":{\"line\":{\"color\":\"#E5ECF6\",\"width\":0.5},\"pattern\":{\"fillmode\":\"overlay\",\"size\":10,\"solidity\":0.2}},\"type\":\"barpolar\"}],\"carpet\":[{\"aaxis\":{\"endlinecolor\":\"#2a3f5f\",\"gridcolor\":\"white\",\"linecolor\":\"white\",\"minorgridcolor\":\"white\",\"startlinecolor\":\"#2a3f5f\"},\"baxis\":{\"endlinecolor\":\"#2a3f5f\",\"gridcolor\":\"white\",\"linecolor\":\"white\",\"minorgridcolor\":\"white\",\"startlinecolor\":\"#2a3f5f\"},\"type\":\"carpet\"}],\"choropleth\":[{\"colorbar\":{\"outlinewidth\":0,\"ticks\":\"\"},\"type\":\"choropleth\"}],\"contour\":[{\"colorbar\":{\"outlinewidth\":0,\"ticks\":\"\"},\"colorscale\":[[0.0,\"#0d0887\"],[0.1111111111111111,\"#46039f\"],[0.2222222222222222,\"#7201a8\"],[0.3333333333333333,\"#9c179e\"],[0.4444444444444444,\"#bd3786\"],[0.5555555555555556,\"#d8576b\"],[0.6666666666666666,\"#ed7953\"],[0.7777777777777778,\"#fb9f3a\"],[0.8888888888888888,\"#fdca26\"],[1.0,\"#f0f921\"]],\"type\":\"contour\"}],\"contourcarpet\":[{\"colorbar\":{\"outlinewidth\":0,\"ticks\":\"\"},\"type\":\"contourcarpet\"}],\"heatmap\":[{\"colorbar\":{\"outlinewidth\":0,\"ticks\":\"\"},\"colorscale\":[[0.0,\"#0d0887\"],[0.1111111111111111,\"#46039f\"],[0.2222222222222222,\"#7201a8\"],[0.3333333333333333,\"#9c179e\"],[0.4444444444444444,\"#bd3786\"],[0.5555555555555556,\"#d8576b\"],[0.6666666666666666,\"#ed7953\"],[0.7777777777777778,\"#fb9f3a\"],[0.8888888888888888,\"#fdca26\"],[1.0,\"#f0f921\"]],\"type\":\"heatmap\"}],\"heatmapgl\":[{\"colorbar\":{\"outlinewidth\":0,\"ticks\":\"\"},\"colorscale\":[[0.0,\"#0d0887\"],[0.1111111111111111,\"#46039f\"],[0.2222222222222222,\"#7201a8\"],[0.3333333333333333,\"#9c179e\"],[0.4444444444444444,\"#bd3786\"],[0.5555555555555556,\"#d8576b\"],[0.6666666666666666,\"#ed7953\"],[0.7777777777777778,\"#fb9f3a\"],[0.8888888888888888,\"#fdca26\"],[1.0,\"#f0f921\"]],\"type\":\"heatmapgl\"}],\"histogram\":[{\"marker\":{\"pattern\":{\"fillmode\":\"overlay\",\"size\":10,\"solidity\":0.2}},\"type\":\"histogram\"}],\"histogram2d\":[{\"colorbar\":{\"outlinewidth\":0,\"ticks\":\"\"},\"colorscale\":[[0.0,\"#0d0887\"],[0.1111111111111111,\"#46039f\"],[0.2222222222222222,\"#7201a8\"],[0.3333333333333333,\"#9c179e\"],[0.4444444444444444,\"#bd3786\"],[0.5555555555555556,\"#d8576b\"],[0.6666666666666666,\"#ed7953\"],[0.7777777777777778,\"#fb9f3a\"],[0.8888888888888888,\"#fdca26\"],[1.0,\"#f0f921\"]],\"type\":\"histogram2d\"}],\"histogram2dcontour\":[{\"colorbar\":{\"outlinewidth\":0,\"ticks\":\"\"},\"colorscale\":[[0.0,\"#0d0887\"],[0.1111111111111111,\"#46039f\"],[0.2222222222222222,\"#7201a8\"],[0.3333333333333333,\"#9c179e\"],[0.4444444444444444,\"#bd3786\"],[0.5555555555555556,\"#d8576b\"],[0.6666666666666666,\"#ed7953\"],[0.7777777777777778,\"#fb9f3a\"],[0.8888888888888888,\"#fdca26\"],[1.0,\"#f0f921\"]],\"type\":\"histogram2dcontour\"}],\"mesh3d\":[{\"colorbar\":{\"outlinewidth\":0,\"ticks\":\"\"},\"type\":\"mesh3d\"}],\"parcoords\":[{\"line\":{\"colorbar\":{\"outlinewidth\":0,\"ticks\":\"\"}},\"type\":\"parcoords\"}],\"pie\":[{\"automargin\":true,\"type\":\"pie\"}],\"scatter\":[{\"marker\":{\"colorbar\":{\"outlinewidth\":0,\"ticks\":\"\"}},\"type\":\"scatter\"}],\"scatter3d\":[{\"line\":{\"colorbar\":{\"outlinewidth\":0,\"ticks\":\"\"}},\"marker\":{\"colorbar\":{\"outlinewidth\":0,\"ticks\":\"\"}},\"type\":\"scatter3d\"}],\"scattercarpet\":[{\"marker\":{\"colorbar\":{\"outlinewidth\":0,\"ticks\":\"\"}},\"type\":\"scattercarpet\"}],\"scattergeo\":[{\"marker\":{\"colorbar\":{\"outlinewidth\":0,\"ticks\":\"\"}},\"type\":\"scattergeo\"}],\"scattergl\":[{\"marker\":{\"colorbar\":{\"outlinewidth\":0,\"ticks\":\"\"}},\"type\":\"scattergl\"}],\"scattermapbox\":[{\"marker\":{\"colorbar\":{\"outlinewidth\":0,\"ticks\":\"\"}},\"type\":\"scattermapbox\"}],\"scatterpolar\":[{\"marker\":{\"colorbar\":{\"outlinewidth\":0,\"ticks\":\"\"}},\"type\":\"scatterpolar\"}],\"scatterpolargl\":[{\"marker\":{\"colorbar\":{\"outlinewidth\":0,\"ticks\":\"\"}},\"type\":\"scatterpolargl\"}],\"scatterternary\":[{\"marker\":{\"colorbar\":{\"outlinewidth\":0,\"ticks\":\"\"}},\"type\":\"scatterternary\"}],\"surface\":[{\"colorbar\":{\"outlinewidth\":0,\"ticks\":\"\"},\"colorscale\":[[0.0,\"#0d0887\"],[0.1111111111111111,\"#46039f\"],[0.2222222222222222,\"#7201a8\"],[0.3333333333333333,\"#9c179e\"],[0.4444444444444444,\"#bd3786\"],[0.5555555555555556,\"#d8576b\"],[0.6666666666666666,\"#ed7953\"],[0.7777777777777778,\"#fb9f3a\"],[0.8888888888888888,\"#fdca26\"],[1.0,\"#f0f921\"]],\"type\":\"surface\"}],\"table\":[{\"cells\":{\"fill\":{\"color\":\"#EBF0F8\"},\"line\":{\"color\":\"white\"}},\"header\":{\"fill\":{\"color\":\"#C8D4E3\"},\"line\":{\"color\":\"white\"}},\"type\":\"table\"}]},\"layout\":{\"annotationdefaults\":{\"arrowcolor\":\"#2a3f5f\",\"arrowhead\":0,\"arrowwidth\":1},\"autotypenumbers\":\"strict\",\"coloraxis\":{\"colorbar\":{\"outlinewidth\":0,\"ticks\":\"\"}},\"colorscale\":{\"diverging\":[[0,\"#8e0152\"],[0.1,\"#c51b7d\"],[0.2,\"#de77ae\"],[0.3,\"#f1b6da\"],[0.4,\"#fde0ef\"],[0.5,\"#f7f7f7\"],[0.6,\"#e6f5d0\"],[0.7,\"#b8e186\"],[0.8,\"#7fbc41\"],[0.9,\"#4d9221\"],[1,\"#276419\"]],\"sequential\":[[0.0,\"#0d0887\"],[0.1111111111111111,\"#46039f\"],[0.2222222222222222,\"#7201a8\"],[0.3333333333333333,\"#9c179e\"],[0.4444444444444444,\"#bd3786\"],[0.5555555555555556,\"#d8576b\"],[0.6666666666666666,\"#ed7953\"],[0.7777777777777778,\"#fb9f3a\"],[0.8888888888888888,\"#fdca26\"],[1.0,\"#f0f921\"]],\"sequentialminus\":[[0.0,\"#0d0887\"],[0.1111111111111111,\"#46039f\"],[0.2222222222222222,\"#7201a8\"],[0.3333333333333333,\"#9c179e\"],[0.4444444444444444,\"#bd3786\"],[0.5555555555555556,\"#d8576b\"],[0.6666666666666666,\"#ed7953\"],[0.7777777777777778,\"#fb9f3a\"],[0.8888888888888888,\"#fdca26\"],[1.0,\"#f0f921\"]]},\"colorway\":[\"#636efa\",\"#EF553B\",\"#00cc96\",\"#ab63fa\",\"#FFA15A\",\"#19d3f3\",\"#FF6692\",\"#B6E880\",\"#FF97FF\",\"#FECB52\"],\"font\":{\"color\":\"#2a3f5f\"},\"geo\":{\"bgcolor\":\"white\",\"lakecolor\":\"white\",\"landcolor\":\"#E5ECF6\",\"showlakes\":true,\"showland\":true,\"subunitcolor\":\"white\"},\"hoverlabel\":{\"align\":\"left\"},\"hovermode\":\"closest\",\"mapbox\":{\"style\":\"light\"},\"paper_bgcolor\":\"white\",\"plot_bgcolor\":\"#E5ECF6\",\"polar\":{\"angularaxis\":{\"gridcolor\":\"white\",\"linecolor\":\"white\",\"ticks\":\"\"},\"bgcolor\":\"#E5ECF6\",\"radialaxis\":{\"gridcolor\":\"white\",\"linecolor\":\"white\",\"ticks\":\"\"}},\"scene\":{\"xaxis\":{\"backgroundcolor\":\"#E5ECF6\",\"gridcolor\":\"white\",\"gridwidth\":2,\"linecolor\":\"white\",\"showbackground\":true,\"ticks\":\"\",\"zerolinecolor\":\"white\"},\"yaxis\":{\"backgroundcolor\":\"#E5ECF6\",\"gridcolor\":\"white\",\"gridwidth\":2,\"linecolor\":\"white\",\"showbackground\":true,\"ticks\":\"\",\"zerolinecolor\":\"white\"},\"zaxis\":{\"backgroundcolor\":\"#E5ECF6\",\"gridcolor\":\"white\",\"gridwidth\":2,\"linecolor\":\"white\",\"showbackground\":true,\"ticks\":\"\",\"zerolinecolor\":\"white\"}},\"shapedefaults\":{\"line\":{\"color\":\"#2a3f5f\"}},\"ternary\":{\"aaxis\":{\"gridcolor\":\"white\",\"linecolor\":\"white\",\"ticks\":\"\"},\"baxis\":{\"gridcolor\":\"white\",\"linecolor\":\"white\",\"ticks\":\"\"},\"bgcolor\":\"#E5ECF6\",\"caxis\":{\"gridcolor\":\"white\",\"linecolor\":\"white\",\"ticks\":\"\"}},\"title\":{\"x\":0.05},\"xaxis\":{\"automargin\":true,\"gridcolor\":\"white\",\"linecolor\":\"white\",\"ticks\":\"\",\"title\":{\"standoff\":15},\"zerolinecolor\":\"white\",\"zerolinewidth\":2},\"yaxis\":{\"automargin\":true,\"gridcolor\":\"white\",\"linecolor\":\"white\",\"ticks\":\"\",\"title\":{\"standoff\":15},\"zerolinecolor\":\"white\",\"zerolinewidth\":2}}},\"title\":{\"font\":{\"size\":20},\"text\":\"Scatterplot of median number of seats in chain establismennts\"},\"width\":900,\"height\":600,\"shapes\":[{\"type\":\"line\",\"x0\":0,\"x1\":1,\"xref\":\"x domain\",\"y0\":2.0,\"y1\":2.0,\"yref\":\"y\"},{\"type\":\"line\",\"x0\":106.05000000000007,\"x1\":106.05000000000007,\"xref\":\"x\",\"y0\":0,\"y1\":1,\"yref\":\"y domain\"}],\"xaxis\":{\"title\":{\"text\":\"Median number of seats\"}},\"yaxis\":{\"title\":{\"text\":\"Amount of establishments\"}}},                        {\"responsive\": true}                    ).then(function(){\n",
              "                            \n",
              "var gd = document.getElementById('f696fa58-62a2-41d7-955d-d3f4e468e47a');\n",
              "var x = new MutationObserver(function (mutations, observer) {{\n",
              "        var display = window.getComputedStyle(gd).display;\n",
              "        if (!display || display === 'none') {{\n",
              "            console.log([gd, 'removed!']);\n",
              "            Plotly.purge(gd);\n",
              "            observer.disconnect();\n",
              "        }}\n",
              "}});\n",
              "\n",
              "// Listen for the removal of the full notebook cells\n",
              "var notebookContainer = gd.closest('#notebook-container');\n",
              "if (notebookContainer) {{\n",
              "    x.observe(notebookContainer, {childList: true});\n",
              "}}\n",
              "\n",
              "// Listen for the clearing of the current output cell\n",
              "var outputEl = gd.closest('.output');\n",
              "if (outputEl) {{\n",
              "    x.observe(outputEl, {childList: true});\n",
              "}}\n",
              "\n",
              "                        })                };                            </script>        </div>\n",
              "</body>\n",
              "</html>"
            ]
          },
          "metadata": {}
        }
      ],
      "source": [
        "fig = go.Figure(data=go.Scattergl(\n",
        "    x = chain_seat['median_seats'],\n",
        "    y = chain_seat['n_objects'],\n",
        "    mode='markers',\n",
        "    marker=dict(\n",
        "        color=chain_seat['median_seats'],\n",
        "        colorscale='Viridis',\n",
        "        line_width=1)))\n",
        "\n",
        "fig.update_layout(title_text='Scatterplot of median number of seats in chain establismennts',\n",
        "                  title_font_size=20,\n",
        "                  width=900, height=600)\n",
        "\n",
        "fig.add_hline(y=np.percentile(chain_seat['n_objects'], 90))\n",
        "fig.add_vline(x=np.percentile(chain_seat['median_seats'], 90))\n",
        "fig.update_xaxes(title_text='Median number of seats')\n",
        "fig.update_yaxes(title_text='Amount of establishments')\n",
        "\n",
        "\n",
        "fig.update_traces(hoverinfo='all', hovertemplate='median_seats: %{x}<br>n_objects: %{y}')\n",
        "fig.show()"
      ]
    },
    {
      "cell_type": "markdown",
      "metadata": {
        "id": "_2S0oPlZYecq"
      },
      "source": [
        "So, for chain establisments it is typical to have a small amount of facilities with a large number of seats.\n",
        "\n",
        "Note the dots in the lower left corner - they are our average values, and there we can see that on average there are about 106 seats and 2 facilities in chain establishments."
      ]
    },
    {
      "cell_type": "markdown",
      "metadata": {
        "id": "0BDJo-ecYecq"
      },
      "source": [
        "[**Determine the average number of seats for each type of restaurant. On average, which type of restaurant has the greatest number of seats? Plot graphs.**](#2.5)"
      ]
    },
    {
      "cell_type": "code",
      "execution_count": 45,
      "metadata": {
        "id": "_1PFzTaxYecq",
        "colab": {
          "base_uri": "https://localhost:8080/"
        },
        "outputId": "b7dbcc42-948f-4272-a931-04d464e7236c"
      },
      "outputs": [
        {
          "output_type": "execute_result",
          "data": {
            "text/plain": [
              "count    9651.000000\n",
              "mean       43.695161\n",
              "std        47.622874\n",
              "min         1.000000\n",
              "25%        14.000000\n",
              "50%        27.000000\n",
              "75%        46.000000\n",
              "max       229.000000\n",
              "Name: number, dtype: float64"
            ]
          },
          "metadata": {},
          "execution_count": 45
        }
      ],
      "source": [
        "rest_data['number'].describe()"
      ]
    },
    {
      "cell_type": "markdown",
      "metadata": {
        "id": "6jQ3deesYecq"
      },
      "source": [
        "An average establishment in LA, regardless of what type it is, has 43 seats. But we see that this number is rather close to the 75th quartile than to the 50-th, or the median, so later, when we group our data by the establishment type we should better base the analysis upon the median."
      ]
    },
    {
      "cell_type": "code",
      "execution_count": 46,
      "metadata": {
        "id": "x1sNZHUqYecr"
      },
      "outputs": [],
      "source": [
        "# Calculate the median number of seats\n",
        "seats_by_types = rest_data.groupby(['object_type'], as_index=False)['number']\\\n",
        ".median().sort_values(by='number', ascending=False)"
      ]
    },
    {
      "cell_type": "code",
      "execution_count": 47,
      "metadata": {
        "id": "fB7QhWrfYecr",
        "colab": {
          "base_uri": "https://localhost:8080/",
          "height": 237
        },
        "outputId": "e777ed5a-3b40-448a-dc12-44953a144d8d"
      },
      "outputs": [
        {
          "output_type": "execute_result",
          "data": {
            "text/plain": [
              "<pandas.io.formats.style.Styler at 0x7fa20176fed0>"
            ],
            "text/html": [
              "<style type=\"text/css\">\n",
              "#T_4d0cc_row0_col1 {\n",
              "  width: 10em;\n",
              "  height: 80%;\n",
              "  background: linear-gradient(90deg,#ced7d8 100.0%, transparent 100.0%);\n",
              "}\n",
              "#T_4d0cc_row1_col1 {\n",
              "  width: 10em;\n",
              "  height: 80%;\n",
              "  background: linear-gradient(90deg,#ced7d8 95.5%, transparent 95.5%);\n",
              "}\n",
              "#T_4d0cc_row2_col1, #T_4d0cc_row3_col1 {\n",
              "  width: 10em;\n",
              "  height: 80%;\n",
              "  background: linear-gradient(90deg,#ced7d8 27.3%, transparent 27.3%);\n",
              "}\n",
              "#T_4d0cc_row4_col1 {\n",
              "  width: 10em;\n",
              "  height: 80%;\n",
              "  background: linear-gradient(90deg,#ced7d8 4.5%, transparent 4.5%);\n",
              "}\n",
              "#T_4d0cc_row5_col1 {\n",
              "  width: 10em;\n",
              "  height: 80%;\n",
              "}\n",
              "</style>\n",
              "<table id=\"T_4d0cc_\" class=\"dataframe\">\n",
              "  <thead>\n",
              "    <tr>\n",
              "      <th class=\"blank level0\" >&nbsp;</th>\n",
              "      <th class=\"col_heading level0 col0\" >object_type</th>\n",
              "      <th class=\"col_heading level0 col1\" >number</th>\n",
              "    </tr>\n",
              "  </thead>\n",
              "  <tbody>\n",
              "    <tr>\n",
              "      <th id=\"T_4d0cc_level0_row0\" class=\"row_heading level0 row0\" >5</th>\n",
              "      <td id=\"T_4d0cc_row0_col0\" class=\"data row0 col0\" >Restaurant</td>\n",
              "      <td id=\"T_4d0cc_row0_col1\" class=\"data row0 col1\" >29.000000</td>\n",
              "    </tr>\n",
              "    <tr>\n",
              "      <th id=\"T_4d0cc_level0_row1\" class=\"row_heading level0 row1\" >1</th>\n",
              "      <td id=\"T_4d0cc_row1_col0\" class=\"data row1 col0\" >Bar</td>\n",
              "      <td id=\"T_4d0cc_row1_col1\" class=\"data row1 col1\" >28.500000</td>\n",
              "    </tr>\n",
              "    <tr>\n",
              "      <th id=\"T_4d0cc_level0_row2\" class=\"row_heading level0 row2\" >2</th>\n",
              "      <td id=\"T_4d0cc_row2_col0\" class=\"data row2 col0\" >Cafe</td>\n",
              "      <td id=\"T_4d0cc_row2_col1\" class=\"data row2 col1\" >21.000000</td>\n",
              "    </tr>\n",
              "    <tr>\n",
              "      <th id=\"T_4d0cc_level0_row3\" class=\"row_heading level0 row3\" >3</th>\n",
              "      <td id=\"T_4d0cc_row3_col0\" class=\"data row3 col0\" >Fast Food</td>\n",
              "      <td id=\"T_4d0cc_row3_col1\" class=\"data row3 col1\" >21.000000</td>\n",
              "    </tr>\n",
              "    <tr>\n",
              "      <th id=\"T_4d0cc_level0_row4\" class=\"row_heading level0 row4\" >4</th>\n",
              "      <td id=\"T_4d0cc_row4_col0\" class=\"data row4 col0\" >Pizza</td>\n",
              "      <td id=\"T_4d0cc_row4_col1\" class=\"data row4 col1\" >18.500000</td>\n",
              "    </tr>\n",
              "    <tr>\n",
              "      <th id=\"T_4d0cc_level0_row5\" class=\"row_heading level0 row5\" >0</th>\n",
              "      <td id=\"T_4d0cc_row5_col0\" class=\"data row5 col0\" >Bakery</td>\n",
              "      <td id=\"T_4d0cc_row5_col1\" class=\"data row5 col1\" >18.000000</td>\n",
              "    </tr>\n",
              "  </tbody>\n",
              "</table>\n"
            ]
          },
          "metadata": {},
          "execution_count": 47
        }
      ],
      "source": [
        "seats_by_types.style.bar(color='#ced7d8')"
      ]
    },
    {
      "cell_type": "code",
      "execution_count": 48,
      "metadata": {
        "id": "MvhJxZZ_Yecr",
        "colab": {
          "base_uri": "https://localhost:8080/",
          "height": 617
        },
        "outputId": "262981b3-1e1a-4d02-d26b-26202f0d9efe"
      },
      "outputs": [
        {
          "output_type": "display_data",
          "data": {
            "text/html": [
              "<html>\n",
              "<head><meta charset=\"utf-8\" /></head>\n",
              "<body>\n",
              "    <div>            <script src=\"https://cdnjs.cloudflare.com/ajax/libs/mathjax/2.7.5/MathJax.js?config=TeX-AMS-MML_SVG\"></script><script type=\"text/javascript\">if (window.MathJax) {MathJax.Hub.Config({SVG: {font: \"STIX-Web\"}});}</script>                <script type=\"text/javascript\">window.PlotlyConfig = {MathJaxConfig: 'local'};</script>\n",
              "        <script src=\"https://cdn.plot.ly/plotly-2.8.3.min.js\"></script>                <div id=\"a52a64f0-6eef-40c2-9b3c-ea4c0deed71f\" class=\"plotly-graph-div\" style=\"height:600px; width:900px;\"></div>            <script type=\"text/javascript\">                                    window.PLOTLYENV=window.PLOTLYENV || {};                                    if (document.getElementById(\"a52a64f0-6eef-40c2-9b3c-ea4c0deed71f\")) {                    Plotly.newPlot(                        \"a52a64f0-6eef-40c2-9b3c-ea4c0deed71f\",                        [{\"alignmentgroup\":\"True\",\"hovertemplate\":\"Establishment  type=%{x}<br>Amount of seats=%{text}<extra></extra>\",\"legendgroup\":\"Restaurant\",\"marker\":{\"color\":\"#636efa\",\"pattern\":{\"shape\":\"\"}},\"name\":\"Restaurant (29.0)\",\"offsetgroup\":\"Restaurant\",\"orientation\":\"v\",\"showlegend\":true,\"text\":[29.0],\"textposition\":\"outside\",\"x\":[\"Restaurant\"],\"xaxis\":\"x\",\"y\":[29.0],\"yaxis\":\"y\",\"type\":\"bar\"},{\"alignmentgroup\":\"True\",\"hovertemplate\":\"Establishment  type=%{x}<br>Amount of seats=%{text}<extra></extra>\",\"legendgroup\":\"Bar\",\"marker\":{\"color\":\"#EF553B\",\"pattern\":{\"shape\":\"\"}},\"name\":\"Bar (28.5)\",\"offsetgroup\":\"Bar\",\"orientation\":\"v\",\"showlegend\":true,\"text\":[28.5],\"textposition\":\"outside\",\"x\":[\"Bar\"],\"xaxis\":\"x\",\"y\":[28.5],\"yaxis\":\"y\",\"type\":\"bar\"},{\"alignmentgroup\":\"True\",\"hovertemplate\":\"Establishment  type=%{x}<br>Amount of seats=%{text}<extra></extra>\",\"legendgroup\":\"Cafe\",\"marker\":{\"color\":\"#00cc96\",\"pattern\":{\"shape\":\"\"}},\"name\":\"Cafe (21.0)\",\"offsetgroup\":\"Cafe\",\"orientation\":\"v\",\"showlegend\":true,\"text\":[21.0],\"textposition\":\"outside\",\"x\":[\"Cafe\"],\"xaxis\":\"x\",\"y\":[21.0],\"yaxis\":\"y\",\"type\":\"bar\"},{\"alignmentgroup\":\"True\",\"hovertemplate\":\"Establishment  type=%{x}<br>Amount of seats=%{text}<extra></extra>\",\"legendgroup\":\"Fast Food\",\"marker\":{\"color\":\"#ab63fa\",\"pattern\":{\"shape\":\"\"}},\"name\":\"Fast Food (21.0)\",\"offsetgroup\":\"Fast Food\",\"orientation\":\"v\",\"showlegend\":true,\"text\":[21.0],\"textposition\":\"outside\",\"x\":[\"Fast Food\"],\"xaxis\":\"x\",\"y\":[21.0],\"yaxis\":\"y\",\"type\":\"bar\"},{\"alignmentgroup\":\"True\",\"hovertemplate\":\"Establishment  type=%{x}<br>Amount of seats=%{text}<extra></extra>\",\"legendgroup\":\"Pizza\",\"marker\":{\"color\":\"#FFA15A\",\"pattern\":{\"shape\":\"\"}},\"name\":\"Pizza (18.5)\",\"offsetgroup\":\"Pizza\",\"orientation\":\"v\",\"showlegend\":true,\"text\":[18.5],\"textposition\":\"outside\",\"x\":[\"Pizza\"],\"xaxis\":\"x\",\"y\":[18.5],\"yaxis\":\"y\",\"type\":\"bar\"},{\"alignmentgroup\":\"True\",\"hovertemplate\":\"Establishment  type=%{x}<br>Amount of seats=%{text}<extra></extra>\",\"legendgroup\":\"Bakery\",\"marker\":{\"color\":\"#19d3f3\",\"pattern\":{\"shape\":\"\"}},\"name\":\"Bakery (18.0)\",\"offsetgroup\":\"Bakery\",\"orientation\":\"v\",\"showlegend\":true,\"text\":[18.0],\"textposition\":\"outside\",\"x\":[\"Bakery\"],\"xaxis\":\"x\",\"y\":[18.0],\"yaxis\":\"y\",\"type\":\"bar\"}],                        {\"template\":{\"data\":{\"bar\":[{\"error_x\":{\"color\":\"#2a3f5f\"},\"error_y\":{\"color\":\"#2a3f5f\"},\"marker\":{\"line\":{\"color\":\"#E5ECF6\",\"width\":0.5},\"pattern\":{\"fillmode\":\"overlay\",\"size\":10,\"solidity\":0.2}},\"type\":\"bar\"}],\"barpolar\":[{\"marker\":{\"line\":{\"color\":\"#E5ECF6\",\"width\":0.5},\"pattern\":{\"fillmode\":\"overlay\",\"size\":10,\"solidity\":0.2}},\"type\":\"barpolar\"}],\"carpet\":[{\"aaxis\":{\"endlinecolor\":\"#2a3f5f\",\"gridcolor\":\"white\",\"linecolor\":\"white\",\"minorgridcolor\":\"white\",\"startlinecolor\":\"#2a3f5f\"},\"baxis\":{\"endlinecolor\":\"#2a3f5f\",\"gridcolor\":\"white\",\"linecolor\":\"white\",\"minorgridcolor\":\"white\",\"startlinecolor\":\"#2a3f5f\"},\"type\":\"carpet\"}],\"choropleth\":[{\"colorbar\":{\"outlinewidth\":0,\"ticks\":\"\"},\"type\":\"choropleth\"}],\"contour\":[{\"colorbar\":{\"outlinewidth\":0,\"ticks\":\"\"},\"colorscale\":[[0.0,\"#0d0887\"],[0.1111111111111111,\"#46039f\"],[0.2222222222222222,\"#7201a8\"],[0.3333333333333333,\"#9c179e\"],[0.4444444444444444,\"#bd3786\"],[0.5555555555555556,\"#d8576b\"],[0.6666666666666666,\"#ed7953\"],[0.7777777777777778,\"#fb9f3a\"],[0.8888888888888888,\"#fdca26\"],[1.0,\"#f0f921\"]],\"type\":\"contour\"}],\"contourcarpet\":[{\"colorbar\":{\"outlinewidth\":0,\"ticks\":\"\"},\"type\":\"contourcarpet\"}],\"heatmap\":[{\"colorbar\":{\"outlinewidth\":0,\"ticks\":\"\"},\"colorscale\":[[0.0,\"#0d0887\"],[0.1111111111111111,\"#46039f\"],[0.2222222222222222,\"#7201a8\"],[0.3333333333333333,\"#9c179e\"],[0.4444444444444444,\"#bd3786\"],[0.5555555555555556,\"#d8576b\"],[0.6666666666666666,\"#ed7953\"],[0.7777777777777778,\"#fb9f3a\"],[0.8888888888888888,\"#fdca26\"],[1.0,\"#f0f921\"]],\"type\":\"heatmap\"}],\"heatmapgl\":[{\"colorbar\":{\"outlinewidth\":0,\"ticks\":\"\"},\"colorscale\":[[0.0,\"#0d0887\"],[0.1111111111111111,\"#46039f\"],[0.2222222222222222,\"#7201a8\"],[0.3333333333333333,\"#9c179e\"],[0.4444444444444444,\"#bd3786\"],[0.5555555555555556,\"#d8576b\"],[0.6666666666666666,\"#ed7953\"],[0.7777777777777778,\"#fb9f3a\"],[0.8888888888888888,\"#fdca26\"],[1.0,\"#f0f921\"]],\"type\":\"heatmapgl\"}],\"histogram\":[{\"marker\":{\"pattern\":{\"fillmode\":\"overlay\",\"size\":10,\"solidity\":0.2}},\"type\":\"histogram\"}],\"histogram2d\":[{\"colorbar\":{\"outlinewidth\":0,\"ticks\":\"\"},\"colorscale\":[[0.0,\"#0d0887\"],[0.1111111111111111,\"#46039f\"],[0.2222222222222222,\"#7201a8\"],[0.3333333333333333,\"#9c179e\"],[0.4444444444444444,\"#bd3786\"],[0.5555555555555556,\"#d8576b\"],[0.6666666666666666,\"#ed7953\"],[0.7777777777777778,\"#fb9f3a\"],[0.8888888888888888,\"#fdca26\"],[1.0,\"#f0f921\"]],\"type\":\"histogram2d\"}],\"histogram2dcontour\":[{\"colorbar\":{\"outlinewidth\":0,\"ticks\":\"\"},\"colorscale\":[[0.0,\"#0d0887\"],[0.1111111111111111,\"#46039f\"],[0.2222222222222222,\"#7201a8\"],[0.3333333333333333,\"#9c179e\"],[0.4444444444444444,\"#bd3786\"],[0.5555555555555556,\"#d8576b\"],[0.6666666666666666,\"#ed7953\"],[0.7777777777777778,\"#fb9f3a\"],[0.8888888888888888,\"#fdca26\"],[1.0,\"#f0f921\"]],\"type\":\"histogram2dcontour\"}],\"mesh3d\":[{\"colorbar\":{\"outlinewidth\":0,\"ticks\":\"\"},\"type\":\"mesh3d\"}],\"parcoords\":[{\"line\":{\"colorbar\":{\"outlinewidth\":0,\"ticks\":\"\"}},\"type\":\"parcoords\"}],\"pie\":[{\"automargin\":true,\"type\":\"pie\"}],\"scatter\":[{\"marker\":{\"colorbar\":{\"outlinewidth\":0,\"ticks\":\"\"}},\"type\":\"scatter\"}],\"scatter3d\":[{\"line\":{\"colorbar\":{\"outlinewidth\":0,\"ticks\":\"\"}},\"marker\":{\"colorbar\":{\"outlinewidth\":0,\"ticks\":\"\"}},\"type\":\"scatter3d\"}],\"scattercarpet\":[{\"marker\":{\"colorbar\":{\"outlinewidth\":0,\"ticks\":\"\"}},\"type\":\"scattercarpet\"}],\"scattergeo\":[{\"marker\":{\"colorbar\":{\"outlinewidth\":0,\"ticks\":\"\"}},\"type\":\"scattergeo\"}],\"scattergl\":[{\"marker\":{\"colorbar\":{\"outlinewidth\":0,\"ticks\":\"\"}},\"type\":\"scattergl\"}],\"scattermapbox\":[{\"marker\":{\"colorbar\":{\"outlinewidth\":0,\"ticks\":\"\"}},\"type\":\"scattermapbox\"}],\"scatterpolar\":[{\"marker\":{\"colorbar\":{\"outlinewidth\":0,\"ticks\":\"\"}},\"type\":\"scatterpolar\"}],\"scatterpolargl\":[{\"marker\":{\"colorbar\":{\"outlinewidth\":0,\"ticks\":\"\"}},\"type\":\"scatterpolargl\"}],\"scatterternary\":[{\"marker\":{\"colorbar\":{\"outlinewidth\":0,\"ticks\":\"\"}},\"type\":\"scatterternary\"}],\"surface\":[{\"colorbar\":{\"outlinewidth\":0,\"ticks\":\"\"},\"colorscale\":[[0.0,\"#0d0887\"],[0.1111111111111111,\"#46039f\"],[0.2222222222222222,\"#7201a8\"],[0.3333333333333333,\"#9c179e\"],[0.4444444444444444,\"#bd3786\"],[0.5555555555555556,\"#d8576b\"],[0.6666666666666666,\"#ed7953\"],[0.7777777777777778,\"#fb9f3a\"],[0.8888888888888888,\"#fdca26\"],[1.0,\"#f0f921\"]],\"type\":\"surface\"}],\"table\":[{\"cells\":{\"fill\":{\"color\":\"#EBF0F8\"},\"line\":{\"color\":\"white\"}},\"header\":{\"fill\":{\"color\":\"#C8D4E3\"},\"line\":{\"color\":\"white\"}},\"type\":\"table\"}]},\"layout\":{\"annotationdefaults\":{\"arrowcolor\":\"#2a3f5f\",\"arrowhead\":0,\"arrowwidth\":1},\"autotypenumbers\":\"strict\",\"coloraxis\":{\"colorbar\":{\"outlinewidth\":0,\"ticks\":\"\"}},\"colorscale\":{\"diverging\":[[0,\"#8e0152\"],[0.1,\"#c51b7d\"],[0.2,\"#de77ae\"],[0.3,\"#f1b6da\"],[0.4,\"#fde0ef\"],[0.5,\"#f7f7f7\"],[0.6,\"#e6f5d0\"],[0.7,\"#b8e186\"],[0.8,\"#7fbc41\"],[0.9,\"#4d9221\"],[1,\"#276419\"]],\"sequential\":[[0.0,\"#0d0887\"],[0.1111111111111111,\"#46039f\"],[0.2222222222222222,\"#7201a8\"],[0.3333333333333333,\"#9c179e\"],[0.4444444444444444,\"#bd3786\"],[0.5555555555555556,\"#d8576b\"],[0.6666666666666666,\"#ed7953\"],[0.7777777777777778,\"#fb9f3a\"],[0.8888888888888888,\"#fdca26\"],[1.0,\"#f0f921\"]],\"sequentialminus\":[[0.0,\"#0d0887\"],[0.1111111111111111,\"#46039f\"],[0.2222222222222222,\"#7201a8\"],[0.3333333333333333,\"#9c179e\"],[0.4444444444444444,\"#bd3786\"],[0.5555555555555556,\"#d8576b\"],[0.6666666666666666,\"#ed7953\"],[0.7777777777777778,\"#fb9f3a\"],[0.8888888888888888,\"#fdca26\"],[1.0,\"#f0f921\"]]},\"colorway\":[\"#636efa\",\"#EF553B\",\"#00cc96\",\"#ab63fa\",\"#FFA15A\",\"#19d3f3\",\"#FF6692\",\"#B6E880\",\"#FF97FF\",\"#FECB52\"],\"font\":{\"color\":\"#2a3f5f\"},\"geo\":{\"bgcolor\":\"white\",\"lakecolor\":\"white\",\"landcolor\":\"#E5ECF6\",\"showlakes\":true,\"showland\":true,\"subunitcolor\":\"white\"},\"hoverlabel\":{\"align\":\"left\"},\"hovermode\":\"closest\",\"mapbox\":{\"style\":\"light\"},\"paper_bgcolor\":\"white\",\"plot_bgcolor\":\"#E5ECF6\",\"polar\":{\"angularaxis\":{\"gridcolor\":\"white\",\"linecolor\":\"white\",\"ticks\":\"\"},\"bgcolor\":\"#E5ECF6\",\"radialaxis\":{\"gridcolor\":\"white\",\"linecolor\":\"white\",\"ticks\":\"\"}},\"scene\":{\"xaxis\":{\"backgroundcolor\":\"#E5ECF6\",\"gridcolor\":\"white\",\"gridwidth\":2,\"linecolor\":\"white\",\"showbackground\":true,\"ticks\":\"\",\"zerolinecolor\":\"white\"},\"yaxis\":{\"backgroundcolor\":\"#E5ECF6\",\"gridcolor\":\"white\",\"gridwidth\":2,\"linecolor\":\"white\",\"showbackground\":true,\"ticks\":\"\",\"zerolinecolor\":\"white\"},\"zaxis\":{\"backgroundcolor\":\"#E5ECF6\",\"gridcolor\":\"white\",\"gridwidth\":2,\"linecolor\":\"white\",\"showbackground\":true,\"ticks\":\"\",\"zerolinecolor\":\"white\"}},\"shapedefaults\":{\"line\":{\"color\":\"#2a3f5f\"}},\"ternary\":{\"aaxis\":{\"gridcolor\":\"white\",\"linecolor\":\"white\",\"ticks\":\"\"},\"baxis\":{\"gridcolor\":\"white\",\"linecolor\":\"white\",\"ticks\":\"\"},\"bgcolor\":\"#E5ECF6\",\"caxis\":{\"gridcolor\":\"white\",\"linecolor\":\"white\",\"ticks\":\"\"}},\"title\":{\"x\":0.05},\"xaxis\":{\"automargin\":true,\"gridcolor\":\"white\",\"linecolor\":\"white\",\"ticks\":\"\",\"title\":{\"standoff\":15},\"zerolinecolor\":\"white\",\"zerolinewidth\":2},\"yaxis\":{\"automargin\":true,\"gridcolor\":\"white\",\"linecolor\":\"white\",\"ticks\":\"\",\"title\":{\"standoff\":15},\"zerolinecolor\":\"white\",\"zerolinewidth\":2}}},\"xaxis\":{\"anchor\":\"y\",\"domain\":[0.0,1.0],\"title\":{\"text\":\"Establishment  type\"},\"categoryorder\":\"array\",\"categoryarray\":[\"Restaurant\",\"Bar\",\"Cafe\",\"Fast Food\",\"Pizza\",\"Bakery\"]},\"yaxis\":{\"anchor\":\"x\",\"domain\":[0.0,1.0],\"title\":{\"text\":\"Amount of seats\"}},\"legend\":{\"title\":{\"text\":\"Establishment  type\"},\"tracegroupgap\":0},\"title\":{\"text\":\"Average number of seats in different types of establishments\",\"font\":{\"size\":25}},\"barmode\":\"relative\",\"height\":600,\"width\":900},                        {\"responsive\": true}                    ).then(function(){\n",
              "                            \n",
              "var gd = document.getElementById('a52a64f0-6eef-40c2-9b3c-ea4c0deed71f');\n",
              "var x = new MutationObserver(function (mutations, observer) {{\n",
              "        var display = window.getComputedStyle(gd).display;\n",
              "        if (!display || display === 'none') {{\n",
              "            console.log([gd, 'removed!']);\n",
              "            Plotly.purge(gd);\n",
              "            observer.disconnect();\n",
              "        }}\n",
              "}});\n",
              "\n",
              "// Listen for the removal of the full notebook cells\n",
              "var notebookContainer = gd.closest('#notebook-container');\n",
              "if (notebookContainer) {{\n",
              "    x.observe(notebookContainer, {childList: true});\n",
              "}}\n",
              "\n",
              "// Listen for the clearing of the current output cell\n",
              "var outputEl = gd.closest('.output');\n",
              "if (outputEl) {{\n",
              "    x.observe(outputEl, {childList: true});\n",
              "}}\n",
              "\n",
              "                        })                };                            </script>        </div>\n",
              "</body>\n",
              "</html>"
            ]
          },
          "metadata": {}
        }
      ],
      "source": [
        "fig = px.bar(seats_by_types, x='object_type', y='number', color='object_type',\n",
        "             title = 'Average number of seats in different types of establishments',\n",
        "             width=900, height=600, \n",
        "             labels={'object_type': 'Establishment  type', 'number': 'Amount of seats'}, text='number')\n",
        "fig.update_layout(title_text='Average number of seats in different types of establishments',\n",
        "                  title_font_size=25)\n",
        "fig.update_traces(textposition='outside')\n",
        "for trace, number in zip(fig.data, seats_by_types['number']):\n",
        "    trace.name = trace.name.split('=')[0] + ' (' + str(number) + ')'\n",
        "\n",
        "fig.show()\n"
      ]
    },
    {
      "cell_type": "markdown",
      "metadata": {
        "id": "6vHqjGohYecr"
      },
      "source": [
        "As we can see from the graph the average number of seats is the highest and almost equal for restaurants with 29 seats on average and bars with 28.5 seats on average. Cafes and bars share second place with 21 seats each and 18.5 and 18 seats on average have pizza places and bakaries."
      ]
    },
    {
      "cell_type": "markdown",
      "metadata": {
        "id": "-VQa3r5EYecr"
      },
      "source": [
        "[**Put the data on street names from the address column in a separate column.**](#2.6)"
      ]
    },
    {
      "cell_type": "code",
      "execution_count": 49,
      "metadata": {
        "id": "PpEeEJCoYecr"
      },
      "outputs": [],
      "source": [
        "# Build a function to parse and cleen the address\n",
        "def cleaning_check(raw):\n",
        "    raw_address = usaddress.parse(raw)\n",
        "    dict_address = {}\n",
        "    for i in raw_address:\n",
        "        dict_address.update({i[1]:i[0]})\n",
        "    # This line below checks for normal case with street and number    \n",
        "    if 'StreetName' in dict_address.keys() and 'AddressNumber' in dict_address.keys():\n",
        "        clean_adress = str(dict_address['StreetName'])\n",
        "        return clean_adress\n",
        "    else:\n",
        "        return 'no street or number'"
      ]
    },
    {
      "cell_type": "code",
      "execution_count": 50,
      "metadata": {
        "id": "2DZvjBUtYecs"
      },
      "outputs": [],
      "source": [
        "rest_data['clean_street'] = rest_data.address.apply(cleaning_check)"
      ]
    },
    {
      "cell_type": "markdown",
      "metadata": {
        "id": "-R3-_nqWYecs"
      },
      "source": [
        "We need to check the result for errors"
      ]
    },
    {
      "cell_type": "code",
      "execution_count": 51,
      "metadata": {
        "id": "wdIw_LuPYecs",
        "colab": {
          "base_uri": "https://localhost:8080/",
          "height": 331
        },
        "outputId": "e3f55a34-bb32-46d4-ffb9-5426c744b08f"
      },
      "outputs": [
        {
          "output_type": "execute_result",
          "data": {
            "text/plain": [
              "         id           object_name                  address  chain object_type  \\\n",
              "1888  13674      MAGDALENO DEBBIE            OLVERA ST E17  False  Restaurant   \n",
              "3719  15505            LAS ANITAS             OLVERA ST 26  False  Restaurant   \n",
              "7003  18789           D.K. DONUTS  1033 1/2 LOS ANGELES ST  False   Fast Food   \n",
              "7281  19067         CIELITO LINDO             OLVERA ST 23  False  Restaurant   \n",
              "7319  19105        JUANITA'S CAFE             OLVERA ST 20  False  Restaurant   \n",
              "7321  19107    KITTY'S SNOW CONES              OLVERA ST 2  False  Restaurant   \n",
              "7327  19113        LA NOCHE BUENA             OLVERA ST E8  False  Restaurant   \n",
              "7438  19224         LA GOLONDRINA            OLVERA ST W17  False  Restaurant   \n",
              "7741  19527  RODOLFO'S RESTAURANT              OLVERA ST 5   True  Restaurant   \n",
              "\n",
              "      number         clean_street  \n",
              "1888      15  no street or number  \n",
              "3719      38  no street or number  \n",
              "7003       8  no street or number  \n",
              "7281       2  no street or number  \n",
              "7319      12  no street or number  \n",
              "7321      11  no street or number  \n",
              "7327       1  no street or number  \n",
              "7438     204  no street or number  \n",
              "7741       4  no street or number  "
            ],
            "text/html": [
              "\n",
              "  <div id=\"df-e634abdb-0807-48a5-90fc-e5374cb57f81\">\n",
              "    <div class=\"colab-df-container\">\n",
              "      <div>\n",
              "<style scoped>\n",
              "    .dataframe tbody tr th:only-of-type {\n",
              "        vertical-align: middle;\n",
              "    }\n",
              "\n",
              "    .dataframe tbody tr th {\n",
              "        vertical-align: top;\n",
              "    }\n",
              "\n",
              "    .dataframe thead th {\n",
              "        text-align: right;\n",
              "    }\n",
              "</style>\n",
              "<table border=\"1\" class=\"dataframe\">\n",
              "  <thead>\n",
              "    <tr style=\"text-align: right;\">\n",
              "      <th></th>\n",
              "      <th>id</th>\n",
              "      <th>object_name</th>\n",
              "      <th>address</th>\n",
              "      <th>chain</th>\n",
              "      <th>object_type</th>\n",
              "      <th>number</th>\n",
              "      <th>clean_street</th>\n",
              "    </tr>\n",
              "  </thead>\n",
              "  <tbody>\n",
              "    <tr>\n",
              "      <th>1888</th>\n",
              "      <td>13674</td>\n",
              "      <td>MAGDALENO DEBBIE</td>\n",
              "      <td>OLVERA ST E17</td>\n",
              "      <td>False</td>\n",
              "      <td>Restaurant</td>\n",
              "      <td>15</td>\n",
              "      <td>no street or number</td>\n",
              "    </tr>\n",
              "    <tr>\n",
              "      <th>3719</th>\n",
              "      <td>15505</td>\n",
              "      <td>LAS ANITAS</td>\n",
              "      <td>OLVERA ST 26</td>\n",
              "      <td>False</td>\n",
              "      <td>Restaurant</td>\n",
              "      <td>38</td>\n",
              "      <td>no street or number</td>\n",
              "    </tr>\n",
              "    <tr>\n",
              "      <th>7003</th>\n",
              "      <td>18789</td>\n",
              "      <td>D.K. DONUTS</td>\n",
              "      <td>1033 1/2 LOS ANGELES ST</td>\n",
              "      <td>False</td>\n",
              "      <td>Fast Food</td>\n",
              "      <td>8</td>\n",
              "      <td>no street or number</td>\n",
              "    </tr>\n",
              "    <tr>\n",
              "      <th>7281</th>\n",
              "      <td>19067</td>\n",
              "      <td>CIELITO LINDO</td>\n",
              "      <td>OLVERA ST 23</td>\n",
              "      <td>False</td>\n",
              "      <td>Restaurant</td>\n",
              "      <td>2</td>\n",
              "      <td>no street or number</td>\n",
              "    </tr>\n",
              "    <tr>\n",
              "      <th>7319</th>\n",
              "      <td>19105</td>\n",
              "      <td>JUANITA'S CAFE</td>\n",
              "      <td>OLVERA ST 20</td>\n",
              "      <td>False</td>\n",
              "      <td>Restaurant</td>\n",
              "      <td>12</td>\n",
              "      <td>no street or number</td>\n",
              "    </tr>\n",
              "    <tr>\n",
              "      <th>7321</th>\n",
              "      <td>19107</td>\n",
              "      <td>KITTY'S SNOW CONES</td>\n",
              "      <td>OLVERA ST 2</td>\n",
              "      <td>False</td>\n",
              "      <td>Restaurant</td>\n",
              "      <td>11</td>\n",
              "      <td>no street or number</td>\n",
              "    </tr>\n",
              "    <tr>\n",
              "      <th>7327</th>\n",
              "      <td>19113</td>\n",
              "      <td>LA NOCHE BUENA</td>\n",
              "      <td>OLVERA ST E8</td>\n",
              "      <td>False</td>\n",
              "      <td>Restaurant</td>\n",
              "      <td>1</td>\n",
              "      <td>no street or number</td>\n",
              "    </tr>\n",
              "    <tr>\n",
              "      <th>7438</th>\n",
              "      <td>19224</td>\n",
              "      <td>LA GOLONDRINA</td>\n",
              "      <td>OLVERA ST W17</td>\n",
              "      <td>False</td>\n",
              "      <td>Restaurant</td>\n",
              "      <td>204</td>\n",
              "      <td>no street or number</td>\n",
              "    </tr>\n",
              "    <tr>\n",
              "      <th>7741</th>\n",
              "      <td>19527</td>\n",
              "      <td>RODOLFO'S RESTAURANT</td>\n",
              "      <td>OLVERA ST 5</td>\n",
              "      <td>True</td>\n",
              "      <td>Restaurant</td>\n",
              "      <td>4</td>\n",
              "      <td>no street or number</td>\n",
              "    </tr>\n",
              "  </tbody>\n",
              "</table>\n",
              "</div>\n",
              "      <button class=\"colab-df-convert\" onclick=\"convertToInteractive('df-e634abdb-0807-48a5-90fc-e5374cb57f81')\"\n",
              "              title=\"Convert this dataframe to an interactive table.\"\n",
              "              style=\"display:none;\">\n",
              "        \n",
              "  <svg xmlns=\"http://www.w3.org/2000/svg\" height=\"24px\"viewBox=\"0 0 24 24\"\n",
              "       width=\"24px\">\n",
              "    <path d=\"M0 0h24v24H0V0z\" fill=\"none\"/>\n",
              "    <path d=\"M18.56 5.44l.94 2.06.94-2.06 2.06-.94-2.06-.94-.94-2.06-.94 2.06-2.06.94zm-11 1L8.5 8.5l.94-2.06 2.06-.94-2.06-.94L8.5 2.5l-.94 2.06-2.06.94zm10 10l.94 2.06.94-2.06 2.06-.94-2.06-.94-.94-2.06-.94 2.06-2.06.94z\"/><path d=\"M17.41 7.96l-1.37-1.37c-.4-.4-.92-.59-1.43-.59-.52 0-1.04.2-1.43.59L10.3 9.45l-7.72 7.72c-.78.78-.78 2.05 0 2.83L4 21.41c.39.39.9.59 1.41.59.51 0 1.02-.2 1.41-.59l7.78-7.78 2.81-2.81c.8-.78.8-2.07 0-2.86zM5.41 20L4 18.59l7.72-7.72 1.47 1.35L5.41 20z\"/>\n",
              "  </svg>\n",
              "      </button>\n",
              "      \n",
              "  <style>\n",
              "    .colab-df-container {\n",
              "      display:flex;\n",
              "      flex-wrap:wrap;\n",
              "      gap: 12px;\n",
              "    }\n",
              "\n",
              "    .colab-df-convert {\n",
              "      background-color: #E8F0FE;\n",
              "      border: none;\n",
              "      border-radius: 50%;\n",
              "      cursor: pointer;\n",
              "      display: none;\n",
              "      fill: #1967D2;\n",
              "      height: 32px;\n",
              "      padding: 0 0 0 0;\n",
              "      width: 32px;\n",
              "    }\n",
              "\n",
              "    .colab-df-convert:hover {\n",
              "      background-color: #E2EBFA;\n",
              "      box-shadow: 0px 1px 2px rgba(60, 64, 67, 0.3), 0px 1px 3px 1px rgba(60, 64, 67, 0.15);\n",
              "      fill: #174EA6;\n",
              "    }\n",
              "\n",
              "    [theme=dark] .colab-df-convert {\n",
              "      background-color: #3B4455;\n",
              "      fill: #D2E3FC;\n",
              "    }\n",
              "\n",
              "    [theme=dark] .colab-df-convert:hover {\n",
              "      background-color: #434B5C;\n",
              "      box-shadow: 0px 1px 3px 1px rgba(0, 0, 0, 0.15);\n",
              "      filter: drop-shadow(0px 1px 2px rgba(0, 0, 0, 0.3));\n",
              "      fill: #FFFFFF;\n",
              "    }\n",
              "  </style>\n",
              "\n",
              "      <script>\n",
              "        const buttonEl =\n",
              "          document.querySelector('#df-e634abdb-0807-48a5-90fc-e5374cb57f81 button.colab-df-convert');\n",
              "        buttonEl.style.display =\n",
              "          google.colab.kernel.accessAllowed ? 'block' : 'none';\n",
              "\n",
              "        async function convertToInteractive(key) {\n",
              "          const element = document.querySelector('#df-e634abdb-0807-48a5-90fc-e5374cb57f81');\n",
              "          const dataTable =\n",
              "            await google.colab.kernel.invokeFunction('convertToInteractive',\n",
              "                                                     [key], {});\n",
              "          if (!dataTable) return;\n",
              "\n",
              "          const docLinkHtml = 'Like what you see? Visit the ' +\n",
              "            '<a target=\"_blank\" href=https://colab.research.google.com/notebooks/data_table.ipynb>data table notebook</a>'\n",
              "            + ' to learn more about interactive tables.';\n",
              "          element.innerHTML = '';\n",
              "          dataTable['output_type'] = 'display_data';\n",
              "          await google.colab.output.renderOutput(dataTable, element);\n",
              "          const docLink = document.createElement('div');\n",
              "          docLink.innerHTML = docLinkHtml;\n",
              "          element.appendChild(docLink);\n",
              "        }\n",
              "      </script>\n",
              "    </div>\n",
              "  </div>\n",
              "  "
            ]
          },
          "metadata": {},
          "execution_count": 51
        }
      ],
      "source": [
        "rest_data[rest_data['clean_street'] == 'no street or number']"
      ]
    },
    {
      "cell_type": "markdown",
      "metadata": {
        "id": "9BSV2H8yYecs"
      },
      "source": [
        "Some of the street names were not processed properly by the usaddress package, but there are quite few names, so we can fix this manualy."
      ]
    },
    {
      "cell_type": "code",
      "execution_count": 52,
      "metadata": {
        "id": "2FSCUmuAYecs"
      },
      "outputs": [],
      "source": [
        "def cleaning_final(raw):\n",
        "    if raw.startswith('OLVERA'):\n",
        "        clean_adress = 'OLVERA'\n",
        "    elif raw.startswith('1033 1/2 LOS ANGELES'):\n",
        "        clean_adress='1033 1/2 LOS ANGELES ST'\n",
        "    else:\n",
        "        raw_address = usaddress.parse(raw)\n",
        "        dict_address = {}\n",
        "        for i in raw_address:\n",
        "            dict_address.update({i[1]:i[0]})\n",
        "        clean_adress = str(dict_address['StreetName']).upper()\n",
        "    return clean_adress"
      ]
    },
    {
      "cell_type": "code",
      "execution_count": 53,
      "metadata": {
        "id": "xHjj0k7yYecs",
        "colab": {
          "base_uri": "https://localhost:8080/",
          "height": 363
        },
        "outputId": "eeee6811-c63e-4e81-984f-bdd94433a551"
      },
      "outputs": [
        {
          "output_type": "execute_result",
          "data": {
            "text/plain": [
              "         id             object_name                   address  chain  \\\n",
              "4301  16087               NANBANKAN   11330 SANTA MONICA BLVD  False   \n",
              "4398  16184   CBS EXECUTIVE KITCHEN         7800 BEVERLY BLVD  False   \n",
              "926   12712             LACMA PLAZA      5905 W WILSHIRE BLVD  False   \n",
              "4859  16645       RALPHS MARKET #44       12057 WILSHIRE BLVD   True   \n",
              "9300  21086  RAMONA'S FOOD PRODUCTS       6900 S SAN PEDRO ST   True   \n",
              "1097  12883                 BEBINCA  1001 S VERMONT AVE # 107  False   \n",
              "9620  21406    PSM PASEO SAN MIGUEL          4626 AVALON BLVD  False   \n",
              "3553  15339           EGG ROLL KING    3111 N SAN FERNANDO RD  False   \n",
              "9215  21001  STARBUCKS COFFEE #5995        1850 W SLAUSON AVE   True   \n",
              "348   12134  CATALINA'S BAR & GRILL        6725 W SUNSET BLVD  False   \n",
              "\n",
              "     object_type  number clean_street clean_street_final  \n",
              "4301  Restaurant      44       MONICA             MONICA  \n",
              "4398  Restaurant      18      BEVERLY            BEVERLY  \n",
              "926   Restaurant     125     WILSHIRE           WILSHIRE  \n",
              "4859        Cafe      27     WILSHIRE           WILSHIRE  \n",
              "9300  Restaurant      27        PEDRO              PEDRO  \n",
              "1097  Restaurant       6      VERMONT            VERMONT  \n",
              "9620  Restaurant       4       AVALON             AVALON  \n",
              "3553  Restaurant      22     FERNANDO           FERNANDO  \n",
              "9215        Cafe      49      SLAUSON            SLAUSON  \n",
              "348   Restaurant     185       SUNSET             SUNSET  "
            ],
            "text/html": [
              "\n",
              "  <div id=\"df-5ca7e24d-32aa-4a96-9382-e64f2e41f11b\">\n",
              "    <div class=\"colab-df-container\">\n",
              "      <div>\n",
              "<style scoped>\n",
              "    .dataframe tbody tr th:only-of-type {\n",
              "        vertical-align: middle;\n",
              "    }\n",
              "\n",
              "    .dataframe tbody tr th {\n",
              "        vertical-align: top;\n",
              "    }\n",
              "\n",
              "    .dataframe thead th {\n",
              "        text-align: right;\n",
              "    }\n",
              "</style>\n",
              "<table border=\"1\" class=\"dataframe\">\n",
              "  <thead>\n",
              "    <tr style=\"text-align: right;\">\n",
              "      <th></th>\n",
              "      <th>id</th>\n",
              "      <th>object_name</th>\n",
              "      <th>address</th>\n",
              "      <th>chain</th>\n",
              "      <th>object_type</th>\n",
              "      <th>number</th>\n",
              "      <th>clean_street</th>\n",
              "      <th>clean_street_final</th>\n",
              "    </tr>\n",
              "  </thead>\n",
              "  <tbody>\n",
              "    <tr>\n",
              "      <th>4301</th>\n",
              "      <td>16087</td>\n",
              "      <td>NANBANKAN</td>\n",
              "      <td>11330 SANTA MONICA BLVD</td>\n",
              "      <td>False</td>\n",
              "      <td>Restaurant</td>\n",
              "      <td>44</td>\n",
              "      <td>MONICA</td>\n",
              "      <td>MONICA</td>\n",
              "    </tr>\n",
              "    <tr>\n",
              "      <th>4398</th>\n",
              "      <td>16184</td>\n",
              "      <td>CBS EXECUTIVE KITCHEN</td>\n",
              "      <td>7800 BEVERLY BLVD</td>\n",
              "      <td>False</td>\n",
              "      <td>Restaurant</td>\n",
              "      <td>18</td>\n",
              "      <td>BEVERLY</td>\n",
              "      <td>BEVERLY</td>\n",
              "    </tr>\n",
              "    <tr>\n",
              "      <th>926</th>\n",
              "      <td>12712</td>\n",
              "      <td>LACMA PLAZA</td>\n",
              "      <td>5905 W WILSHIRE BLVD</td>\n",
              "      <td>False</td>\n",
              "      <td>Restaurant</td>\n",
              "      <td>125</td>\n",
              "      <td>WILSHIRE</td>\n",
              "      <td>WILSHIRE</td>\n",
              "    </tr>\n",
              "    <tr>\n",
              "      <th>4859</th>\n",
              "      <td>16645</td>\n",
              "      <td>RALPHS MARKET #44</td>\n",
              "      <td>12057 WILSHIRE BLVD</td>\n",
              "      <td>True</td>\n",
              "      <td>Cafe</td>\n",
              "      <td>27</td>\n",
              "      <td>WILSHIRE</td>\n",
              "      <td>WILSHIRE</td>\n",
              "    </tr>\n",
              "    <tr>\n",
              "      <th>9300</th>\n",
              "      <td>21086</td>\n",
              "      <td>RAMONA'S FOOD PRODUCTS</td>\n",
              "      <td>6900 S SAN PEDRO ST</td>\n",
              "      <td>True</td>\n",
              "      <td>Restaurant</td>\n",
              "      <td>27</td>\n",
              "      <td>PEDRO</td>\n",
              "      <td>PEDRO</td>\n",
              "    </tr>\n",
              "    <tr>\n",
              "      <th>1097</th>\n",
              "      <td>12883</td>\n",
              "      <td>BEBINCA</td>\n",
              "      <td>1001 S VERMONT AVE # 107</td>\n",
              "      <td>False</td>\n",
              "      <td>Restaurant</td>\n",
              "      <td>6</td>\n",
              "      <td>VERMONT</td>\n",
              "      <td>VERMONT</td>\n",
              "    </tr>\n",
              "    <tr>\n",
              "      <th>9620</th>\n",
              "      <td>21406</td>\n",
              "      <td>PSM PASEO SAN MIGUEL</td>\n",
              "      <td>4626 AVALON BLVD</td>\n",
              "      <td>False</td>\n",
              "      <td>Restaurant</td>\n",
              "      <td>4</td>\n",
              "      <td>AVALON</td>\n",
              "      <td>AVALON</td>\n",
              "    </tr>\n",
              "    <tr>\n",
              "      <th>3553</th>\n",
              "      <td>15339</td>\n",
              "      <td>EGG ROLL KING</td>\n",
              "      <td>3111 N SAN FERNANDO RD</td>\n",
              "      <td>False</td>\n",
              "      <td>Restaurant</td>\n",
              "      <td>22</td>\n",
              "      <td>FERNANDO</td>\n",
              "      <td>FERNANDO</td>\n",
              "    </tr>\n",
              "    <tr>\n",
              "      <th>9215</th>\n",
              "      <td>21001</td>\n",
              "      <td>STARBUCKS COFFEE #5995</td>\n",
              "      <td>1850 W SLAUSON AVE</td>\n",
              "      <td>True</td>\n",
              "      <td>Cafe</td>\n",
              "      <td>49</td>\n",
              "      <td>SLAUSON</td>\n",
              "      <td>SLAUSON</td>\n",
              "    </tr>\n",
              "    <tr>\n",
              "      <th>348</th>\n",
              "      <td>12134</td>\n",
              "      <td>CATALINA'S BAR &amp; GRILL</td>\n",
              "      <td>6725 W SUNSET BLVD</td>\n",
              "      <td>False</td>\n",
              "      <td>Restaurant</td>\n",
              "      <td>185</td>\n",
              "      <td>SUNSET</td>\n",
              "      <td>SUNSET</td>\n",
              "    </tr>\n",
              "  </tbody>\n",
              "</table>\n",
              "</div>\n",
              "      <button class=\"colab-df-convert\" onclick=\"convertToInteractive('df-5ca7e24d-32aa-4a96-9382-e64f2e41f11b')\"\n",
              "              title=\"Convert this dataframe to an interactive table.\"\n",
              "              style=\"display:none;\">\n",
              "        \n",
              "  <svg xmlns=\"http://www.w3.org/2000/svg\" height=\"24px\"viewBox=\"0 0 24 24\"\n",
              "       width=\"24px\">\n",
              "    <path d=\"M0 0h24v24H0V0z\" fill=\"none\"/>\n",
              "    <path d=\"M18.56 5.44l.94 2.06.94-2.06 2.06-.94-2.06-.94-.94-2.06-.94 2.06-2.06.94zm-11 1L8.5 8.5l.94-2.06 2.06-.94-2.06-.94L8.5 2.5l-.94 2.06-2.06.94zm10 10l.94 2.06.94-2.06 2.06-.94-2.06-.94-.94-2.06-.94 2.06-2.06.94z\"/><path d=\"M17.41 7.96l-1.37-1.37c-.4-.4-.92-.59-1.43-.59-.52 0-1.04.2-1.43.59L10.3 9.45l-7.72 7.72c-.78.78-.78 2.05 0 2.83L4 21.41c.39.39.9.59 1.41.59.51 0 1.02-.2 1.41-.59l7.78-7.78 2.81-2.81c.8-.78.8-2.07 0-2.86zM5.41 20L4 18.59l7.72-7.72 1.47 1.35L5.41 20z\"/>\n",
              "  </svg>\n",
              "      </button>\n",
              "      \n",
              "  <style>\n",
              "    .colab-df-container {\n",
              "      display:flex;\n",
              "      flex-wrap:wrap;\n",
              "      gap: 12px;\n",
              "    }\n",
              "\n",
              "    .colab-df-convert {\n",
              "      background-color: #E8F0FE;\n",
              "      border: none;\n",
              "      border-radius: 50%;\n",
              "      cursor: pointer;\n",
              "      display: none;\n",
              "      fill: #1967D2;\n",
              "      height: 32px;\n",
              "      padding: 0 0 0 0;\n",
              "      width: 32px;\n",
              "    }\n",
              "\n",
              "    .colab-df-convert:hover {\n",
              "      background-color: #E2EBFA;\n",
              "      box-shadow: 0px 1px 2px rgba(60, 64, 67, 0.3), 0px 1px 3px 1px rgba(60, 64, 67, 0.15);\n",
              "      fill: #174EA6;\n",
              "    }\n",
              "\n",
              "    [theme=dark] .colab-df-convert {\n",
              "      background-color: #3B4455;\n",
              "      fill: #D2E3FC;\n",
              "    }\n",
              "\n",
              "    [theme=dark] .colab-df-convert:hover {\n",
              "      background-color: #434B5C;\n",
              "      box-shadow: 0px 1px 3px 1px rgba(0, 0, 0, 0.15);\n",
              "      filter: drop-shadow(0px 1px 2px rgba(0, 0, 0, 0.3));\n",
              "      fill: #FFFFFF;\n",
              "    }\n",
              "  </style>\n",
              "\n",
              "      <script>\n",
              "        const buttonEl =\n",
              "          document.querySelector('#df-5ca7e24d-32aa-4a96-9382-e64f2e41f11b button.colab-df-convert');\n",
              "        buttonEl.style.display =\n",
              "          google.colab.kernel.accessAllowed ? 'block' : 'none';\n",
              "\n",
              "        async function convertToInteractive(key) {\n",
              "          const element = document.querySelector('#df-5ca7e24d-32aa-4a96-9382-e64f2e41f11b');\n",
              "          const dataTable =\n",
              "            await google.colab.kernel.invokeFunction('convertToInteractive',\n",
              "                                                     [key], {});\n",
              "          if (!dataTable) return;\n",
              "\n",
              "          const docLinkHtml = 'Like what you see? Visit the ' +\n",
              "            '<a target=\"_blank\" href=https://colab.research.google.com/notebooks/data_table.ipynb>data table notebook</a>'\n",
              "            + ' to learn more about interactive tables.';\n",
              "          element.innerHTML = '';\n",
              "          dataTable['output_type'] = 'display_data';\n",
              "          await google.colab.output.renderOutput(dataTable, element);\n",
              "          const docLink = document.createElement('div');\n",
              "          docLink.innerHTML = docLinkHtml;\n",
              "          element.appendChild(docLink);\n",
              "        }\n",
              "      </script>\n",
              "    </div>\n",
              "  </div>\n",
              "  "
            ]
          },
          "metadata": {},
          "execution_count": 53
        }
      ],
      "source": [
        "rest_data['clean_street_final'] = rest_data.address.apply(cleaning_final)\n",
        "rest_data.sample(10)"
      ]
    },
    {
      "cell_type": "markdown",
      "metadata": {
        "id": "KzwgiFxpYecs"
      },
      "source": [
        "[**Plot a graph of the top ten streets by number of restaurants.**](#2.7)"
      ]
    },
    {
      "cell_type": "markdown",
      "metadata": {
        "id": "biivQEJvYecs"
      },
      "source": [
        "First we need to prepare our data for the plot: we need to count establishments on every cleaned street and define the 10 most crowded."
      ]
    },
    {
      "cell_type": "code",
      "execution_count": 54,
      "metadata": {
        "id": "g3UC-YF6Yect"
      },
      "outputs": [],
      "source": [
        "group_streets = rest_data.groupby(['clean_street_final']).agg({'object_name': 'count'}).reset_index()"
      ]
    },
    {
      "cell_type": "code",
      "execution_count": 55,
      "metadata": {
        "id": "Dh_UOBwQYect"
      },
      "outputs": [],
      "source": [
        "# Rename the columns\n",
        "group_streets.columns = ['streets', 'objects']"
      ]
    },
    {
      "cell_type": "code",
      "execution_count": 56,
      "metadata": {
        "id": "Jm-OMQ_VYect"
      },
      "outputs": [],
      "source": [
        "# Store only the first 10 rows\n",
        "top10_streets = group_streets.sort_values(by='objects', ascending=False).head(10)"
      ]
    },
    {
      "cell_type": "code",
      "execution_count": 57,
      "metadata": {
        "id": "Yiyt-JPRYect",
        "colab": {
          "base_uri": "https://localhost:8080/",
          "height": 838
        },
        "outputId": "3abcac86-1cdd-43b0-ce3f-5190a60bf4cb"
      },
      "outputs": [
        {
          "output_type": "stream",
          "name": "stdout",
          "text": [
            "       streets  objects\n",
            "387     SUNSET      405\n",
            "438   WILSHIRE      398\n",
            "335       PICO      371\n",
            "430    WESTERN      369\n",
            "175   FIGUEROA      334\n",
            "319    OLYMPIC      309\n",
            "408    VERMONT      288\n",
            "296     MONICA      264\n",
            "23         3RD      263\n",
            "222  HOLLYWOOD      254\n",
            "\n"
          ]
        },
        {
          "output_type": "display_data",
          "data": {
            "text/html": [
              "<html>\n",
              "<head><meta charset=\"utf-8\" /></head>\n",
              "<body>\n",
              "    <div>            <script src=\"https://cdnjs.cloudflare.com/ajax/libs/mathjax/2.7.5/MathJax.js?config=TeX-AMS-MML_SVG\"></script><script type=\"text/javascript\">if (window.MathJax) {MathJax.Hub.Config({SVG: {font: \"STIX-Web\"}});}</script>                <script type=\"text/javascript\">window.PlotlyConfig = {MathJaxConfig: 'local'};</script>\n",
              "        <script src=\"https://cdn.plot.ly/plotly-2.8.3.min.js\"></script>                <div id=\"dda61740-4173-427a-aac9-a34932d78de3\" class=\"plotly-graph-div\" style=\"height:600px; width:900px;\"></div>            <script type=\"text/javascript\">                                    window.PLOTLYENV=window.PLOTLYENV || {};                                    if (document.getElementById(\"dda61740-4173-427a-aac9-a34932d78de3\")) {                    Plotly.newPlot(                        \"dda61740-4173-427a-aac9-a34932d78de3\",                        [{\"alignmentgroup\":\"True\",\"hovertemplate\":\"streets=%{y}<br>objects=%{text}<extra></extra>\",\"legendgroup\":\"SUNSET\",\"marker\":{\"color\":\"#636efa\",\"pattern\":{\"shape\":\"\"}},\"name\":\"SUNSET (405)\",\"offsetgroup\":\"SUNSET\",\"orientation\":\"h\",\"showlegend\":true,\"text\":[405.0],\"textposition\":\"outside\",\"x\":[405],\"xaxis\":\"x\",\"y\":[\"SUNSET\"],\"yaxis\":\"y\",\"type\":\"bar\"},{\"alignmentgroup\":\"True\",\"hovertemplate\":\"streets=%{y}<br>objects=%{text}<extra></extra>\",\"legendgroup\":\"WILSHIRE\",\"marker\":{\"color\":\"#EF553B\",\"pattern\":{\"shape\":\"\"}},\"name\":\"WILSHIRE (398)\",\"offsetgroup\":\"WILSHIRE\",\"orientation\":\"h\",\"showlegend\":true,\"text\":[398.0],\"textposition\":\"outside\",\"x\":[398],\"xaxis\":\"x\",\"y\":[\"WILSHIRE\"],\"yaxis\":\"y\",\"type\":\"bar\"},{\"alignmentgroup\":\"True\",\"hovertemplate\":\"streets=%{y}<br>objects=%{text}<extra></extra>\",\"legendgroup\":\"PICO\",\"marker\":{\"color\":\"#00cc96\",\"pattern\":{\"shape\":\"\"}},\"name\":\"PICO (371)\",\"offsetgroup\":\"PICO\",\"orientation\":\"h\",\"showlegend\":true,\"text\":[371.0],\"textposition\":\"outside\",\"x\":[371],\"xaxis\":\"x\",\"y\":[\"PICO\"],\"yaxis\":\"y\",\"type\":\"bar\"},{\"alignmentgroup\":\"True\",\"hovertemplate\":\"streets=%{y}<br>objects=%{text}<extra></extra>\",\"legendgroup\":\"WESTERN\",\"marker\":{\"color\":\"#ab63fa\",\"pattern\":{\"shape\":\"\"}},\"name\":\"WESTERN (369)\",\"offsetgroup\":\"WESTERN\",\"orientation\":\"h\",\"showlegend\":true,\"text\":[369.0],\"textposition\":\"outside\",\"x\":[369],\"xaxis\":\"x\",\"y\":[\"WESTERN\"],\"yaxis\":\"y\",\"type\":\"bar\"},{\"alignmentgroup\":\"True\",\"hovertemplate\":\"streets=%{y}<br>objects=%{text}<extra></extra>\",\"legendgroup\":\"FIGUEROA\",\"marker\":{\"color\":\"#FFA15A\",\"pattern\":{\"shape\":\"\"}},\"name\":\"FIGUEROA (334)\",\"offsetgroup\":\"FIGUEROA\",\"orientation\":\"h\",\"showlegend\":true,\"text\":[334.0],\"textposition\":\"outside\",\"x\":[334],\"xaxis\":\"x\",\"y\":[\"FIGUEROA\"],\"yaxis\":\"y\",\"type\":\"bar\"},{\"alignmentgroup\":\"True\",\"hovertemplate\":\"streets=%{y}<br>objects=%{text}<extra></extra>\",\"legendgroup\":\"OLYMPIC\",\"marker\":{\"color\":\"#19d3f3\",\"pattern\":{\"shape\":\"\"}},\"name\":\"OLYMPIC (309)\",\"offsetgroup\":\"OLYMPIC\",\"orientation\":\"h\",\"showlegend\":true,\"text\":[309.0],\"textposition\":\"outside\",\"x\":[309],\"xaxis\":\"x\",\"y\":[\"OLYMPIC\"],\"yaxis\":\"y\",\"type\":\"bar\"},{\"alignmentgroup\":\"True\",\"hovertemplate\":\"streets=%{y}<br>objects=%{text}<extra></extra>\",\"legendgroup\":\"VERMONT\",\"marker\":{\"color\":\"#FF6692\",\"pattern\":{\"shape\":\"\"}},\"name\":\"VERMONT (288)\",\"offsetgroup\":\"VERMONT\",\"orientation\":\"h\",\"showlegend\":true,\"text\":[288.0],\"textposition\":\"outside\",\"x\":[288],\"xaxis\":\"x\",\"y\":[\"VERMONT\"],\"yaxis\":\"y\",\"type\":\"bar\"},{\"alignmentgroup\":\"True\",\"hovertemplate\":\"streets=%{y}<br>objects=%{text}<extra></extra>\",\"legendgroup\":\"MONICA\",\"marker\":{\"color\":\"#B6E880\",\"pattern\":{\"shape\":\"\"}},\"name\":\"MONICA (264)\",\"offsetgroup\":\"MONICA\",\"orientation\":\"h\",\"showlegend\":true,\"text\":[264.0],\"textposition\":\"outside\",\"x\":[264],\"xaxis\":\"x\",\"y\":[\"MONICA\"],\"yaxis\":\"y\",\"type\":\"bar\"},{\"alignmentgroup\":\"True\",\"hovertemplate\":\"streets=%{y}<br>objects=%{text}<extra></extra>\",\"legendgroup\":\"3RD\",\"marker\":{\"color\":\"#FF97FF\",\"pattern\":{\"shape\":\"\"}},\"name\":\"3RD (263)\",\"offsetgroup\":\"3RD\",\"orientation\":\"h\",\"showlegend\":true,\"text\":[263.0],\"textposition\":\"outside\",\"x\":[263],\"xaxis\":\"x\",\"y\":[\"3RD\"],\"yaxis\":\"y\",\"type\":\"bar\"},{\"alignmentgroup\":\"True\",\"hovertemplate\":\"streets=%{y}<br>objects=%{text}<extra></extra>\",\"legendgroup\":\"HOLLYWOOD\",\"marker\":{\"color\":\"#FECB52\",\"pattern\":{\"shape\":\"\"}},\"name\":\"HOLLYWOOD (254)\",\"offsetgroup\":\"HOLLYWOOD\",\"orientation\":\"h\",\"showlegend\":true,\"text\":[254.0],\"textposition\":\"outside\",\"x\":[254],\"xaxis\":\"x\",\"y\":[\"HOLLYWOOD\"],\"yaxis\":\"y\",\"type\":\"bar\"}],                        {\"template\":{\"data\":{\"bar\":[{\"error_x\":{\"color\":\"#2a3f5f\"},\"error_y\":{\"color\":\"#2a3f5f\"},\"marker\":{\"line\":{\"color\":\"#E5ECF6\",\"width\":0.5},\"pattern\":{\"fillmode\":\"overlay\",\"size\":10,\"solidity\":0.2}},\"type\":\"bar\"}],\"barpolar\":[{\"marker\":{\"line\":{\"color\":\"#E5ECF6\",\"width\":0.5},\"pattern\":{\"fillmode\":\"overlay\",\"size\":10,\"solidity\":0.2}},\"type\":\"barpolar\"}],\"carpet\":[{\"aaxis\":{\"endlinecolor\":\"#2a3f5f\",\"gridcolor\":\"white\",\"linecolor\":\"white\",\"minorgridcolor\":\"white\",\"startlinecolor\":\"#2a3f5f\"},\"baxis\":{\"endlinecolor\":\"#2a3f5f\",\"gridcolor\":\"white\",\"linecolor\":\"white\",\"minorgridcolor\":\"white\",\"startlinecolor\":\"#2a3f5f\"},\"type\":\"carpet\"}],\"choropleth\":[{\"colorbar\":{\"outlinewidth\":0,\"ticks\":\"\"},\"type\":\"choropleth\"}],\"contour\":[{\"colorbar\":{\"outlinewidth\":0,\"ticks\":\"\"},\"colorscale\":[[0.0,\"#0d0887\"],[0.1111111111111111,\"#46039f\"],[0.2222222222222222,\"#7201a8\"],[0.3333333333333333,\"#9c179e\"],[0.4444444444444444,\"#bd3786\"],[0.5555555555555556,\"#d8576b\"],[0.6666666666666666,\"#ed7953\"],[0.7777777777777778,\"#fb9f3a\"],[0.8888888888888888,\"#fdca26\"],[1.0,\"#f0f921\"]],\"type\":\"contour\"}],\"contourcarpet\":[{\"colorbar\":{\"outlinewidth\":0,\"ticks\":\"\"},\"type\":\"contourcarpet\"}],\"heatmap\":[{\"colorbar\":{\"outlinewidth\":0,\"ticks\":\"\"},\"colorscale\":[[0.0,\"#0d0887\"],[0.1111111111111111,\"#46039f\"],[0.2222222222222222,\"#7201a8\"],[0.3333333333333333,\"#9c179e\"],[0.4444444444444444,\"#bd3786\"],[0.5555555555555556,\"#d8576b\"],[0.6666666666666666,\"#ed7953\"],[0.7777777777777778,\"#fb9f3a\"],[0.8888888888888888,\"#fdca26\"],[1.0,\"#f0f921\"]],\"type\":\"heatmap\"}],\"heatmapgl\":[{\"colorbar\":{\"outlinewidth\":0,\"ticks\":\"\"},\"colorscale\":[[0.0,\"#0d0887\"],[0.1111111111111111,\"#46039f\"],[0.2222222222222222,\"#7201a8\"],[0.3333333333333333,\"#9c179e\"],[0.4444444444444444,\"#bd3786\"],[0.5555555555555556,\"#d8576b\"],[0.6666666666666666,\"#ed7953\"],[0.7777777777777778,\"#fb9f3a\"],[0.8888888888888888,\"#fdca26\"],[1.0,\"#f0f921\"]],\"type\":\"heatmapgl\"}],\"histogram\":[{\"marker\":{\"pattern\":{\"fillmode\":\"overlay\",\"size\":10,\"solidity\":0.2}},\"type\":\"histogram\"}],\"histogram2d\":[{\"colorbar\":{\"outlinewidth\":0,\"ticks\":\"\"},\"colorscale\":[[0.0,\"#0d0887\"],[0.1111111111111111,\"#46039f\"],[0.2222222222222222,\"#7201a8\"],[0.3333333333333333,\"#9c179e\"],[0.4444444444444444,\"#bd3786\"],[0.5555555555555556,\"#d8576b\"],[0.6666666666666666,\"#ed7953\"],[0.7777777777777778,\"#fb9f3a\"],[0.8888888888888888,\"#fdca26\"],[1.0,\"#f0f921\"]],\"type\":\"histogram2d\"}],\"histogram2dcontour\":[{\"colorbar\":{\"outlinewidth\":0,\"ticks\":\"\"},\"colorscale\":[[0.0,\"#0d0887\"],[0.1111111111111111,\"#46039f\"],[0.2222222222222222,\"#7201a8\"],[0.3333333333333333,\"#9c179e\"],[0.4444444444444444,\"#bd3786\"],[0.5555555555555556,\"#d8576b\"],[0.6666666666666666,\"#ed7953\"],[0.7777777777777778,\"#fb9f3a\"],[0.8888888888888888,\"#fdca26\"],[1.0,\"#f0f921\"]],\"type\":\"histogram2dcontour\"}],\"mesh3d\":[{\"colorbar\":{\"outlinewidth\":0,\"ticks\":\"\"},\"type\":\"mesh3d\"}],\"parcoords\":[{\"line\":{\"colorbar\":{\"outlinewidth\":0,\"ticks\":\"\"}},\"type\":\"parcoords\"}],\"pie\":[{\"automargin\":true,\"type\":\"pie\"}],\"scatter\":[{\"marker\":{\"colorbar\":{\"outlinewidth\":0,\"ticks\":\"\"}},\"type\":\"scatter\"}],\"scatter3d\":[{\"line\":{\"colorbar\":{\"outlinewidth\":0,\"ticks\":\"\"}},\"marker\":{\"colorbar\":{\"outlinewidth\":0,\"ticks\":\"\"}},\"type\":\"scatter3d\"}],\"scattercarpet\":[{\"marker\":{\"colorbar\":{\"outlinewidth\":0,\"ticks\":\"\"}},\"type\":\"scattercarpet\"}],\"scattergeo\":[{\"marker\":{\"colorbar\":{\"outlinewidth\":0,\"ticks\":\"\"}},\"type\":\"scattergeo\"}],\"scattergl\":[{\"marker\":{\"colorbar\":{\"outlinewidth\":0,\"ticks\":\"\"}},\"type\":\"scattergl\"}],\"scattermapbox\":[{\"marker\":{\"colorbar\":{\"outlinewidth\":0,\"ticks\":\"\"}},\"type\":\"scattermapbox\"}],\"scatterpolar\":[{\"marker\":{\"colorbar\":{\"outlinewidth\":0,\"ticks\":\"\"}},\"type\":\"scatterpolar\"}],\"scatterpolargl\":[{\"marker\":{\"colorbar\":{\"outlinewidth\":0,\"ticks\":\"\"}},\"type\":\"scatterpolargl\"}],\"scatterternary\":[{\"marker\":{\"colorbar\":{\"outlinewidth\":0,\"ticks\":\"\"}},\"type\":\"scatterternary\"}],\"surface\":[{\"colorbar\":{\"outlinewidth\":0,\"ticks\":\"\"},\"colorscale\":[[0.0,\"#0d0887\"],[0.1111111111111111,\"#46039f\"],[0.2222222222222222,\"#7201a8\"],[0.3333333333333333,\"#9c179e\"],[0.4444444444444444,\"#bd3786\"],[0.5555555555555556,\"#d8576b\"],[0.6666666666666666,\"#ed7953\"],[0.7777777777777778,\"#fb9f3a\"],[0.8888888888888888,\"#fdca26\"],[1.0,\"#f0f921\"]],\"type\":\"surface\"}],\"table\":[{\"cells\":{\"fill\":{\"color\":\"#EBF0F8\"},\"line\":{\"color\":\"white\"}},\"header\":{\"fill\":{\"color\":\"#C8D4E3\"},\"line\":{\"color\":\"white\"}},\"type\":\"table\"}]},\"layout\":{\"annotationdefaults\":{\"arrowcolor\":\"#2a3f5f\",\"arrowhead\":0,\"arrowwidth\":1},\"autotypenumbers\":\"strict\",\"coloraxis\":{\"colorbar\":{\"outlinewidth\":0,\"ticks\":\"\"}},\"colorscale\":{\"diverging\":[[0,\"#8e0152\"],[0.1,\"#c51b7d\"],[0.2,\"#de77ae\"],[0.3,\"#f1b6da\"],[0.4,\"#fde0ef\"],[0.5,\"#f7f7f7\"],[0.6,\"#e6f5d0\"],[0.7,\"#b8e186\"],[0.8,\"#7fbc41\"],[0.9,\"#4d9221\"],[1,\"#276419\"]],\"sequential\":[[0.0,\"#0d0887\"],[0.1111111111111111,\"#46039f\"],[0.2222222222222222,\"#7201a8\"],[0.3333333333333333,\"#9c179e\"],[0.4444444444444444,\"#bd3786\"],[0.5555555555555556,\"#d8576b\"],[0.6666666666666666,\"#ed7953\"],[0.7777777777777778,\"#fb9f3a\"],[0.8888888888888888,\"#fdca26\"],[1.0,\"#f0f921\"]],\"sequentialminus\":[[0.0,\"#0d0887\"],[0.1111111111111111,\"#46039f\"],[0.2222222222222222,\"#7201a8\"],[0.3333333333333333,\"#9c179e\"],[0.4444444444444444,\"#bd3786\"],[0.5555555555555556,\"#d8576b\"],[0.6666666666666666,\"#ed7953\"],[0.7777777777777778,\"#fb9f3a\"],[0.8888888888888888,\"#fdca26\"],[1.0,\"#f0f921\"]]},\"colorway\":[\"#636efa\",\"#EF553B\",\"#00cc96\",\"#ab63fa\",\"#FFA15A\",\"#19d3f3\",\"#FF6692\",\"#B6E880\",\"#FF97FF\",\"#FECB52\"],\"font\":{\"color\":\"#2a3f5f\"},\"geo\":{\"bgcolor\":\"white\",\"lakecolor\":\"white\",\"landcolor\":\"#E5ECF6\",\"showlakes\":true,\"showland\":true,\"subunitcolor\":\"white\"},\"hoverlabel\":{\"align\":\"left\"},\"hovermode\":\"closest\",\"mapbox\":{\"style\":\"light\"},\"paper_bgcolor\":\"white\",\"plot_bgcolor\":\"#E5ECF6\",\"polar\":{\"angularaxis\":{\"gridcolor\":\"white\",\"linecolor\":\"white\",\"ticks\":\"\"},\"bgcolor\":\"#E5ECF6\",\"radialaxis\":{\"gridcolor\":\"white\",\"linecolor\":\"white\",\"ticks\":\"\"}},\"scene\":{\"xaxis\":{\"backgroundcolor\":\"#E5ECF6\",\"gridcolor\":\"white\",\"gridwidth\":2,\"linecolor\":\"white\",\"showbackground\":true,\"ticks\":\"\",\"zerolinecolor\":\"white\"},\"yaxis\":{\"backgroundcolor\":\"#E5ECF6\",\"gridcolor\":\"white\",\"gridwidth\":2,\"linecolor\":\"white\",\"showbackground\":true,\"ticks\":\"\",\"zerolinecolor\":\"white\"},\"zaxis\":{\"backgroundcolor\":\"#E5ECF6\",\"gridcolor\":\"white\",\"gridwidth\":2,\"linecolor\":\"white\",\"showbackground\":true,\"ticks\":\"\",\"zerolinecolor\":\"white\"}},\"shapedefaults\":{\"line\":{\"color\":\"#2a3f5f\"}},\"ternary\":{\"aaxis\":{\"gridcolor\":\"white\",\"linecolor\":\"white\",\"ticks\":\"\"},\"baxis\":{\"gridcolor\":\"white\",\"linecolor\":\"white\",\"ticks\":\"\"},\"bgcolor\":\"#E5ECF6\",\"caxis\":{\"gridcolor\":\"white\",\"linecolor\":\"white\",\"ticks\":\"\"}},\"title\":{\"x\":0.05},\"xaxis\":{\"automargin\":true,\"gridcolor\":\"white\",\"linecolor\":\"white\",\"ticks\":\"\",\"title\":{\"standoff\":15},\"zerolinecolor\":\"white\",\"zerolinewidth\":2},\"yaxis\":{\"automargin\":true,\"gridcolor\":\"white\",\"linecolor\":\"white\",\"ticks\":\"\",\"title\":{\"standoff\":15},\"zerolinecolor\":\"white\",\"zerolinewidth\":2}}},\"xaxis\":{\"anchor\":\"y\",\"domain\":[0.0,1.0],\"title\":{\"text\":\" \"},\"tickangle\":45},\"yaxis\":{\"anchor\":\"x\",\"domain\":[0.0,1.0],\"title\":{\"text\":\"Amount of establishments\"},\"categoryorder\":\"array\",\"categoryarray\":[\"HOLLYWOOD\",\"3RD\",\"MONICA\",\"VERMONT\",\"OLYMPIC\",\"FIGUEROA\",\"WESTERN\",\"PICO\",\"WILSHIRE\",\"SUNSET\"]},\"legend\":{\"title\":{\"text\":\"streets\"},\"tracegroupgap\":0},\"margin\":{\"t\":60},\"barmode\":\"relative\",\"height\":600,\"width\":900,\"title\":{\"text\":\"Top 10 streets with the most establishments\",\"font\":{\"size\":30}}},                        {\"responsive\": true}                    ).then(function(){\n",
              "                            \n",
              "var gd = document.getElementById('dda61740-4173-427a-aac9-a34932d78de3');\n",
              "var x = new MutationObserver(function (mutations, observer) {{\n",
              "        var display = window.getComputedStyle(gd).display;\n",
              "        if (!display || display === 'none') {{\n",
              "            console.log([gd, 'removed!']);\n",
              "            Plotly.purge(gd);\n",
              "            observer.disconnect();\n",
              "        }}\n",
              "}});\n",
              "\n",
              "// Listen for the removal of the full notebook cells\n",
              "var notebookContainer = gd.closest('#notebook-container');\n",
              "if (notebookContainer) {{\n",
              "    x.observe(notebookContainer, {childList: true});\n",
              "}}\n",
              "\n",
              "// Listen for the clearing of the current output cell\n",
              "var outputEl = gd.closest('.output');\n",
              "if (outputEl) {{\n",
              "    x.observe(outputEl, {childList: true});\n",
              "}}\n",
              "\n",
              "                        })                };                            </script>        </div>\n",
              "</body>\n",
              "</html>"
            ]
          },
          "metadata": {}
        }
      ],
      "source": [
        "print(top10_streets)\n",
        "print()\n",
        "fig = px.bar(top10_streets, y='streets', x='objects', \n",
        "             color='streets', width = 900, height = 600, text='objects')\n",
        "fig.update_xaxes(tickangle=45)\n",
        "fig.update_layout(\n",
        "    title='Top 10 streets with the most establishments',\n",
        "    title_font_size=30,\n",
        "    xaxis_title=\" \",\n",
        "    yaxis_title=\"Amount of establishments\")\n",
        "fig.update_traces(textposition='outside')\n",
        "for trace, numbers in zip(fig.data, top10_streets['objects']):\n",
        "    trace.name = trace.name.split('=')[0] + ' (' + str(numbers) + ')'\n",
        "fig.show()"
      ]
    },
    {
      "cell_type": "markdown",
      "metadata": {
        "id": "fT15m4TXYect"
      },
      "source": [
        "SUNSET and WILSHIRE are the most crowded streets. The number of establishments on our top10 streets vary between 250 and 400. There must be quit a big competition out there."
      ]
    },
    {
      "cell_type": "markdown",
      "metadata": {
        "id": "jzkaGhCSYecu"
      },
      "source": [
        "[**Find the number of streets that only have one restaurant.**](#2.8)"
      ]
    },
    {
      "cell_type": "code",
      "execution_count": 58,
      "metadata": {
        "id": "IhOwrAEGYecu"
      },
      "outputs": [],
      "source": [
        "one_str_objects = group_streets[group_streets['objects'] == 1]"
      ]
    },
    {
      "cell_type": "code",
      "execution_count": 59,
      "metadata": {
        "id": "64LD2p09Yecu",
        "colab": {
          "base_uri": "https://localhost:8080/"
        },
        "outputId": "eaf06bcf-c291-4c75-ecec-76ab8781cce7"
      },
      "outputs": [
        {
          "output_type": "stream",
          "name": "stdout",
          "text": [
            "There are 178 streets with only one establishment\n"
          ]
        }
      ],
      "source": [
        "print('There are', len(one_str_objects), 'streets with only one establishment')"
      ]
    },
    {
      "cell_type": "markdown",
      "metadata": {
        "id": "eRA8R1tkYecu"
      },
      "source": [
        "[**For streets with a lot of restaurants, look at the distribution of the number of seats. What trends can you see?**](#2.9)"
      ]
    },
    {
      "cell_type": "markdown",
      "metadata": {
        "id": "QfxTO1I4Yecu"
      },
      "source": [
        "We need to refer to the top10 subset and filter the data about those streets."
      ]
    },
    {
      "cell_type": "code",
      "execution_count": 60,
      "metadata": {
        "id": "_DaUIIveYecu"
      },
      "outputs": [],
      "source": [
        "top10_streets_list = top10_streets['streets'].to_list()"
      ]
    },
    {
      "cell_type": "code",
      "execution_count": 61,
      "metadata": {
        "id": "ZFDC5phgYecu"
      },
      "outputs": [],
      "source": [
        "top10_streets_data = rest_data.query('clean_street_final in @top10_streets_list')"
      ]
    },
    {
      "cell_type": "code",
      "execution_count": 62,
      "metadata": {
        "id": "MgTFpHd3Yecu",
        "colab": {
          "base_uri": "https://localhost:8080/",
          "height": 206
        },
        "outputId": "6d6a2a55-563e-4ce2-9ddc-0d4c0bc95798"
      },
      "outputs": [
        {
          "output_type": "execute_result",
          "data": {
            "text/plain": [
              "       id        object_name                    address  chain object_type  \\\n",
              "2   11788     STREET CHURROS  6801 HOLLYWOOD BLVD # 253  False   Fast Food   \n",
              "3   11789  TRINITI ECHO PARK         1814 W SUNSET BLVD  False  Restaurant   \n",
              "10  11796      EL POLLO LOCO         5319 W SUNSET BLVD   True  Restaurant   \n",
              "11  11797  POONG NYUN BAKERY  928 S WESTERN AVE STE 109   True      Bakery   \n",
              "14  11800  CUSCATLECA BAKERY      2501 W SUNSET BLVD #A   True      Bakery   \n",
              "\n",
              "    number clean_street clean_street_final  \n",
              "2       20    HOLLYWOOD          HOLLYWOOD  \n",
              "3       22       SUNSET             SUNSET  \n",
              "10      38       SUNSET             SUNSET  \n",
              "11      17      WESTERN            WESTERN  \n",
              "14      26       SUNSET             SUNSET  "
            ],
            "text/html": [
              "\n",
              "  <div id=\"df-4afef739-be53-472a-ba69-252c0678ef89\">\n",
              "    <div class=\"colab-df-container\">\n",
              "      <div>\n",
              "<style scoped>\n",
              "    .dataframe tbody tr th:only-of-type {\n",
              "        vertical-align: middle;\n",
              "    }\n",
              "\n",
              "    .dataframe tbody tr th {\n",
              "        vertical-align: top;\n",
              "    }\n",
              "\n",
              "    .dataframe thead th {\n",
              "        text-align: right;\n",
              "    }\n",
              "</style>\n",
              "<table border=\"1\" class=\"dataframe\">\n",
              "  <thead>\n",
              "    <tr style=\"text-align: right;\">\n",
              "      <th></th>\n",
              "      <th>id</th>\n",
              "      <th>object_name</th>\n",
              "      <th>address</th>\n",
              "      <th>chain</th>\n",
              "      <th>object_type</th>\n",
              "      <th>number</th>\n",
              "      <th>clean_street</th>\n",
              "      <th>clean_street_final</th>\n",
              "    </tr>\n",
              "  </thead>\n",
              "  <tbody>\n",
              "    <tr>\n",
              "      <th>2</th>\n",
              "      <td>11788</td>\n",
              "      <td>STREET CHURROS</td>\n",
              "      <td>6801 HOLLYWOOD BLVD # 253</td>\n",
              "      <td>False</td>\n",
              "      <td>Fast Food</td>\n",
              "      <td>20</td>\n",
              "      <td>HOLLYWOOD</td>\n",
              "      <td>HOLLYWOOD</td>\n",
              "    </tr>\n",
              "    <tr>\n",
              "      <th>3</th>\n",
              "      <td>11789</td>\n",
              "      <td>TRINITI ECHO PARK</td>\n",
              "      <td>1814 W SUNSET BLVD</td>\n",
              "      <td>False</td>\n",
              "      <td>Restaurant</td>\n",
              "      <td>22</td>\n",
              "      <td>SUNSET</td>\n",
              "      <td>SUNSET</td>\n",
              "    </tr>\n",
              "    <tr>\n",
              "      <th>10</th>\n",
              "      <td>11796</td>\n",
              "      <td>EL POLLO LOCO</td>\n",
              "      <td>5319 W SUNSET BLVD</td>\n",
              "      <td>True</td>\n",
              "      <td>Restaurant</td>\n",
              "      <td>38</td>\n",
              "      <td>SUNSET</td>\n",
              "      <td>SUNSET</td>\n",
              "    </tr>\n",
              "    <tr>\n",
              "      <th>11</th>\n",
              "      <td>11797</td>\n",
              "      <td>POONG NYUN BAKERY</td>\n",
              "      <td>928 S WESTERN AVE STE 109</td>\n",
              "      <td>True</td>\n",
              "      <td>Bakery</td>\n",
              "      <td>17</td>\n",
              "      <td>WESTERN</td>\n",
              "      <td>WESTERN</td>\n",
              "    </tr>\n",
              "    <tr>\n",
              "      <th>14</th>\n",
              "      <td>11800</td>\n",
              "      <td>CUSCATLECA BAKERY</td>\n",
              "      <td>2501 W SUNSET BLVD #A</td>\n",
              "      <td>True</td>\n",
              "      <td>Bakery</td>\n",
              "      <td>26</td>\n",
              "      <td>SUNSET</td>\n",
              "      <td>SUNSET</td>\n",
              "    </tr>\n",
              "  </tbody>\n",
              "</table>\n",
              "</div>\n",
              "      <button class=\"colab-df-convert\" onclick=\"convertToInteractive('df-4afef739-be53-472a-ba69-252c0678ef89')\"\n",
              "              title=\"Convert this dataframe to an interactive table.\"\n",
              "              style=\"display:none;\">\n",
              "        \n",
              "  <svg xmlns=\"http://www.w3.org/2000/svg\" height=\"24px\"viewBox=\"0 0 24 24\"\n",
              "       width=\"24px\">\n",
              "    <path d=\"M0 0h24v24H0V0z\" fill=\"none\"/>\n",
              "    <path d=\"M18.56 5.44l.94 2.06.94-2.06 2.06-.94-2.06-.94-.94-2.06-.94 2.06-2.06.94zm-11 1L8.5 8.5l.94-2.06 2.06-.94-2.06-.94L8.5 2.5l-.94 2.06-2.06.94zm10 10l.94 2.06.94-2.06 2.06-.94-2.06-.94-.94-2.06-.94 2.06-2.06.94z\"/><path d=\"M17.41 7.96l-1.37-1.37c-.4-.4-.92-.59-1.43-.59-.52 0-1.04.2-1.43.59L10.3 9.45l-7.72 7.72c-.78.78-.78 2.05 0 2.83L4 21.41c.39.39.9.59 1.41.59.51 0 1.02-.2 1.41-.59l7.78-7.78 2.81-2.81c.8-.78.8-2.07 0-2.86zM5.41 20L4 18.59l7.72-7.72 1.47 1.35L5.41 20z\"/>\n",
              "  </svg>\n",
              "      </button>\n",
              "      \n",
              "  <style>\n",
              "    .colab-df-container {\n",
              "      display:flex;\n",
              "      flex-wrap:wrap;\n",
              "      gap: 12px;\n",
              "    }\n",
              "\n",
              "    .colab-df-convert {\n",
              "      background-color: #E8F0FE;\n",
              "      border: none;\n",
              "      border-radius: 50%;\n",
              "      cursor: pointer;\n",
              "      display: none;\n",
              "      fill: #1967D2;\n",
              "      height: 32px;\n",
              "      padding: 0 0 0 0;\n",
              "      width: 32px;\n",
              "    }\n",
              "\n",
              "    .colab-df-convert:hover {\n",
              "      background-color: #E2EBFA;\n",
              "      box-shadow: 0px 1px 2px rgba(60, 64, 67, 0.3), 0px 1px 3px 1px rgba(60, 64, 67, 0.15);\n",
              "      fill: #174EA6;\n",
              "    }\n",
              "\n",
              "    [theme=dark] .colab-df-convert {\n",
              "      background-color: #3B4455;\n",
              "      fill: #D2E3FC;\n",
              "    }\n",
              "\n",
              "    [theme=dark] .colab-df-convert:hover {\n",
              "      background-color: #434B5C;\n",
              "      box-shadow: 0px 1px 3px 1px rgba(0, 0, 0, 0.15);\n",
              "      filter: drop-shadow(0px 1px 2px rgba(0, 0, 0, 0.3));\n",
              "      fill: #FFFFFF;\n",
              "    }\n",
              "  </style>\n",
              "\n",
              "      <script>\n",
              "        const buttonEl =\n",
              "          document.querySelector('#df-4afef739-be53-472a-ba69-252c0678ef89 button.colab-df-convert');\n",
              "        buttonEl.style.display =\n",
              "          google.colab.kernel.accessAllowed ? 'block' : 'none';\n",
              "\n",
              "        async function convertToInteractive(key) {\n",
              "          const element = document.querySelector('#df-4afef739-be53-472a-ba69-252c0678ef89');\n",
              "          const dataTable =\n",
              "            await google.colab.kernel.invokeFunction('convertToInteractive',\n",
              "                                                     [key], {});\n",
              "          if (!dataTable) return;\n",
              "\n",
              "          const docLinkHtml = 'Like what you see? Visit the ' +\n",
              "            '<a target=\"_blank\" href=https://colab.research.google.com/notebooks/data_table.ipynb>data table notebook</a>'\n",
              "            + ' to learn more about interactive tables.';\n",
              "          element.innerHTML = '';\n",
              "          dataTable['output_type'] = 'display_data';\n",
              "          await google.colab.output.renderOutput(dataTable, element);\n",
              "          const docLink = document.createElement('div');\n",
              "          docLink.innerHTML = docLinkHtml;\n",
              "          element.appendChild(docLink);\n",
              "        }\n",
              "      </script>\n",
              "    </div>\n",
              "  </div>\n",
              "  "
            ]
          },
          "metadata": {},
          "execution_count": 62
        }
      ],
      "source": [
        "top10_streets_data.head()"
      ]
    },
    {
      "cell_type": "code",
      "execution_count": 63,
      "metadata": {
        "id": "rrA42KHHYecv",
        "colab": {
          "base_uri": "https://localhost:8080/",
          "height": 817
        },
        "outputId": "03ecb709-1d8f-4e6f-beaf-ac13409096ed"
      },
      "outputs": [
        {
          "output_type": "display_data",
          "data": {
            "text/html": [
              "<html>\n",
              "<head><meta charset=\"utf-8\" /></head>\n",
              "<body>\n",
              "    <div>            <script src=\"https://cdnjs.cloudflare.com/ajax/libs/mathjax/2.7.5/MathJax.js?config=TeX-AMS-MML_SVG\"></script><script type=\"text/javascript\">if (window.MathJax) {MathJax.Hub.Config({SVG: {font: \"STIX-Web\"}});}</script>                <script type=\"text/javascript\">window.PlotlyConfig = {MathJaxConfig: 'local'};</script>\n",
              "        <script src=\"https://cdn.plot.ly/plotly-2.8.3.min.js\"></script>                <div id=\"78c74f1d-e9ba-494b-9a9b-21c709ef0b8f\" class=\"plotly-graph-div\" style=\"height:800px; width:900px;\"></div>            <script type=\"text/javascript\">                                    window.PLOTLYENV=window.PLOTLYENV || {};                                    if (document.getElementById(\"78c74f1d-e9ba-494b-9a9b-21c709ef0b8f\")) {                    Plotly.newPlot(                        \"78c74f1d-e9ba-494b-9a9b-21c709ef0b8f\",                        [{\"alignmentgroup\":\"True\",\"boxpoints\":\"all\",\"hovertemplate\":\" =%{y}<br>Number of seats=%{x}<extra></extra>\",\"legendgroup\":\"HOLLYWOOD\",\"marker\":{\"color\":\"#636efa\"},\"name\":\"HOLLYWOOD\",\"notched\":false,\"offsetgroup\":\"HOLLYWOOD\",\"orientation\":\"h\",\"showlegend\":true,\"x\":[20,22,45,28,3,40,131,6,224,77,1,48,47,167,3,111,135,164,11,129,89,34,48,31,87,106,35,133,41,22,7,17,6,145,126,193,19,25,2,26,11,45,197,25,15,27,36,42,128,43,4,5,13,178,17,28,27,102,136,47,24,44,21,47,41,126,36,37,15,222,91,37,123,110,172,47,136,4,34,24,9,24,168,25,37,145,7,145,13,35,33,26,36,67,16,12,65,114,11,44,76,147,136,19,41,17,3,25,6,19,35,33,46,167,45,209,17,133,2,14,19,4,8,9,37,143,68,20,8,8,31,4,46,7,14,16,15,29,31,2,44,48,69,154,48,229,140,29,17,182,33,80,48,32,27,89,38,81,188,5,44,24,29,40,46,124,32,170,44,183,153,3,26,142,15,27,153,2,49,18,20,5,141,22,6,37,28,213,17,36,191,107,111,62,38,90,45,38,36,65,100,19,5,22,25,165,7,26,41,135,192,7,147,12,4,46,219,29,10,26,46,21,8,44,4,5,24,3,1,10,46,16,12,26,35,13,20,2,16,19,19,10,26,15,40,173,225,36,122,18,31,21,4,15],\"x0\":\" \",\"xaxis\":\"x\",\"y\":[\"HOLLYWOOD\",\"HOLLYWOOD\",\"HOLLYWOOD\",\"HOLLYWOOD\",\"HOLLYWOOD\",\"HOLLYWOOD\",\"HOLLYWOOD\",\"HOLLYWOOD\",\"HOLLYWOOD\",\"HOLLYWOOD\",\"HOLLYWOOD\",\"HOLLYWOOD\",\"HOLLYWOOD\",\"HOLLYWOOD\",\"HOLLYWOOD\",\"HOLLYWOOD\",\"HOLLYWOOD\",\"HOLLYWOOD\",\"HOLLYWOOD\",\"HOLLYWOOD\",\"HOLLYWOOD\",\"HOLLYWOOD\",\"HOLLYWOOD\",\"HOLLYWOOD\",\"HOLLYWOOD\",\"HOLLYWOOD\",\"HOLLYWOOD\",\"HOLLYWOOD\",\"HOLLYWOOD\",\"HOLLYWOOD\",\"HOLLYWOOD\",\"HOLLYWOOD\",\"HOLLYWOOD\",\"HOLLYWOOD\",\"HOLLYWOOD\",\"HOLLYWOOD\",\"HOLLYWOOD\",\"HOLLYWOOD\",\"HOLLYWOOD\",\"HOLLYWOOD\",\"HOLLYWOOD\",\"HOLLYWOOD\",\"HOLLYWOOD\",\"HOLLYWOOD\",\"HOLLYWOOD\",\"HOLLYWOOD\",\"HOLLYWOOD\",\"HOLLYWOOD\",\"HOLLYWOOD\",\"HOLLYWOOD\",\"HOLLYWOOD\",\"HOLLYWOOD\",\"HOLLYWOOD\",\"HOLLYWOOD\",\"HOLLYWOOD\",\"HOLLYWOOD\",\"HOLLYWOOD\",\"HOLLYWOOD\",\"HOLLYWOOD\",\"HOLLYWOOD\",\"HOLLYWOOD\",\"HOLLYWOOD\",\"HOLLYWOOD\",\"HOLLYWOOD\",\"HOLLYWOOD\",\"HOLLYWOOD\",\"HOLLYWOOD\",\"HOLLYWOOD\",\"HOLLYWOOD\",\"HOLLYWOOD\",\"HOLLYWOOD\",\"HOLLYWOOD\",\"HOLLYWOOD\",\"HOLLYWOOD\",\"HOLLYWOOD\",\"HOLLYWOOD\",\"HOLLYWOOD\",\"HOLLYWOOD\",\"HOLLYWOOD\",\"HOLLYWOOD\",\"HOLLYWOOD\",\"HOLLYWOOD\",\"HOLLYWOOD\",\"HOLLYWOOD\",\"HOLLYWOOD\",\"HOLLYWOOD\",\"HOLLYWOOD\",\"HOLLYWOOD\",\"HOLLYWOOD\",\"HOLLYWOOD\",\"HOLLYWOOD\",\"HOLLYWOOD\",\"HOLLYWOOD\",\"HOLLYWOOD\",\"HOLLYWOOD\",\"HOLLYWOOD\",\"HOLLYWOOD\",\"HOLLYWOOD\",\"HOLLYWOOD\",\"HOLLYWOOD\",\"HOLLYWOOD\",\"HOLLYWOOD\",\"HOLLYWOOD\",\"HOLLYWOOD\",\"HOLLYWOOD\",\"HOLLYWOOD\",\"HOLLYWOOD\",\"HOLLYWOOD\",\"HOLLYWOOD\",\"HOLLYWOOD\",\"HOLLYWOOD\",\"HOLLYWOOD\",\"HOLLYWOOD\",\"HOLLYWOOD\",\"HOLLYWOOD\",\"HOLLYWOOD\",\"HOLLYWOOD\",\"HOLLYWOOD\",\"HOLLYWOOD\",\"HOLLYWOOD\",\"HOLLYWOOD\",\"HOLLYWOOD\",\"HOLLYWOOD\",\"HOLLYWOOD\",\"HOLLYWOOD\",\"HOLLYWOOD\",\"HOLLYWOOD\",\"HOLLYWOOD\",\"HOLLYWOOD\",\"HOLLYWOOD\",\"HOLLYWOOD\",\"HOLLYWOOD\",\"HOLLYWOOD\",\"HOLLYWOOD\",\"HOLLYWOOD\",\"HOLLYWOOD\",\"HOLLYWOOD\",\"HOLLYWOOD\",\"HOLLYWOOD\",\"HOLLYWOOD\",\"HOLLYWOOD\",\"HOLLYWOOD\",\"HOLLYWOOD\",\"HOLLYWOOD\",\"HOLLYWOOD\",\"HOLLYWOOD\",\"HOLLYWOOD\",\"HOLLYWOOD\",\"HOLLYWOOD\",\"HOLLYWOOD\",\"HOLLYWOOD\",\"HOLLYWOOD\",\"HOLLYWOOD\",\"HOLLYWOOD\",\"HOLLYWOOD\",\"HOLLYWOOD\",\"HOLLYWOOD\",\"HOLLYWOOD\",\"HOLLYWOOD\",\"HOLLYWOOD\",\"HOLLYWOOD\",\"HOLLYWOOD\",\"HOLLYWOOD\",\"HOLLYWOOD\",\"HOLLYWOOD\",\"HOLLYWOOD\",\"HOLLYWOOD\",\"HOLLYWOOD\",\"HOLLYWOOD\",\"HOLLYWOOD\",\"HOLLYWOOD\",\"HOLLYWOOD\",\"HOLLYWOOD\",\"HOLLYWOOD\",\"HOLLYWOOD\",\"HOLLYWOOD\",\"HOLLYWOOD\",\"HOLLYWOOD\",\"HOLLYWOOD\",\"HOLLYWOOD\",\"HOLLYWOOD\",\"HOLLYWOOD\",\"HOLLYWOOD\",\"HOLLYWOOD\",\"HOLLYWOOD\",\"HOLLYWOOD\",\"HOLLYWOOD\",\"HOLLYWOOD\",\"HOLLYWOOD\",\"HOLLYWOOD\",\"HOLLYWOOD\",\"HOLLYWOOD\",\"HOLLYWOOD\",\"HOLLYWOOD\",\"HOLLYWOOD\",\"HOLLYWOOD\",\"HOLLYWOOD\",\"HOLLYWOOD\",\"HOLLYWOOD\",\"HOLLYWOOD\",\"HOLLYWOOD\",\"HOLLYWOOD\",\"HOLLYWOOD\",\"HOLLYWOOD\",\"HOLLYWOOD\",\"HOLLYWOOD\",\"HOLLYWOOD\",\"HOLLYWOOD\",\"HOLLYWOOD\",\"HOLLYWOOD\",\"HOLLYWOOD\",\"HOLLYWOOD\",\"HOLLYWOOD\",\"HOLLYWOOD\",\"HOLLYWOOD\",\"HOLLYWOOD\",\"HOLLYWOOD\",\"HOLLYWOOD\",\"HOLLYWOOD\",\"HOLLYWOOD\",\"HOLLYWOOD\",\"HOLLYWOOD\",\"HOLLYWOOD\",\"HOLLYWOOD\",\"HOLLYWOOD\",\"HOLLYWOOD\",\"HOLLYWOOD\",\"HOLLYWOOD\",\"HOLLYWOOD\",\"HOLLYWOOD\",\"HOLLYWOOD\",\"HOLLYWOOD\",\"HOLLYWOOD\",\"HOLLYWOOD\",\"HOLLYWOOD\",\"HOLLYWOOD\",\"HOLLYWOOD\",\"HOLLYWOOD\",\"HOLLYWOOD\",\"HOLLYWOOD\",\"HOLLYWOOD\",\"HOLLYWOOD\",\"HOLLYWOOD\",\"HOLLYWOOD\",\"HOLLYWOOD\",\"HOLLYWOOD\",\"HOLLYWOOD\",\"HOLLYWOOD\",\"HOLLYWOOD\",\"HOLLYWOOD\",\"HOLLYWOOD\",\"HOLLYWOOD\",\"HOLLYWOOD\",\"HOLLYWOOD\"],\"y0\":\" \",\"yaxis\":\"y\",\"type\":\"box\"},{\"alignmentgroup\":\"True\",\"boxpoints\":\"all\",\"hovertemplate\":\" =%{y}<br>Number of seats=%{x}<extra></extra>\",\"legendgroup\":\"SUNSET\",\"marker\":{\"color\":\"#EF553B\"},\"name\":\"SUNSET\",\"notched\":false,\"offsetgroup\":\"SUNSET\",\"orientation\":\"h\",\"showlegend\":true,\"x\":[22,38,26,118,35,15,1,49,158,35,16,40,107,134,107,8,62,45,22,4,8,6,12,21,11,34,10,49,23,14,97,69,217,185,47,46,85,47,23,190,28,129,95,108,29,26,15,3,9,99,203,46,87,90,86,6,26,28,14,33,18,46,109,7,10,189,34,16,38,172,80,2,17,34,141,81,80,20,48,110,42,77,83,8,11,168,82,107,49,18,92,41,211,26,35,125,5,13,28,28,24,80,33,40,49,16,20,44,3,43,80,27,13,1,115,102,88,7,149,8,22,10,42,61,46,20,20,34,123,16,47,24,12,10,7,209,47,41,8,2,5,46,49,45,132,48,11,40,19,21,7,6,14,40,133,9,2,24,107,40,16,48,37,48,46,21,101,40,165,103,98,19,36,32,44,106,16,130,22,42,138,39,31,5,46,46,42,40,36,1,161,116,40,19,27,124,66,22,3,29,47,10,19,209,35,11,85,42,218,27,48,36,13,28,11,107,73,37,179,135,3,105,100,43,17,36,35,5,14,33,45,128,3,15,20,10,47,40,195,29,2,7,74,25,49,22,7,192,39,26,28,8,17,129,63,17,31,35,17,229,71,31,40,1,44,46,3,10,1,40,35,1,17,45,15,14,2,42,38,41,98,17,38,156,29,1,28,1,29,10,5,1,75,24,13,42,211,38,26,81,33,42,47,83,26,36,20,49,147,34,2,32,46,39,8,13,12,77,32,43,25,43,27,28,23,27,68,18,86,133,11,43,46,27,23,13,33,98,37,39,4,9,3,45,97,48,25,11,11,28,28,17,16,23,118,28,25,5,42,7,46,10,10,1,67,102,40,228,37,70,27,5,17,15,35,44,14,14,23,34,12,39,228,104,27,8,12,5,79,11,29,19,46,25,20,9,8,25,21,31,29,20,1,42,44],\"x0\":\" \",\"xaxis\":\"x\",\"y\":[\"SUNSET\",\"SUNSET\",\"SUNSET\",\"SUNSET\",\"SUNSET\",\"SUNSET\",\"SUNSET\",\"SUNSET\",\"SUNSET\",\"SUNSET\",\"SUNSET\",\"SUNSET\",\"SUNSET\",\"SUNSET\",\"SUNSET\",\"SUNSET\",\"SUNSET\",\"SUNSET\",\"SUNSET\",\"SUNSET\",\"SUNSET\",\"SUNSET\",\"SUNSET\",\"SUNSET\",\"SUNSET\",\"SUNSET\",\"SUNSET\",\"SUNSET\",\"SUNSET\",\"SUNSET\",\"SUNSET\",\"SUNSET\",\"SUNSET\",\"SUNSET\",\"SUNSET\",\"SUNSET\",\"SUNSET\",\"SUNSET\",\"SUNSET\",\"SUNSET\",\"SUNSET\",\"SUNSET\",\"SUNSET\",\"SUNSET\",\"SUNSET\",\"SUNSET\",\"SUNSET\",\"SUNSET\",\"SUNSET\",\"SUNSET\",\"SUNSET\",\"SUNSET\",\"SUNSET\",\"SUNSET\",\"SUNSET\",\"SUNSET\",\"SUNSET\",\"SUNSET\",\"SUNSET\",\"SUNSET\",\"SUNSET\",\"SUNSET\",\"SUNSET\",\"SUNSET\",\"SUNSET\",\"SUNSET\",\"SUNSET\",\"SUNSET\",\"SUNSET\",\"SUNSET\",\"SUNSET\",\"SUNSET\",\"SUNSET\",\"SUNSET\",\"SUNSET\",\"SUNSET\",\"SUNSET\",\"SUNSET\",\"SUNSET\",\"SUNSET\",\"SUNSET\",\"SUNSET\",\"SUNSET\",\"SUNSET\",\"SUNSET\",\"SUNSET\",\"SUNSET\",\"SUNSET\",\"SUNSET\",\"SUNSET\",\"SUNSET\",\"SUNSET\",\"SUNSET\",\"SUNSET\",\"SUNSET\",\"SUNSET\",\"SUNSET\",\"SUNSET\",\"SUNSET\",\"SUNSET\",\"SUNSET\",\"SUNSET\",\"SUNSET\",\"SUNSET\",\"SUNSET\",\"SUNSET\",\"SUNSET\",\"SUNSET\",\"SUNSET\",\"SUNSET\",\"SUNSET\",\"SUNSET\",\"SUNSET\",\"SUNSET\",\"SUNSET\",\"SUNSET\",\"SUNSET\",\"SUNSET\",\"SUNSET\",\"SUNSET\",\"SUNSET\",\"SUNSET\",\"SUNSET\",\"SUNSET\",\"SUNSET\",\"SUNSET\",\"SUNSET\",\"SUNSET\",\"SUNSET\",\"SUNSET\",\"SUNSET\",\"SUNSET\",\"SUNSET\",\"SUNSET\",\"SUNSET\",\"SUNSET\",\"SUNSET\",\"SUNSET\",\"SUNSET\",\"SUNSET\",\"SUNSET\",\"SUNSET\",\"SUNSET\",\"SUNSET\",\"SUNSET\",\"SUNSET\",\"SUNSET\",\"SUNSET\",\"SUNSET\",\"SUNSET\",\"SUNSET\",\"SUNSET\",\"SUNSET\",\"SUNSET\",\"SUNSET\",\"SUNSET\",\"SUNSET\",\"SUNSET\",\"SUNSET\",\"SUNSET\",\"SUNSET\",\"SUNSET\",\"SUNSET\",\"SUNSET\",\"SUNSET\",\"SUNSET\",\"SUNSET\",\"SUNSET\",\"SUNSET\",\"SUNSET\",\"SUNSET\",\"SUNSET\",\"SUNSET\",\"SUNSET\",\"SUNSET\",\"SUNSET\",\"SUNSET\",\"SUNSET\",\"SUNSET\",\"SUNSET\",\"SUNSET\",\"SUNSET\",\"SUNSET\",\"SUNSET\",\"SUNSET\",\"SUNSET\",\"SUNSET\",\"SUNSET\",\"SUNSET\",\"SUNSET\",\"SUNSET\",\"SUNSET\",\"SUNSET\",\"SUNSET\",\"SUNSET\",\"SUNSET\",\"SUNSET\",\"SUNSET\",\"SUNSET\",\"SUNSET\",\"SUNSET\",\"SUNSET\",\"SUNSET\",\"SUNSET\",\"SUNSET\",\"SUNSET\",\"SUNSET\",\"SUNSET\",\"SUNSET\",\"SUNSET\",\"SUNSET\",\"SUNSET\",\"SUNSET\",\"SUNSET\",\"SUNSET\",\"SUNSET\",\"SUNSET\",\"SUNSET\",\"SUNSET\",\"SUNSET\",\"SUNSET\",\"SUNSET\",\"SUNSET\",\"SUNSET\",\"SUNSET\",\"SUNSET\",\"SUNSET\",\"SUNSET\",\"SUNSET\",\"SUNSET\",\"SUNSET\",\"SUNSET\",\"SUNSET\",\"SUNSET\",\"SUNSET\",\"SUNSET\",\"SUNSET\",\"SUNSET\",\"SUNSET\",\"SUNSET\",\"SUNSET\",\"SUNSET\",\"SUNSET\",\"SUNSET\",\"SUNSET\",\"SUNSET\",\"SUNSET\",\"SUNSET\",\"SUNSET\",\"SUNSET\",\"SUNSET\",\"SUNSET\",\"SUNSET\",\"SUNSET\",\"SUNSET\",\"SUNSET\",\"SUNSET\",\"SUNSET\",\"SUNSET\",\"SUNSET\",\"SUNSET\",\"SUNSET\",\"SUNSET\",\"SUNSET\",\"SUNSET\",\"SUNSET\",\"SUNSET\",\"SUNSET\",\"SUNSET\",\"SUNSET\",\"SUNSET\",\"SUNSET\",\"SUNSET\",\"SUNSET\",\"SUNSET\",\"SUNSET\",\"SUNSET\",\"SUNSET\",\"SUNSET\",\"SUNSET\",\"SUNSET\",\"SUNSET\",\"SUNSET\",\"SUNSET\",\"SUNSET\",\"SUNSET\",\"SUNSET\",\"SUNSET\",\"SUNSET\",\"SUNSET\",\"SUNSET\",\"SUNSET\",\"SUNSET\",\"SUNSET\",\"SUNSET\",\"SUNSET\",\"SUNSET\",\"SUNSET\",\"SUNSET\",\"SUNSET\",\"SUNSET\",\"SUNSET\",\"SUNSET\",\"SUNSET\",\"SUNSET\",\"SUNSET\",\"SUNSET\",\"SUNSET\",\"SUNSET\",\"SUNSET\",\"SUNSET\",\"SUNSET\",\"SUNSET\",\"SUNSET\",\"SUNSET\",\"SUNSET\",\"SUNSET\",\"SUNSET\",\"SUNSET\",\"SUNSET\",\"SUNSET\",\"SUNSET\",\"SUNSET\",\"SUNSET\",\"SUNSET\",\"SUNSET\",\"SUNSET\",\"SUNSET\",\"SUNSET\",\"SUNSET\",\"SUNSET\",\"SUNSET\",\"SUNSET\",\"SUNSET\",\"SUNSET\",\"SUNSET\",\"SUNSET\",\"SUNSET\",\"SUNSET\",\"SUNSET\",\"SUNSET\",\"SUNSET\",\"SUNSET\",\"SUNSET\",\"SUNSET\",\"SUNSET\",\"SUNSET\",\"SUNSET\",\"SUNSET\",\"SUNSET\",\"SUNSET\",\"SUNSET\",\"SUNSET\",\"SUNSET\",\"SUNSET\",\"SUNSET\",\"SUNSET\",\"SUNSET\",\"SUNSET\",\"SUNSET\",\"SUNSET\",\"SUNSET\",\"SUNSET\",\"SUNSET\",\"SUNSET\",\"SUNSET\",\"SUNSET\",\"SUNSET\",\"SUNSET\",\"SUNSET\",\"SUNSET\",\"SUNSET\",\"SUNSET\",\"SUNSET\",\"SUNSET\",\"SUNSET\",\"SUNSET\",\"SUNSET\",\"SUNSET\",\"SUNSET\",\"SUNSET\",\"SUNSET\",\"SUNSET\",\"SUNSET\",\"SUNSET\",\"SUNSET\",\"SUNSET\",\"SUNSET\",\"SUNSET\",\"SUNSET\",\"SUNSET\",\"SUNSET\",\"SUNSET\",\"SUNSET\",\"SUNSET\",\"SUNSET\",\"SUNSET\",\"SUNSET\",\"SUNSET\",\"SUNSET\",\"SUNSET\",\"SUNSET\",\"SUNSET\",\"SUNSET\",\"SUNSET\"],\"y0\":\" \",\"yaxis\":\"y\",\"type\":\"box\"},{\"alignmentgroup\":\"True\",\"boxpoints\":\"all\",\"hovertemplate\":\" =%{y}<br>Number of seats=%{x}<extra></extra>\",\"legendgroup\":\"WESTERN\",\"marker\":{\"color\":\"#00cc96\"},\"name\":\"WESTERN\",\"notched\":false,\"offsetgroup\":\"WESTERN\",\"orientation\":\"h\",\"showlegend\":true,\"x\":[17,21,182,100,23,122,41,91,5,9,12,143,14,139,40,9,80,26,32,12,210,10,115,47,4,38,132,10,20,14,32,33,198,6,1,19,8,192,2,21,46,34,28,41,37,22,10,5,25,26,35,22,12,40,17,27,17,161,44,39,10,6,109,117,140,31,45,7,4,29,47,35,85,18,48,1,43,133,37,6,26,35,114,23,29,69,89,25,28,41,119,47,66,19,2,12,11,6,6,122,23,63,26,18,25,39,65,8,32,33,44,12,4,29,137,17,44,26,148,42,145,148,18,2,23,132,46,24,2,138,24,10,9,155,32,35,34,1,39,32,46,134,12,20,5,45,23,46,118,8,19,1,44,143,36,64,31,35,24,39,96,135,95,27,177,125,49,6,16,47,2,1,8,12,36,11,23,8,35,35,25,27,10,35,40,42,16,27,29,145,5,27,43,106,34,31,34,14,40,1,102,12,34,29,41,128,1,14,25,12,1,34,43,13,13,23,34,27,13,87,22,74,21,18,2,22,28,25,9,79,18,25,42,40,10,44,28,27,36,18,39,28,41,40,32,48,31,47,38,6,41,42,139,2,11,33,34,9,41,15,14,11,48,24,43,13,46,35,63,186,15,12,27,28,35,35,5,112,89,33,29,49,45,48,71,28,133,36,3,213,34,35,29,1,130,45,4,26,47,42,7,18,11,29,1,22,46,8,14,20,33,133,9,24,11,19,18,23,35,27,42,143,22,12,2,16,23,18,45,49,8,38,42,35,64,9,21,20,17,2,28,4,13,14,35,46,47,5,21,48,43,14,45,25,37,49,31,11,8,115,7,44,8,40,63,15,25,21,135],\"x0\":\" \",\"xaxis\":\"x\",\"y\":[\"WESTERN\",\"WESTERN\",\"WESTERN\",\"WESTERN\",\"WESTERN\",\"WESTERN\",\"WESTERN\",\"WESTERN\",\"WESTERN\",\"WESTERN\",\"WESTERN\",\"WESTERN\",\"WESTERN\",\"WESTERN\",\"WESTERN\",\"WESTERN\",\"WESTERN\",\"WESTERN\",\"WESTERN\",\"WESTERN\",\"WESTERN\",\"WESTERN\",\"WESTERN\",\"WESTERN\",\"WESTERN\",\"WESTERN\",\"WESTERN\",\"WESTERN\",\"WESTERN\",\"WESTERN\",\"WESTERN\",\"WESTERN\",\"WESTERN\",\"WESTERN\",\"WESTERN\",\"WESTERN\",\"WESTERN\",\"WESTERN\",\"WESTERN\",\"WESTERN\",\"WESTERN\",\"WESTERN\",\"WESTERN\",\"WESTERN\",\"WESTERN\",\"WESTERN\",\"WESTERN\",\"WESTERN\",\"WESTERN\",\"WESTERN\",\"WESTERN\",\"WESTERN\",\"WESTERN\",\"WESTERN\",\"WESTERN\",\"WESTERN\",\"WESTERN\",\"WESTERN\",\"WESTERN\",\"WESTERN\",\"WESTERN\",\"WESTERN\",\"WESTERN\",\"WESTERN\",\"WESTERN\",\"WESTERN\",\"WESTERN\",\"WESTERN\",\"WESTERN\",\"WESTERN\",\"WESTERN\",\"WESTERN\",\"WESTERN\",\"WESTERN\",\"WESTERN\",\"WESTERN\",\"WESTERN\",\"WESTERN\",\"WESTERN\",\"WESTERN\",\"WESTERN\",\"WESTERN\",\"WESTERN\",\"WESTERN\",\"WESTERN\",\"WESTERN\",\"WESTERN\",\"WESTERN\",\"WESTERN\",\"WESTERN\",\"WESTERN\",\"WESTERN\",\"WESTERN\",\"WESTERN\",\"WESTERN\",\"WESTERN\",\"WESTERN\",\"WESTERN\",\"WESTERN\",\"WESTERN\",\"WESTERN\",\"WESTERN\",\"WESTERN\",\"WESTERN\",\"WESTERN\",\"WESTERN\",\"WESTERN\",\"WESTERN\",\"WESTERN\",\"WESTERN\",\"WESTERN\",\"WESTERN\",\"WESTERN\",\"WESTERN\",\"WESTERN\",\"WESTERN\",\"WESTERN\",\"WESTERN\",\"WESTERN\",\"WESTERN\",\"WESTERN\",\"WESTERN\",\"WESTERN\",\"WESTERN\",\"WESTERN\",\"WESTERN\",\"WESTERN\",\"WESTERN\",\"WESTERN\",\"WESTERN\",\"WESTERN\",\"WESTERN\",\"WESTERN\",\"WESTERN\",\"WESTERN\",\"WESTERN\",\"WESTERN\",\"WESTERN\",\"WESTERN\",\"WESTERN\",\"WESTERN\",\"WESTERN\",\"WESTERN\",\"WESTERN\",\"WESTERN\",\"WESTERN\",\"WESTERN\",\"WESTERN\",\"WESTERN\",\"WESTERN\",\"WESTERN\",\"WESTERN\",\"WESTERN\",\"WESTERN\",\"WESTERN\",\"WESTERN\",\"WESTERN\",\"WESTERN\",\"WESTERN\",\"WESTERN\",\"WESTERN\",\"WESTERN\",\"WESTERN\",\"WESTERN\",\"WESTERN\",\"WESTERN\",\"WESTERN\",\"WESTERN\",\"WESTERN\",\"WESTERN\",\"WESTERN\",\"WESTERN\",\"WESTERN\",\"WESTERN\",\"WESTERN\",\"WESTERN\",\"WESTERN\",\"WESTERN\",\"WESTERN\",\"WESTERN\",\"WESTERN\",\"WESTERN\",\"WESTERN\",\"WESTERN\",\"WESTERN\",\"WESTERN\",\"WESTERN\",\"WESTERN\",\"WESTERN\",\"WESTERN\",\"WESTERN\",\"WESTERN\",\"WESTERN\",\"WESTERN\",\"WESTERN\",\"WESTERN\",\"WESTERN\",\"WESTERN\",\"WESTERN\",\"WESTERN\",\"WESTERN\",\"WESTERN\",\"WESTERN\",\"WESTERN\",\"WESTERN\",\"WESTERN\",\"WESTERN\",\"WESTERN\",\"WESTERN\",\"WESTERN\",\"WESTERN\",\"WESTERN\",\"WESTERN\",\"WESTERN\",\"WESTERN\",\"WESTERN\",\"WESTERN\",\"WESTERN\",\"WESTERN\",\"WESTERN\",\"WESTERN\",\"WESTERN\",\"WESTERN\",\"WESTERN\",\"WESTERN\",\"WESTERN\",\"WESTERN\",\"WESTERN\",\"WESTERN\",\"WESTERN\",\"WESTERN\",\"WESTERN\",\"WESTERN\",\"WESTERN\",\"WESTERN\",\"WESTERN\",\"WESTERN\",\"WESTERN\",\"WESTERN\",\"WESTERN\",\"WESTERN\",\"WESTERN\",\"WESTERN\",\"WESTERN\",\"WESTERN\",\"WESTERN\",\"WESTERN\",\"WESTERN\",\"WESTERN\",\"WESTERN\",\"WESTERN\",\"WESTERN\",\"WESTERN\",\"WESTERN\",\"WESTERN\",\"WESTERN\",\"WESTERN\",\"WESTERN\",\"WESTERN\",\"WESTERN\",\"WESTERN\",\"WESTERN\",\"WESTERN\",\"WESTERN\",\"WESTERN\",\"WESTERN\",\"WESTERN\",\"WESTERN\",\"WESTERN\",\"WESTERN\",\"WESTERN\",\"WESTERN\",\"WESTERN\",\"WESTERN\",\"WESTERN\",\"WESTERN\",\"WESTERN\",\"WESTERN\",\"WESTERN\",\"WESTERN\",\"WESTERN\",\"WESTERN\",\"WESTERN\",\"WESTERN\",\"WESTERN\",\"WESTERN\",\"WESTERN\",\"WESTERN\",\"WESTERN\",\"WESTERN\",\"WESTERN\",\"WESTERN\",\"WESTERN\",\"WESTERN\",\"WESTERN\",\"WESTERN\",\"WESTERN\",\"WESTERN\",\"WESTERN\",\"WESTERN\",\"WESTERN\",\"WESTERN\",\"WESTERN\",\"WESTERN\",\"WESTERN\",\"WESTERN\",\"WESTERN\",\"WESTERN\",\"WESTERN\",\"WESTERN\",\"WESTERN\",\"WESTERN\",\"WESTERN\",\"WESTERN\",\"WESTERN\",\"WESTERN\",\"WESTERN\",\"WESTERN\",\"WESTERN\",\"WESTERN\",\"WESTERN\",\"WESTERN\",\"WESTERN\",\"WESTERN\",\"WESTERN\",\"WESTERN\",\"WESTERN\",\"WESTERN\",\"WESTERN\",\"WESTERN\",\"WESTERN\",\"WESTERN\",\"WESTERN\",\"WESTERN\",\"WESTERN\",\"WESTERN\",\"WESTERN\",\"WESTERN\",\"WESTERN\",\"WESTERN\",\"WESTERN\",\"WESTERN\",\"WESTERN\",\"WESTERN\",\"WESTERN\",\"WESTERN\",\"WESTERN\",\"WESTERN\",\"WESTERN\",\"WESTERN\",\"WESTERN\",\"WESTERN\",\"WESTERN\",\"WESTERN\",\"WESTERN\",\"WESTERN\",\"WESTERN\",\"WESTERN\",\"WESTERN\",\"WESTERN\",\"WESTERN\",\"WESTERN\",\"WESTERN\",\"WESTERN\",\"WESTERN\",\"WESTERN\",\"WESTERN\",\"WESTERN\",\"WESTERN\"],\"y0\":\" \",\"yaxis\":\"y\",\"type\":\"box\"},{\"alignmentgroup\":\"True\",\"boxpoints\":\"all\",\"hovertemplate\":\" =%{y}<br>Number of seats=%{x}<extra></extra>\",\"legendgroup\":\"WILSHIRE\",\"marker\":{\"color\":\"#ab63fa\"},\"name\":\"WILSHIRE\",\"notched\":false,\"offsetgroup\":\"WILSHIRE\",\"orientation\":\"h\",\"showlegend\":true,\"x\":[147,39,7,35,17,7,21,19,49,40,44,85,3,41,28,149,32,33,164,131,20,115,14,92,25,12,37,46,8,18,20,74,4,35,28,23,1,74,26,43,5,31,71,194,184,19,7,125,16,21,142,6,3,37,25,34,15,140,3,41,74,26,19,17,99,64,49,11,15,182,47,9,181,100,94,181,93,188,22,1,75,145,21,25,220,71,87,40,107,93,21,11,145,124,106,102,48,194,3,34,107,42,42,41,45,49,41,135,24,113,96,225,17,43,41,37,117,23,34,16,31,20,87,107,5,19,44,35,41,35,48,32,7,77,31,28,116,122,3,28,12,12,10,2,48,145,122,35,44,37,49,62,33,12,108,41,136,16,20,35,95,11,228,194,64,43,29,139,47,45,6,48,37,6,43,26,34,43,13,40,31,14,36,8,28,138,23,31,11,26,31,11,34,26,20,10,87,167,45,34,49,126,116,88,21,12,48,158,96,37,121,40,45,64,67,28,17,44,29,122,39,123,132,27,5,43,10,23,34,95,42,39,47,36,48,227,6,148,33,163,21,47,47,12,49,38,8,28,228,33,141,23,2,25,24,123,43,9,13,11,27,29,162,42,38,189,21,24,78,7,15,35,13,43,49,19,62,38,46,178,224,36,48,23,48,1,32,43,29,33,10,5,19,200,18,14,78,15,31,47,15,27,38,12,10,110,3,108,160,2,18,47,16,6,106,18,35,36,12,2,156,33,36,43,86,229,32,29,40,42,5,39,4,49,41,45,16,41,28,23,70,27,9,29,21,94,191,16,95,69,8,26,38,74,17,49,28,42,27,36,8,48,76,37,38,129,71,7,25,16,7,41,37,12,16,11,123,4,4,7,2,27,23,29,1,67,77,18,33,39,65,7,75,44,8,44,11,10],\"x0\":\" \",\"xaxis\":\"x\",\"y\":[\"WILSHIRE\",\"WILSHIRE\",\"WILSHIRE\",\"WILSHIRE\",\"WILSHIRE\",\"WILSHIRE\",\"WILSHIRE\",\"WILSHIRE\",\"WILSHIRE\",\"WILSHIRE\",\"WILSHIRE\",\"WILSHIRE\",\"WILSHIRE\",\"WILSHIRE\",\"WILSHIRE\",\"WILSHIRE\",\"WILSHIRE\",\"WILSHIRE\",\"WILSHIRE\",\"WILSHIRE\",\"WILSHIRE\",\"WILSHIRE\",\"WILSHIRE\",\"WILSHIRE\",\"WILSHIRE\",\"WILSHIRE\",\"WILSHIRE\",\"WILSHIRE\",\"WILSHIRE\",\"WILSHIRE\",\"WILSHIRE\",\"WILSHIRE\",\"WILSHIRE\",\"WILSHIRE\",\"WILSHIRE\",\"WILSHIRE\",\"WILSHIRE\",\"WILSHIRE\",\"WILSHIRE\",\"WILSHIRE\",\"WILSHIRE\",\"WILSHIRE\",\"WILSHIRE\",\"WILSHIRE\",\"WILSHIRE\",\"WILSHIRE\",\"WILSHIRE\",\"WILSHIRE\",\"WILSHIRE\",\"WILSHIRE\",\"WILSHIRE\",\"WILSHIRE\",\"WILSHIRE\",\"WILSHIRE\",\"WILSHIRE\",\"WILSHIRE\",\"WILSHIRE\",\"WILSHIRE\",\"WILSHIRE\",\"WILSHIRE\",\"WILSHIRE\",\"WILSHIRE\",\"WILSHIRE\",\"WILSHIRE\",\"WILSHIRE\",\"WILSHIRE\",\"WILSHIRE\",\"WILSHIRE\",\"WILSHIRE\",\"WILSHIRE\",\"WILSHIRE\",\"WILSHIRE\",\"WILSHIRE\",\"WILSHIRE\",\"WILSHIRE\",\"WILSHIRE\",\"WILSHIRE\",\"WILSHIRE\",\"WILSHIRE\",\"WILSHIRE\",\"WILSHIRE\",\"WILSHIRE\",\"WILSHIRE\",\"WILSHIRE\",\"WILSHIRE\",\"WILSHIRE\",\"WILSHIRE\",\"WILSHIRE\",\"WILSHIRE\",\"WILSHIRE\",\"WILSHIRE\",\"WILSHIRE\",\"WILSHIRE\",\"WILSHIRE\",\"WILSHIRE\",\"WILSHIRE\",\"WILSHIRE\",\"WILSHIRE\",\"WILSHIRE\",\"WILSHIRE\",\"WILSHIRE\",\"WILSHIRE\",\"WILSHIRE\",\"WILSHIRE\",\"WILSHIRE\",\"WILSHIRE\",\"WILSHIRE\",\"WILSHIRE\",\"WILSHIRE\",\"WILSHIRE\",\"WILSHIRE\",\"WILSHIRE\",\"WILSHIRE\",\"WILSHIRE\",\"WILSHIRE\",\"WILSHIRE\",\"WILSHIRE\",\"WILSHIRE\",\"WILSHIRE\",\"WILSHIRE\",\"WILSHIRE\",\"WILSHIRE\",\"WILSHIRE\",\"WILSHIRE\",\"WILSHIRE\",\"WILSHIRE\",\"WILSHIRE\",\"WILSHIRE\",\"WILSHIRE\",\"WILSHIRE\",\"WILSHIRE\",\"WILSHIRE\",\"WILSHIRE\",\"WILSHIRE\",\"WILSHIRE\",\"WILSHIRE\",\"WILSHIRE\",\"WILSHIRE\",\"WILSHIRE\",\"WILSHIRE\",\"WILSHIRE\",\"WILSHIRE\",\"WILSHIRE\",\"WILSHIRE\",\"WILSHIRE\",\"WILSHIRE\",\"WILSHIRE\",\"WILSHIRE\",\"WILSHIRE\",\"WILSHIRE\",\"WILSHIRE\",\"WILSHIRE\",\"WILSHIRE\",\"WILSHIRE\",\"WILSHIRE\",\"WILSHIRE\",\"WILSHIRE\",\"WILSHIRE\",\"WILSHIRE\",\"WILSHIRE\",\"WILSHIRE\",\"WILSHIRE\",\"WILSHIRE\",\"WILSHIRE\",\"WILSHIRE\",\"WILSHIRE\",\"WILSHIRE\",\"WILSHIRE\",\"WILSHIRE\",\"WILSHIRE\",\"WILSHIRE\",\"WILSHIRE\",\"WILSHIRE\",\"WILSHIRE\",\"WILSHIRE\",\"WILSHIRE\",\"WILSHIRE\",\"WILSHIRE\",\"WILSHIRE\",\"WILSHIRE\",\"WILSHIRE\",\"WILSHIRE\",\"WILSHIRE\",\"WILSHIRE\",\"WILSHIRE\",\"WILSHIRE\",\"WILSHIRE\",\"WILSHIRE\",\"WILSHIRE\",\"WILSHIRE\",\"WILSHIRE\",\"WILSHIRE\",\"WILSHIRE\",\"WILSHIRE\",\"WILSHIRE\",\"WILSHIRE\",\"WILSHIRE\",\"WILSHIRE\",\"WILSHIRE\",\"WILSHIRE\",\"WILSHIRE\",\"WILSHIRE\",\"WILSHIRE\",\"WILSHIRE\",\"WILSHIRE\",\"WILSHIRE\",\"WILSHIRE\",\"WILSHIRE\",\"WILSHIRE\",\"WILSHIRE\",\"WILSHIRE\",\"WILSHIRE\",\"WILSHIRE\",\"WILSHIRE\",\"WILSHIRE\",\"WILSHIRE\",\"WILSHIRE\",\"WILSHIRE\",\"WILSHIRE\",\"WILSHIRE\",\"WILSHIRE\",\"WILSHIRE\",\"WILSHIRE\",\"WILSHIRE\",\"WILSHIRE\",\"WILSHIRE\",\"WILSHIRE\",\"WILSHIRE\",\"WILSHIRE\",\"WILSHIRE\",\"WILSHIRE\",\"WILSHIRE\",\"WILSHIRE\",\"WILSHIRE\",\"WILSHIRE\",\"WILSHIRE\",\"WILSHIRE\",\"WILSHIRE\",\"WILSHIRE\",\"WILSHIRE\",\"WILSHIRE\",\"WILSHIRE\",\"WILSHIRE\",\"WILSHIRE\",\"WILSHIRE\",\"WILSHIRE\",\"WILSHIRE\",\"WILSHIRE\",\"WILSHIRE\",\"WILSHIRE\",\"WILSHIRE\",\"WILSHIRE\",\"WILSHIRE\",\"WILSHIRE\",\"WILSHIRE\",\"WILSHIRE\",\"WILSHIRE\",\"WILSHIRE\",\"WILSHIRE\",\"WILSHIRE\",\"WILSHIRE\",\"WILSHIRE\",\"WILSHIRE\",\"WILSHIRE\",\"WILSHIRE\",\"WILSHIRE\",\"WILSHIRE\",\"WILSHIRE\",\"WILSHIRE\",\"WILSHIRE\",\"WILSHIRE\",\"WILSHIRE\",\"WILSHIRE\",\"WILSHIRE\",\"WILSHIRE\",\"WILSHIRE\",\"WILSHIRE\",\"WILSHIRE\",\"WILSHIRE\",\"WILSHIRE\",\"WILSHIRE\",\"WILSHIRE\",\"WILSHIRE\",\"WILSHIRE\",\"WILSHIRE\",\"WILSHIRE\",\"WILSHIRE\",\"WILSHIRE\",\"WILSHIRE\",\"WILSHIRE\",\"WILSHIRE\",\"WILSHIRE\",\"WILSHIRE\",\"WILSHIRE\",\"WILSHIRE\",\"WILSHIRE\",\"WILSHIRE\",\"WILSHIRE\",\"WILSHIRE\",\"WILSHIRE\",\"WILSHIRE\",\"WILSHIRE\",\"WILSHIRE\",\"WILSHIRE\",\"WILSHIRE\",\"WILSHIRE\",\"WILSHIRE\",\"WILSHIRE\",\"WILSHIRE\",\"WILSHIRE\",\"WILSHIRE\",\"WILSHIRE\",\"WILSHIRE\",\"WILSHIRE\",\"WILSHIRE\",\"WILSHIRE\",\"WILSHIRE\",\"WILSHIRE\",\"WILSHIRE\",\"WILSHIRE\",\"WILSHIRE\",\"WILSHIRE\",\"WILSHIRE\",\"WILSHIRE\",\"WILSHIRE\",\"WILSHIRE\",\"WILSHIRE\",\"WILSHIRE\",\"WILSHIRE\",\"WILSHIRE\",\"WILSHIRE\",\"WILSHIRE\",\"WILSHIRE\",\"WILSHIRE\",\"WILSHIRE\",\"WILSHIRE\",\"WILSHIRE\",\"WILSHIRE\",\"WILSHIRE\",\"WILSHIRE\",\"WILSHIRE\",\"WILSHIRE\",\"WILSHIRE\",\"WILSHIRE\",\"WILSHIRE\",\"WILSHIRE\",\"WILSHIRE\",\"WILSHIRE\",\"WILSHIRE\",\"WILSHIRE\",\"WILSHIRE\",\"WILSHIRE\",\"WILSHIRE\",\"WILSHIRE\",\"WILSHIRE\",\"WILSHIRE\",\"WILSHIRE\",\"WILSHIRE\",\"WILSHIRE\",\"WILSHIRE\",\"WILSHIRE\",\"WILSHIRE\",\"WILSHIRE\",\"WILSHIRE\",\"WILSHIRE\",\"WILSHIRE\",\"WILSHIRE\",\"WILSHIRE\",\"WILSHIRE\",\"WILSHIRE\",\"WILSHIRE\",\"WILSHIRE\",\"WILSHIRE\",\"WILSHIRE\",\"WILSHIRE\",\"WILSHIRE\",\"WILSHIRE\",\"WILSHIRE\",\"WILSHIRE\",\"WILSHIRE\",\"WILSHIRE\",\"WILSHIRE\",\"WILSHIRE\",\"WILSHIRE\",\"WILSHIRE\",\"WILSHIRE\",\"WILSHIRE\",\"WILSHIRE\",\"WILSHIRE\",\"WILSHIRE\",\"WILSHIRE\",\"WILSHIRE\",\"WILSHIRE\",\"WILSHIRE\",\"WILSHIRE\",\"WILSHIRE\",\"WILSHIRE\",\"WILSHIRE\"],\"y0\":\" \",\"yaxis\":\"y\",\"type\":\"box\"},{\"alignmentgroup\":\"True\",\"boxpoints\":\"all\",\"hovertemplate\":\" =%{y}<br>Number of seats=%{x}<extra></extra>\",\"legendgroup\":\"3RD\",\"marker\":{\"color\":\"#FFA15A\"},\"name\":\"3RD\",\"notched\":false,\"offsetgroup\":\"3RD\",\"orientation\":\"h\",\"showlegend\":true,\"x\":[31,14,84,31,19,37,23,109,12,17,7,49,29,9,1,20,2,28,25,18,5,118,20,19,25,1,43,175,174,5,106,28,124,38,109,136,110,39,105,28,10,16,83,8,10,94,144,8,26,28,39,161,149,9,19,28,94,132,22,27,2,13,49,33,34,5,25,20,46,46,217,2,23,10,7,20,48,26,29,28,21,2,11,13,18,19,36,99,17,91,44,25,5,25,2,18,29,10,25,9,3,6,19,14,66,67,4,48,17,23,5,49,131,5,43,44,14,3,157,26,9,31,18,3,14,25,16,20,28,28,145,3,17,17,27,21,24,6,18,40,31,21,3,10,7,21,107,33,146,3,16,17,16,17,37,138,34,130,64,31,9,22,27,31,23,27,28,43,36,12,126,100,33,68,14,29,17,138,42,101,44,29,108,7,42,9,116,2,21,34,21,105,1,13,11,97,44,91,7,28,19,22,23,47,20,1,27,15,45,92,134,36,43,38,137,8,98,27,29,146,16,36,20,32,10,43,9,38,43,46,32,1,39,11,11,17,4,45,68,2,135,13,13,103,2,35,148,45,21,11,9,48,24,16,36,3,49,13,13,25,132,40,22],\"x0\":\" \",\"xaxis\":\"x\",\"y\":[\"3RD\",\"3RD\",\"3RD\",\"3RD\",\"3RD\",\"3RD\",\"3RD\",\"3RD\",\"3RD\",\"3RD\",\"3RD\",\"3RD\",\"3RD\",\"3RD\",\"3RD\",\"3RD\",\"3RD\",\"3RD\",\"3RD\",\"3RD\",\"3RD\",\"3RD\",\"3RD\",\"3RD\",\"3RD\",\"3RD\",\"3RD\",\"3RD\",\"3RD\",\"3RD\",\"3RD\",\"3RD\",\"3RD\",\"3RD\",\"3RD\",\"3RD\",\"3RD\",\"3RD\",\"3RD\",\"3RD\",\"3RD\",\"3RD\",\"3RD\",\"3RD\",\"3RD\",\"3RD\",\"3RD\",\"3RD\",\"3RD\",\"3RD\",\"3RD\",\"3RD\",\"3RD\",\"3RD\",\"3RD\",\"3RD\",\"3RD\",\"3RD\",\"3RD\",\"3RD\",\"3RD\",\"3RD\",\"3RD\",\"3RD\",\"3RD\",\"3RD\",\"3RD\",\"3RD\",\"3RD\",\"3RD\",\"3RD\",\"3RD\",\"3RD\",\"3RD\",\"3RD\",\"3RD\",\"3RD\",\"3RD\",\"3RD\",\"3RD\",\"3RD\",\"3RD\",\"3RD\",\"3RD\",\"3RD\",\"3RD\",\"3RD\",\"3RD\",\"3RD\",\"3RD\",\"3RD\",\"3RD\",\"3RD\",\"3RD\",\"3RD\",\"3RD\",\"3RD\",\"3RD\",\"3RD\",\"3RD\",\"3RD\",\"3RD\",\"3RD\",\"3RD\",\"3RD\",\"3RD\",\"3RD\",\"3RD\",\"3RD\",\"3RD\",\"3RD\",\"3RD\",\"3RD\",\"3RD\",\"3RD\",\"3RD\",\"3RD\",\"3RD\",\"3RD\",\"3RD\",\"3RD\",\"3RD\",\"3RD\",\"3RD\",\"3RD\",\"3RD\",\"3RD\",\"3RD\",\"3RD\",\"3RD\",\"3RD\",\"3RD\",\"3RD\",\"3RD\",\"3RD\",\"3RD\",\"3RD\",\"3RD\",\"3RD\",\"3RD\",\"3RD\",\"3RD\",\"3RD\",\"3RD\",\"3RD\",\"3RD\",\"3RD\",\"3RD\",\"3RD\",\"3RD\",\"3RD\",\"3RD\",\"3RD\",\"3RD\",\"3RD\",\"3RD\",\"3RD\",\"3RD\",\"3RD\",\"3RD\",\"3RD\",\"3RD\",\"3RD\",\"3RD\",\"3RD\",\"3RD\",\"3RD\",\"3RD\",\"3RD\",\"3RD\",\"3RD\",\"3RD\",\"3RD\",\"3RD\",\"3RD\",\"3RD\",\"3RD\",\"3RD\",\"3RD\",\"3RD\",\"3RD\",\"3RD\",\"3RD\",\"3RD\",\"3RD\",\"3RD\",\"3RD\",\"3RD\",\"3RD\",\"3RD\",\"3RD\",\"3RD\",\"3RD\",\"3RD\",\"3RD\",\"3RD\",\"3RD\",\"3RD\",\"3RD\",\"3RD\",\"3RD\",\"3RD\",\"3RD\",\"3RD\",\"3RD\",\"3RD\",\"3RD\",\"3RD\",\"3RD\",\"3RD\",\"3RD\",\"3RD\",\"3RD\",\"3RD\",\"3RD\",\"3RD\",\"3RD\",\"3RD\",\"3RD\",\"3RD\",\"3RD\",\"3RD\",\"3RD\",\"3RD\",\"3RD\",\"3RD\",\"3RD\",\"3RD\",\"3RD\",\"3RD\",\"3RD\",\"3RD\",\"3RD\",\"3RD\",\"3RD\",\"3RD\",\"3RD\",\"3RD\",\"3RD\",\"3RD\",\"3RD\",\"3RD\",\"3RD\",\"3RD\",\"3RD\",\"3RD\",\"3RD\",\"3RD\",\"3RD\",\"3RD\",\"3RD\",\"3RD\",\"3RD\",\"3RD\",\"3RD\",\"3RD\",\"3RD\",\"3RD\",\"3RD\",\"3RD\",\"3RD\",\"3RD\",\"3RD\"],\"y0\":\" \",\"yaxis\":\"y\",\"type\":\"box\"},{\"alignmentgroup\":\"True\",\"boxpoints\":\"all\",\"hovertemplate\":\" =%{y}<br>Number of seats=%{x}<extra></extra>\",\"legendgroup\":\"FIGUEROA\",\"marker\":{\"color\":\"#19d3f3\"},\"name\":\"FIGUEROA\",\"notched\":false,\"offsetgroup\":\"FIGUEROA\",\"orientation\":\"h\",\"showlegend\":true,\"x\":[14,35,17,19,5,14,24,200,8,157,155,15,6,5,12,10,127,45,34,26,75,28,7,12,49,108,15,34,70,5,64,33,24,24,9,6,9,16,11,22,67,25,24,16,47,12,17,13,18,42,111,111,186,4,43,160,159,66,220,131,112,3,22,173,12,70,18,110,104,223,103,36,11,24,20,46,36,27,91,25,4,14,29,46,107,16,5,198,20,22,171,35,74,25,44,18,10,178,10,10,7,28,13,99,130,6,16,43,17,29,15,41,6,157,224,10,96,165,12,4,77,13,24,87,226,48,19,42,2,18,18,8,32,41,11,41,26,42,18,13,41,21,23,71,11,43,168,18,24,95,7,13,9,7,18,21,21,70,21,13,16,38,21,45,35,17,103,24,107,19,110,14,32,25,25,48,8,29,20,17,16,96,18,18,12,2,36,122,106,21,24,87,26,19,16,6,17,19,6,12,34,6,26,35,205,38,4,9,105,119,23,13,44,2,16,23,11,34,34,18,10,24,37,21,49,109,111,130,143,9,14,43,42,18,42,62,8,49,141,34,32,93,71,47,6,45,21,44,24,45,26,18,7,25,170,19,85,113,23,31,48,127,10,24,22,42,80,5,28,34,9,37,49,7,21,26,79,147,46,8,12,22,1,26,12,75,33,19,19,8,13,27,25,2,81,18,34,4,43,13,7,45,21,44,134,46,34,7,43,28,14,31,1,41,125,18,137,16,31,42,20,11,3,47,10,47,26,186,19,46,69,90,14,24],\"x0\":\" \",\"xaxis\":\"x\",\"y\":[\"FIGUEROA\",\"FIGUEROA\",\"FIGUEROA\",\"FIGUEROA\",\"FIGUEROA\",\"FIGUEROA\",\"FIGUEROA\",\"FIGUEROA\",\"FIGUEROA\",\"FIGUEROA\",\"FIGUEROA\",\"FIGUEROA\",\"FIGUEROA\",\"FIGUEROA\",\"FIGUEROA\",\"FIGUEROA\",\"FIGUEROA\",\"FIGUEROA\",\"FIGUEROA\",\"FIGUEROA\",\"FIGUEROA\",\"FIGUEROA\",\"FIGUEROA\",\"FIGUEROA\",\"FIGUEROA\",\"FIGUEROA\",\"FIGUEROA\",\"FIGUEROA\",\"FIGUEROA\",\"FIGUEROA\",\"FIGUEROA\",\"FIGUEROA\",\"FIGUEROA\",\"FIGUEROA\",\"FIGUEROA\",\"FIGUEROA\",\"FIGUEROA\",\"FIGUEROA\",\"FIGUEROA\",\"FIGUEROA\",\"FIGUEROA\",\"FIGUEROA\",\"FIGUEROA\",\"FIGUEROA\",\"FIGUEROA\",\"FIGUEROA\",\"FIGUEROA\",\"FIGUEROA\",\"FIGUEROA\",\"FIGUEROA\",\"FIGUEROA\",\"FIGUEROA\",\"FIGUEROA\",\"FIGUEROA\",\"FIGUEROA\",\"FIGUEROA\",\"FIGUEROA\",\"FIGUEROA\",\"FIGUEROA\",\"FIGUEROA\",\"FIGUEROA\",\"FIGUEROA\",\"FIGUEROA\",\"FIGUEROA\",\"FIGUEROA\",\"FIGUEROA\",\"FIGUEROA\",\"FIGUEROA\",\"FIGUEROA\",\"FIGUEROA\",\"FIGUEROA\",\"FIGUEROA\",\"FIGUEROA\",\"FIGUEROA\",\"FIGUEROA\",\"FIGUEROA\",\"FIGUEROA\",\"FIGUEROA\",\"FIGUEROA\",\"FIGUEROA\",\"FIGUEROA\",\"FIGUEROA\",\"FIGUEROA\",\"FIGUEROA\",\"FIGUEROA\",\"FIGUEROA\",\"FIGUEROA\",\"FIGUEROA\",\"FIGUEROA\",\"FIGUEROA\",\"FIGUEROA\",\"FIGUEROA\",\"FIGUEROA\",\"FIGUEROA\",\"FIGUEROA\",\"FIGUEROA\",\"FIGUEROA\",\"FIGUEROA\",\"FIGUEROA\",\"FIGUEROA\",\"FIGUEROA\",\"FIGUEROA\",\"FIGUEROA\",\"FIGUEROA\",\"FIGUEROA\",\"FIGUEROA\",\"FIGUEROA\",\"FIGUEROA\",\"FIGUEROA\",\"FIGUEROA\",\"FIGUEROA\",\"FIGUEROA\",\"FIGUEROA\",\"FIGUEROA\",\"FIGUEROA\",\"FIGUEROA\",\"FIGUEROA\",\"FIGUEROA\",\"FIGUEROA\",\"FIGUEROA\",\"FIGUEROA\",\"FIGUEROA\",\"FIGUEROA\",\"FIGUEROA\",\"FIGUEROA\",\"FIGUEROA\",\"FIGUEROA\",\"FIGUEROA\",\"FIGUEROA\",\"FIGUEROA\",\"FIGUEROA\",\"FIGUEROA\",\"FIGUEROA\",\"FIGUEROA\",\"FIGUEROA\",\"FIGUEROA\",\"FIGUEROA\",\"FIGUEROA\",\"FIGUEROA\",\"FIGUEROA\",\"FIGUEROA\",\"FIGUEROA\",\"FIGUEROA\",\"FIGUEROA\",\"FIGUEROA\",\"FIGUEROA\",\"FIGUEROA\",\"FIGUEROA\",\"FIGUEROA\",\"FIGUEROA\",\"FIGUEROA\",\"FIGUEROA\",\"FIGUEROA\",\"FIGUEROA\",\"FIGUEROA\",\"FIGUEROA\",\"FIGUEROA\",\"FIGUEROA\",\"FIGUEROA\",\"FIGUEROA\",\"FIGUEROA\",\"FIGUEROA\",\"FIGUEROA\",\"FIGUEROA\",\"FIGUEROA\",\"FIGUEROA\",\"FIGUEROA\",\"FIGUEROA\",\"FIGUEROA\",\"FIGUEROA\",\"FIGUEROA\",\"FIGUEROA\",\"FIGUEROA\",\"FIGUEROA\",\"FIGUEROA\",\"FIGUEROA\",\"FIGUEROA\",\"FIGUEROA\",\"FIGUEROA\",\"FIGUEROA\",\"FIGUEROA\",\"FIGUEROA\",\"FIGUEROA\",\"FIGUEROA\",\"FIGUEROA\",\"FIGUEROA\",\"FIGUEROA\",\"FIGUEROA\",\"FIGUEROA\",\"FIGUEROA\",\"FIGUEROA\",\"FIGUEROA\",\"FIGUEROA\",\"FIGUEROA\",\"FIGUEROA\",\"FIGUEROA\",\"FIGUEROA\",\"FIGUEROA\",\"FIGUEROA\",\"FIGUEROA\",\"FIGUEROA\",\"FIGUEROA\",\"FIGUEROA\",\"FIGUEROA\",\"FIGUEROA\",\"FIGUEROA\",\"FIGUEROA\",\"FIGUEROA\",\"FIGUEROA\",\"FIGUEROA\",\"FIGUEROA\",\"FIGUEROA\",\"FIGUEROA\",\"FIGUEROA\",\"FIGUEROA\",\"FIGUEROA\",\"FIGUEROA\",\"FIGUEROA\",\"FIGUEROA\",\"FIGUEROA\",\"FIGUEROA\",\"FIGUEROA\",\"FIGUEROA\",\"FIGUEROA\",\"FIGUEROA\",\"FIGUEROA\",\"FIGUEROA\",\"FIGUEROA\",\"FIGUEROA\",\"FIGUEROA\",\"FIGUEROA\",\"FIGUEROA\",\"FIGUEROA\",\"FIGUEROA\",\"FIGUEROA\",\"FIGUEROA\",\"FIGUEROA\",\"FIGUEROA\",\"FIGUEROA\",\"FIGUEROA\",\"FIGUEROA\",\"FIGUEROA\",\"FIGUEROA\",\"FIGUEROA\",\"FIGUEROA\",\"FIGUEROA\",\"FIGUEROA\",\"FIGUEROA\",\"FIGUEROA\",\"FIGUEROA\",\"FIGUEROA\",\"FIGUEROA\",\"FIGUEROA\",\"FIGUEROA\",\"FIGUEROA\",\"FIGUEROA\",\"FIGUEROA\",\"FIGUEROA\",\"FIGUEROA\",\"FIGUEROA\",\"FIGUEROA\",\"FIGUEROA\",\"FIGUEROA\",\"FIGUEROA\",\"FIGUEROA\",\"FIGUEROA\",\"FIGUEROA\",\"FIGUEROA\",\"FIGUEROA\",\"FIGUEROA\",\"FIGUEROA\",\"FIGUEROA\",\"FIGUEROA\",\"FIGUEROA\",\"FIGUEROA\",\"FIGUEROA\",\"FIGUEROA\",\"FIGUEROA\",\"FIGUEROA\",\"FIGUEROA\",\"FIGUEROA\",\"FIGUEROA\",\"FIGUEROA\",\"FIGUEROA\",\"FIGUEROA\",\"FIGUEROA\",\"FIGUEROA\",\"FIGUEROA\",\"FIGUEROA\",\"FIGUEROA\",\"FIGUEROA\",\"FIGUEROA\",\"FIGUEROA\",\"FIGUEROA\",\"FIGUEROA\",\"FIGUEROA\",\"FIGUEROA\",\"FIGUEROA\",\"FIGUEROA\",\"FIGUEROA\",\"FIGUEROA\",\"FIGUEROA\",\"FIGUEROA\",\"FIGUEROA\",\"FIGUEROA\",\"FIGUEROA\",\"FIGUEROA\",\"FIGUEROA\",\"FIGUEROA\",\"FIGUEROA\",\"FIGUEROA\",\"FIGUEROA\",\"FIGUEROA\",\"FIGUEROA\",\"FIGUEROA\",\"FIGUEROA\",\"FIGUEROA\",\"FIGUEROA\",\"FIGUEROA\",\"FIGUEROA\",\"FIGUEROA\",\"FIGUEROA\",\"FIGUEROA\",\"FIGUEROA\",\"FIGUEROA\",\"FIGUEROA\",\"FIGUEROA\",\"FIGUEROA\",\"FIGUEROA\",\"FIGUEROA\",\"FIGUEROA\",\"FIGUEROA\",\"FIGUEROA\",\"FIGUEROA\"],\"y0\":\" \",\"yaxis\":\"y\",\"type\":\"box\"},{\"alignmentgroup\":\"True\",\"boxpoints\":\"all\",\"hovertemplate\":\" =%{y}<br>Number of seats=%{x}<extra></extra>\",\"legendgroup\":\"PICO\",\"marker\":{\"color\":\"#FF6692\"},\"name\":\"PICO\",\"notched\":false,\"offsetgroup\":\"PICO\",\"orientation\":\"h\",\"showlegend\":true,\"x\":[18,37,27,17,27,24,25,24,26,49,205,115,47,13,171,40,21,36,26,8,48,29,24,8,19,3,14,43,37,38,18,49,39,1,10,33,7,42,18,41,115,49,44,204,15,107,32,36,68,18,82,46,84,9,5,45,11,40,1,21,3,15,85,21,22,34,77,8,43,21,41,21,3,19,76,1,137,43,45,68,46,117,221,7,134,87,22,31,37,32,21,13,1,166,22,2,34,16,125,12,2,127,8,3,4,29,16,21,31,43,12,73,5,37,17,15,4,29,13,39,4,29,103,80,9,32,74,33,71,46,18,11,18,115,39,130,75,73,92,4,8,10,42,39,14,2,2,48,39,42,8,1,120,132,72,49,135,133,12,33,34,28,13,13,6,7,205,38,19,14,167,11,20,6,13,46,143,18,10,27,14,35,18,27,9,44,10,139,67,11,20,9,25,17,28,42,21,134,132,45,23,44,7,6,31,17,8,82,44,23,44,27,11,29,24,7,7,83,42,34,27,2,39,45,29,28,17,25,11,23,19,143,17,23,39,42,8,19,27,220,29,42,89,21,143,86,45,49,44,24,22,99,27,15,13,82,140,19,31,139,13,87,2,17,14,34,46,19,3,46,110,5,22,26,133,10,46,26,96,22,136,37,103,10,49,24,20,14,21,36,125,29,42,19,29,11,75,21,28,9,44,31,2,34,43,67,16,20,38,47,22,13,11,16,7,5,168,1,36,36,23,9,43,47,15,12,44,14,17,39,19,23,25,13,1,46,5,6,5,9,8,26,1,11,106,28,47,49,15,12,102,23,12,5,144,38,20,3,142,24,28,19,3,8,26,40,6,23,19,135,29],\"x0\":\" \",\"xaxis\":\"x\",\"y\":[\"PICO\",\"PICO\",\"PICO\",\"PICO\",\"PICO\",\"PICO\",\"PICO\",\"PICO\",\"PICO\",\"PICO\",\"PICO\",\"PICO\",\"PICO\",\"PICO\",\"PICO\",\"PICO\",\"PICO\",\"PICO\",\"PICO\",\"PICO\",\"PICO\",\"PICO\",\"PICO\",\"PICO\",\"PICO\",\"PICO\",\"PICO\",\"PICO\",\"PICO\",\"PICO\",\"PICO\",\"PICO\",\"PICO\",\"PICO\",\"PICO\",\"PICO\",\"PICO\",\"PICO\",\"PICO\",\"PICO\",\"PICO\",\"PICO\",\"PICO\",\"PICO\",\"PICO\",\"PICO\",\"PICO\",\"PICO\",\"PICO\",\"PICO\",\"PICO\",\"PICO\",\"PICO\",\"PICO\",\"PICO\",\"PICO\",\"PICO\",\"PICO\",\"PICO\",\"PICO\",\"PICO\",\"PICO\",\"PICO\",\"PICO\",\"PICO\",\"PICO\",\"PICO\",\"PICO\",\"PICO\",\"PICO\",\"PICO\",\"PICO\",\"PICO\",\"PICO\",\"PICO\",\"PICO\",\"PICO\",\"PICO\",\"PICO\",\"PICO\",\"PICO\",\"PICO\",\"PICO\",\"PICO\",\"PICO\",\"PICO\",\"PICO\",\"PICO\",\"PICO\",\"PICO\",\"PICO\",\"PICO\",\"PICO\",\"PICO\",\"PICO\",\"PICO\",\"PICO\",\"PICO\",\"PICO\",\"PICO\",\"PICO\",\"PICO\",\"PICO\",\"PICO\",\"PICO\",\"PICO\",\"PICO\",\"PICO\",\"PICO\",\"PICO\",\"PICO\",\"PICO\",\"PICO\",\"PICO\",\"PICO\",\"PICO\",\"PICO\",\"PICO\",\"PICO\",\"PICO\",\"PICO\",\"PICO\",\"PICO\",\"PICO\",\"PICO\",\"PICO\",\"PICO\",\"PICO\",\"PICO\",\"PICO\",\"PICO\",\"PICO\",\"PICO\",\"PICO\",\"PICO\",\"PICO\",\"PICO\",\"PICO\",\"PICO\",\"PICO\",\"PICO\",\"PICO\",\"PICO\",\"PICO\",\"PICO\",\"PICO\",\"PICO\",\"PICO\",\"PICO\",\"PICO\",\"PICO\",\"PICO\",\"PICO\",\"PICO\",\"PICO\",\"PICO\",\"PICO\",\"PICO\",\"PICO\",\"PICO\",\"PICO\",\"PICO\",\"PICO\",\"PICO\",\"PICO\",\"PICO\",\"PICO\",\"PICO\",\"PICO\",\"PICO\",\"PICO\",\"PICO\",\"PICO\",\"PICO\",\"PICO\",\"PICO\",\"PICO\",\"PICO\",\"PICO\",\"PICO\",\"PICO\",\"PICO\",\"PICO\",\"PICO\",\"PICO\",\"PICO\",\"PICO\",\"PICO\",\"PICO\",\"PICO\",\"PICO\",\"PICO\",\"PICO\",\"PICO\",\"PICO\",\"PICO\",\"PICO\",\"PICO\",\"PICO\",\"PICO\",\"PICO\",\"PICO\",\"PICO\",\"PICO\",\"PICO\",\"PICO\",\"PICO\",\"PICO\",\"PICO\",\"PICO\",\"PICO\",\"PICO\",\"PICO\",\"PICO\",\"PICO\",\"PICO\",\"PICO\",\"PICO\",\"PICO\",\"PICO\",\"PICO\",\"PICO\",\"PICO\",\"PICO\",\"PICO\",\"PICO\",\"PICO\",\"PICO\",\"PICO\",\"PICO\",\"PICO\",\"PICO\",\"PICO\",\"PICO\",\"PICO\",\"PICO\",\"PICO\",\"PICO\",\"PICO\",\"PICO\",\"PICO\",\"PICO\",\"PICO\",\"PICO\",\"PICO\",\"PICO\",\"PICO\",\"PICO\",\"PICO\",\"PICO\",\"PICO\",\"PICO\",\"PICO\",\"PICO\",\"PICO\",\"PICO\",\"PICO\",\"PICO\",\"PICO\",\"PICO\",\"PICO\",\"PICO\",\"PICO\",\"PICO\",\"PICO\",\"PICO\",\"PICO\",\"PICO\",\"PICO\",\"PICO\",\"PICO\",\"PICO\",\"PICO\",\"PICO\",\"PICO\",\"PICO\",\"PICO\",\"PICO\",\"PICO\",\"PICO\",\"PICO\",\"PICO\",\"PICO\",\"PICO\",\"PICO\",\"PICO\",\"PICO\",\"PICO\",\"PICO\",\"PICO\",\"PICO\",\"PICO\",\"PICO\",\"PICO\",\"PICO\",\"PICO\",\"PICO\",\"PICO\",\"PICO\",\"PICO\",\"PICO\",\"PICO\",\"PICO\",\"PICO\",\"PICO\",\"PICO\",\"PICO\",\"PICO\",\"PICO\",\"PICO\",\"PICO\",\"PICO\",\"PICO\",\"PICO\",\"PICO\",\"PICO\",\"PICO\",\"PICO\",\"PICO\",\"PICO\",\"PICO\",\"PICO\",\"PICO\",\"PICO\",\"PICO\",\"PICO\",\"PICO\",\"PICO\",\"PICO\",\"PICO\",\"PICO\",\"PICO\",\"PICO\",\"PICO\",\"PICO\",\"PICO\",\"PICO\",\"PICO\",\"PICO\",\"PICO\",\"PICO\",\"PICO\",\"PICO\",\"PICO\",\"PICO\",\"PICO\",\"PICO\",\"PICO\",\"PICO\",\"PICO\",\"PICO\",\"PICO\",\"PICO\",\"PICO\",\"PICO\",\"PICO\",\"PICO\",\"PICO\",\"PICO\",\"PICO\",\"PICO\",\"PICO\",\"PICO\",\"PICO\",\"PICO\",\"PICO\",\"PICO\",\"PICO\",\"PICO\",\"PICO\",\"PICO\"],\"y0\":\" \",\"yaxis\":\"y\",\"type\":\"box\"},{\"alignmentgroup\":\"True\",\"boxpoints\":\"all\",\"hovertemplate\":\" =%{y}<br>Number of seats=%{x}<extra></extra>\",\"legendgroup\":\"OLYMPIC\",\"marker\":{\"color\":\"#B6E880\"},\"name\":\"OLYMPIC\",\"notched\":false,\"offsetgroup\":\"OLYMPIC\",\"orientation\":\"h\",\"showlegend\":true,\"x\":[33,13,16,25,29,63,20,15,23,20,8,23,225,5,45,27,182,3,10,44,41,18,127,186,6,8,14,110,226,38,11,49,46,12,226,92,203,45,67,12,3,42,28,2,18,31,20,32,45,120,16,124,8,43,4,29,20,15,209,48,38,28,22,47,127,109,187,87,40,16,126,37,6,23,8,170,110,74,100,21,33,36,38,213,37,85,3,10,1,45,36,136,44,48,14,148,7,6,105,17,39,155,204,27,194,175,144,14,142,24,31,48,131,207,4,26,45,12,16,47,135,46,47,40,22,62,78,38,31,87,49,1,2,4,24,70,33,130,29,199,19,46,36,62,42,41,43,3,37,40,3,34,17,25,8,31,6,169,7,8,3,15,14,14,83,27,6,32,24,16,49,12,32,15,11,21,47,29,162,9,11,11,27,25,147,116,41,161,209,25,47,19,31,17,48,24,24,6,8,32,128,14,4,27,22,63,20,23,73,17,5,22,12,49,24,31,182,144,101,9,36,155,9,27,36,34,32,46,10,7,31,24,43,143,21,47,6,27,2,26,39,22,4,152,25,27,3,3,47,32,23,80,18,88,23,42,33,46,31,2,168,47,23,28,8,34,14,18,21,45,224,128,31,21,28,16,44,20,24,12,28,27,10,4,1,216,192,12,37,100,18,10,29,7,10,7,11,45,9,13,38,10,24,13,44,9,41,40,15],\"x0\":\" \",\"xaxis\":\"x\",\"y\":[\"OLYMPIC\",\"OLYMPIC\",\"OLYMPIC\",\"OLYMPIC\",\"OLYMPIC\",\"OLYMPIC\",\"OLYMPIC\",\"OLYMPIC\",\"OLYMPIC\",\"OLYMPIC\",\"OLYMPIC\",\"OLYMPIC\",\"OLYMPIC\",\"OLYMPIC\",\"OLYMPIC\",\"OLYMPIC\",\"OLYMPIC\",\"OLYMPIC\",\"OLYMPIC\",\"OLYMPIC\",\"OLYMPIC\",\"OLYMPIC\",\"OLYMPIC\",\"OLYMPIC\",\"OLYMPIC\",\"OLYMPIC\",\"OLYMPIC\",\"OLYMPIC\",\"OLYMPIC\",\"OLYMPIC\",\"OLYMPIC\",\"OLYMPIC\",\"OLYMPIC\",\"OLYMPIC\",\"OLYMPIC\",\"OLYMPIC\",\"OLYMPIC\",\"OLYMPIC\",\"OLYMPIC\",\"OLYMPIC\",\"OLYMPIC\",\"OLYMPIC\",\"OLYMPIC\",\"OLYMPIC\",\"OLYMPIC\",\"OLYMPIC\",\"OLYMPIC\",\"OLYMPIC\",\"OLYMPIC\",\"OLYMPIC\",\"OLYMPIC\",\"OLYMPIC\",\"OLYMPIC\",\"OLYMPIC\",\"OLYMPIC\",\"OLYMPIC\",\"OLYMPIC\",\"OLYMPIC\",\"OLYMPIC\",\"OLYMPIC\",\"OLYMPIC\",\"OLYMPIC\",\"OLYMPIC\",\"OLYMPIC\",\"OLYMPIC\",\"OLYMPIC\",\"OLYMPIC\",\"OLYMPIC\",\"OLYMPIC\",\"OLYMPIC\",\"OLYMPIC\",\"OLYMPIC\",\"OLYMPIC\",\"OLYMPIC\",\"OLYMPIC\",\"OLYMPIC\",\"OLYMPIC\",\"OLYMPIC\",\"OLYMPIC\",\"OLYMPIC\",\"OLYMPIC\",\"OLYMPIC\",\"OLYMPIC\",\"OLYMPIC\",\"OLYMPIC\",\"OLYMPIC\",\"OLYMPIC\",\"OLYMPIC\",\"OLYMPIC\",\"OLYMPIC\",\"OLYMPIC\",\"OLYMPIC\",\"OLYMPIC\",\"OLYMPIC\",\"OLYMPIC\",\"OLYMPIC\",\"OLYMPIC\",\"OLYMPIC\",\"OLYMPIC\",\"OLYMPIC\",\"OLYMPIC\",\"OLYMPIC\",\"OLYMPIC\",\"OLYMPIC\",\"OLYMPIC\",\"OLYMPIC\",\"OLYMPIC\",\"OLYMPIC\",\"OLYMPIC\",\"OLYMPIC\",\"OLYMPIC\",\"OLYMPIC\",\"OLYMPIC\",\"OLYMPIC\",\"OLYMPIC\",\"OLYMPIC\",\"OLYMPIC\",\"OLYMPIC\",\"OLYMPIC\",\"OLYMPIC\",\"OLYMPIC\",\"OLYMPIC\",\"OLYMPIC\",\"OLYMPIC\",\"OLYMPIC\",\"OLYMPIC\",\"OLYMPIC\",\"OLYMPIC\",\"OLYMPIC\",\"OLYMPIC\",\"OLYMPIC\",\"OLYMPIC\",\"OLYMPIC\",\"OLYMPIC\",\"OLYMPIC\",\"OLYMPIC\",\"OLYMPIC\",\"OLYMPIC\",\"OLYMPIC\",\"OLYMPIC\",\"OLYMPIC\",\"OLYMPIC\",\"OLYMPIC\",\"OLYMPIC\",\"OLYMPIC\",\"OLYMPIC\",\"OLYMPIC\",\"OLYMPIC\",\"OLYMPIC\",\"OLYMPIC\",\"OLYMPIC\",\"OLYMPIC\",\"OLYMPIC\",\"OLYMPIC\",\"OLYMPIC\",\"OLYMPIC\",\"OLYMPIC\",\"OLYMPIC\",\"OLYMPIC\",\"OLYMPIC\",\"OLYMPIC\",\"OLYMPIC\",\"OLYMPIC\",\"OLYMPIC\",\"OLYMPIC\",\"OLYMPIC\",\"OLYMPIC\",\"OLYMPIC\",\"OLYMPIC\",\"OLYMPIC\",\"OLYMPIC\",\"OLYMPIC\",\"OLYMPIC\",\"OLYMPIC\",\"OLYMPIC\",\"OLYMPIC\",\"OLYMPIC\",\"OLYMPIC\",\"OLYMPIC\",\"OLYMPIC\",\"OLYMPIC\",\"OLYMPIC\",\"OLYMPIC\",\"OLYMPIC\",\"OLYMPIC\",\"OLYMPIC\",\"OLYMPIC\",\"OLYMPIC\",\"OLYMPIC\",\"OLYMPIC\",\"OLYMPIC\",\"OLYMPIC\",\"OLYMPIC\",\"OLYMPIC\",\"OLYMPIC\",\"OLYMPIC\",\"OLYMPIC\",\"OLYMPIC\",\"OLYMPIC\",\"OLYMPIC\",\"OLYMPIC\",\"OLYMPIC\",\"OLYMPIC\",\"OLYMPIC\",\"OLYMPIC\",\"OLYMPIC\",\"OLYMPIC\",\"OLYMPIC\",\"OLYMPIC\",\"OLYMPIC\",\"OLYMPIC\",\"OLYMPIC\",\"OLYMPIC\",\"OLYMPIC\",\"OLYMPIC\",\"OLYMPIC\",\"OLYMPIC\",\"OLYMPIC\",\"OLYMPIC\",\"OLYMPIC\",\"OLYMPIC\",\"OLYMPIC\",\"OLYMPIC\",\"OLYMPIC\",\"OLYMPIC\",\"OLYMPIC\",\"OLYMPIC\",\"OLYMPIC\",\"OLYMPIC\",\"OLYMPIC\",\"OLYMPIC\",\"OLYMPIC\",\"OLYMPIC\",\"OLYMPIC\",\"OLYMPIC\",\"OLYMPIC\",\"OLYMPIC\",\"OLYMPIC\",\"OLYMPIC\",\"OLYMPIC\",\"OLYMPIC\",\"OLYMPIC\",\"OLYMPIC\",\"OLYMPIC\",\"OLYMPIC\",\"OLYMPIC\",\"OLYMPIC\",\"OLYMPIC\",\"OLYMPIC\",\"OLYMPIC\",\"OLYMPIC\",\"OLYMPIC\",\"OLYMPIC\",\"OLYMPIC\",\"OLYMPIC\",\"OLYMPIC\",\"OLYMPIC\",\"OLYMPIC\",\"OLYMPIC\",\"OLYMPIC\",\"OLYMPIC\",\"OLYMPIC\",\"OLYMPIC\",\"OLYMPIC\",\"OLYMPIC\",\"OLYMPIC\",\"OLYMPIC\",\"OLYMPIC\",\"OLYMPIC\",\"OLYMPIC\",\"OLYMPIC\",\"OLYMPIC\",\"OLYMPIC\",\"OLYMPIC\",\"OLYMPIC\",\"OLYMPIC\",\"OLYMPIC\",\"OLYMPIC\",\"OLYMPIC\",\"OLYMPIC\",\"OLYMPIC\",\"OLYMPIC\",\"OLYMPIC\",\"OLYMPIC\",\"OLYMPIC\",\"OLYMPIC\",\"OLYMPIC\",\"OLYMPIC\",\"OLYMPIC\",\"OLYMPIC\",\"OLYMPIC\",\"OLYMPIC\",\"OLYMPIC\",\"OLYMPIC\",\"OLYMPIC\",\"OLYMPIC\",\"OLYMPIC\",\"OLYMPIC\",\"OLYMPIC\",\"OLYMPIC\",\"OLYMPIC\",\"OLYMPIC\",\"OLYMPIC\",\"OLYMPIC\",\"OLYMPIC\",\"OLYMPIC\",\"OLYMPIC\",\"OLYMPIC\",\"OLYMPIC\"],\"y0\":\" \",\"yaxis\":\"y\",\"type\":\"box\"},{\"alignmentgroup\":\"True\",\"boxpoints\":\"all\",\"hovertemplate\":\" =%{y}<br>Number of seats=%{x}<extra></extra>\",\"legendgroup\":\"VERMONT\",\"marker\":{\"color\":\"#FF97FF\"},\"name\":\"VERMONT\",\"notched\":false,\"offsetgroup\":\"VERMONT\",\"orientation\":\"h\",\"showlegend\":true,\"x\":[19,221,71,18,33,40,2,1,1,5,227,184,116,48,1,26,22,29,12,5,23,2,27,27,25,212,13,6,18,9,112,67,6,20,227,29,32,1,13,102,4,10,36,164,10,32,35,36,22,22,28,16,25,12,32,171,35,8,96,96,8,47,25,24,38,105,45,40,87,6,26,28,40,21,14,184,124,39,43,32,32,226,192,95,6,41,20,13,24,9,141,38,28,21,37,4,1,44,118,44,4,38,41,4,23,4,125,222,6,1,28,13,36,117,105,6,76,22,10,26,25,34,43,26,43,18,2,29,9,15,20,27,13,17,17,118,22,16,106,103,31,27,18,20,38,8,110,82,10,26,27,25,131,2,40,108,48,17,37,137,14,46,22,35,42,43,74,27,22,26,28,18,11,14,45,19,42,10,19,1,15,20,115,22,156,15,44,39,11,93,33,19,37,1,6,45,39,29,49,23,13,42,140,35,48,27,41,44,12,47,28,37,35,43,46,101,43,20,9,10,40,28,41,74,49,48,49,46,16,172,140,90,19,81,63,118,43,144,112,31,22,31,47,134,12,2,76,22,15,45,2,11,26,26,26,17,21,117,20,31,49,8,97,99,37,2,9,133,68,88,134,12,24,25,38,12,31,46,24,18,6,64,40,41,17,19,8,17],\"x0\":\" \",\"xaxis\":\"x\",\"y\":[\"VERMONT\",\"VERMONT\",\"VERMONT\",\"VERMONT\",\"VERMONT\",\"VERMONT\",\"VERMONT\",\"VERMONT\",\"VERMONT\",\"VERMONT\",\"VERMONT\",\"VERMONT\",\"VERMONT\",\"VERMONT\",\"VERMONT\",\"VERMONT\",\"VERMONT\",\"VERMONT\",\"VERMONT\",\"VERMONT\",\"VERMONT\",\"VERMONT\",\"VERMONT\",\"VERMONT\",\"VERMONT\",\"VERMONT\",\"VERMONT\",\"VERMONT\",\"VERMONT\",\"VERMONT\",\"VERMONT\",\"VERMONT\",\"VERMONT\",\"VERMONT\",\"VERMONT\",\"VERMONT\",\"VERMONT\",\"VERMONT\",\"VERMONT\",\"VERMONT\",\"VERMONT\",\"VERMONT\",\"VERMONT\",\"VERMONT\",\"VERMONT\",\"VERMONT\",\"VERMONT\",\"VERMONT\",\"VERMONT\",\"VERMONT\",\"VERMONT\",\"VERMONT\",\"VERMONT\",\"VERMONT\",\"VERMONT\",\"VERMONT\",\"VERMONT\",\"VERMONT\",\"VERMONT\",\"VERMONT\",\"VERMONT\",\"VERMONT\",\"VERMONT\",\"VERMONT\",\"VERMONT\",\"VERMONT\",\"VERMONT\",\"VERMONT\",\"VERMONT\",\"VERMONT\",\"VERMONT\",\"VERMONT\",\"VERMONT\",\"VERMONT\",\"VERMONT\",\"VERMONT\",\"VERMONT\",\"VERMONT\",\"VERMONT\",\"VERMONT\",\"VERMONT\",\"VERMONT\",\"VERMONT\",\"VERMONT\",\"VERMONT\",\"VERMONT\",\"VERMONT\",\"VERMONT\",\"VERMONT\",\"VERMONT\",\"VERMONT\",\"VERMONT\",\"VERMONT\",\"VERMONT\",\"VERMONT\",\"VERMONT\",\"VERMONT\",\"VERMONT\",\"VERMONT\",\"VERMONT\",\"VERMONT\",\"VERMONT\",\"VERMONT\",\"VERMONT\",\"VERMONT\",\"VERMONT\",\"VERMONT\",\"VERMONT\",\"VERMONT\",\"VERMONT\",\"VERMONT\",\"VERMONT\",\"VERMONT\",\"VERMONT\",\"VERMONT\",\"VERMONT\",\"VERMONT\",\"VERMONT\",\"VERMONT\",\"VERMONT\",\"VERMONT\",\"VERMONT\",\"VERMONT\",\"VERMONT\",\"VERMONT\",\"VERMONT\",\"VERMONT\",\"VERMONT\",\"VERMONT\",\"VERMONT\",\"VERMONT\",\"VERMONT\",\"VERMONT\",\"VERMONT\",\"VERMONT\",\"VERMONT\",\"VERMONT\",\"VERMONT\",\"VERMONT\",\"VERMONT\",\"VERMONT\",\"VERMONT\",\"VERMONT\",\"VERMONT\",\"VERMONT\",\"VERMONT\",\"VERMONT\",\"VERMONT\",\"VERMONT\",\"VERMONT\",\"VERMONT\",\"VERMONT\",\"VERMONT\",\"VERMONT\",\"VERMONT\",\"VERMONT\",\"VERMONT\",\"VERMONT\",\"VERMONT\",\"VERMONT\",\"VERMONT\",\"VERMONT\",\"VERMONT\",\"VERMONT\",\"VERMONT\",\"VERMONT\",\"VERMONT\",\"VERMONT\",\"VERMONT\",\"VERMONT\",\"VERMONT\",\"VERMONT\",\"VERMONT\",\"VERMONT\",\"VERMONT\",\"VERMONT\",\"VERMONT\",\"VERMONT\",\"VERMONT\",\"VERMONT\",\"VERMONT\",\"VERMONT\",\"VERMONT\",\"VERMONT\",\"VERMONT\",\"VERMONT\",\"VERMONT\",\"VERMONT\",\"VERMONT\",\"VERMONT\",\"VERMONT\",\"VERMONT\",\"VERMONT\",\"VERMONT\",\"VERMONT\",\"VERMONT\",\"VERMONT\",\"VERMONT\",\"VERMONT\",\"VERMONT\",\"VERMONT\",\"VERMONT\",\"VERMONT\",\"VERMONT\",\"VERMONT\",\"VERMONT\",\"VERMONT\",\"VERMONT\",\"VERMONT\",\"VERMONT\",\"VERMONT\",\"VERMONT\",\"VERMONT\",\"VERMONT\",\"VERMONT\",\"VERMONT\",\"VERMONT\",\"VERMONT\",\"VERMONT\",\"VERMONT\",\"VERMONT\",\"VERMONT\",\"VERMONT\",\"VERMONT\",\"VERMONT\",\"VERMONT\",\"VERMONT\",\"VERMONT\",\"VERMONT\",\"VERMONT\",\"VERMONT\",\"VERMONT\",\"VERMONT\",\"VERMONT\",\"VERMONT\",\"VERMONT\",\"VERMONT\",\"VERMONT\",\"VERMONT\",\"VERMONT\",\"VERMONT\",\"VERMONT\",\"VERMONT\",\"VERMONT\",\"VERMONT\",\"VERMONT\",\"VERMONT\",\"VERMONT\",\"VERMONT\",\"VERMONT\",\"VERMONT\",\"VERMONT\",\"VERMONT\",\"VERMONT\",\"VERMONT\",\"VERMONT\",\"VERMONT\",\"VERMONT\",\"VERMONT\",\"VERMONT\",\"VERMONT\",\"VERMONT\",\"VERMONT\",\"VERMONT\",\"VERMONT\",\"VERMONT\",\"VERMONT\",\"VERMONT\",\"VERMONT\",\"VERMONT\",\"VERMONT\",\"VERMONT\",\"VERMONT\",\"VERMONT\",\"VERMONT\",\"VERMONT\",\"VERMONT\",\"VERMONT\",\"VERMONT\",\"VERMONT\",\"VERMONT\",\"VERMONT\",\"VERMONT\",\"VERMONT\",\"VERMONT\",\"VERMONT\",\"VERMONT\",\"VERMONT\"],\"y0\":\" \",\"yaxis\":\"y\",\"type\":\"box\"},{\"alignmentgroup\":\"True\",\"boxpoints\":\"all\",\"hovertemplate\":\" =%{y}<br>Number of seats=%{x}<extra></extra>\",\"legendgroup\":\"MONICA\",\"marker\":{\"color\":\"#FECB52\"},\"name\":\"MONICA\",\"notched\":false,\"offsetgroup\":\"MONICA\",\"orientation\":\"h\",\"showlegend\":true,\"x\":[43,45,8,20,86,69,7,2,12,19,21,6,25,24,24,40,1,112,4,20,2,11,40,27,19,10,63,10,1,49,17,47,29,8,2,20,75,33,33,118,31,42,18,19,22,25,49,20,5,40,84,29,105,3,49,3,35,69,35,11,4,28,18,13,22,39,104,39,15,5,24,23,47,22,111,99,18,44,5,8,94,19,3,5,27,16,49,16,42,25,36,171,44,17,1,31,208,6,47,21,39,14,11,3,32,32,47,28,23,21,15,72,26,43,37,4,40,28,27,3,24,5,24,34,36,15,3,37,43,20,15,4,5,14,12,42,122,48,10,47,4,24,38,87,125,16,21,22,49,130,37,11,17,43,13,16,40,1,5,12,10,185,32,77,47,12,199,47,18,117,4,46,19,10,27,36,40,8,17,40,130,7,25,84,32,18,25,1,27,35,15,43,11,165,5,1,19,34,44,44,13,40,6,10,91,4,27,12,1,4,3,8,22,3,22,17,102,29,8,107,2,24,22,14,25,20,39,16,15,76,2,43,16,16,10,4,119,205,120,12,49,139,25,27,12,7,9,7,12,7,10,20,6,15,196,8,14,10,3,23,2,22,41,225],\"x0\":\" \",\"xaxis\":\"x\",\"y\":[\"MONICA\",\"MONICA\",\"MONICA\",\"MONICA\",\"MONICA\",\"MONICA\",\"MONICA\",\"MONICA\",\"MONICA\",\"MONICA\",\"MONICA\",\"MONICA\",\"MONICA\",\"MONICA\",\"MONICA\",\"MONICA\",\"MONICA\",\"MONICA\",\"MONICA\",\"MONICA\",\"MONICA\",\"MONICA\",\"MONICA\",\"MONICA\",\"MONICA\",\"MONICA\",\"MONICA\",\"MONICA\",\"MONICA\",\"MONICA\",\"MONICA\",\"MONICA\",\"MONICA\",\"MONICA\",\"MONICA\",\"MONICA\",\"MONICA\",\"MONICA\",\"MONICA\",\"MONICA\",\"MONICA\",\"MONICA\",\"MONICA\",\"MONICA\",\"MONICA\",\"MONICA\",\"MONICA\",\"MONICA\",\"MONICA\",\"MONICA\",\"MONICA\",\"MONICA\",\"MONICA\",\"MONICA\",\"MONICA\",\"MONICA\",\"MONICA\",\"MONICA\",\"MONICA\",\"MONICA\",\"MONICA\",\"MONICA\",\"MONICA\",\"MONICA\",\"MONICA\",\"MONICA\",\"MONICA\",\"MONICA\",\"MONICA\",\"MONICA\",\"MONICA\",\"MONICA\",\"MONICA\",\"MONICA\",\"MONICA\",\"MONICA\",\"MONICA\",\"MONICA\",\"MONICA\",\"MONICA\",\"MONICA\",\"MONICA\",\"MONICA\",\"MONICA\",\"MONICA\",\"MONICA\",\"MONICA\",\"MONICA\",\"MONICA\",\"MONICA\",\"MONICA\",\"MONICA\",\"MONICA\",\"MONICA\",\"MONICA\",\"MONICA\",\"MONICA\",\"MONICA\",\"MONICA\",\"MONICA\",\"MONICA\",\"MONICA\",\"MONICA\",\"MONICA\",\"MONICA\",\"MONICA\",\"MONICA\",\"MONICA\",\"MONICA\",\"MONICA\",\"MONICA\",\"MONICA\",\"MONICA\",\"MONICA\",\"MONICA\",\"MONICA\",\"MONICA\",\"MONICA\",\"MONICA\",\"MONICA\",\"MONICA\",\"MONICA\",\"MONICA\",\"MONICA\",\"MONICA\",\"MONICA\",\"MONICA\",\"MONICA\",\"MONICA\",\"MONICA\",\"MONICA\",\"MONICA\",\"MONICA\",\"MONICA\",\"MONICA\",\"MONICA\",\"MONICA\",\"MONICA\",\"MONICA\",\"MONICA\",\"MONICA\",\"MONICA\",\"MONICA\",\"MONICA\",\"MONICA\",\"MONICA\",\"MONICA\",\"MONICA\",\"MONICA\",\"MONICA\",\"MONICA\",\"MONICA\",\"MONICA\",\"MONICA\",\"MONICA\",\"MONICA\",\"MONICA\",\"MONICA\",\"MONICA\",\"MONICA\",\"MONICA\",\"MONICA\",\"MONICA\",\"MONICA\",\"MONICA\",\"MONICA\",\"MONICA\",\"MONICA\",\"MONICA\",\"MONICA\",\"MONICA\",\"MONICA\",\"MONICA\",\"MONICA\",\"MONICA\",\"MONICA\",\"MONICA\",\"MONICA\",\"MONICA\",\"MONICA\",\"MONICA\",\"MONICA\",\"MONICA\",\"MONICA\",\"MONICA\",\"MONICA\",\"MONICA\",\"MONICA\",\"MONICA\",\"MONICA\",\"MONICA\",\"MONICA\",\"MONICA\",\"MONICA\",\"MONICA\",\"MONICA\",\"MONICA\",\"MONICA\",\"MONICA\",\"MONICA\",\"MONICA\",\"MONICA\",\"MONICA\",\"MONICA\",\"MONICA\",\"MONICA\",\"MONICA\",\"MONICA\",\"MONICA\",\"MONICA\",\"MONICA\",\"MONICA\",\"MONICA\",\"MONICA\",\"MONICA\",\"MONICA\",\"MONICA\",\"MONICA\",\"MONICA\",\"MONICA\",\"MONICA\",\"MONICA\",\"MONICA\",\"MONICA\",\"MONICA\",\"MONICA\",\"MONICA\",\"MONICA\",\"MONICA\",\"MONICA\",\"MONICA\",\"MONICA\",\"MONICA\",\"MONICA\",\"MONICA\",\"MONICA\",\"MONICA\",\"MONICA\",\"MONICA\",\"MONICA\",\"MONICA\",\"MONICA\",\"MONICA\",\"MONICA\",\"MONICA\",\"MONICA\",\"MONICA\",\"MONICA\",\"MONICA\",\"MONICA\",\"MONICA\",\"MONICA\",\"MONICA\",\"MONICA\",\"MONICA\",\"MONICA\",\"MONICA\",\"MONICA\",\"MONICA\",\"MONICA\",\"MONICA\",\"MONICA\",\"MONICA\",\"MONICA\"],\"y0\":\" \",\"yaxis\":\"y\",\"type\":\"box\"}],                        {\"template\":{\"data\":{\"bar\":[{\"error_x\":{\"color\":\"#2a3f5f\"},\"error_y\":{\"color\":\"#2a3f5f\"},\"marker\":{\"line\":{\"color\":\"#E5ECF6\",\"width\":0.5},\"pattern\":{\"fillmode\":\"overlay\",\"size\":10,\"solidity\":0.2}},\"type\":\"bar\"}],\"barpolar\":[{\"marker\":{\"line\":{\"color\":\"#E5ECF6\",\"width\":0.5},\"pattern\":{\"fillmode\":\"overlay\",\"size\":10,\"solidity\":0.2}},\"type\":\"barpolar\"}],\"carpet\":[{\"aaxis\":{\"endlinecolor\":\"#2a3f5f\",\"gridcolor\":\"white\",\"linecolor\":\"white\",\"minorgridcolor\":\"white\",\"startlinecolor\":\"#2a3f5f\"},\"baxis\":{\"endlinecolor\":\"#2a3f5f\",\"gridcolor\":\"white\",\"linecolor\":\"white\",\"minorgridcolor\":\"white\",\"startlinecolor\":\"#2a3f5f\"},\"type\":\"carpet\"}],\"choropleth\":[{\"colorbar\":{\"outlinewidth\":0,\"ticks\":\"\"},\"type\":\"choropleth\"}],\"contour\":[{\"colorbar\":{\"outlinewidth\":0,\"ticks\":\"\"},\"colorscale\":[[0.0,\"#0d0887\"],[0.1111111111111111,\"#46039f\"],[0.2222222222222222,\"#7201a8\"],[0.3333333333333333,\"#9c179e\"],[0.4444444444444444,\"#bd3786\"],[0.5555555555555556,\"#d8576b\"],[0.6666666666666666,\"#ed7953\"],[0.7777777777777778,\"#fb9f3a\"],[0.8888888888888888,\"#fdca26\"],[1.0,\"#f0f921\"]],\"type\":\"contour\"}],\"contourcarpet\":[{\"colorbar\":{\"outlinewidth\":0,\"ticks\":\"\"},\"type\":\"contourcarpet\"}],\"heatmap\":[{\"colorbar\":{\"outlinewidth\":0,\"ticks\":\"\"},\"colorscale\":[[0.0,\"#0d0887\"],[0.1111111111111111,\"#46039f\"],[0.2222222222222222,\"#7201a8\"],[0.3333333333333333,\"#9c179e\"],[0.4444444444444444,\"#bd3786\"],[0.5555555555555556,\"#d8576b\"],[0.6666666666666666,\"#ed7953\"],[0.7777777777777778,\"#fb9f3a\"],[0.8888888888888888,\"#fdca26\"],[1.0,\"#f0f921\"]],\"type\":\"heatmap\"}],\"heatmapgl\":[{\"colorbar\":{\"outlinewidth\":0,\"ticks\":\"\"},\"colorscale\":[[0.0,\"#0d0887\"],[0.1111111111111111,\"#46039f\"],[0.2222222222222222,\"#7201a8\"],[0.3333333333333333,\"#9c179e\"],[0.4444444444444444,\"#bd3786\"],[0.5555555555555556,\"#d8576b\"],[0.6666666666666666,\"#ed7953\"],[0.7777777777777778,\"#fb9f3a\"],[0.8888888888888888,\"#fdca26\"],[1.0,\"#f0f921\"]],\"type\":\"heatmapgl\"}],\"histogram\":[{\"marker\":{\"pattern\":{\"fillmode\":\"overlay\",\"size\":10,\"solidity\":0.2}},\"type\":\"histogram\"}],\"histogram2d\":[{\"colorbar\":{\"outlinewidth\":0,\"ticks\":\"\"},\"colorscale\":[[0.0,\"#0d0887\"],[0.1111111111111111,\"#46039f\"],[0.2222222222222222,\"#7201a8\"],[0.3333333333333333,\"#9c179e\"],[0.4444444444444444,\"#bd3786\"],[0.5555555555555556,\"#d8576b\"],[0.6666666666666666,\"#ed7953\"],[0.7777777777777778,\"#fb9f3a\"],[0.8888888888888888,\"#fdca26\"],[1.0,\"#f0f921\"]],\"type\":\"histogram2d\"}],\"histogram2dcontour\":[{\"colorbar\":{\"outlinewidth\":0,\"ticks\":\"\"},\"colorscale\":[[0.0,\"#0d0887\"],[0.1111111111111111,\"#46039f\"],[0.2222222222222222,\"#7201a8\"],[0.3333333333333333,\"#9c179e\"],[0.4444444444444444,\"#bd3786\"],[0.5555555555555556,\"#d8576b\"],[0.6666666666666666,\"#ed7953\"],[0.7777777777777778,\"#fb9f3a\"],[0.8888888888888888,\"#fdca26\"],[1.0,\"#f0f921\"]],\"type\":\"histogram2dcontour\"}],\"mesh3d\":[{\"colorbar\":{\"outlinewidth\":0,\"ticks\":\"\"},\"type\":\"mesh3d\"}],\"parcoords\":[{\"line\":{\"colorbar\":{\"outlinewidth\":0,\"ticks\":\"\"}},\"type\":\"parcoords\"}],\"pie\":[{\"automargin\":true,\"type\":\"pie\"}],\"scatter\":[{\"marker\":{\"colorbar\":{\"outlinewidth\":0,\"ticks\":\"\"}},\"type\":\"scatter\"}],\"scatter3d\":[{\"line\":{\"colorbar\":{\"outlinewidth\":0,\"ticks\":\"\"}},\"marker\":{\"colorbar\":{\"outlinewidth\":0,\"ticks\":\"\"}},\"type\":\"scatter3d\"}],\"scattercarpet\":[{\"marker\":{\"colorbar\":{\"outlinewidth\":0,\"ticks\":\"\"}},\"type\":\"scattercarpet\"}],\"scattergeo\":[{\"marker\":{\"colorbar\":{\"outlinewidth\":0,\"ticks\":\"\"}},\"type\":\"scattergeo\"}],\"scattergl\":[{\"marker\":{\"colorbar\":{\"outlinewidth\":0,\"ticks\":\"\"}},\"type\":\"scattergl\"}],\"scattermapbox\":[{\"marker\":{\"colorbar\":{\"outlinewidth\":0,\"ticks\":\"\"}},\"type\":\"scattermapbox\"}],\"scatterpolar\":[{\"marker\":{\"colorbar\":{\"outlinewidth\":0,\"ticks\":\"\"}},\"type\":\"scatterpolar\"}],\"scatterpolargl\":[{\"marker\":{\"colorbar\":{\"outlinewidth\":0,\"ticks\":\"\"}},\"type\":\"scatterpolargl\"}],\"scatterternary\":[{\"marker\":{\"colorbar\":{\"outlinewidth\":0,\"ticks\":\"\"}},\"type\":\"scatterternary\"}],\"surface\":[{\"colorbar\":{\"outlinewidth\":0,\"ticks\":\"\"},\"colorscale\":[[0.0,\"#0d0887\"],[0.1111111111111111,\"#46039f\"],[0.2222222222222222,\"#7201a8\"],[0.3333333333333333,\"#9c179e\"],[0.4444444444444444,\"#bd3786\"],[0.5555555555555556,\"#d8576b\"],[0.6666666666666666,\"#ed7953\"],[0.7777777777777778,\"#fb9f3a\"],[0.8888888888888888,\"#fdca26\"],[1.0,\"#f0f921\"]],\"type\":\"surface\"}],\"table\":[{\"cells\":{\"fill\":{\"color\":\"#EBF0F8\"},\"line\":{\"color\":\"white\"}},\"header\":{\"fill\":{\"color\":\"#C8D4E3\"},\"line\":{\"color\":\"white\"}},\"type\":\"table\"}]},\"layout\":{\"annotationdefaults\":{\"arrowcolor\":\"#2a3f5f\",\"arrowhead\":0,\"arrowwidth\":1},\"autotypenumbers\":\"strict\",\"coloraxis\":{\"colorbar\":{\"outlinewidth\":0,\"ticks\":\"\"}},\"colorscale\":{\"diverging\":[[0,\"#8e0152\"],[0.1,\"#c51b7d\"],[0.2,\"#de77ae\"],[0.3,\"#f1b6da\"],[0.4,\"#fde0ef\"],[0.5,\"#f7f7f7\"],[0.6,\"#e6f5d0\"],[0.7,\"#b8e186\"],[0.8,\"#7fbc41\"],[0.9,\"#4d9221\"],[1,\"#276419\"]],\"sequential\":[[0.0,\"#0d0887\"],[0.1111111111111111,\"#46039f\"],[0.2222222222222222,\"#7201a8\"],[0.3333333333333333,\"#9c179e\"],[0.4444444444444444,\"#bd3786\"],[0.5555555555555556,\"#d8576b\"],[0.6666666666666666,\"#ed7953\"],[0.7777777777777778,\"#fb9f3a\"],[0.8888888888888888,\"#fdca26\"],[1.0,\"#f0f921\"]],\"sequentialminus\":[[0.0,\"#0d0887\"],[0.1111111111111111,\"#46039f\"],[0.2222222222222222,\"#7201a8\"],[0.3333333333333333,\"#9c179e\"],[0.4444444444444444,\"#bd3786\"],[0.5555555555555556,\"#d8576b\"],[0.6666666666666666,\"#ed7953\"],[0.7777777777777778,\"#fb9f3a\"],[0.8888888888888888,\"#fdca26\"],[1.0,\"#f0f921\"]]},\"colorway\":[\"#636efa\",\"#EF553B\",\"#00cc96\",\"#ab63fa\",\"#FFA15A\",\"#19d3f3\",\"#FF6692\",\"#B6E880\",\"#FF97FF\",\"#FECB52\"],\"font\":{\"color\":\"#2a3f5f\"},\"geo\":{\"bgcolor\":\"white\",\"lakecolor\":\"white\",\"landcolor\":\"#E5ECF6\",\"showlakes\":true,\"showland\":true,\"subunitcolor\":\"white\"},\"hoverlabel\":{\"align\":\"left\"},\"hovermode\":\"closest\",\"mapbox\":{\"style\":\"light\"},\"paper_bgcolor\":\"white\",\"plot_bgcolor\":\"#E5ECF6\",\"polar\":{\"angularaxis\":{\"gridcolor\":\"white\",\"linecolor\":\"white\",\"ticks\":\"\"},\"bgcolor\":\"#E5ECF6\",\"radialaxis\":{\"gridcolor\":\"white\",\"linecolor\":\"white\",\"ticks\":\"\"}},\"scene\":{\"xaxis\":{\"backgroundcolor\":\"#E5ECF6\",\"gridcolor\":\"white\",\"gridwidth\":2,\"linecolor\":\"white\",\"showbackground\":true,\"ticks\":\"\",\"zerolinecolor\":\"white\"},\"yaxis\":{\"backgroundcolor\":\"#E5ECF6\",\"gridcolor\":\"white\",\"gridwidth\":2,\"linecolor\":\"white\",\"showbackground\":true,\"ticks\":\"\",\"zerolinecolor\":\"white\"},\"zaxis\":{\"backgroundcolor\":\"#E5ECF6\",\"gridcolor\":\"white\",\"gridwidth\":2,\"linecolor\":\"white\",\"showbackground\":true,\"ticks\":\"\",\"zerolinecolor\":\"white\"}},\"shapedefaults\":{\"line\":{\"color\":\"#2a3f5f\"}},\"ternary\":{\"aaxis\":{\"gridcolor\":\"white\",\"linecolor\":\"white\",\"ticks\":\"\"},\"baxis\":{\"gridcolor\":\"white\",\"linecolor\":\"white\",\"ticks\":\"\"},\"bgcolor\":\"#E5ECF6\",\"caxis\":{\"gridcolor\":\"white\",\"linecolor\":\"white\",\"ticks\":\"\"}},\"title\":{\"x\":0.05},\"xaxis\":{\"automargin\":true,\"gridcolor\":\"white\",\"linecolor\":\"white\",\"ticks\":\"\",\"title\":{\"standoff\":15},\"zerolinecolor\":\"white\",\"zerolinewidth\":2},\"yaxis\":{\"automargin\":true,\"gridcolor\":\"white\",\"linecolor\":\"white\",\"ticks\":\"\",\"title\":{\"standoff\":15},\"zerolinecolor\":\"white\",\"zerolinewidth\":2}}},\"xaxis\":{\"anchor\":\"y\",\"domain\":[0.0,1.0],\"title\":{\"text\":\"Number of seats\"}},\"yaxis\":{\"anchor\":\"x\",\"domain\":[0.0,1.0],\"title\":{\"text\":\" \"},\"categoryorder\":\"array\",\"categoryarray\":[\"MONICA\",\"VERMONT\",\"OLYMPIC\",\"PICO\",\"FIGUEROA\",\"3RD\",\"WILSHIRE\",\"WESTERN\",\"SUNSET\",\"HOLLYWOOD\"]},\"legend\":{\"title\":{\"text\":\" \"},\"tracegroupgap\":0},\"margin\":{\"t\":60},\"boxmode\":\"overlay\",\"title\":{\"text\":\"Overall distribution of the number of seats most crowded streets\",\"font\":{\"size\":20}},\"autosize\":false,\"width\":900,\"height\":800,\"boxgap\":0.2},                        {\"responsive\": true}                    ).then(function(){\n",
              "                            \n",
              "var gd = document.getElementById('78c74f1d-e9ba-494b-9a9b-21c709ef0b8f');\n",
              "var x = new MutationObserver(function (mutations, observer) {{\n",
              "        var display = window.getComputedStyle(gd).display;\n",
              "        if (!display || display === 'none') {{\n",
              "            console.log([gd, 'removed!']);\n",
              "            Plotly.purge(gd);\n",
              "            observer.disconnect();\n",
              "        }}\n",
              "}});\n",
              "\n",
              "// Listen for the removal of the full notebook cells\n",
              "var notebookContainer = gd.closest('#notebook-container');\n",
              "if (notebookContainer) {{\n",
              "    x.observe(notebookContainer, {childList: true});\n",
              "}}\n",
              "\n",
              "// Listen for the clearing of the current output cell\n",
              "var outputEl = gd.closest('.output');\n",
              "if (outputEl) {{\n",
              "    x.observe(outputEl, {childList: true});\n",
              "}}\n",
              "\n",
              "                        })                };                            </script>        </div>\n",
              "</body>\n",
              "</html>"
            ]
          },
          "metadata": {}
        }
      ],
      "source": [
        "fig = px.box(top10_streets_data, x='number', y='clean_street_final', points='all',\n",
        "             color='clean_street_final',\n",
        "             labels={'number': 'Number of seats', 'clean_street_final': ' '})\n",
        "fig.update_layout(autosize=False,\n",
        "    width=900,\n",
        "    height=800,\n",
        "    title='Overall distribution of the number of seats most crowded streets',\n",
        "    title_font_size=20,\n",
        "    boxgap=0.2)\n",
        "\n",
        "fig.show()"
      ]
    },
    {
      "cell_type": "markdown",
      "metadata": {
        "id": "_MDvsDhmYecv"
      },
      "source": [
        "`HOLLOWOOD`, `SUNSET`  and `WILSHIRE` streets have the most varied amount of seats, their distribution is similar, but `WILSHIRE` has the highest median number - 36. Let's group our data by chain attribution to see what the difference is like."
      ]
    },
    {
      "cell_type": "code",
      "execution_count": 64,
      "metadata": {
        "id": "qBpCaornYecv",
        "colab": {
          "base_uri": "https://localhost:8080/",
          "height": 623
        },
        "outputId": "b31110be-9eb7-4a41-a910-b4d834cf489c"
      },
      "outputs": [
        {
          "output_type": "display_data",
          "data": {
            "text/plain": [
              "<Figure size 1080x720 with 1 Axes>"
            ],
            "image/png": "[encoded data removed]"
          },
          "metadata": {
            "needs_background": "light"
          }
        }
      ],
      "source": [
        "fig, ax = plt.subplots(figsize=(15, 10))\n",
        "ax = sns.boxplot(x='number', y='clean_street_final', hue='chain', data=top10_streets_data, palette='Set3')\n",
        "plt.title('Distribution of the number of seats for the top 10 streets by the number of objects, chain/nonchain', fontsize=14)\n",
        "plt.xlabel('Number of seats')\n",
        "plt.ylabel(' ')\n",
        "plt.show()"
      ]
    },
    {
      "cell_type": "markdown",
      "metadata": {
        "id": "ItTI89l8Yecv"
      },
      "source": [
        "On 6 of the top 10 streets the median of seats is higher at chain establishments."
      ]
    },
    {
      "cell_type": "markdown",
      "metadata": {
        "id": "uuIEi84uYecv"
      },
      "source": [
        "# [3 Step. Preparing a presentation](#presentation)\n",
        "[top](#top)\n",
        "\n",
        "\n",
        "Presentation is availiable on this [link](https://drive.google.com/file/d/12iFTDxTcKOeBrpinlSEONvhrA-RUsjKN/view?usp=sharing)"
      ]
    },
    {
      "cell_type": "markdown",
      "metadata": {
        "id": "1w6hLqDAYecw"
      },
      "source": [
        "[**Overall conclusions and recommendations.**](#general_conclusion)\n",
        "\n",
        "[top](#top)\n"
      ]
    },
    {
      "cell_type": "markdown",
      "metadata": {
        "id": "9RJojdKHYecw"
      },
      "source": [
        "The main characteristics of the F&B market:\n",
        "\n",
        "There is quite a high concurrency on the most crowded streets of LA. \n",
        "The largest share among LA establishments is **cafes** (75%), **fast food** take 11% of all establishments.\n",
        "Almost **40% of establishments belong to chains** (among them: restaurants 62.35%, fast food places 16.44%, bakeries 7.69%, cafes 7.23%, pizza places 4.19% and bars 2.09%)\n",
        "The biggest chains are fast food type and coffee shop franchises - **SUBWAY, STARBUCKS and MCDONALD'S**.\n",
        "\n",
        "A typical establishment has about 40 seats.\n",
        "\n",
        "On the most crowded streets  the average number of seats is about **35**.\n",
        "\n",
        "**Based on the results of the analysis, recommendations will be:**\n",
        "\n",
        "The preferred type of establishment will be a restaurant as the most popular type of establishment comparing to the rest, or fast food as the easiest option to enter the market and provide an opportunity for chain development, in this case, we should pay attention to popular franchises (SUBWAY, STARBUCKS and MCDONALD'S) and introduce a new type of service - with the help of robots.\n",
        "The recommended number of seats will be 30-35 for restaurant type.\n",
        "For both restaurants and fast food, the most acceptable location would be a crowded place, for example, near shopping and entertainment complexes or inside them, near business centers, office buildings or educational institutions. Districts - where the top10 streets are located.\n",
        "\n",
        "When choosing a location, we should take into account the presence of competitors nearby."
      ]
    }
  ],
  "metadata": {
    "ExecuteTimeLog": [
      {
        "duration": 444,
        "start_time": "2022-04-14T05:46:05.114Z"
      },
      {
        "duration": 100,
        "start_time": "2022-04-14T05:46:21.381Z"
      },
      {
        "duration": 182,
        "start_time": "2022-04-24T11:50:18.640Z"
      },
      {
        "duration": 5638,
        "start_time": "2022-04-24T11:51:44.333Z"
      },
      {
        "duration": 15849,
        "start_time": "2022-04-24T11:51:55.931Z"
      },
      {
        "duration": 1319,
        "start_time": "2022-04-24T11:52:16.109Z"
      },
      {
        "duration": 29,
        "start_time": "2022-04-24T11:52:23.903Z"
      },
      {
        "duration": 2,
        "start_time": "2022-04-24T11:52:49.766Z"
      },
      {
        "duration": 3,
        "start_time": "2022-04-24T11:52:58.077Z"
      },
      {
        "duration": 3,
        "start_time": "2022-04-24T11:53:16.128Z"
      },
      {
        "duration": 37,
        "start_time": "2022-04-24T11:53:26.176Z"
      },
      {
        "duration": 10,
        "start_time": "2022-04-24T11:54:02.715Z"
      },
      {
        "duration": 5,
        "start_time": "2022-04-24T11:54:54.353Z"
      },
      {
        "duration": 11,
        "start_time": "2022-04-24T11:55:49.696Z"
      },
      {
        "duration": 6,
        "start_time": "2022-04-24T11:57:44.014Z"
      },
      {
        "duration": 90,
        "start_time": "2022-04-24T11:58:28.679Z"
      },
      {
        "duration": 47,
        "start_time": "2022-04-24T11:58:34.095Z"
      },
      {
        "duration": 9,
        "start_time": "2022-04-24T11:58:36.374Z"
      },
      {
        "duration": 365,
        "start_time": "2022-04-24T11:58:39.575Z"
      },
      {
        "duration": 16,
        "start_time": "2022-04-24T12:01:36.997Z"
      },
      {
        "duration": 17,
        "start_time": "2022-04-24T12:01:40.630Z"
      },
      {
        "duration": 14,
        "start_time": "2022-04-24T12:02:11.034Z"
      },
      {
        "duration": 128,
        "start_time": "2022-04-24T12:02:14.414Z"
      },
      {
        "duration": 9,
        "start_time": "2022-04-24T12:04:45.146Z"
      },
      {
        "duration": 3,
        "start_time": "2022-04-24T12:04:45.688Z"
      },
      {
        "duration": 4,
        "start_time": "2022-04-24T12:04:46.171Z"
      },
      {
        "duration": 10,
        "start_time": "2022-04-24T12:04:53.371Z"
      },
      {
        "duration": 59,
        "start_time": "2022-04-24T12:05:03.420Z"
      },
      {
        "duration": 63,
        "start_time": "2022-04-24T12:05:17.905Z"
      },
      {
        "duration": 61,
        "start_time": "2022-04-24T12:05:44.884Z"
      },
      {
        "duration": 132,
        "start_time": "2022-04-24T12:06:34.324Z"
      },
      {
        "duration": 128,
        "start_time": "2022-04-24T12:07:07.963Z"
      },
      {
        "duration": 125,
        "start_time": "2022-04-24T12:07:18.763Z"
      },
      {
        "duration": 136,
        "start_time": "2022-04-24T12:13:37.298Z"
      },
      {
        "duration": 386,
        "start_time": "2022-04-24T12:13:46.634Z"
      },
      {
        "duration": 5,
        "start_time": "2022-04-24T12:13:59.298Z"
      },
      {
        "duration": 375,
        "start_time": "2022-04-24T12:14:14.261Z"
      },
      {
        "duration": 9,
        "start_time": "2022-04-24T12:14:46.951Z"
      },
      {
        "duration": 3,
        "start_time": "2022-04-24T12:15:06.985Z"
      },
      {
        "duration": 8,
        "start_time": "2022-04-24T12:15:34.729Z"
      },
      {
        "duration": 23,
        "start_time": "2022-04-24T12:15:42.041Z"
      },
      {
        "duration": 6,
        "start_time": "2022-04-24T12:15:48.845Z"
      },
      {
        "duration": 4,
        "start_time": "2022-04-24T12:16:38.827Z"
      },
      {
        "duration": 3,
        "start_time": "2022-04-24T12:16:46.290Z"
      },
      {
        "duration": 7,
        "start_time": "2022-04-24T12:16:54.005Z"
      },
      {
        "duration": 7,
        "start_time": "2022-04-24T12:17:01.388Z"
      },
      {
        "duration": 14,
        "start_time": "2022-04-24T12:17:36.423Z"
      },
      {
        "duration": 3,
        "start_time": "2022-04-24T12:18:09.224Z"
      },
      {
        "duration": 249,
        "start_time": "2022-04-24T12:18:09.229Z"
      },
      {
        "duration": 9,
        "start_time": "2022-04-24T12:19:21.840Z"
      },
      {
        "duration": 10,
        "start_time": "2022-04-24T12:19:28.726Z"
      },
      {
        "duration": 48,
        "start_time": "2022-04-24T12:19:50.022Z"
      },
      {
        "duration": 7,
        "start_time": "2022-04-24T12:20:40.279Z"
      },
      {
        "duration": 7,
        "start_time": "2022-04-24T12:21:00.691Z"
      },
      {
        "duration": 10,
        "start_time": "2022-04-24T12:21:07.032Z"
      },
      {
        "duration": 12,
        "start_time": "2022-04-24T12:21:14.406Z"
      },
      {
        "duration": 56,
        "start_time": "2022-04-24T12:21:24.768Z"
      },
      {
        "duration": 58,
        "start_time": "2022-04-24T12:21:44.362Z"
      },
      {
        "duration": 3,
        "start_time": "2022-04-24T12:22:21.864Z"
      },
      {
        "duration": 1006,
        "start_time": "2022-04-24T12:22:34.745Z"
      },
      {
        "duration": 12,
        "start_time": "2022-04-24T12:22:52.863Z"
      },
      {
        "duration": 3,
        "start_time": "2022-04-24T12:23:12.657Z"
      },
      {
        "duration": 1026,
        "start_time": "2022-04-24T12:23:20.587Z"
      },
      {
        "duration": 8,
        "start_time": "2022-04-24T12:24:04.989Z"
      },
      {
        "duration": 2,
        "start_time": "2022-04-24T12:24:22.595Z"
      },
      {
        "duration": 4,
        "start_time": "2022-04-24T12:24:44.730Z"
      },
      {
        "duration": 83,
        "start_time": "2022-04-24T12:24:53.290Z"
      },
      {
        "duration": 3,
        "start_time": "2022-04-24T12:25:36.192Z"
      },
      {
        "duration": 3,
        "start_time": "2022-04-24T12:25:44.139Z"
      },
      {
        "duration": 3,
        "start_time": "2022-04-24T12:26:13.546Z"
      },
      {
        "duration": 7,
        "start_time": "2022-04-24T12:26:19.713Z"
      },
      {
        "duration": 9,
        "start_time": "2022-04-24T12:26:24.997Z"
      },
      {
        "duration": 80,
        "start_time": "2022-04-24T12:27:31.727Z"
      },
      {
        "duration": 77,
        "start_time": "2022-04-24T12:27:47.897Z"
      },
      {
        "duration": 79,
        "start_time": "2022-04-24T12:27:54.416Z"
      },
      {
        "duration": 620,
        "start_time": "2022-04-24T12:28:22.670Z"
      },
      {
        "duration": 7241,
        "start_time": "2022-04-24T13:15:37.310Z"
      },
      {
        "duration": 33491,
        "start_time": "2022-04-24T13:15:44.553Z"
      },
      {
        "duration": 1231,
        "start_time": "2022-04-24T13:16:18.046Z"
      },
      {
        "duration": 26,
        "start_time": "2022-04-24T13:16:19.279Z"
      },
      {
        "duration": 3,
        "start_time": "2022-04-24T13:16:19.307Z"
      },
      {
        "duration": 8,
        "start_time": "2022-04-24T13:16:19.312Z"
      },
      {
        "duration": 46,
        "start_time": "2022-04-24T13:16:19.321Z"
      },
      {
        "duration": 10,
        "start_time": "2022-04-24T13:16:19.369Z"
      },
      {
        "duration": 28,
        "start_time": "2022-04-24T13:16:19.380Z"
      },
      {
        "duration": 8,
        "start_time": "2022-04-24T13:16:19.410Z"
      },
      {
        "duration": 26,
        "start_time": "2022-04-24T13:16:19.420Z"
      },
      {
        "duration": 588,
        "start_time": "2022-04-24T13:16:19.449Z"
      },
      {
        "duration": 59,
        "start_time": "2022-04-24T13:16:20.039Z"
      },
      {
        "duration": 10,
        "start_time": "2022-04-24T13:16:20.101Z"
      },
      {
        "duration": 423,
        "start_time": "2022-04-24T13:16:20.113Z"
      },
      {
        "duration": 14,
        "start_time": "2022-04-24T13:16:20.538Z"
      },
      {
        "duration": 14,
        "start_time": "2022-04-24T13:16:20.554Z"
      },
      {
        "duration": 45,
        "start_time": "2022-04-24T13:16:20.569Z"
      },
      {
        "duration": 238,
        "start_time": "2022-04-24T13:16:20.615Z"
      },
      {
        "duration": 9,
        "start_time": "2022-04-24T13:16:20.854Z"
      },
      {
        "duration": 5,
        "start_time": "2022-04-24T13:16:20.864Z"
      },
      {
        "duration": 7,
        "start_time": "2022-04-24T13:16:20.871Z"
      },
      {
        "duration": 32,
        "start_time": "2022-04-24T13:16:20.879Z"
      },
      {
        "duration": 65,
        "start_time": "2022-04-24T13:16:20.913Z"
      },
      {
        "duration": 457,
        "start_time": "2022-04-24T13:16:20.979Z"
      },
      {
        "duration": 9,
        "start_time": "2022-04-24T13:16:21.437Z"
      },
      {
        "duration": 2,
        "start_time": "2022-04-24T13:16:21.448Z"
      },
      {
        "duration": 10,
        "start_time": "2022-04-24T13:16:21.452Z"
      },
      {
        "duration": 56,
        "start_time": "2022-04-24T13:16:21.464Z"
      },
      {
        "duration": 8,
        "start_time": "2022-04-24T13:16:21.521Z"
      },
      {
        "duration": 5,
        "start_time": "2022-04-24T13:16:21.530Z"
      },
      {
        "duration": 4,
        "start_time": "2022-04-24T13:16:21.537Z"
      },
      {
        "duration": 8,
        "start_time": "2022-04-24T13:16:21.543Z"
      },
      {
        "duration": 9,
        "start_time": "2022-04-24T13:16:21.553Z"
      },
      {
        "duration": 51,
        "start_time": "2022-04-24T13:16:21.564Z"
      },
      {
        "duration": 3,
        "start_time": "2022-04-24T13:16:21.617Z"
      },
      {
        "duration": 307,
        "start_time": "2022-04-24T13:16:21.622Z"
      },
      {
        "duration": 9,
        "start_time": "2022-04-24T13:16:21.931Z"
      },
      {
        "duration": 10,
        "start_time": "2022-04-24T13:16:21.942Z"
      },
      {
        "duration": 59,
        "start_time": "2022-04-24T13:16:21.953Z"
      },
      {
        "duration": 8,
        "start_time": "2022-04-24T13:16:22.016Z"
      },
      {
        "duration": 7,
        "start_time": "2022-04-24T13:16:22.026Z"
      },
      {
        "duration": 10,
        "start_time": "2022-04-24T13:16:22.034Z"
      },
      {
        "duration": 94,
        "start_time": "2022-04-24T13:16:22.046Z"
      },
      {
        "duration": 4,
        "start_time": "2022-04-24T13:16:22.141Z"
      },
      {
        "duration": 1114,
        "start_time": "2022-04-24T13:16:22.147Z"
      },
      {
        "duration": 13,
        "start_time": "2022-04-24T13:16:23.263Z"
      },
      {
        "duration": 4,
        "start_time": "2022-04-24T13:16:23.277Z"
      },
      {
        "duration": 1128,
        "start_time": "2022-04-24T13:16:23.283Z"
      },
      {
        "duration": 9,
        "start_time": "2022-04-24T13:16:24.413Z"
      },
      {
        "duration": 3,
        "start_time": "2022-04-24T13:16:24.424Z"
      },
      {
        "duration": 4,
        "start_time": "2022-04-24T13:16:24.428Z"
      },
      {
        "duration": 103,
        "start_time": "2022-04-24T13:16:24.433Z"
      },
      {
        "duration": 5,
        "start_time": "2022-04-24T13:16:24.537Z"
      },
      {
        "duration": 5,
        "start_time": "2022-04-24T13:16:24.543Z"
      },
      {
        "duration": 221,
        "start_time": "2022-04-24T13:16:24.551Z"
      },
      {
        "duration": 123,
        "start_time": "2022-04-24T13:16:24.774Z"
      },
      {
        "duration": 11,
        "start_time": "2022-04-24T13:16:24.899Z"
      },
      {
        "duration": 90,
        "start_time": "2022-04-24T13:16:24.912Z"
      },
      {
        "duration": 632,
        "start_time": "2022-04-24T13:16:25.007Z"
      },
      {
        "duration": 10689,
        "start_time": "2022-04-26T08:13:35.690Z"
      }
    ],
    "colab": {
      "collapsed_sections": [],
      "name": "7_Data Storytelling.ipynb",
      "provenance": []
    },
    "kernelspec": {
      "display_name": "Python 3 (ipykernel)",
      "language": "python",
      "name": "python3"
    },
    "language_info": {
      "codemirror_mode": {
        "name": "ipython",
        "version": 3
      },
      "file_extension": ".py",
      "mimetype": "text/x-python",
      "name": "python",
      "nbconvert_exporter": "python",
      "pygments_lexer": "ipython3",
      "version": "3.9.7"
    },
    "toc": {
      "base_numbering": 1,
      "nav_menu": {},
      "number_sections": true,
      "sideBar": true,
      "skip_h1_title": true,
      "title_cell": "Table of Contents",
      "title_sidebar": "Contents",
      "toc_cell": false,
      "toc_position": {},
      "toc_section_display": true,
      "toc_window_display": false
    }
  },
  "nbformat": 4,
  "nbformat_minor": 0
}